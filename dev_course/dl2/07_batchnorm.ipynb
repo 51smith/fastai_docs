{
 "cells": [
  {
   "cell_type": "code",
   "execution_count": 1,
   "metadata": {},
   "outputs": [],
   "source": [
    "%load_ext autoreload\n",
    "%autoreload 2\n",
    "\n",
    "%matplotlib inline"
   ]
  },
  {
   "cell_type": "code",
   "execution_count": 2,
   "metadata": {},
   "outputs": [],
   "source": [
    "#export\n",
    "from exp.nb_06 import *"
   ]
  },
  {
   "cell_type": "markdown",
   "metadata": {},
   "source": [
    "## ConvNet"
   ]
  },
  {
   "cell_type": "code",
   "execution_count": 229,
   "metadata": {},
   "outputs": [],
   "source": [
    "x_train,y_train,x_valid,y_valid = get_data()\n",
    "\n",
    "x_train,x_valid = normalize_to(x_train,x_valid)\n",
    "train_ds,valid_ds = Dataset(x_train, y_train),Dataset(x_valid, y_valid)\n",
    "\n",
    "nh,bs = 50,512\n",
    "loss_func = F.cross_entropy\n",
    "\n",
    "data = DataBunch(*get_dls(train_ds, valid_ds, bs))"
   ]
  },
  {
   "cell_type": "code",
   "execution_count": 4,
   "metadata": {},
   "outputs": [],
   "source": [
    "def conv2d(ni, nf, ks=3, stride=2, **kwargs):\n",
    "    return nn.Sequential(\n",
    "        nn.Conv2d(ni, nf, ks, padding=ks//2, stride=stride), GeneralRelu(**kwargs))\n",
    "\n",
    "def get_cnn_layers(data, nfs, **kwargs):\n",
    "    nfs = [1] + nfs\n",
    "    return [conv2d(nfs[i], nfs[i+1], **kwargs)\n",
    "            for i in range(len(nfs)-1)] + [\n",
    "        nn.AdaptiveAvgPool2d(1), Lambda(flatten), nn.Linear(nfs[-1], data.c)]\n",
    "\n",
    "def get_cnn_model(data, nfs, **kwargs): return nn.Sequential(*get_cnn_layers(data, nfs, **kwargs))"
   ]
  },
  {
   "cell_type": "code",
   "execution_count": 5,
   "metadata": {},
   "outputs": [],
   "source": [
    "def mnist_resize(x): return x.view(-1, 1, 28, 28)\n",
    "\n",
    "def append_stats(hook, mod, inp, outp):\n",
    "    hook.means.append(outp.mean())\n",
    "    hook.stds .append(outp.std())\n",
    "\n",
    "def init_cnn(m):\n",
    "    for l in m:\n",
    "        if isinstance(l, nn.Sequential):\n",
    "            init.kaiming_normal_(l[0].weight, a=0.1)\n",
    "            l[0].weight.data.mul_(1.1)\n",
    "\n",
    "def get_runner(model, lr=0.6, cbs=None, loss_func = F.cross_entropy):\n",
    "    opt = optim.SGD(model.parameters(), lr=lr)\n",
    "    learn = Learner(model, opt, loss_func, data)\n",
    "    return learn, Runner([AvgStatsCallback([accuracy]), CudaCallback(),\n",
    "        BatchTransformXCallback(resize_tfm(1,28,28))] + listify(cbs))\n",
    "\n",
    "def get_learn_run(nfs, lr, cbs=None):\n",
    "    model =  nn.Sequential(*get_cnn_layers(data, nfs, leak=0.1, sub=0.4, maxv=6.))\n",
    "    init_cnn(model)\n",
    "    return get_runner(model, lr=lr, cbs=cbs)"
   ]
  },
  {
   "cell_type": "code",
   "execution_count": 6,
   "metadata": {},
   "outputs": [],
   "source": [
    "nfs = [8,16,32,32]"
   ]
  },
  {
   "cell_type": "code",
   "execution_count": 7,
   "metadata": {},
   "outputs": [],
   "source": [
    "learn,run = get_learn_run(nfs, 0.1)"
   ]
  },
  {
   "cell_type": "code",
   "execution_count": 27,
   "metadata": {},
   "outputs": [
    {
     "name": "stdout",
     "output_type": "stream",
     "text": [
      "train: [1.178023671875, tensor(0.6707, device='cuda:0')]\n",
      "valid: [0.522359912109375, tensor(0.8622, device='cuda:0')]\n",
      "CPU times: user 833 ms, sys: 89.4 ms, total: 923 ms\n",
      "Wall time: 868 ms\n"
     ]
    }
   ],
   "source": [
    "%time run.fit(1, learn)"
   ]
  },
  {
   "cell_type": "markdown",
   "metadata": {},
   "source": [
    "## Batchnorm"
   ]
  },
  {
   "cell_type": "markdown",
   "metadata": {},
   "source": [
    "### Custom"
   ]
  },
  {
   "cell_type": "code",
   "execution_count": 8,
   "metadata": {},
   "outputs": [],
   "source": [
    "class BatchNorm(nn.Module):\n",
    "    def __init__(self, nf, mom=0.1, eps=1e-5):\n",
    "        super().__init__()\n",
    "        # NB: pytorch bn mom is opposite of what you'd expect\n",
    "        self.mom,self.eps = mom,eps\n",
    "        self.mults = nn.Parameter(torch.ones (nf,1,1))\n",
    "        self.adds  = nn.Parameter(torch.zeros(nf,1,1))\n",
    "        self.register_buffer('vars',  torch.zeros(1,nf,1,1))\n",
    "        self.register_buffer('means', torch.zeros(1,nf,1,1))\n",
    "        self.steps = 0\n",
    "\n",
    "    def update_stats(self, x):\n",
    "        self.steps += 1\n",
    "        m = x.mean((0,2,3), keepdim=True)\n",
    "        v = x.var ((0,2,3), keepdim=True)\n",
    "        self.means.detach_()\n",
    "        self.vars.detach_()\n",
    "        mom = 1. if self.steps==1 else self.mom\n",
    "        self.means.lerp_(m, mom)\n",
    "        self.vars.lerp_ (v, mom)\n",
    "        \n",
    "    def forward(self, x):\n",
    "        if self.training: self.update_stats(x)\n",
    "        x = (x-self.means).div_((self.vars+self.eps).sqrt())\n",
    "        return x.mul_(self.mults).add_(self.adds)"
   ]
  },
  {
   "cell_type": "code",
   "execution_count": 9,
   "metadata": {},
   "outputs": [],
   "source": [
    "def conv2d(ni, nf, ks=3, stride=2, bn=True, **kwargs):\n",
    "    # No bias needed if using bn\n",
    "    layers = [nn.Conv2d(ni, nf, ks, padding=ks//2, stride=stride, bias=not bn),\n",
    "              GeneralRelu(**kwargs)]\n",
    "    if bn: layers.append(BatchNorm(nf))\n",
    "    return nn.Sequential(*layers)"
   ]
  },
  {
   "cell_type": "code",
   "execution_count": 10,
   "metadata": {},
   "outputs": [],
   "source": [
    "learn,run = get_learn_run(nfs, 0.8)"
   ]
  },
  {
   "cell_type": "code",
   "execution_count": 31,
   "metadata": {
    "collapsed": true
   },
   "outputs": [
    {
     "name": "stdout",
     "output_type": "stream",
     "text": [
      "train: [0.4404475390625, tensor(0.8691, device='cuda:0')]\n",
      "valid: [0.16962850341796876, tensor(0.9509, device='cuda:0')]\n"
     ]
    },
    {
     "data": {
      "image/png": "[encoded data removed]",
      "text/plain": [
       "<Figure size 720x288 with 2 Axes>"
      ]
     },
     "metadata": {
      "needs_background": "light"
     },
     "output_type": "display_data"
    },
    {
     "data": {
      "image/png": "[encoded data removed]",
      "text/plain": [
       "<Figure size 720x288 with 2 Axes>"
      ]
     },
     "metadata": {
      "needs_background": "light"
     },
     "output_type": "display_data"
    }
   ],
   "source": [
    "with Hooks(learn.model, append_stats) as hooks:\n",
    "    run.fit(1, learn)\n",
    "    fig,(ax0,ax1) = plt.subplots(1,2, figsize=(10,4))\n",
    "    for h in hooks:\n",
    "        ax0.plot(h.means[:10])\n",
    "        ax1.plot(h.stds[:10])\n",
    "        h.remove()\n",
    "    plt.legend(range(6));\n",
    "    \n",
    "    fig,(ax0,ax1) = plt.subplots(1,2, figsize=(10,4))\n",
    "    for h in hooks:\n",
    "        ax0.plot(h.means)\n",
    "        ax1.plot(h.stds);"
   ]
  },
  {
   "cell_type": "code",
   "execution_count": 32,
   "metadata": {},
   "outputs": [],
   "source": [
    "learn,run = get_learn_run(nfs, 1.0)"
   ]
  },
  {
   "cell_type": "code",
   "execution_count": 33,
   "metadata": {},
   "outputs": [
    {
     "name": "stdout",
     "output_type": "stream",
     "text": [
      "train: [0.41727734375, tensor(0.8712, device='cuda:0')]\n",
      "valid: [0.15999031982421874, tensor(0.9528, device='cuda:0')]\n",
      "train: [0.14436447265625, tensor(0.9560, device='cuda:0')]\n",
      "valid: [0.1170422119140625, tensor(0.9655, device='cuda:0')]\n",
      "train: [0.11155568359375, tensor(0.9662, device='cuda:0')]\n",
      "valid: [0.09297581176757813, tensor(0.9741, device='cuda:0')]\n",
      "CPU times: user 3.26 s, sys: 146 ms, total: 3.41 s\n",
      "Wall time: 3.41 s\n"
     ]
    }
   ],
   "source": [
    "%time run.fit(3, learn)"
   ]
  },
  {
   "cell_type": "markdown",
   "metadata": {
    "heading_collapsed": true
   },
   "source": [
    "### Bias corrected"
   ]
  },
  {
   "cell_type": "markdown",
   "metadata": {
    "hidden": true
   },
   "source": [
    "See XL file *mom_bias.xlsx*."
   ]
  },
  {
   "cell_type": "code",
   "execution_count": 11,
   "metadata": {
    "hidden": true
   },
   "outputs": [],
   "source": [
    "class BatchNorm(nn.Module):\n",
    "    def __init__(self, nf, mom=0.1, eps=1e-5):\n",
    "        super().__init__()\n",
    "        # NB: pytorch bn mom is opposite of what you'd expect\n",
    "        self.mom,self.eps = mom,eps\n",
    "        self.mults = nn.Parameter(torch.ones (nf,1,1))\n",
    "        self.adds  = nn.Parameter(torch.zeros(nf,1,1))\n",
    "        self.register_buffer('vars',  torch.zeros(1,nf,1,1))\n",
    "        self.register_buffer('means', torch.zeros(1,nf,1,1))\n",
    "        self.steps = 0\n",
    "\n",
    "    def update_stats(self, x):\n",
    "        self.steps += 1\n",
    "        m = x.mean((0,2,3), keepdim=True)\n",
    "        v = x.var ((0,2,3), keepdim=True)\n",
    "        self.means.detach_()\n",
    "        self.vars.detach_()\n",
    "        mom = self.mom\n",
    "        self.means.lerp_(m, mom)\n",
    "        self.vars.lerp_ (v, mom)\n",
    "        \n",
    "    def forward(self, x):\n",
    "        if self.training: self.update_stats(x)\n",
    "        means = self.means\n",
    "        vars  = self.vars\n",
    "        if self.steps<100:\n",
    "            corr = 1-(1-self.mom)**self.steps\n",
    "            means = means/corr\n",
    "            vars  = vars /corr\n",
    "        x = (x-means).div_((vars+self.eps).sqrt())\n",
    "        return x.mul_(self.mults).add_(self.adds)"
   ]
  },
  {
   "cell_type": "code",
   "execution_count": 12,
   "metadata": {
    "hidden": true
   },
   "outputs": [],
   "source": [
    "learn,run = get_learn_run(nfs, 1.0)"
   ]
  },
  {
   "cell_type": "code",
   "execution_count": 18,
   "metadata": {
    "hidden": true
   },
   "outputs": [
    {
     "name": "stdout",
     "output_type": "stream",
     "text": [
      "train: [0.081744990234375, tensor(0.9750, device='cuda:0')]\n",
      "valid: [0.0788323974609375, tensor(0.9772, device='cuda:0')]\n",
      "train: [0.0648096044921875, tensor(0.9805, device='cuda:0')]\n",
      "valid: [0.0718946533203125, tensor(0.9784, device='cuda:0')]\n",
      "train: [0.060741064453125, tensor(0.9816, device='cuda:0')]\n",
      "valid: [0.0693964111328125, tensor(0.9807, device='cuda:0')]\n",
      "CPU times: user 3.18 s, sys: 179 ms, total: 3.36 s\n",
      "Wall time: 3.36 s\n"
     ]
    }
   ],
   "source": [
    "%time run.fit(3, learn)"
   ]
  },
  {
   "cell_type": "markdown",
   "metadata": {
    "heading_collapsed": true
   },
   "source": [
    "### jit"
   ]
  },
  {
   "cell_type": "code",
   "execution_count": 13,
   "metadata": {
    "hidden": true
   },
   "outputs": [],
   "source": [
    "#export\n",
    "from torch.jit import ScriptModule, script_method, script\n",
    "from typing import *"
   ]
  },
  {
   "cell_type": "code",
   "execution_count": 14,
   "metadata": {
    "hidden": true
   },
   "outputs": [],
   "source": [
    "class BatchNorm(ScriptModule):\n",
    "    __constants__ = ['mom', 'eps']\n",
    "    def __init__(self, nf, mom=0.1, eps=1e-3):\n",
    "        super().__init__()\n",
    "        self.mom,self.eps = mom,eps\n",
    "        self.mults = nn.Parameter(torch.ones (nf,1,1))\n",
    "        self.adds  = nn.Parameter(torch.zeros(nf,1,1))\n",
    "        self.register_buffer('vars',  torch.zeros(1,nf,1,1))\n",
    "        self.register_buffer('means', torch.zeros(1,nf,1,1))\n",
    "        self.register_buffer('steps', tensor(0))\n",
    "\n",
    "    @script_method\n",
    "    def update_stats(self, x):\n",
    "        self.steps += 1\n",
    "        self.means.detach_()\n",
    "        self.vars.detach_()\n",
    "        if bool(self.steps>100) and bool(self.steps % 2): return\n",
    "        m = x.mean((0,2,3), keepdim=True)\n",
    "        v = x.var ((0,2,3), keepdim=True)\n",
    "        if bool(self.steps==1):\n",
    "            self.means.copy_(m)\n",
    "            self.vars .copy_(v)\n",
    "        else:\n",
    "            self.means.copy_(self.means*(1-self.mom) + m*self.mom)\n",
    "            self.vars .copy_(self.vars *(1-self.mom) + v*self.mom)\n",
    "\n",
    "    @script_method\n",
    "    def forward(self, x):\n",
    "        if self.training: self.update_stats(x)\n",
    "        x = (x-self.means).div((self.vars+self.eps).sqrt())\n",
    "        return x.mul(self.mults).add(self.adds)"
   ]
  },
  {
   "cell_type": "code",
   "execution_count": 15,
   "metadata": {
    "hidden": true
   },
   "outputs": [],
   "source": [
    "learn,run = get_learn_run(nfs, 0.8)"
   ]
  },
  {
   "cell_type": "code",
   "execution_count": 263,
   "metadata": {
    "hidden": true
   },
   "outputs": [
    {
     "name": "stdout",
     "output_type": "stream",
     "text": [
      "train: [0.131527392578125, tensor(0.9616, device='cuda:0')]\n",
      "valid: [0.12884925537109376, tensor(0.9635, device='cuda:0')]\n",
      "train: [0.087946748046875, tensor(0.9738, device='cuda:0')]\n",
      "valid: [0.08627608032226562, tensor(0.9756, device='cuda:0')]\n",
      "train: [0.0692530859375, tensor(0.9795, device='cuda:0')]\n",
      "valid: [0.08449844970703126, tensor(0.9744, device='cuda:0')]\n",
      "CPU times: user 2.9 s, sys: 157 ms, total: 3.06 s\n",
      "Wall time: 3.06 s\n"
     ]
    }
   ],
   "source": [
    "%time run.fit(3, learn)"
   ]
  },
  {
   "cell_type": "markdown",
   "metadata": {},
   "source": [
    "### Builtin batchnorm"
   ]
  },
  {
   "cell_type": "code",
   "execution_count": 264,
   "metadata": {},
   "outputs": [],
   "source": [
    "#export\n",
    "def conv2d(ni, nf, ks=3, stride=2, bn=True, **kwargs):\n",
    "    layers = [nn.Conv2d(ni, nf, ks, padding=ks//2, stride=stride, bias=not bn),\n",
    "              GeneralRelu(**kwargs)]\n",
    "    if bn: layers.append(nn.BatchNorm2d(nf))\n",
    "    return nn.Sequential(*layers)"
   ]
  },
  {
   "cell_type": "code",
   "execution_count": 265,
   "metadata": {},
   "outputs": [],
   "source": [
    "learn,run = get_learn_run(nfs, 1.0)"
   ]
  },
  {
   "cell_type": "code",
   "execution_count": 267,
   "metadata": {},
   "outputs": [
    {
     "name": "stdout",
     "output_type": "stream",
     "text": [
      "train: [0.070832314453125, tensor(0.9783, device='cuda:0')]\n",
      "valid: [0.10233775024414063, tensor(0.9673, device='cuda:0')]\n",
      "train: [0.0591291943359375, tensor(0.9817, device='cuda:0')]\n",
      "valid: [0.07191176147460937, tensor(0.9774, device='cuda:0')]\n",
      "train: [0.0536660546875, tensor(0.9831, device='cuda:0')]\n",
      "valid: [0.08218899536132812, tensor(0.9753, device='cuda:0')]\n",
      "CPU times: user 2.37 s, sys: 105 ms, total: 2.48 s\n",
      "Wall time: 2.48 s\n"
     ]
    }
   ],
   "source": [
    "%time run.fit(3, learn)"
   ]
  },
  {
   "cell_type": "markdown",
   "metadata": {
    "heading_collapsed": true
   },
   "source": [
    "### With scheduler"
   ]
  },
  {
   "cell_type": "code",
   "execution_count": 31,
   "metadata": {
    "hidden": true
   },
   "outputs": [],
   "source": [
    "sched = combine_scheds([0.3, 0.7], [sched_lin(0.2, 1.), sched_lin(1., 0.1)]) "
   ]
  },
  {
   "cell_type": "code",
   "execution_count": 32,
   "metadata": {
    "hidden": true
   },
   "outputs": [],
   "source": [
    "learn,run = get_learn_run([8, 16, 32, 64], 1., cbs=ParamScheduler('lr', sched))"
   ]
  },
  {
   "cell_type": "code",
   "execution_count": 33,
   "metadata": {
    "hidden": true
   },
   "outputs": [
    {
     "name": "stdout",
     "output_type": "stream",
     "text": [
      "train: [0.83316515625, tensor(0.7776, device='cuda:0')]\n",
      "valid: [0.2160898193359375, tensor(0.9373, device='cuda:0')]\n",
      "train: [0.1752346875, tensor(0.9485, device='cuda:0')]\n",
      "valid: [0.134317724609375, tensor(0.9597, device='cuda:0')]\n",
      "train: [0.113703818359375, tensor(0.9660, device='cuda:0')]\n",
      "valid: [0.1147864990234375, tensor(0.9650, device='cuda:0')]\n",
      "train: [0.083211220703125, tensor(0.9748, device='cuda:0')]\n",
      "valid: [0.0874865234375, tensor(0.9747, device='cuda:0')]\n",
      "train: [0.0638092041015625, tensor(0.9815, device='cuda:0')]\n",
      "valid: [0.08327833251953125, tensor(0.9748, device='cuda:0')]\n",
      "train: [0.0527063232421875, tensor(0.9847, device='cuda:0')]\n",
      "valid: [0.06678272705078125, tensor(0.9803, device='cuda:0')]\n",
      "train: [0.0451576904296875, tensor(0.9872, device='cuda:0')]\n",
      "valid: [0.06222798461914063, tensor(0.9823, device='cuda:0')]\n",
      "train: [0.0387881982421875, tensor(0.9890, device='cuda:0')]\n",
      "valid: [0.06077655029296875, tensor(0.9835, device='cuda:0')]\n"
     ]
    }
   ],
   "source": [
    "run.fit(8, learn)"
   ]
  },
  {
   "cell_type": "markdown",
   "metadata": {},
   "source": [
    "## More norms"
   ]
  },
  {
   "cell_type": "markdown",
   "metadata": {
    "heading_collapsed": true
   },
   "source": [
    "### Layer norm"
   ]
  },
  {
   "cell_type": "markdown",
   "metadata": {
    "hidden": true
   },
   "source": [
    "From [the paper](https://arxiv.org/abs/1607.06450): \"*batch normalization cannot be applied to online learning tasks or to extremely large distributed models where the minibatches have to be small*\"."
   ]
  },
  {
   "cell_type": "markdown",
   "metadata": {
    "hidden": true
   },
   "source": [
    "General equation for a norm layer with learnable affine:\n",
    "\n",
    "$y = \\frac{x - \\mathrm{E}[x]}{ \\sqrt{\\mathrm{Var}[x] + \\epsilon}} * \\gamma + \\beta$"
   ]
  },
  {
   "cell_type": "code",
   "execution_count": 145,
   "metadata": {
    "hidden": true
   },
   "outputs": [],
   "source": [
    "class LayerNorm(ScriptModule):\n",
    "    __constants__ = ['eps']\n",
    "    def __init__(self, eps=1e-5):\n",
    "        super().__init__()\n",
    "        self.eps = eps\n",
    "        self.mult = nn.Parameter(tensor(1.))\n",
    "        self.add  = nn.Parameter(tensor(0.))\n",
    "\n",
    "    @script_method\n",
    "    def forward(self, x):\n",
    "        m = x.mean((1,2,3), keepdim=True)\n",
    "        v = x.std ((1,2,3), keepdim=True)\n",
    "        x = (x-m) / ((v+self.eps).sqrt())\n",
    "        return x*self.mult + self.add"
   ]
  },
  {
   "cell_type": "code",
   "execution_count": 146,
   "metadata": {
    "hidden": true
   },
   "outputs": [],
   "source": [
    "def conv2d(ni, nf, ks=3, stride=2, bn=True, **kwargs):\n",
    "    layers = [nn.Conv2d(ni, nf, ks, padding=ks//2, stride=stride, bias=True),\n",
    "              GeneralRelu(**kwargs)]\n",
    "    if bn: layers.append(LayerNorm())\n",
    "    return nn.Sequential(*layers)"
   ]
  },
  {
   "cell_type": "code",
   "execution_count": 113,
   "metadata": {
    "hidden": true,
    "scrolled": false
   },
   "outputs": [],
   "source": [
    "learn,run = get_learn_run(nfs, 0.5)"
   ]
  },
  {
   "cell_type": "code",
   "execution_count": 115,
   "metadata": {
    "hidden": true,
    "scrolled": false
   },
   "outputs": [
    {
     "name": "stdout",
     "output_type": "stream",
     "text": [
      "train: [0.077997587890625, tensor(0.9758, device='cuda:0')]\n",
      "valid: [0.08366400146484375, tensor(0.9758, device='cuda:0')]\n",
      "train: [0.0596752294921875, tensor(0.9821, device='cuda:0')]\n",
      "valid: [0.07743511352539062, tensor(0.9783, device='cuda:0')]\n",
      "train: [0.05039712890625, tensor(0.9846, device='cuda:0')]\n",
      "valid: [0.08701671142578125, tensor(0.9749, device='cuda:0')]\n",
      "CPU times: user 2.95 s, sys: 177 ms, total: 3.13 s\n",
      "Wall time: 3.13 s\n"
     ]
    }
   ],
   "source": [
    "%time run.fit(3, learn)"
   ]
  },
  {
   "cell_type": "markdown",
   "metadata": {
    "hidden": true
   },
   "source": [
    "*Thought experiment*: can this distinguish green frogs from red frogs (assuming you're using it before the first conv)?"
   ]
  },
  {
   "cell_type": "markdown",
   "metadata": {
    "heading_collapsed": true
   },
   "source": [
    "### Group norm"
   ]
  },
  {
   "cell_type": "markdown",
   "metadata": {
    "hidden": true
   },
   "source": [
    "*From the PyTorch docs:*"
   ]
  },
  {
   "cell_type": "markdown",
   "metadata": {
    "hidden": true
   },
   "source": [
    "`GroupNorm(num_groups, num_channels, eps=1e-5, affine=True)`\n",
    "\n",
    "The input channels are separated into `num_groups` groups, each containing\n",
    "``num_channels / num_groups`` channels. The mean and standard-deviation are calculated\n",
    "separately over the each group. $\\gamma$ and $\\beta$ are learnable\n",
    "per-channel affine transform parameter vectorss of size `num_channels` if\n",
    "`affine` is ``True``.\n",
    "\n",
    "This layer uses statistics computed from input data in both training and\n",
    "evaluation modes.\n",
    "\n",
    "Args:\n",
    "-    num_groups (int): number of groups to separate the channels into\n",
    "-    num_channels (int): number of channels expected in input\n",
    "-    eps: a value added to the denominator for numerical stability. Default: 1e-5\n",
    "-    affine: a boolean value that when set to ``True``, this module\n",
    "        has learnable per-channel affine parameters initialized to ones (for weights)\n",
    "        and zeros (for biases). Default: ``True``.\n",
    "\n",
    "Shape:\n",
    "- Input: :math:`(N, num\\_channels, *)`\n",
    "- Output: :math:`(N, num\\_channels, *)` (same shape as input)\n",
    "\n",
    "Examples::\n",
    "\n",
    "    >>> input = torch.randn(20, 6, 10, 10)\n",
    "    >>> # Separate 6 channels into 3 groups\n",
    "    >>> m = nn.GroupNorm(3, 6)\n",
    "    >>> # Separate 6 channels into 6 groups (equivalent with InstanceNorm)\n",
    "    >>> m = nn.GroupNorm(6, 6)\n",
    "    >>> # Put all 6 channels into a single group (equivalent with LayerNorm)\n",
    "    >>> m = nn.GroupNorm(1, 6)\n",
    "    >>> # Activating the module\n",
    "    >>> output = m(input)"
   ]
  },
  {
   "cell_type": "markdown",
   "metadata": {},
   "source": [
    "## Fix small batch sizes"
   ]
  },
  {
   "cell_type": "markdown",
   "metadata": {
    "heading_collapsed": true
   },
   "source": [
    "### Exponentially Weighted Layer Norm"
   ]
  },
  {
   "cell_type": "code",
   "execution_count": 162,
   "metadata": {
    "hidden": true
   },
   "outputs": [],
   "source": [
    "class EWLayerNorm(nn.Module):\n",
    "    def __init__(self, nf, mom=0.1, eps=1e-5):\n",
    "        super().__init__()\n",
    "        self.mom,self.eps = mom,eps\n",
    "        self.mult = nn.Parameter(tensor(1.))\n",
    "        self.add  = nn.Parameter(tensor(0.))\n",
    "        self.register_buffer('batch', tensor(0.))\n",
    "        self.register_buffer('sum'  , tensor(0.))\n",
    "        self.register_buffer('sqr'  , tensor(0.))\n",
    "        self.register_buffer('count', tensor(0.))\n",
    "\n",
    "    def update_stats(self, x):\n",
    "        bs,nc,*_ = x.shape\n",
    "        self.sum.detach_()\n",
    "        self.sqr.detach_()\n",
    "        mom = 1 if self.batch==0 else self.mom\n",
    "        self.sum  .add_(mom, x.sum()        - self.sum  )\n",
    "        self.sqr  .add_(mom, x.pow(2).sum() - self.sqr  )\n",
    "        self.count.add_(mom, x.numel()      - self.count)\n",
    "        self.batch += bs\n",
    "\n",
    "    def forward(self, x):\n",
    "        if self.training: self.update_stats(x)\n",
    "        mean = self.sum/self.count\n",
    "        var  = self.sqr/self.count - mean.pow(2)\n",
    "        x = (x-mean)/((var+self.eps).sqrt())\n",
    "        return x*self.mult + self.add"
   ]
  },
  {
   "cell_type": "code",
   "execution_count": 163,
   "metadata": {
    "hidden": true
   },
   "outputs": [],
   "source": [
    "def conv2d(ni, nf, ks=3, stride=2, bn=True, **kwargs):\n",
    "    layers = [nn.Conv2d(ni, nf, ks, padding=ks//2, stride=stride, bias=True),\n",
    "              GeneralRelu(**kwargs)]\n",
    "    if bn: layers.append(EWLayerNorm(nf))\n",
    "    return nn.Sequential(*layers)"
   ]
  },
  {
   "cell_type": "code",
   "execution_count": 167,
   "metadata": {
    "hidden": true
   },
   "outputs": [],
   "source": [
    "learn,run = get_learn_run(nfs, 0.5)"
   ]
  },
  {
   "cell_type": "code",
   "execution_count": 169,
   "metadata": {
    "hidden": true
   },
   "outputs": [
    {
     "name": "stdout",
     "output_type": "stream",
     "text": [
      "train: [0.074243193359375, tensor(0.9766, device='cuda:0')]\n",
      "valid: [0.08686154174804687, tensor(0.9731, device='cuda:0')]\n",
      "train: [0.059469072265625, tensor(0.9819, device='cuda:0')]\n",
      "valid: [0.096335546875, tensor(0.9706, device='cuda:0')]\n",
      "train: [0.053373134765625, tensor(0.9833, device='cuda:0')]\n",
      "valid: [0.07646878051757812, tensor(0.9772, device='cuda:0')]\n",
      "CPU times: user 3.68 s, sys: 280 ms, total: 3.96 s\n",
      "Wall time: 3.97 s\n"
     ]
    }
   ],
   "source": [
    "%time run.fit(3, learn)"
   ]
  },
  {
   "cell_type": "markdown",
   "metadata": {},
   "source": [
    "### Exponentially Weighted Batch Norm"
   ]
  },
  {
   "cell_type": "code",
   "execution_count": 268,
   "metadata": {},
   "outputs": [],
   "source": [
    "class EWBatchNorm(nn.Module):\n",
    "    __constants__ = ['mom', 'eps']\n",
    "    def __init__(self, nf, mom=0.01, eps=1e-5):\n",
    "        super().__init__()\n",
    "        self.mom,self.eps = mom,eps\n",
    "        self.mults = nn.Parameter(torch.ones (nf,1,1))\n",
    "        self.adds  = nn.Parameter(torch.zeros(nf,1,1))\n",
    "        self.register_buffer('sums',  torch.zeros(1,nf,1,1))\n",
    "        self.register_buffer('sqrs',  torch.zeros(1,nf,1,1))\n",
    "        self.register_buffer('batch', tensor(0.))\n",
    "        self.register_buffer('count', tensor(0.))\n",
    "        self.register_buffer('step',  tensor(0.))\n",
    "        self.register_buffer('dbias', tensor(0.))\n",
    "\n",
    "    def update_stats(self, x):\n",
    "        bs,nc,*_ = x.shape\n",
    "        self.sums.detach_()\n",
    "        self.sqrs.detach_()\n",
    "        dims = (0,2,3)\n",
    "        self.mom1 = 1 - (1-self.mom)**x.shape[0]\n",
    "        s  = x.sum(dims, keepdim=True)\n",
    "        ss = x.pow(2).sum(dims, keepdim=True)\n",
    "        c  = x.numel()/nc\n",
    "        self.sums.copy_ (self.sums .add(self.mom1, s -self.sums))\n",
    "        self.sqrs.copy_ (self.sqrs .add(self.mom1, ss-self.sqrs))\n",
    "        self.count.copy_(self.count.add(self.mom1, c-self.count))\n",
    "        self.dbias.copy_(self.mom1 + self.dbias*(1-self.mom1))\n",
    "        self.batch += bs\n",
    "        self.step  += 1\n",
    "\n",
    "    def forward(self, x):\n",
    "        if self.training: self.update_stats(x)\n",
    "        sums = self.sums\n",
    "        sqrs = self.sqrs\n",
    "        if self.step<100:\n",
    "            sums = sums/self.dbias\n",
    "            sqrs = sqrs/self.dbias\n",
    "        means = self.sums/self.count\n",
    "        vars  = self.sqrs/self.count - means.pow(2)\n",
    "        if bool(self.batch < 20): vars.clamp_min_(0.01)\n",
    "        x = (x-means).div((vars+self.eps).sqrt())\n",
    "        return x*self.mults + self.adds"
   ]
  },
  {
   "cell_type": "code",
   "execution_count": 269,
   "metadata": {},
   "outputs": [],
   "source": [
    "def conv2d(ni, nf, ks=3, stride=2, bn=True, **kwargs):\n",
    "    layers = [nn.Conv2d(ni, nf, ks, padding=ks//2, stride=stride, bias=not bn),\n",
    "              GeneralRelu(**kwargs)]\n",
    "    if bn: layers.append(EWBatchNorm(nf))\n",
    "    return nn.Sequential(*layers)"
   ]
  },
  {
   "cell_type": "code",
   "execution_count": 275,
   "metadata": {},
   "outputs": [],
   "source": [
    "learn,run = get_learn_run(nfs, 1.0)"
   ]
  },
  {
   "cell_type": "code",
   "execution_count": 277,
   "metadata": {},
   "outputs": [
    {
     "name": "stdout",
     "output_type": "stream",
     "text": [
      "train: [0.05868353515625, tensor(0.9818, device='cuda:0')]\n",
      "valid: [0.07131728515625, tensor(0.9798, device='cuda:0')]\n",
      "train: [0.0472043896484375, tensor(0.9855, device='cuda:0')]\n",
      "valid: [0.0698888671875, tensor(0.9788, device='cuda:0')]\n",
      "train: [0.040951064453125, tensor(0.9879, device='cuda:0')]\n",
      "valid: [0.07158408813476562, tensor(0.9793, device='cuda:0')]\n",
      "CPU times: user 3.92 s, sys: 251 ms, total: 4.17 s\n",
      "Wall time: 4.17 s\n"
     ]
    }
   ],
   "source": [
    "%time run.fit(3, learn)"
   ]
  },
  {
   "cell_type": "markdown",
   "metadata": {},
   "source": [
    "## Export"
   ]
  },
  {
   "cell_type": "code",
   "execution_count": 34,
   "metadata": {},
   "outputs": [
    {
     "name": "stdout",
     "output_type": "stream",
     "text": [
      "Converted 07_batchnorm.ipynb to nb_07.py\r\n"
     ]
    }
   ],
   "source": [
    "!./notebook2script.py 07_batchnorm.ipynb"
   ]
  },
  {
   "cell_type": "code",
   "execution_count": null,
   "metadata": {},
   "outputs": [],
   "source": []
  }
 ],
 "metadata": {
  "kernelspec": {
   "display_name": "Python 3",
   "language": "python",
   "name": "python3"
  },
  "language_info": {
   "codemirror_mode": {
    "name": "ipython",
    "version": 3
   },
   "file_extension": ".py",
   "mimetype": "text/x-python",
   "name": "python",
   "nbconvert_exporter": "python",
   "pygments_lexer": "ipython3",
   "version": "3.7.1"
  }
 },
 "nbformat": 4,
 "nbformat_minor": 2
}
