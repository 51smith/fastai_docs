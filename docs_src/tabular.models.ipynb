{
 "cells": [
  {
   "cell_type": "code",
   "execution_count": null,
   "metadata": {
    "hide_input": true
   },
   "outputs": [],
   "source": "from fastai.gen_doc.gen_notebooks import update_nb_metadata\n# For updating jekyll metadata. You MUST reload notebook immediately after executing this cell for changes to save\nupdate_nb_metadata('tabular.models.ipynb', title=None, summary=\"Models for training tabular/structured data\")"
  },
  {
   "cell_type": "markdown",
   "metadata": {},
   "source": "# Tabular models"
  },
  {
   "cell_type": "code",
   "execution_count": null,
   "metadata": {
    "hide_input": true
   },
   "outputs": [],
   "source": "from fastai.gen_doc.nbdoc import *\nfrom fastai.tabular.models import TabularModel"
  },
  {
   "cell_type": "code",
   "execution_count": null,
   "metadata": {},
   "outputs": [
    {
     "data": {
      "text/markdown": "## <a id=TabularModel></a>`class` `TabularModel`\n> `TabularModel`(`emb_szs`:`ListSizes`, `n_cont`:`int`, `out_sz`:`int`, `layers`:`Collection`\\[`int`\\], `ps`:`Collection`\\[`float`\\]=`None`, `emb_drop`:`float`=`0.0`, `y_range`:`OptRange`=`None`, `use_bn`:`bool`=`True`) :: `Module`\n<a href=\"https://github.com/fastai/fastai/blob/master/fastai/tabular/models.py#L6\">[source]</a>",
      "text/plain": "<IPython.core.display.Markdown object>"
     },
     "metadata": {},
     "output_type": "display_data"
    }
   ],
   "source": "show_doc(TabularModel, doc_string=False)"
  },
  {
   "cell_type": "markdown",
   "metadata": {},
   "source": "Create a model suitable for tabular data. `emb_szs` match each categorical variable size with an embedding size, `n_cont` is the number of continuous variables. The model consists of `Embedding` layers for the categorical variables, followed by a `Dropout` of `emb_drop`, and a `BatchNorm` for the continuous variables. The results are concatenated and followed by blocks of `BatchNorm`, `Dropout`, `Linear` and `ReLU` (the first block skip `BatchNorm` and `Dropout`, the last block skips the `ReLU`).\n\nThe sizes of the blocks are given in `layers` and the probabilities of the `Dropout` in `drops`. The last size is `out_sz`, and we add a last activation that is a sigmoid rescaled to cover `y_range` (if it's not `None`). Lastly, if `use_bn` is set to False, all `BatchNorm` layers are skipped except the one applied to the continuous variables.\n\nGenerally it's easiest to just create a learner with `get_tabular_learner`, which will automatically create a `TabularModel` for you."
  }
 ],
 "metadata": {
  "jekyll": {
   "summary": "Models for training tabular/structured data"
  },
  "kernelspec": {
   "display_name": "Python 3",
   "language": "python",
   "name": "python3"
  }
 },
 "nbformat": 4,
 "nbformat_minor": 2
}
