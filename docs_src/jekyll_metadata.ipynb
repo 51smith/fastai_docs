{
 "cells": [
  {
   "cell_type": "code",
   "execution_count": null,
   "metadata": {},
   "outputs": [],
   "source": [
    "%reload_ext autoreload\n",
    "%autoreload 2"
   ]
  },
  {
   "cell_type": "code",
   "execution_count": null,
   "metadata": {},
   "outputs": [],
   "source": [
    "from fastai.gen_doc.gen_notebooks import *\n",
    "from pathlib import Path"
   ]
  },
  {
   "cell_type": "markdown",
   "metadata": {},
   "source": [
    "### To update this notebook"
   ]
  },
  {
   "cell_type": "markdown",
   "metadata": {},
   "source": [
    "Run `tools/sgen_notebooks.py"
   ]
  },
  {
   "cell_type": "markdown",
   "metadata": {},
   "source": [
    "Or run below:  \n",
    "You need to make sure to refresh right after"
   ]
  },
  {
   "cell_type": "code",
   "execution_count": null,
   "metadata": {},
   "outputs": [],
   "source": [
    "import glob\n",
    "for f in Path().glob('*.ipynb'):\n",
    "    generate_missing_metadata(f)"
   ]
  },
  {
   "cell_type": "markdown",
   "metadata": {},
   "source": [
    "# Metadata generated below"
   ]
  },
  {
   "cell_type": "code",
   "execution_count": null,
   "metadata": {
    "hide_input": false
   },
   "outputs": [],
   "source": [
    "update_nb_metadata('torch_core.ipynb',\n",
    "    summary='Basic functions using pytorch',\n",
    "    title='torch_core')"
   ]
  },
  {
   "cell_type": "code",
   "execution_count": null,
   "metadata": {
    "hide_input": false
   },
   "outputs": [],
   "source": [
    "update_nb_metadata('gen_doc.convert2html.ipynb',\n",
    "    summary='Converting the documentation notebooks to HTML pages',\n",
    "    title='gen_doc.convert2html')"
   ]
  },
  {
   "cell_type": "code",
   "execution_count": null,
   "metadata": {
    "hide_input": false
   },
   "outputs": [],
   "source": [
    "update_nb_metadata('metrics.ipynb',\n",
    "    summary='Useful metrics for training',\n",
    "    title='metrics')"
   ]
  },
  {
   "cell_type": "code",
   "execution_count": null,
   "metadata": {
    "hide_input": false
   },
   "outputs": [],
   "source": [
    "update_nb_metadata('callbacks.fp16.ipynb',\n",
    "    summary='Training in mixed precision implementation',\n",
    "    title='callbacks.fp16')"
   ]
  },
  {
   "cell_type": "code",
   "execution_count": null,
   "metadata": {
    "hide_input": false
   },
   "outputs": [],
   "source": [
    "update_nb_metadata('callbacks.general_sched.ipynb',\n",
    "    summary='Implementation of a flexible training API',\n",
    "    title='callbacks.general_sched')"
   ]
  },
  {
   "cell_type": "code",
   "execution_count": null,
   "metadata": {
    "hide_input": false
   },
   "outputs": [],
   "source": [
    "update_nb_metadata('text.ipynb',\n",
    "    keywords='fastai',\n",
    "    summary='Application to NLP, including ULMFiT fine-tuning',\n",
    "    title='text')"
   ]
  },
  {
   "cell_type": "code",
   "execution_count": null,
   "metadata": {
    "hide_input": false
   },
   "outputs": [],
   "source": [
    "update_nb_metadata('callback.ipynb',\n",
    "    summary='Implementation of the callback system',\n",
    "    title='callback')"
   ]
  },
  {
   "cell_type": "code",
   "execution_count": null,
   "metadata": {
    "hide_input": false
   },
   "outputs": [],
   "source": [
    "update_nb_metadata('tabular.models.ipynb',\n",
    "    keywords='fastai',\n",
    "    summary='Model for training tabular/structured data',\n",
    "    title='tabular.model')"
   ]
  },
  {
   "cell_type": "code",
   "execution_count": null,
   "metadata": {
    "hide_input": false
   },
   "outputs": [],
   "source": [
    "update_nb_metadata('callbacks.mixup.ipynb',\n",
    "    summary='Implementation of mixup',\n",
    "    title='callbacks.mixup')"
   ]
  },
  {
   "cell_type": "code",
   "execution_count": null,
   "metadata": {
    "hide_input": false
   },
   "outputs": [],
   "source": [
    "update_nb_metadata('applications.ipynb',\n",
    "    summary='Types of problems you can apply the fastai library to',\n",
    "    title='applications')"
   ]
  },
  {
   "cell_type": "code",
   "execution_count": null,
   "metadata": {
    "hide_input": false
   },
   "outputs": [],
   "source": [
    "update_nb_metadata('vision.data.ipynb',\n",
    "    summary='Basic dataset for computer vision and helper function to get a DataBunch',\n",
    "    title='vision.data')"
   ]
  },
  {
   "cell_type": "code",
   "execution_count": null,
   "metadata": {
    "hide_input": false
   },
   "outputs": [],
   "source": [
    "update_nb_metadata('overview.ipynb',\n",
    "    summary='Overview of the core modules',\n",
    "    title='overview')"
   ]
  },
  {
   "cell_type": "code",
   "execution_count": null,
   "metadata": {
    "hide_input": false
   },
   "outputs": [],
   "source": [
    "update_nb_metadata('training.ipynb',\n",
    "    keywords='fastai',\n",
    "    summary='Overview of fastai training modules, including Learner, metrics, and callbacks',\n",
    "    title='training')"
   ]
  },
  {
   "cell_type": "code",
   "execution_count": null,
   "metadata": {
    "hide_input": false
   },
   "outputs": [],
   "source": [
    "update_nb_metadata('text.transform.ipynb',\n",
    "    summary='NLP data processing; tokenizes text and creates vocab indexes',\n",
    "    title='text.transform')"
   ]
  },
  {
   "cell_type": "code",
   "execution_count": null,
   "metadata": {
    "hide_input": false
   },
   "outputs": [],
   "source": [
    "# do not overwrite this notebook, or changes may get lost!\n",
    "# update_nb_metadata('jekyll_metadata.ipynb')"
   ]
  },
  {
   "cell_type": "code",
   "execution_count": null,
   "metadata": {
    "hide_input": false
   },
   "outputs": [],
   "source": [
    "update_nb_metadata('collab.ipynb',\n",
    "    summary='Application to collaborative filtering',\n",
    "    title='collab')"
   ]
  },
  {
   "cell_type": "code",
   "execution_count": null,
   "metadata": {
    "hide_input": false
   },
   "outputs": [],
   "source": [
    "update_nb_metadata('text.learner.ipynb',\n",
    "    summary='Easy access of language models and ULMFiT',\n",
    "    title='text.learner')"
   ]
  },
  {
   "cell_type": "code",
   "execution_count": null,
   "metadata": {
    "hide_input": false
   },
   "outputs": [],
   "source": [
    "update_nb_metadata('gen_doc.nbdoc.ipynb',\n",
    "    summary='Helper function to build the documentation',\n",
    "    title='gen_doc.nbdoc')"
   ]
  },
  {
   "cell_type": "code",
   "execution_count": null,
   "metadata": {
    "hide_input": false
   },
   "outputs": [],
   "source": [
    "update_nb_metadata('vision.learner.ipynb',\n",
    "    summary='`Learner` support for computer vision',\n",
    "    title='vision.learner')"
   ]
  },
  {
   "cell_type": "code",
   "execution_count": null,
   "metadata": {
    "hide_input": false
   },
   "outputs": [],
   "source": [
    "update_nb_metadata('core.ipynb',\n",
    "    summary='Basic helper functions for the fastai library',\n",
    "    title='core')"
   ]
  },
  {
   "cell_type": "code",
   "execution_count": null,
   "metadata": {
    "hide_input": false
   },
   "outputs": [],
   "source": [
    "update_nb_metadata('fastai_typing.ipynb',\n",
    "    keywords='fastai',\n",
    "    summary='Type annotations names',\n",
    "    title='fastai_typing')"
   ]
  },
  {
   "cell_type": "code",
   "execution_count": null,
   "metadata": {
    "hide_input": false
   },
   "outputs": [],
   "source": [
    "update_nb_metadata('gen_doc.gen_notebooks.ipynb',\n",
    "    summary='Generation of documentation notebook skeletons from python module',\n",
    "    title='gen_doc.gen_notebooks')"
   ]
  },
  {
   "cell_type": "code",
   "execution_count": null,
   "metadata": {
    "hide_input": false
   },
   "outputs": [],
   "source": [
    "update_nb_metadata('basic_train.ipynb',\n",
    "    summary='Learner class and training loop',\n",
    "    title='basic_train')"
   ]
  },
  {
   "cell_type": "code",
   "execution_count": null,
   "metadata": {
    "hide_input": false
   },
   "outputs": [],
   "source": [
    "update_nb_metadata('gen_doc.ipynb',\n",
    "    keywords='fastai',\n",
    "    summary='Documentation modules overview',\n",
    "    title='gen_doc')"
   ]
  },
  {
   "cell_type": "code",
   "execution_count": null,
   "metadata": {
    "hide_input": false
   },
   "outputs": [],
   "source": [
    "update_nb_metadata('callbacks.rnn.ipynb',\n",
    "    summary='Implementation of a callback for RNN training',\n",
    "    title='callbacks.rnn')"
   ]
  },
  {
   "cell_type": "code",
   "execution_count": null,
   "metadata": {
    "hide_input": false
   },
   "outputs": [],
   "source": [
    "update_nb_metadata('callbacks.one_cycle.ipynb',\n",
    "    summary='Implementation of the 1cycle policy',\n",
    "    title='callbacks.one_cycle')"
   ]
  },
  {
   "cell_type": "code",
   "execution_count": null,
   "metadata": {
    "hide_input": false
   },
   "outputs": [
    {
     "ename": "FileNotFoundError",
     "evalue": "[Errno 2] No such file or directory: 'tta.ipynb'",
     "output_type": "error",
     "traceback": [
      "\u001b[0;31m---------------------------------------------------------------------------\u001b[0m",
      "\u001b[0;31mFileNotFoundError\u001b[0m                         Traceback (most recent call last)",
      "\u001b[0;32m<ipython-input-31-314be61a230c>\u001b[0m in \u001b[0;36m<module>\u001b[0;34m()\u001b[0m\n\u001b[1;32m      1\u001b[0m update_nb_metadata('tta.ipynb',\n\u001b[1;32m      2\u001b[0m     \u001b[0msummary\u001b[0m\u001b[0;34m=\u001b[0m\u001b[0;34m'Module brings TTA (Test Time Functionality) to the `Learner` class. Use `learner.TTA()` instead'\u001b[0m\u001b[0;34m,\u001b[0m\u001b[0;34m\u001b[0m\u001b[0m\n\u001b[0;32m----> 3\u001b[0;31m     title='tta')\n\u001b[0m",
      "\u001b[0;32m/mnt/disc1/fast.ai-1/br/fastai/fastai_docs/docs_src/fastai/gen_doc/gen_notebooks.py\u001b[0m in \u001b[0;36mupdate_nb_metadata\u001b[0;34m(nb_path, title, summary, keywords, overwrite, **kwargs)\u001b[0m\n\u001b[1;32m    208\u001b[0m \u001b[0;32mdef\u001b[0m \u001b[0mupdate_nb_metadata\u001b[0m\u001b[0;34m(\u001b[0m\u001b[0mnb_path\u001b[0m\u001b[0;34m=\u001b[0m\u001b[0;32mNone\u001b[0m\u001b[0;34m,\u001b[0m \u001b[0mtitle\u001b[0m\u001b[0;34m=\u001b[0m\u001b[0;32mNone\u001b[0m\u001b[0;34m,\u001b[0m \u001b[0msummary\u001b[0m\u001b[0;34m=\u001b[0m\u001b[0;32mNone\u001b[0m\u001b[0;34m,\u001b[0m \u001b[0mkeywords\u001b[0m\u001b[0;34m=\u001b[0m\u001b[0;34m'fastai'\u001b[0m\u001b[0;34m,\u001b[0m \u001b[0moverwrite\u001b[0m\u001b[0;34m=\u001b[0m\u001b[0;32mTrue\u001b[0m\u001b[0;34m,\u001b[0m \u001b[0;34m**\u001b[0m\u001b[0mkwargs\u001b[0m\u001b[0;34m)\u001b[0m\u001b[0;34m:\u001b[0m\u001b[0;34m\u001b[0m\u001b[0m\n\u001b[1;32m    209\u001b[0m     \u001b[0;34m\"Creates jekyll metadata for given notebook path.\"\u001b[0m\u001b[0;34m\u001b[0m\u001b[0m\n\u001b[0;32m--> 210\u001b[0;31m     \u001b[0mnb\u001b[0m \u001b[0;34m=\u001b[0m \u001b[0mread_nb\u001b[0m\u001b[0;34m(\u001b[0m\u001b[0mnb_path\u001b[0m\u001b[0;34m)\u001b[0m\u001b[0;34m\u001b[0m\u001b[0m\n\u001b[0m\u001b[1;32m    211\u001b[0m     \u001b[0mdata\u001b[0m \u001b[0;34m=\u001b[0m \u001b[0;34m{\u001b[0m\u001b[0;34m'title'\u001b[0m\u001b[0;34m:\u001b[0m \u001b[0mtitle\u001b[0m\u001b[0;34m,\u001b[0m \u001b[0;34m'summary'\u001b[0m\u001b[0;34m:\u001b[0m \u001b[0msummary\u001b[0m\u001b[0;34m,\u001b[0m \u001b[0;34m'keywords'\u001b[0m\u001b[0;34m:\u001b[0m \u001b[0mkeywords\u001b[0m\u001b[0;34m,\u001b[0m \u001b[0;34m**\u001b[0m\u001b[0mkwargs\u001b[0m\u001b[0;34m}\u001b[0m\u001b[0;34m\u001b[0m\u001b[0m\n\u001b[1;32m    212\u001b[0m     \u001b[0mdata\u001b[0m \u001b[0;34m=\u001b[0m \u001b[0;34m{\u001b[0m\u001b[0mk\u001b[0m\u001b[0;34m:\u001b[0m\u001b[0mv\u001b[0m \u001b[0;32mfor\u001b[0m \u001b[0;34m(\u001b[0m\u001b[0mk\u001b[0m\u001b[0;34m,\u001b[0m\u001b[0mv\u001b[0m\u001b[0;34m)\u001b[0m \u001b[0;32min\u001b[0m \u001b[0mdata\u001b[0m\u001b[0;34m.\u001b[0m\u001b[0mitems\u001b[0m\u001b[0;34m(\u001b[0m\u001b[0;34m)\u001b[0m \u001b[0;32mif\u001b[0m \u001b[0mv\u001b[0m \u001b[0;32mis\u001b[0m \u001b[0;32mnot\u001b[0m \u001b[0;32mNone\u001b[0m\u001b[0;34m}\u001b[0m \u001b[0;31m# remove none values\u001b[0m\u001b[0;34m\u001b[0m\u001b[0m\n",
      "\u001b[0;32m/mnt/disc1/fast.ai-1/br/fastai/fastai_docs/docs_src/fastai/gen_doc/gen_notebooks.py\u001b[0m in \u001b[0;36mread_nb\u001b[0;34m(fname)\u001b[0m\n\u001b[1;32m    138\u001b[0m \u001b[0;32mdef\u001b[0m \u001b[0mread_nb\u001b[0m\u001b[0;34m(\u001b[0m\u001b[0mfname\u001b[0m\u001b[0;34m)\u001b[0m\u001b[0;34m:\u001b[0m\u001b[0;34m\u001b[0m\u001b[0m\n\u001b[1;32m    139\u001b[0m     \u001b[0;34m\"Read a notebook in `fname` and return its corresponding json\"\u001b[0m\u001b[0;34m\u001b[0m\u001b[0m\n\u001b[0;32m--> 140\u001b[0;31m     \u001b[0;32mwith\u001b[0m \u001b[0mopen\u001b[0m\u001b[0;34m(\u001b[0m\u001b[0mfname\u001b[0m\u001b[0;34m,\u001b[0m\u001b[0;34m'r'\u001b[0m\u001b[0;34m)\u001b[0m \u001b[0;32mas\u001b[0m \u001b[0mf\u001b[0m\u001b[0;34m:\u001b[0m \u001b[0;32mreturn\u001b[0m \u001b[0mnbformat\u001b[0m\u001b[0;34m.\u001b[0m\u001b[0mreads\u001b[0m\u001b[0;34m(\u001b[0m\u001b[0mf\u001b[0m\u001b[0;34m.\u001b[0m\u001b[0mread\u001b[0m\u001b[0;34m(\u001b[0m\u001b[0;34m)\u001b[0m\u001b[0;34m,\u001b[0m \u001b[0mas_version\u001b[0m\u001b[0;34m=\u001b[0m\u001b[0;36m4\u001b[0m\u001b[0;34m)\u001b[0m\u001b[0;34m\u001b[0m\u001b[0m\n\u001b[0m\u001b[1;32m    141\u001b[0m \u001b[0;34m\u001b[0m\u001b[0m\n\u001b[1;32m    142\u001b[0m \u001b[0mSHOW_DOC_RE\u001b[0m \u001b[0;34m=\u001b[0m \u001b[0mre\u001b[0m\u001b[0;34m.\u001b[0m\u001b[0mcompile\u001b[0m\u001b[0;34m(\u001b[0m\u001b[0;34mr\"show_doc\\(([\\w\\.]*)\"\u001b[0m\u001b[0;34m)\u001b[0m\u001b[0;34m\u001b[0m\u001b[0m\n",
      "\u001b[0;31mFileNotFoundError\u001b[0m: [Errno 2] No such file or directory: 'tta.ipynb'"
     ]
    }
   ],
   "source": [
    "update_nb_metadata('tta.ipynb',\n",
    "    summary='Module brings TTA (Test Time Functionality) to the `Learner` class. Use `learner.TTA()` instead',\n",
    "    title='tta')"
   ]
  },
  {
   "cell_type": "code",
   "execution_count": null,
   "metadata": {
    "hide_input": false
   },
   "outputs": [],
   "source": [
    "update_nb_metadata('vision.ipynb',\n",
    "    summary='Application to Computer Vision',\n",
    "    title='vision')"
   ]
  },
  {
   "cell_type": "code",
   "execution_count": null,
   "metadata": {
    "hide_input": false
   },
   "outputs": [],
   "source": [
    "update_nb_metadata('vision.transform.ipynb',\n",
    "    summary='List of transforms for data augmentation in CV',\n",
    "    title='vision.transform')"
   ]
  },
  {
   "cell_type": "code",
   "execution_count": null,
   "metadata": {
    "hide_input": false
   },
   "outputs": [],
   "source": [
    "update_nb_metadata('callbacks.lr_finder.ipynb',\n",
    "    summary='Implementation of the LR Range test from Leslie Smith',\n",
    "    title='callbacks.lr_finder')"
   ]
  },
  {
   "cell_type": "code",
   "execution_count": null,
   "metadata": {
    "hide_input": false
   },
   "outputs": [],
   "source": [
    "update_nb_metadata('text.data.ipynb',\n",
    "    summary='Basic dataset for NLP tasks and helper functions to create a DataBunch',\n",
    "    title='text.data')"
   ]
  },
  {
   "cell_type": "code",
   "execution_count": null,
   "metadata": {
    "hide_input": false
   },
   "outputs": [],
   "source": [
    "update_nb_metadata('text.models.ipynb',\n",
    "    summary='Implementation of the AWD-LSTM and the RNN models',\n",
    "    title='text.models')"
   ]
  },
  {
   "cell_type": "code",
   "execution_count": null,
   "metadata": {
    "hide_input": false
   },
   "outputs": [],
   "source": [
    "update_nb_metadata('tabular.data.ipynb',\n",
    "    summary='Base class to deal with tabular data and get a DataBunch',\n",
    "    title='tabular.data')"
   ]
  },
  {
   "cell_type": "code",
   "execution_count": null,
   "metadata": {
    "hide_input": false
   },
   "outputs": [],
   "source": [
    "update_nb_metadata('callbacks.ipynb',\n",
    "    keywords='fastai',\n",
    "    summary='Callbacks implemented in the fastai library',\n",
    "    title='callbacks')"
   ]
  },
  {
   "cell_type": "code",
   "execution_count": null,
   "metadata": {
    "hide_input": false
   },
   "outputs": [],
   "source": [
    "update_nb_metadata('train.ipynb',\n",
    "    summary='Extensions to Learner that easily implement Callback',\n",
    "    title='train')"
   ]
  },
  {
   "cell_type": "code",
   "execution_count": null,
   "metadata": {
    "hide_input": false
   },
   "outputs": [],
   "source": [
    "update_nb_metadata('callbacks.hooks.ipynb',\n",
    "    summary='Implement callbacks using hooks',\n",
    "    title='callbacks.hooks')"
   ]
  },
  {
   "cell_type": "code",
   "execution_count": null,
   "metadata": {
    "hide_input": false
   },
   "outputs": [],
   "source": [
    "update_nb_metadata('text.models.qrnn.ipynb')"
   ]
  },
  {
   "cell_type": "code",
   "execution_count": null,
   "metadata": {
    "hide_input": false
   },
   "outputs": [],
   "source": [
    "update_nb_metadata('vision.image.ipynb',\n",
    "    summary='Image class, variants and internal data augmentation pipeline',\n",
    "    title='vision.image')"
   ]
  },
  {
   "cell_type": "code",
   "execution_count": null,
   "metadata": {
    "hide_input": false
   },
   "outputs": [],
   "source": [
    "update_nb_metadata('vision.models.unet.ipynb',\n",
    "    summary='Dynamic Unet that can use any pretrained model as a backbone.',\n",
    "    title='vision.models.unet')"
   ]
  },
  {
   "cell_type": "code",
   "execution_count": null,
   "metadata": {
    "hide_input": false
   },
   "outputs": [],
   "source": [
    "update_nb_metadata('vision.models.ipynb',\n",
    "    keywords='fastai',\n",
    "    summary='Overview of the models used for CV in fastai',\n",
    "    title='vision.models')"
   ]
  },
  {
   "cell_type": "code",
   "execution_count": null,
   "metadata": {
    "hide_input": false
   },
   "outputs": [],
   "source": [
    "update_nb_metadata('gen_doc.sgen_notebooks.ipynb',\n",
    "    keywords='fastai',\n",
    "    summary='Script to generate notebooks and update html',\n",
    "    title='gen_doc.sgen_notebooks')"
   ]
  },
  {
   "cell_type": "code",
   "execution_count": null,
   "metadata": {
    "hide_input": false
   },
   "outputs": [],
   "source": [
    "update_nb_metadata('tabular.transform.ipynb',\n",
    "    summary='Transforms to clean and preprocess tabular data',\n",
    "    title='tabular.transform')"
   ]
  },
  {
   "cell_type": "code",
   "execution_count": null,
   "metadata": {
    "hide_input": false
   },
   "outputs": [],
   "source": [
    "update_nb_metadata('data.ipynb',\n",
    "    summary='Basic classes to contain the data for model training.',\n",
    "    title='data')"
   ]
  },
  {
   "cell_type": "code",
   "execution_count": null,
   "metadata": {
    "hide_input": false
   },
   "outputs": [],
   "source": [
    "update_nb_metadata('index.ipynb',\n",
    "    keywords='fastai',\n",
    "    toc='false', title='Welcome to fastai')"
   ]
  },
  {
   "cell_type": "code",
   "execution_count": null,
   "metadata": {
    "hide_input": false
   },
   "outputs": [],
   "source": [
    "update_nb_metadata('layers.ipynb',\n",
    "    summary='Provides essential functions to building and modifying `Model` architectures.',\n",
    "    title='layers')"
   ]
  },
  {
   "cell_type": "code",
   "execution_count": null,
   "metadata": {
    "hide_input": false
   },
   "outputs": [],
   "source": [
    "update_nb_metadata('tabular.ipynb',\n",
    "    keywords='fastai',\n",
    "    summary='Application to tabular/structured data',\n",
    "    title='tabular')"
   ]
  },
  {
   "cell_type": "code",
   "execution_count": null,
   "metadata": {
    "hide_input": false
   },
   "outputs": [],
   "source": [
    "update_nb_metadata('tmp.ipynb')"
   ]
  },
  {
   "cell_type": "code",
   "execution_count": null,
   "metadata": {
    "hide_input": false
   },
   "outputs": [],
   "source": [
    "update_nb_metadata('Untitled.ipynb')"
   ]
  },
  {
   "cell_type": "code",
   "execution_count": null,
   "metadata": {
    "hide_input": false
   },
   "outputs": [],
   "source": [
    "update_nb_metadata('basic_data.ipynb',\n",
    "    summary='Basic classes to contain the data for model training.',\n",
    "    title='data')"
   ]
  },
  {
   "cell_type": "code",
   "execution_count": null,
   "metadata": {
    "hide_input": false
   },
   "outputs": [],
   "source": [
    "update_nb_metadata('datasets.ipynb')"
   ]
  }
 ],
 "metadata": {
  "kernelspec": {
   "display_name": "Python 3",
   "language": "python",
   "name": "python3"
  }
 },
 "nbformat": 4,
 "nbformat_minor": 2
}
