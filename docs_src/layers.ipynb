{
 "cells": [
  {
   "cell_type": "markdown",
   "metadata": {},
   "source": [
    "# layers"
   ]
  },
  {
   "cell_type": "markdown",
   "metadata": {},
   "source": [
    "This module contains many layer classes that we might be interested in using in our models. These layers complement the default [Pytorch layers](https://pytorch.org/docs/stable/nn.html) which we can also use in our models."
   ]
  },
  {
   "cell_type": "code",
   "execution_count": 1,
   "metadata": {},
   "outputs": [],
   "source": [
    "from fastai.docs import *"
   ]
  },
  {
   "cell_type": "code",
   "execution_count": 4,
   "metadata": {},
   "outputs": [],
   "source": [
    "??get_mnist"
   ]
  },
  {
   "cell_type": "markdown",
   "metadata": {},
   "source": [
    "## AdaptiveConcatPool2d"
   ]
  },
  {
   "cell_type": "code",
   "execution_count": 4,
   "metadata": {
    "hide_input": true
   },
   "outputs": [],
   "source": [
    "from fastai.gen_doc.nbdoc import *\n",
    "from fastai.layers import * "
   ]
  },
  {
   "cell_type": "code",
   "execution_count": 7,
   "metadata": {},
   "outputs": [],
   "source": [
    "data = get_mnist()"
   ]
  },
  {
   "cell_type": "markdown",
   "metadata": {},
   "source": [
    "The [`AdaptiveConcatPool2d`](/layers.html#AdaptiveConcatPool2d) object uses adaptive average pooling and adaptive max pooling and concatenates them both. This is positive because it uses the information of both methods and improves performance. This technique is called `adaptive` because it allows us to decide on what output dimensions we want, instead of choosing the input's dimensions to fit a given desired output.\n",
    "\n",
    "Let's try training with Adaptive Average Pooling first, then with Adaptive Max Pooling and finally with the concatenation of them both to see how they fare in performance.\n",
    "\n",
    "We will first define a [`simple_cnn`](/layers.html#simple_cnn) using [Adapative Max Pooling](https://pytorch.org/docs/stable/nn.html#torch.nn.AdaptiveMaxPool2d)."
   ]
  },
  {
   "cell_type": "code",
   "execution_count": 6,
   "metadata": {},
   "outputs": [],
   "source": [
    "def simple_cnn(actns:Collection[int], kernel_szs:Collection[int]=None,\n",
    "               strides:Collection[int]=None) -> nn.Sequential:\n",
    "    \"CNN with `conv2d_relu` layers defined by `actns`, `kernel_szs` and `strides`\"\n",
    "    nl = len(actns)-1\n",
    "    kernel_szs = ifnone(kernel_szs, [3]*nl)\n",
    "    strides    = ifnone(strides   , [2]*nl)\n",
    "    layers = [conv2d_relu(actns[i], actns[i+1], kernel_szs[i], stride=strides[i])\n",
    "        for i in range(len(strides))]\n",
    "    layers.append(nn.Sequential(nn.AdaptiveMaxPool2d(1), Flatten()))\n",
    "    return nn.Sequential(*layers)"
   ]
  },
  {
   "cell_type": "code",
   "execution_count": 7,
   "metadata": {},
   "outputs": [
    {
     "data": {
      "application/vnd.jupyter.widget-view+json": {
       "model_id": "",
       "version_major": 2,
       "version_minor": 0
      },
      "text/plain": [
       "VBox(children=(HBox(children=(IntProgress(value=0, max=5), HTML(value=''))), HTML(value='epoch  train loss  va…"
      ]
     },
     "metadata": {},
     "output_type": "display_data"
    },
    {
     "name": "stdout",
     "output_type": "stream",
     "text": [
      "Total time: 00:27\n",
      "epoch  train loss  valid loss  accuracy\n",
      "0      0.083610    0.076819    0.976938  (00:05)\n",
      "1      0.046277    0.051196    0.984789  (00:05)\n",
      "2      0.029490    0.037488    0.987733  (00:05)\n",
      "3      0.027417    0.031515    0.986261  (00:05)\n",
      "4      0.021957    0.030983    0.987733  (00:05)\n",
      "\n"
     ]
    }
   ],
   "source": [
    "model = simple_cnn((3,16,16,2))\n",
    "learner = Learner(data, model, metrics=[accuracy])\n",
    "learner.fit(5)"
   ]
  },
  {
   "cell_type": "markdown",
   "metadata": {},
   "source": [
    "Now let's try with [Adapative Average Pooling](https://pytorch.org/docs/stable/nn.html#torch.nn.AdaptiveAvgPool2d) now."
   ]
  },
  {
   "cell_type": "code",
   "execution_count": 57,
   "metadata": {},
   "outputs": [],
   "source": [
    "def simple_cnn(actns:Collection[int], kernel_szs:Collection[int]=None,\n",
    "               strides:Collection[int]=None) -> nn.Sequential:\n",
    "    \"CNN with `conv2d_relu` layers defined by `actns`, `kernel_szs` and `strides`\"\n",
    "    nl = len(actns)-1\n",
    "    kernel_szs = ifnone(kernel_szs, [3]*nl)\n",
    "    strides    = ifnone(strides   , [2]*nl)\n",
    "    layers = [conv2d_relu(actns[i], actns[i+1], kernel_szs[i], stride=strides[i])\n",
    "        for i in range(len(strides))]\n",
    "    layers.append(nn.Sequential(nn.AdaptiveAvgPool2d(1), Flatten()))\n",
    "    return nn.Sequential(*layers)"
   ]
  },
  {
   "cell_type": "code",
   "execution_count": 58,
   "metadata": {},
   "outputs": [
    {
     "data": {
      "application/vnd.jupyter.widget-view+json": {
       "model_id": "",
       "version_major": 2,
       "version_minor": 0
      },
      "text/plain": [
       "VBox(children=(HBox(children=(IntProgress(value=0, max=5), HTML(value=''))), HTML(value='epoch  train loss  va…"
      ]
     },
     "metadata": {},
     "output_type": "display_data"
    },
    {
     "name": "stderr",
     "output_type": "stream",
     "text": [
      "Exception ignored in: <bound method _DataLoaderIter.__del__ of <torch.utils.data.dataloader._DataLoaderIter object at 0x7ff3006a4e80>>\n",
      "Traceback (most recent call last):\n",
      "  File \"/home/francisco/anaconda3/lib/python3.6/site-packages/torch/utils/data/dataloader.py\", line 412, in __del__\n",
      "    self._shutdown_workers()\n",
      "  File \"/home/francisco/anaconda3/lib/python3.6/site-packages/torch/utils/data/dataloader.py\", line 406, in _shutdown_workers\n",
      "    w.join()\n",
      "  File \"/home/francisco/anaconda3/lib/python3.6/multiprocessing/process.py\", line 122, in join\n",
      "    assert self._parent_pid == os.getpid(), 'can only join a child process'\n",
      "AssertionError: can only join a child process\n",
      "Exception ignored in: <bound method _DataLoaderIter.__del__ of <torch.utils.data.dataloader._DataLoaderIter object at 0x7ff3006a4e80>>\n",
      "Traceback (most recent call last):\n",
      "  File \"/home/francisco/anaconda3/lib/python3.6/site-packages/torch/utils/data/dataloader.py\", line 412, in __del__\n",
      "    self._shutdown_workers()\n",
      "  File \"/home/francisco/anaconda3/lib/python3.6/site-packages/torch/utils/data/dataloader.py\", line 406, in _shutdown_workers\n",
      "    w.join()\n",
      "  File \"/home/francisco/anaconda3/lib/python3.6/multiprocessing/process.py\", line 122, in join\n",
      "    assert self._parent_pid == os.getpid(), 'can only join a child process'\n",
      "AssertionError: can only join a child process\n",
      "Exception ignored in: <bound method _DataLoaderIter.__del__ of <torch.utils.data.dataloader._DataLoaderIter object at 0x7ff3006a4e80>>\n",
      "Traceback (most recent call last):\n",
      "  File \"/home/francisco/anaconda3/lib/python3.6/site-packages/torch/utils/data/dataloader.py\", line 412, in __del__\n",
      "    self._shutdown_workers()\n",
      "  File \"/home/francisco/anaconda3/lib/python3.6/site-packages/torch/utils/data/dataloader.py\", line 406, in _shutdown_workers\n",
      "    w.join()\n",
      "Exception ignored in: <bound method _DataLoaderIter.__del__ of <torch.utils.data.dataloader._DataLoaderIter object at 0x7ff3006a4e80>>\n",
      "  File \"/home/francisco/anaconda3/lib/python3.6/multiprocessing/process.py\", line 122, in join\n",
      "    assert self._parent_pid == os.getpid(), 'can only join a child process'\n",
      "AssertionError: can only join a child process\n",
      "Traceback (most recent call last):\n",
      "  File \"/home/francisco/anaconda3/lib/python3.6/site-packages/torch/utils/data/dataloader.py\", line 412, in __del__\n",
      "    self._shutdown_workers()\n",
      "  File \"/home/francisco/anaconda3/lib/python3.6/site-packages/torch/utils/data/dataloader.py\", line 406, in _shutdown_workers\n",
      "    w.join()\n",
      "  File \"/home/francisco/anaconda3/lib/python3.6/multiprocessing/process.py\", line 122, in join\n",
      "    assert self._parent_pid == os.getpid(), 'can only join a child process'\n",
      "AssertionError: can only join a child process\n",
      "Exception ignored in: <bound method _DataLoaderIter.__del__ of <torch.utils.data.dataloader._DataLoaderIter object at 0x7ff3006a4e80>>\n",
      "Traceback (most recent call last):\n",
      "  File \"/home/francisco/anaconda3/lib/python3.6/site-packages/torch/utils/data/dataloader.py\", line 412, in __del__\n",
      "    self._shutdown_workers()\n",
      "  File \"/home/francisco/anaconda3/lib/python3.6/site-packages/torch/utils/data/dataloader.py\", line 406, in _shutdown_workers\n",
      "    w.join()\n",
      "  File \"/home/francisco/anaconda3/lib/python3.6/multiprocessing/process.py\", line 122, in join\n",
      "    assert self._parent_pid == os.getpid(), 'can only join a child process'\n",
      "Exception ignored in: <bound method _DataLoaderIter.__del__ of <torch.utils.data.dataloader._DataLoaderIter object at 0x7ff3006a4e80>>\n",
      "Traceback (most recent call last):\n",
      "Exception ignored in: <bound method _DataLoaderIter.__del__ of <torch.utils.data.dataloader._DataLoaderIter object at 0x7ff3006a4e80>>\n",
      "Traceback (most recent call last):\n",
      "  File \"/home/francisco/anaconda3/lib/python3.6/site-packages/torch/utils/data/dataloader.py\", line 412, in __del__\n",
      "  File \"/home/francisco/anaconda3/lib/python3.6/site-packages/torch/utils/data/dataloader.py\", line 412, in __del__\n",
      "    self._shutdown_workers()\n",
      "  File \"/home/francisco/anaconda3/lib/python3.6/site-packages/torch/utils/data/dataloader.py\", line 406, in _shutdown_workers\n",
      "    w.join()\n",
      "AssertionError: can only join a child process\n",
      "    self._shutdown_workers()\n",
      "  File \"/home/francisco/anaconda3/lib/python3.6/site-packages/torch/utils/data/dataloader.py\", line 406, in _shutdown_workers\n",
      "    w.join()\n",
      "  File \"/home/francisco/anaconda3/lib/python3.6/multiprocessing/process.py\", line 122, in join\n",
      "  File \"/home/francisco/anaconda3/lib/python3.6/multiprocessing/process.py\", line 122, in join\n",
      "    assert self._parent_pid == os.getpid(), 'can only join a child process'\n",
      "AssertionError: can only join a child process\n",
      "    assert self._parent_pid == os.getpid(), 'can only join a child process'\n",
      "AssertionError: can only join a child process\n",
      "Exception ignored in: <bound method _DataLoaderIter.__del__ of <torch.utils.data.dataloader._DataLoaderIter object at 0x7ff3006a4e80>>\n",
      "Traceback (most recent call last):\n",
      "  File \"/home/francisco/anaconda3/lib/python3.6/site-packages/torch/utils/data/dataloader.py\", line 412, in __del__\n",
      "    self._shutdown_workers()\n",
      "  File \"/home/francisco/anaconda3/lib/python3.6/site-packages/torch/utils/data/dataloader.py\", line 406, in _shutdown_workers\n",
      "    w.join()\n",
      "  File \"/home/francisco/anaconda3/lib/python3.6/multiprocessing/process.py\", line 122, in join\n",
      "    assert self._parent_pid == os.getpid(), 'can only join a child process'\n",
      "AssertionError: can only join a child process\n",
      "Exception ignored in: <bound method _DataLoaderIter.__del__ of <torch.utils.data.dataloader._DataLoaderIter object at 0x7ff3006a4e80>>\n",
      "Traceback (most recent call last):\n",
      "  File \"/home/francisco/anaconda3/lib/python3.6/site-packages/torch/utils/data/dataloader.py\", line 412, in __del__\n",
      "Exception ignored in: <bound method _DataLoaderIter.__del__ of <torch.utils.data.dataloader._DataLoaderIter object at 0x7ff3006a4e80>>\n",
      "Traceback (most recent call last):\n",
      "  File \"/home/francisco/anaconda3/lib/python3.6/site-packages/torch/utils/data/dataloader.py\", line 412, in __del__\n",
      "    self._shutdown_workers()\n",
      "    self._shutdown_workers()\n",
      "  File \"/home/francisco/anaconda3/lib/python3.6/site-packages/torch/utils/data/dataloader.py\", line 406, in _shutdown_workers\n",
      "    w.join()\n",
      "  File \"/home/francisco/anaconda3/lib/python3.6/multiprocessing/process.py\", line 122, in join\n",
      "  File \"/home/francisco/anaconda3/lib/python3.6/site-packages/torch/utils/data/dataloader.py\", line 406, in _shutdown_workers\n",
      "    w.join()\n",
      "  File \"/home/francisco/anaconda3/lib/python3.6/multiprocessing/process.py\", line 122, in join\n",
      "    assert self._parent_pid == os.getpid(), 'can only join a child process'\n",
      "    assert self._parent_pid == os.getpid(), 'can only join a child process'\n",
      "AssertionError: can only join a child process\n",
      "Exception ignored in: <bound method _DataLoaderIter.__del__ of <torch.utils.data.dataloader._DataLoaderIter object at 0x7ff3006a4e80>>\n",
      "Traceback (most recent call last):\n",
      "  File \"/home/francisco/anaconda3/lib/python3.6/site-packages/torch/utils/data/dataloader.py\", line 412, in __del__\n",
      "    self._shutdown_workers()\n",
      "AssertionError: can only join a child process\n",
      "  File \"/home/francisco/anaconda3/lib/python3.6/site-packages/torch/utils/data/dataloader.py\", line 406, in _shutdown_workers\n",
      "    w.join()\n",
      "Exception ignored in: <bound method _DataLoaderIter.__del__ of <torch.utils.data.dataloader._DataLoaderIter object at 0x7ff3006a4e80>>\n",
      "Traceback (most recent call last):\n",
      "  File \"/home/francisco/anaconda3/lib/python3.6/site-packages/torch/utils/data/dataloader.py\", line 412, in __del__\n",
      "  File \"/home/francisco/anaconda3/lib/python3.6/multiprocessing/process.py\", line 122, in join\n",
      "    assert self._parent_pid == os.getpid(), 'can only join a child process'\n",
      "    self._shutdown_workers()\n",
      "  File \"/home/francisco/anaconda3/lib/python3.6/site-packages/torch/utils/data/dataloader.py\", line 406, in _shutdown_workers\n",
      "    w.join()\n",
      "  File \"/home/francisco/anaconda3/lib/python3.6/multiprocessing/process.py\", line 122, in join\n",
      "    assert self._parent_pid == os.getpid(), 'can only join a child process'\n",
      "AssertionError: can only join a child process\n",
      "AssertionError: can only join a child process\n",
      "Exception ignored in: <bound method _DataLoaderIter.__del__ of <torch.utils.data.dataloader._DataLoaderIter object at 0x7ff3006a4e80>>\n",
      "Traceback (most recent call last):\n"
     ]
    },
    {
     "name": "stderr",
     "output_type": "stream",
     "text": [
      "  File \"/home/francisco/anaconda3/lib/python3.6/site-packages/torch/utils/data/dataloader.py\", line 412, in __del__\n",
      "    self._shutdown_workers()\n",
      "  File \"/home/francisco/anaconda3/lib/python3.6/site-packages/torch/utils/data/dataloader.py\", line 406, in _shutdown_workers\n",
      "    w.join()\n",
      "  File \"/home/francisco/anaconda3/lib/python3.6/multiprocessing/process.py\", line 122, in join\n",
      "    assert self._parent_pid == os.getpid(), 'can only join a child process'\n",
      "AssertionError: can only join a child process\n",
      "Exception ignored in: <bound method _DataLoaderIter.__del__ of <torch.utils.data.dataloader._DataLoaderIter object at 0x7ff3006a4e80>>\n",
      "Traceback (most recent call last):\n",
      "  File \"/home/francisco/anaconda3/lib/python3.6/site-packages/torch/utils/data/dataloader.py\", line 412, in __del__\n",
      "Exception ignored in: <bound method _DataLoaderIter.__del__ of <torch.utils.data.dataloader._DataLoaderIter object at 0x7ff3006a4e80>>\n",
      "    self._shutdown_workers()\n",
      "Traceback (most recent call last):\n",
      "  File \"/home/francisco/anaconda3/lib/python3.6/site-packages/torch/utils/data/dataloader.py\", line 412, in __del__\n",
      "  File \"/home/francisco/anaconda3/lib/python3.6/site-packages/torch/utils/data/dataloader.py\", line 406, in _shutdown_workers\n",
      "    self._shutdown_workers()\n",
      "    w.join()\n",
      "  File \"/home/francisco/anaconda3/lib/python3.6/site-packages/torch/utils/data/dataloader.py\", line 406, in _shutdown_workers\n",
      "  File \"/home/francisco/anaconda3/lib/python3.6/multiprocessing/process.py\", line 122, in join\n",
      "    w.join()\n",
      "    assert self._parent_pid == os.getpid(), 'can only join a child process'\n",
      "  File \"/home/francisco/anaconda3/lib/python3.6/multiprocessing/process.py\", line 122, in join\n",
      "Exception ignored in: <bound method _DataLoaderIter.__del__ of <torch.utils.data.dataloader._DataLoaderIter object at 0x7ff3006a4e80>>\n",
      "    assert self._parent_pid == os.getpid(), 'can only join a child process'\n",
      "Traceback (most recent call last):\n",
      "  File \"/home/francisco/anaconda3/lib/python3.6/site-packages/torch/utils/data/dataloader.py\", line 412, in __del__\n",
      "AssertionError: can only join a child process\n",
      "    self._shutdown_workers()\n",
      "AssertionError: can only join a child process\n",
      "  File \"/home/francisco/anaconda3/lib/python3.6/site-packages/torch/utils/data/dataloader.py\", line 406, in _shutdown_workers\n",
      "    w.join()\n",
      "  File \"/home/francisco/anaconda3/lib/python3.6/multiprocessing/process.py\", line 122, in join\n",
      "    assert self._parent_pid == os.getpid(), 'can only join a child process'\n",
      "AssertionError: can only join a child process\n"
     ]
    },
    {
     "name": "stdout",
     "output_type": "stream",
     "text": [
      "Total time: 00:27\n",
      "epoch  train loss  valid loss  accuracy\n",
      "0      0.154510    0.136999    0.948970  (00:05)\n",
      "1      0.106303    0.090356    0.969578  (00:05)\n",
      "2      0.076875    0.066036    0.978901  (00:05)\n",
      "3      0.059066    0.043986    0.982826  (00:05)\n",
      "4      0.051543    0.039275    0.986752  (00:05)\n",
      "\n"
     ]
    }
   ],
   "source": [
    "model = simple_cnn((3,16,16,2))\n",
    "learner = Learner(data, model, metrics=[accuracy])\n",
    "learner.fit(5)"
   ]
  },
  {
   "cell_type": "markdown",
   "metadata": {},
   "source": [
    "Finally we will try with the concatenation of them both [`AdaptiveConcatPool2d`](/layers.html#AdaptiveConcatPool2d). We will see that, in fact, it increases our accuracy and decreases our loss considerably!"
   ]
  },
  {
   "cell_type": "code",
   "execution_count": 60,
   "metadata": {},
   "outputs": [],
   "source": [
    "def simple_cnn(actns:Collection[int], kernel_szs:Collection[int]=None,\n",
    "               strides:Collection[int]=None) -> nn.Sequential:\n",
    "    \"CNN with `conv2d_relu` layers defined by `actns`, `kernel_szs` and `strides`\"\n",
    "    nl = len(actns)-1\n",
    "    kernel_szs = ifnone(kernel_szs, [3]*nl)\n",
    "    strides    = ifnone(strides   , [2]*nl)\n",
    "    layers = [conv2d_relu(actns[i], actns[i+1], kernel_szs[i], stride=strides[i])\n",
    "        for i in range(len(strides))]\n",
    "    layers.append(nn.Sequential(AdaptiveConcatPool2d(1), Flatten()))\n",
    "    return nn.Sequential(*layers)"
   ]
  },
  {
   "cell_type": "code",
   "execution_count": 61,
   "metadata": {
    "scrolled": false
   },
   "outputs": [
    {
     "data": {
      "application/vnd.jupyter.widget-view+json": {
       "model_id": "",
       "version_major": 2,
       "version_minor": 0
      },
      "text/plain": [
       "VBox(children=(HBox(children=(IntProgress(value=0, max=5), HTML(value=''))), HTML(value='epoch  train loss  va…"
      ]
     },
     "metadata": {},
     "output_type": "display_data"
    },
    {
     "name": "stderr",
     "output_type": "stream",
     "text": [
      "Exception ignored in: <bound method _DataLoaderIter.__del__ of <torch.utils.data.dataloader._DataLoaderIter object at 0x7ff3006a4e80>>\n",
      "Traceback (most recent call last):\n",
      "  File \"/home/francisco/anaconda3/lib/python3.6/site-packages/torch/utils/data/dataloader.py\", line 412, in __del__\n",
      "    self._shutdown_workers()\n",
      "  File \"/home/francisco/anaconda3/lib/python3.6/site-packages/torch/utils/data/dataloader.py\", line 406, in _shutdown_workers\n",
      "    w.join()\n",
      "  File \"/home/francisco/anaconda3/lib/python3.6/multiprocessing/process.py\", line 122, in join\n",
      "    assert self._parent_pid == os.getpid(), 'can only join a child process'\n",
      "AssertionError: can only join a child process\n",
      "Exception ignored in: <bound method _DataLoaderIter.__del__ of <torch.utils.data.dataloader._DataLoaderIter object at 0x7ff3006a4e80>>\n",
      "Exception ignored in: <bound method _DataLoaderIter.__del__ of <torch.utils.data.dataloader._DataLoaderIter object at 0x7ff3006a4e80>>\n",
      "Traceback (most recent call last):\n",
      "  File \"/home/francisco/anaconda3/lib/python3.6/site-packages/torch/utils/data/dataloader.py\", line 412, in __del__\n",
      "Traceback (most recent call last):\n",
      "    self._shutdown_workers()\n",
      "  File \"/home/francisco/anaconda3/lib/python3.6/site-packages/torch/utils/data/dataloader.py\", line 412, in __del__\n",
      "  File \"/home/francisco/anaconda3/lib/python3.6/site-packages/torch/utils/data/dataloader.py\", line 406, in _shutdown_workers\n",
      "    self._shutdown_workers()\n",
      "    w.join()\n",
      "  File \"/home/francisco/anaconda3/lib/python3.6/multiprocessing/process.py\", line 122, in join\n",
      "  File \"/home/francisco/anaconda3/lib/python3.6/site-packages/torch/utils/data/dataloader.py\", line 406, in _shutdown_workers\n",
      "    assert self._parent_pid == os.getpid(), 'can only join a child process'\n",
      "AssertionError: can only join a child process\n",
      "    w.join()\n",
      "Exception ignored in: <bound method _DataLoaderIter.__del__ of <torch.utils.data.dataloader._DataLoaderIter object at 0x7ff3006a4e80>>\n",
      "  File \"/home/francisco/anaconda3/lib/python3.6/multiprocessing/process.py\", line 122, in join\n",
      "    assert self._parent_pid == os.getpid(), 'can only join a child process'\n",
      "Traceback (most recent call last):\n",
      "AssertionError: can only join a child process\n",
      "  File \"/home/francisco/anaconda3/lib/python3.6/site-packages/torch/utils/data/dataloader.py\", line 412, in __del__\n",
      "    self._shutdown_workers()\n",
      "  File \"/home/francisco/anaconda3/lib/python3.6/site-packages/torch/utils/data/dataloader.py\", line 406, in _shutdown_workers\n",
      "    w.join()\n",
      "  File \"/home/francisco/anaconda3/lib/python3.6/multiprocessing/process.py\", line 122, in join\n",
      "    assert self._parent_pid == os.getpid(), 'can only join a child process'\n",
      "AssertionError: can only join a child process\n",
      "Exception ignored in: <bound method _DataLoaderIter.__del__ of <torch.utils.data.dataloader._DataLoaderIter object at 0x7ff3006a4e80>>\n",
      "Traceback (most recent call last):\n",
      "  File \"/home/francisco/anaconda3/lib/python3.6/site-packages/torch/utils/data/dataloader.py\", line 412, in __del__\n",
      "    self._shutdown_workers()\n",
      "  File \"/home/francisco/anaconda3/lib/python3.6/site-packages/torch/utils/data/dataloader.py\", line 406, in _shutdown_workers\n",
      "    w.join()\n",
      "  File \"/home/francisco/anaconda3/lib/python3.6/multiprocessing/process.py\", line 122, in join\n",
      "    assert self._parent_pid == os.getpid(), 'can only join a child process'\n",
      "AssertionError: can only join a child process\n",
      "Exception ignored in: <bound method _DataLoaderIter.__del__ of <torch.utils.data.dataloader._DataLoaderIter object at 0x7ff3006a4e80>>\n",
      "Traceback (most recent call last):\n",
      "  File \"/home/francisco/anaconda3/lib/python3.6/site-packages/torch/utils/data/dataloader.py\", line 412, in __del__\n",
      "    self._shutdown_workers()\n",
      "  File \"/home/francisco/anaconda3/lib/python3.6/site-packages/torch/utils/data/dataloader.py\", line 406, in _shutdown_workers\n",
      "    w.join()\n",
      "Exception ignored in: <bound method _DataLoaderIter.__del__ of <torch.utils.data.dataloader._DataLoaderIter object at 0x7ff3006a4e80>>\n",
      "  File \"/home/francisco/anaconda3/lib/python3.6/multiprocessing/process.py\", line 122, in join\n",
      "Exception ignored in: <bound method _DataLoaderIter.__del__ of <torch.utils.data.dataloader._DataLoaderIter object at 0x7ff3006a4e80>>\n",
      "    assert self._parent_pid == os.getpid(), 'can only join a child process'\n",
      "Traceback (most recent call last):\n",
      "Traceback (most recent call last):\n",
      "AssertionError: can only join a child process\n",
      "  File \"/home/francisco/anaconda3/lib/python3.6/site-packages/torch/utils/data/dataloader.py\", line 412, in __del__\n",
      "    self._shutdown_workers()\n",
      "  File \"/home/francisco/anaconda3/lib/python3.6/site-packages/torch/utils/data/dataloader.py\", line 406, in _shutdown_workers\n",
      "    w.join()\n",
      "  File \"/home/francisco/anaconda3/lib/python3.6/multiprocessing/process.py\", line 122, in join\n",
      "    assert self._parent_pid == os.getpid(), 'can only join a child process'\n",
      "AssertionError: can only join a child process\n",
      "  File \"/home/francisco/anaconda3/lib/python3.6/site-packages/torch/utils/data/dataloader.py\", line 412, in __del__\n",
      "    self._shutdown_workers()\n",
      "  File \"/home/francisco/anaconda3/lib/python3.6/site-packages/torch/utils/data/dataloader.py\", line 406, in _shutdown_workers\n",
      "    w.join()\n",
      "  File \"/home/francisco/anaconda3/lib/python3.6/multiprocessing/process.py\", line 122, in join\n",
      "    assert self._parent_pid == os.getpid(), 'can only join a child process'\n",
      "AssertionError: can only join a child process\n",
      "Exception ignored in: <bound method _DataLoaderIter.__del__ of <torch.utils.data.dataloader._DataLoaderIter object at 0x7ff3006a4e80>>\n",
      "Traceback (most recent call last):\n",
      "  File \"/home/francisco/anaconda3/lib/python3.6/site-packages/torch/utils/data/dataloader.py\", line 412, in __del__\n",
      "    self._shutdown_workers()\n",
      "  File \"/home/francisco/anaconda3/lib/python3.6/site-packages/torch/utils/data/dataloader.py\", line 406, in _shutdown_workers\n",
      "    w.join()\n",
      "  File \"/home/francisco/anaconda3/lib/python3.6/multiprocessing/process.py\", line 122, in join\n",
      "    assert self._parent_pid == os.getpid(), 'can only join a child process'\n",
      "AssertionError: can only join a child process\n",
      "Exception ignored in: <bound method _DataLoaderIter.__del__ of <torch.utils.data.dataloader._DataLoaderIter object at 0x7ff3006a4e80>>\n",
      "Exception ignored in: <bound method _DataLoaderIter.__del__ of <torch.utils.data.dataloader._DataLoaderIter object at 0x7ff3006a4e80>>\n",
      "Traceback (most recent call last):\n",
      "Traceback (most recent call last):\n",
      "  File \"/home/francisco/anaconda3/lib/python3.6/site-packages/torch/utils/data/dataloader.py\", line 412, in __del__\n",
      "    self._shutdown_workers()\n",
      "  File \"/home/francisco/anaconda3/lib/python3.6/site-packages/torch/utils/data/dataloader.py\", line 406, in _shutdown_workers\n",
      "    w.join()\n",
      "  File \"/home/francisco/anaconda3/lib/python3.6/site-packages/torch/utils/data/dataloader.py\", line 412, in __del__\n",
      "  File \"/home/francisco/anaconda3/lib/python3.6/multiprocessing/process.py\", line 122, in join\n",
      "    self._shutdown_workers()\n",
      "    assert self._parent_pid == os.getpid(), 'can only join a child process'\n",
      "  File \"/home/francisco/anaconda3/lib/python3.6/site-packages/torch/utils/data/dataloader.py\", line 406, in _shutdown_workers\n",
      "AssertionError: can only join a child process\n",
      "    w.join()\n",
      "  File \"/home/francisco/anaconda3/lib/python3.6/multiprocessing/process.py\", line 122, in join\n",
      "    assert self._parent_pid == os.getpid(), 'can only join a child process'\n",
      "Exception ignored in: <bound method _DataLoaderIter.__del__ of <torch.utils.data.dataloader._DataLoaderIter object at 0x7ff3006a4e80>>\n",
      "Traceback (most recent call last):\n",
      "  File \"/home/francisco/anaconda3/lib/python3.6/site-packages/torch/utils/data/dataloader.py\", line 412, in __del__\n",
      "AssertionError: can only join a child process\n",
      "    self._shutdown_workers()\n",
      "  File \"/home/francisco/anaconda3/lib/python3.6/site-packages/torch/utils/data/dataloader.py\", line 406, in _shutdown_workers\n",
      "    w.join()\n",
      "  File \"/home/francisco/anaconda3/lib/python3.6/multiprocessing/process.py\", line 122, in join\n",
      "    assert self._parent_pid == os.getpid(), 'can only join a child process'\n",
      "AssertionError: can only join a child process\n",
      "Exception ignored in: <bound method _DataLoaderIter.__del__ of <torch.utils.data.dataloader._DataLoaderIter object at 0x7ff3006a4e80>>\n",
      "Traceback (most recent call last):\n"
     ]
    },
    {
     "name": "stderr",
     "output_type": "stream",
     "text": [
      "  File \"/home/francisco/anaconda3/lib/python3.6/site-packages/torch/utils/data/dataloader.py\", line 412, in __del__\n",
      "    self._shutdown_workers()\n",
      "  File \"/home/francisco/anaconda3/lib/python3.6/site-packages/torch/utils/data/dataloader.py\", line 406, in _shutdown_workers\n",
      "    w.join()\n",
      "  File \"/home/francisco/anaconda3/lib/python3.6/multiprocessing/process.py\", line 122, in join\n",
      "Exception ignored in: <bound method _DataLoaderIter.__del__ of <torch.utils.data.dataloader._DataLoaderIter object at 0x7ff3006a4e80>>\n",
      "Traceback (most recent call last):\n",
      "    assert self._parent_pid == os.getpid(), 'can only join a child process'\n",
      "AssertionError: can only join a child process\n",
      "  File \"/home/francisco/anaconda3/lib/python3.6/site-packages/torch/utils/data/dataloader.py\", line 412, in __del__\n",
      "    self._shutdown_workers()\n",
      "  File \"/home/francisco/anaconda3/lib/python3.6/site-packages/torch/utils/data/dataloader.py\", line 406, in _shutdown_workers\n",
      "    w.join()\n",
      "  File \"/home/francisco/anaconda3/lib/python3.6/multiprocessing/process.py\", line 122, in join\n",
      "    assert self._parent_pid == os.getpid(), 'can only join a child process'\n",
      "AssertionError: can only join a child process\n",
      "Exception ignored in: <bound method _DataLoaderIter.__del__ of <torch.utils.data.dataloader._DataLoaderIter object at 0x7ff3006a4e80>>\n",
      "Traceback (most recent call last):\n",
      "Exception ignored in: <bound method _DataLoaderIter.__del__ of <torch.utils.data.dataloader._DataLoaderIter object at 0x7ff3006a4e80>>\n",
      "  File \"/home/francisco/anaconda3/lib/python3.6/site-packages/torch/utils/data/dataloader.py\", line 412, in __del__\n",
      "    self._shutdown_workers()\n",
      "Traceback (most recent call last):\n",
      "  File \"/home/francisco/anaconda3/lib/python3.6/site-packages/torch/utils/data/dataloader.py\", line 406, in _shutdown_workers\n",
      "    w.join()\n",
      "  File \"/home/francisco/anaconda3/lib/python3.6/site-packages/torch/utils/data/dataloader.py\", line 412, in __del__\n",
      "  File \"/home/francisco/anaconda3/lib/python3.6/multiprocessing/process.py\", line 122, in join\n",
      "    self._shutdown_workers()\n",
      "    assert self._parent_pid == os.getpid(), 'can only join a child process'\n",
      "AssertionError: can only join a child process\n",
      "  File \"/home/francisco/anaconda3/lib/python3.6/site-packages/torch/utils/data/dataloader.py\", line 406, in _shutdown_workers\n",
      "    w.join()\n",
      "  File \"/home/francisco/anaconda3/lib/python3.6/multiprocessing/process.py\", line 122, in join\n",
      "    assert self._parent_pid == os.getpid(), 'can only join a child process'\n",
      "AssertionError: can only join a child process\n",
      "Exception ignored in: <bound method _DataLoaderIter.__del__ of <torch.utils.data.dataloader._DataLoaderIter object at 0x7ff3006a4e80>>\n",
      "Traceback (most recent call last):\n",
      "  File \"/home/francisco/anaconda3/lib/python3.6/site-packages/torch/utils/data/dataloader.py\", line 412, in __del__\n",
      "    self._shutdown_workers()\n",
      "  File \"/home/francisco/anaconda3/lib/python3.6/site-packages/torch/utils/data/dataloader.py\", line 406, in _shutdown_workers\n",
      "    w.join()\n",
      "  File \"/home/francisco/anaconda3/lib/python3.6/multiprocessing/process.py\", line 122, in join\n",
      "    assert self._parent_pid == os.getpid(), 'can only join a child process'\n",
      "AssertionError: can only join a child process\n",
      "Exception ignored in: <bound method _DataLoaderIter.__del__ of <torch.utils.data.dataloader._DataLoaderIter object at 0x7ff3006a4e80>>\n",
      "Exception ignored in: <bound method _DataLoaderIter.__del__ of <torch.utils.data.dataloader._DataLoaderIter object at 0x7ff3006a4e80>>\n",
      "Traceback (most recent call last):\n",
      "Traceback (most recent call last):\n",
      "  File \"/home/francisco/anaconda3/lib/python3.6/site-packages/torch/utils/data/dataloader.py\", line 412, in __del__\n",
      "    self._shutdown_workers()\n",
      "  File \"/home/francisco/anaconda3/lib/python3.6/site-packages/torch/utils/data/dataloader.py\", line 406, in _shutdown_workers\n",
      "Exception ignored in: <bound method _DataLoaderIter.__del__ of <torch.utils.data.dataloader._DataLoaderIter object at 0x7ff3006a4e80>>\n",
      "    w.join()\n",
      "Traceback (most recent call last):\n",
      "  File \"/home/francisco/anaconda3/lib/python3.6/site-packages/torch/utils/data/dataloader.py\", line 412, in __del__\n",
      "    self._shutdown_workers()\n",
      "  File \"/home/francisco/anaconda3/lib/python3.6/multiprocessing/process.py\", line 122, in join\n",
      "  File \"/home/francisco/anaconda3/lib/python3.6/site-packages/torch/utils/data/dataloader.py\", line 412, in __del__\n",
      "    assert self._parent_pid == os.getpid(), 'can only join a child process'\n",
      "  File \"/home/francisco/anaconda3/lib/python3.6/site-packages/torch/utils/data/dataloader.py\", line 406, in _shutdown_workers\n",
      "    self._shutdown_workers()\n",
      "  File \"/home/francisco/anaconda3/lib/python3.6/site-packages/torch/utils/data/dataloader.py\", line 406, in _shutdown_workers\n",
      "AssertionError: can only join a child process\n",
      "    w.join()\n",
      "  File \"/home/francisco/anaconda3/lib/python3.6/multiprocessing/process.py\", line 122, in join\n",
      "    w.join()\n",
      "    assert self._parent_pid == os.getpid(), 'can only join a child process'\n",
      "  File \"/home/francisco/anaconda3/lib/python3.6/multiprocessing/process.py\", line 122, in join\n",
      "    assert self._parent_pid == os.getpid(), 'can only join a child process'\n",
      "AssertionError: can only join a child process\n",
      "AssertionError: can only join a child process\n"
     ]
    },
    {
     "name": "stdout",
     "output_type": "stream",
     "text": [
      "Total time: 00:27\n",
      "epoch  train loss  valid loss  accuracy\n",
      "0      0.083039    0.062286    0.978410  (00:05)\n",
      "1      0.050831    0.043394    0.987733  (00:05)\n",
      "2      0.031640    0.027480    0.991659  (00:05)\n",
      "3      0.025538    0.025393    0.991168  (00:05)\n",
      "4      0.025177    0.017456    0.992640  (00:05)\n",
      "\n"
     ]
    }
   ],
   "source": [
    "model = simple_cnn((3,16,16,2))\n",
    "learner = Learner(data, model, metrics=[accuracy])\n",
    "learner.fit(5)"
   ]
  },
  {
   "cell_type": "markdown",
   "metadata": {},
   "source": [
    "## Lambda"
   ]
  },
  {
   "cell_type": "markdown",
   "metadata": {},
   "source": [
    "Lambda allows us to define functions and use them as layers in our networks inside a [Sequential](https://pytorch.org/docs/stable/nn.html#torch.nn.Sequential) object. \n",
    "\n",
    "So, for example, say we want to apply a [log_softmax loss](https://pytorch.org/docs/stable/nn.html#torch.nn.functional.log_softmax) and we need to change the shape of our output batches we can add a layer that applies this change by calling:\n",
    "\n",
    "`Lambda(lambda x: x.view(x.size(0),-1))`\n",
    "\n",
    "This is actually how we built the [`Flatten`](/layers.html#flatten) layer, which you can inspect by calling `??Flatten`.\n",
    "\n",
    "Let's see an example of how the shape of our output can change when we add this layer."
   ]
  },
  {
   "cell_type": "code",
   "execution_count": 62,
   "metadata": {},
   "outputs": [
    {
     "name": "stdout",
     "output_type": "stream",
     "text": [
      "torch.Size([64, 10, 1, 1])\n"
     ]
    }
   ],
   "source": [
    "model = nn.Sequential(\n",
    "    nn.Conv2d(3,  16, kernel_size=3, stride=2, padding=1), nn.ReLU(),\n",
    "    nn.Conv2d(16, 16, kernel_size=3, stride=2, padding=1), nn.ReLU(),\n",
    "    nn.Conv2d(16, 10, kernel_size=3, stride=2, padding=1), nn.ReLU(),\n",
    "    nn.AdaptiveAvgPool2d(1),\n",
    ")\n",
    "\n",
    "model.cuda()\n",
    "\n",
    "for xb, yb in data.train_dl:\n",
    "    out = (model(*[xb]))\n",
    "    print(out.size())\n",
    "    break"
   ]
  },
  {
   "cell_type": "code",
   "execution_count": 61,
   "metadata": {},
   "outputs": [
    {
     "name": "stdout",
     "output_type": "stream",
     "text": [
      "torch.Size([64, 10])\n"
     ]
    }
   ],
   "source": [
    "model = nn.Sequential(\n",
    "    nn.Conv2d(3,  16, kernel_size=3, stride=2, padding=1), nn.ReLU(),\n",
    "    nn.Conv2d(16, 16, kernel_size=3, stride=2, padding=1), nn.ReLU(),\n",
    "    nn.Conv2d(16, 10, kernel_size=3, stride=2, padding=1), nn.ReLU(),\n",
    "    nn.AdaptiveAvgPool2d(1),\n",
    "    Lambda(lambda x: x.view(x.size(0),-1))\n",
    ")\n",
    "\n",
    "model.cuda()\n",
    "\n",
    "for xb, yb in data.train_dl:\n",
    "    out = (model(*[xb]))\n",
    "    print(out.size())\n",
    "    break"
   ]
  },
  {
   "cell_type": "markdown",
   "metadata": {},
   "source": [
    "We can combine these two final layers ([AdaptiveAvgPool2d](https://pytorch.org/docs/stable/nn.html#torch.nn.AdaptiveAvgPool2d) and [`Flatten`](/layers.html#flatten)) by using [`Pool Flatten`](/layers.html#Pool Flatten)."
   ]
  },
  {
   "cell_type": "code",
   "execution_count": 68,
   "metadata": {},
   "outputs": [
    {
     "name": "stdout",
     "output_type": "stream",
     "text": [
      "torch.Size([64, 10])\n"
     ]
    }
   ],
   "source": [
    "model = nn.Sequential(\n",
    "    nn.Conv2d(3,  16, kernel_size=3, stride=2, padding=1), nn.ReLU(),\n",
    "    nn.Conv2d(16, 16, kernel_size=3, stride=2, padding=1), nn.ReLU(),\n",
    "    nn.Conv2d(16, 10, kernel_size=3, stride=2, padding=1), nn.ReLU(),\n",
    "    PoolFlatten()\n",
    ")\n",
    "\n",
    "model.cuda()\n",
    "\n",
    "for xb, yb in data.train_dl:\n",
    "    out = (model(*[xb]))\n",
    "    print(out.size())\n",
    "    break"
   ]
  },
  {
   "cell_type": "markdown",
   "metadata": {},
   "source": [
    "Another use we give to the Lambda function is to resize batches with [`ResizeBatch`](/layers.html#ResizeBatch) when we have a layer that expects a different input than what comes from the previous one. Let's see an example:"
   ]
  },
  {
   "cell_type": "code",
   "execution_count": 85,
   "metadata": {},
   "outputs": [
    {
     "name": "stdout",
     "output_type": "stream",
     "text": [
      "tensor([[ 1., -1.],\n",
      "        [ 1., -1.]])\n"
     ]
    }
   ],
   "source": [
    "a = torch.tensor([[1., -1.], [1., -1.]])\n",
    "print(a)"
   ]
  },
  {
   "cell_type": "code",
   "execution_count": 86,
   "metadata": {},
   "outputs": [
    {
     "name": "stdout",
     "output_type": "stream",
     "text": [
      "tensor([[ 1., -1.,  1., -1.]])\n"
     ]
    }
   ],
   "source": [
    "out = ResizeBatch(4)\n",
    "print(out(a))"
   ]
  },
  {
   "cell_type": "code",
   "execution_count": 13,
   "metadata": {
    "hide_input": true
   },
   "outputs": [
    {
     "data": {
      "text/markdown": [
       "## <a id=AdaptiveConcatPool2d></a>`class` `AdaptiveConcatPool2d`\n",
       "> `AdaptiveConcatPool2d`(`sz`:`Optional`\\[`int`\\]=`None`) :: [`Module`](https://pytorch.org/docs/stable/nn.html#torch.nn.Module)\n",
       "\n",
       "\n",
       "Layer that concats `AdaptiveAvgPool2d` and `AdaptiveMaxPool2d` <a href=\"https://github.com/fastai/fastai/blob/master/fastai/layers.py#L60\">[source]</a>"
      ],
      "text/plain": [
       "<IPython.core.display.Markdown object>"
      ]
     },
     "metadata": {},
     "output_type": "display_data"
    }
   ],
   "source": [
    "show_doc(AdaptiveConcatPool2d)"
   ]
  },
  {
   "cell_type": "markdown",
   "metadata": {},
   "source": [
    "[`AdaptiveConcatPool2d`](/layers.html#AdaptiveConcatPool2d)"
   ]
  },
  {
   "cell_type": "code",
   "execution_count": 14,
   "metadata": {
    "hide_input": true
   },
   "outputs": [
    {
     "data": {
      "text/markdown": [
       "#### <a id=forward></a>`forward`\n",
       "> `forward`(`x`)\n",
       "\n",
       "\n",
       "Should be overridden by all subclasses.\n",
       "\n",
       ".. note::\n",
       "    Although the recipe for forward pass needs to be defined within\n",
       "    this function, one should call the :class:`Module` instance afterwards\n",
       "    instead of this since the former takes care of running the\n",
       "    registered hooks while the latter silently ignores them. <a href=\"https://github.com/fastai/fastai/blob/master/fastai/layers.py#L67\">[source]</a>"
      ],
      "text/plain": [
       "<IPython.core.display.Markdown object>"
      ]
     },
     "metadata": {},
     "output_type": "display_data"
    }
   ],
   "source": [
    "show_doc(AdaptiveConcatPool2d.forward)"
   ]
  },
  {
   "cell_type": "markdown",
   "metadata": {},
   "source": [
    "`AdaptiveConcatPool2d.forward`"
   ]
  },
  {
   "cell_type": "code",
   "execution_count": 15,
   "metadata": {
    "hide_input": true
   },
   "outputs": [
    {
     "data": {
      "text/markdown": [
       "## <a id=CrossEntropyFlat></a>`class` `CrossEntropyFlat`\n",
       "> `CrossEntropyFlat`(`weight`=`None`, `size_average`=`None`, `ignore_index`=`-100`, `reduce`=`None`, `reduction`=`'elementwise_mean'`) :: [`CrossEntropyLoss`](https://pytorch.org/docs/stable/nn.html#torch.nn.CrossEntropyLoss)\n",
       "\n",
       "\n",
       "Same as `nn.CrossEntropyLoss`, but flattens input and target <a href=\"https://github.com/fastai/fastai/blob/master/fastai/layers.py#L93\">[source]</a>"
      ],
      "text/plain": [
       "<IPython.core.display.Markdown object>"
      ]
     },
     "metadata": {},
     "output_type": "display_data"
    }
   ],
   "source": [
    "show_doc(CrossEntropyFlat)"
   ]
  },
  {
   "cell_type": "markdown",
   "metadata": {},
   "source": [
    "[`CrossEntropyFlat`](/layers.html#CrossEntropyFlat)"
   ]
  },
  {
   "cell_type": "code",
   "execution_count": 16,
   "metadata": {
    "hide_input": true
   },
   "outputs": [
    {
     "data": {
      "text/markdown": [
       "#### <a id=forward></a>`forward`\n",
       "> `forward`(`input`:`Tensor`, `target`:`Tensor`) -> `Rank0Tensor`\n",
       "\n",
       "\n",
       "Should be overridden by all subclasses.\n",
       "\n",
       ".. note::\n",
       "    Although the recipe for forward pass needs to be defined within\n",
       "    this function, one should call the :class:`Module` instance afterwards\n",
       "    instead of this since the former takes care of running the\n",
       "    registered hooks while the latter silently ignores them. <a href=\"https://github.com/fastai/fastai/blob/master/fastai/layers.py#L95\">[source]</a>"
      ],
      "text/plain": [
       "<IPython.core.display.Markdown object>"
      ]
     },
     "metadata": {},
     "output_type": "display_data"
    }
   ],
   "source": [
    "show_doc(CrossEntropyFlat.forward)"
   ]
  },
  {
   "cell_type": "markdown",
   "metadata": {},
   "source": [
    "`CrossEntropyFlat.forward`"
   ]
  },
  {
   "cell_type": "code",
   "execution_count": 17,
   "metadata": {
    "hide_input": true
   },
   "outputs": [
    {
     "data": {
      "text/markdown": [
       "## <a id=Debugger></a>`class` `Debugger`\n",
       "> `Debugger`() :: [`Module`](https://pytorch.org/docs/stable/nn.html#torch.nn.Module)\n",
       "\n",
       "\n",
       "A module to debug inside a model <a href=\"https://github.com/fastai/fastai/blob/master/fastai/layers.py#L69\">[source]</a>"
      ],
      "text/plain": [
       "<IPython.core.display.Markdown object>"
      ]
     },
     "metadata": {},
     "output_type": "display_data"
    }
   ],
   "source": [
    "show_doc(Debugger)"
   ]
  },
  {
   "cell_type": "markdown",
   "metadata": {},
   "source": [
    "[`Debugger`](/layers.html#Debugger)"
   ]
  },
  {
   "cell_type": "code",
   "execution_count": 18,
   "metadata": {
    "hide_input": true
   },
   "outputs": [
    {
     "data": {
      "text/markdown": [
       "#### <a id=forward></a>`forward`\n",
       "> `forward`(`x`:`Tensor`) -> `Tensor`\n",
       "\n",
       "\n",
       "Should be overridden by all subclasses.\n",
       "\n",
       ".. note::\n",
       "    Although the recipe for forward pass needs to be defined within\n",
       "    this function, one should call the :class:`Module` instance afterwards\n",
       "    instead of this since the former takes care of running the\n",
       "    registered hooks while the latter silently ignores them. <a href=\"https://github.com/fastai/fastai/blob/master/fastai/layers.py#L71\">[source]</a>"
      ],
      "text/plain": [
       "<IPython.core.display.Markdown object>"
      ]
     },
     "metadata": {},
     "output_type": "display_data"
    }
   ],
   "source": [
    "show_doc(Debugger.forward)"
   ]
  },
  {
   "cell_type": "markdown",
   "metadata": {},
   "source": [
    "`Debugger.forward`"
   ]
  },
  {
   "cell_type": "code",
   "execution_count": 19,
   "metadata": {
    "hide_input": true
   },
   "outputs": [
    {
     "data": {
      "text/markdown": [
       "#### <a id=Flatten></a>`Flatten`\n",
       "> `Flatten`() -> `Tensor`\n",
       "\n",
       "\n",
       "Flattens `x` to a single dimension, often used at the end of a model <a href=\"https://github.com/fastai/fastai/blob/master/fastai/layers.py#L21\">[source]</a>"
      ],
      "text/plain": [
       "<IPython.core.display.Markdown object>"
      ]
     },
     "metadata": {},
     "output_type": "display_data"
    }
   ],
   "source": [
    "show_doc(Flatten)"
   ]
  },
  {
   "cell_type": "markdown",
   "metadata": {},
   "source": [
    "[`Flatten`](/layers.html#Flatten)"
   ]
  },
  {
   "cell_type": "code",
   "execution_count": 20,
   "metadata": {
    "hide_input": true
   },
   "outputs": [
    {
     "data": {
      "text/markdown": [
       "## <a id=Lambda></a>`class` `Lambda`\n",
       "> `Lambda`(`func`:`LambdaFunc`) :: [`Module`](https://pytorch.org/docs/stable/nn.html#torch.nn.Module)\n",
       "\n",
       "\n",
       "An easy way to create a pytorch layer for a simple `func` <a href=\"https://github.com/fastai/fastai/blob/master/fastai/layers.py#L8\">[source]</a>"
      ],
      "text/plain": [
       "<IPython.core.display.Markdown object>"
      ]
     },
     "metadata": {},
     "output_type": "display_data"
    }
   ],
   "source": [
    "show_doc(Lambda)"
   ]
  },
  {
   "cell_type": "markdown",
   "metadata": {},
   "source": [
    "[`Lambda`](/layers.html#Lambda)"
   ]
  },
  {
   "cell_type": "code",
   "execution_count": 21,
   "metadata": {
    "hide_input": true
   },
   "outputs": [
    {
     "data": {
      "text/markdown": [
       "#### <a id=forward></a>`forward`\n",
       "> `forward`(`x`)\n",
       "\n",
       "\n",
       "Should be overridden by all subclasses.\n",
       "\n",
       ".. note::\n",
       "    Although the recipe for forward pass needs to be defined within\n",
       "    this function, one should call the :class:`Module` instance afterwards\n",
       "    instead of this since the former takes care of running the\n",
       "    registered hooks while the latter silently ignores them. <a href=\"https://github.com/fastai/fastai/blob/master/fastai/layers.py#L15\">[source]</a>"
      ],
      "text/plain": [
       "<IPython.core.display.Markdown object>"
      ]
     },
     "metadata": {},
     "output_type": "display_data"
    }
   ],
   "source": [
    "show_doc(Lambda.forward)"
   ]
  },
  {
   "cell_type": "markdown",
   "metadata": {},
   "source": [
    "`Lambda.forward`"
   ]
  },
  {
   "cell_type": "code",
   "execution_count": 22,
   "metadata": {
    "hide_input": true
   },
   "outputs": [
    {
     "data": {
      "text/markdown": [
       "#### <a id=PoolFlatten></a>`PoolFlatten`\n",
       "> `PoolFlatten`() -> [`Sequential`](https://pytorch.org/docs/stable/nn.html#torch.nn.Sequential)\n",
       "\n",
       "\n",
       "Apply `nn.AdaptiveAvgPool2d` to `x` and then flatten the result <a href=\"https://github.com/fastai/fastai/blob/master/fastai/layers.py#L25\">[source]</a>"
      ],
      "text/plain": [
       "<IPython.core.display.Markdown object>"
      ]
     },
     "metadata": {},
     "output_type": "display_data"
    }
   ],
   "source": [
    "show_doc(PoolFlatten)"
   ]
  },
  {
   "cell_type": "markdown",
   "metadata": {},
   "source": [
    "[`PoolFlatten`](/layers.html#PoolFlatten)"
   ]
  },
  {
   "cell_type": "code",
   "execution_count": 23,
   "metadata": {
    "hide_input": true
   },
   "outputs": [
    {
     "data": {
      "text/markdown": [
       "#### <a id=ResizeBatch></a>`ResizeBatch`\n",
       "> `ResizeBatch`(`size`:`int`) -> `Tensor`\n",
       "\n",
       "\n",
       "Layer that resizes x to `size`, good for connecting mismatched layers <a href=\"https://github.com/fastai/fastai/blob/master/fastai/layers.py#L17\">[source]</a>"
      ],
      "text/plain": [
       "<IPython.core.display.Markdown object>"
      ]
     },
     "metadata": {},
     "output_type": "display_data"
    }
   ],
   "source": [
    "show_doc(ResizeBatch)"
   ]
  },
  {
   "cell_type": "markdown",
   "metadata": {},
   "source": [
    "[`ResizeBatch`](/layers.html#ResizeBatch)"
   ]
  },
  {
   "cell_type": "code",
   "execution_count": 24,
   "metadata": {
    "hide_input": true
   },
   "outputs": [
    {
     "data": {
      "text/markdown": [
       "## <a id=StdUpsample></a>`class` `StdUpsample`\n",
       "> `StdUpsample`(`n_in`:`int`, `n_out`:`int`) :: [`Module`](https://pytorch.org/docs/stable/nn.html#torch.nn.Module)\n",
       "\n",
       "\n",
       "Standard upsample module <a href=\"https://github.com/fastai/fastai/blob/master/fastai/layers.py#L75\">[source]</a>"
      ],
      "text/plain": [
       "<IPython.core.display.Markdown object>"
      ]
     },
     "metadata": {},
     "output_type": "display_data"
    }
   ],
   "source": [
    "show_doc(StdUpsample)"
   ]
  },
  {
   "cell_type": "markdown",
   "metadata": {},
   "source": [
    "[`StdUpsample`](/layers.html#StdUpsample)"
   ]
  },
  {
   "cell_type": "code",
   "execution_count": 25,
   "metadata": {
    "hide_input": true
   },
   "outputs": [
    {
     "data": {
      "text/markdown": [
       "#### <a id=forward></a>`forward`\n",
       "> `forward`(`x`:`Tensor`) -> `Tensor`\n",
       "\n",
       "\n",
       "Should be overridden by all subclasses.\n",
       "\n",
       ".. note::\n",
       "    Although the recipe for forward pass needs to be defined within\n",
       "    this function, one should call the :class:`Module` instance afterwards\n",
       "    instead of this since the former takes care of running the\n",
       "    registered hooks while the latter silently ignores them. <a href=\"https://github.com/fastai/fastai/blob/master/fastai/layers.py#L82\">[source]</a>"
      ],
      "text/plain": [
       "<IPython.core.display.Markdown object>"
      ]
     },
     "metadata": {},
     "output_type": "display_data"
    }
   ],
   "source": [
    "show_doc(StdUpsample.forward)"
   ]
  },
  {
   "cell_type": "markdown",
   "metadata": {},
   "source": [
    "`StdUpsample.forward`"
   ]
  },
  {
   "cell_type": "code",
   "execution_count": 26,
   "metadata": {
    "hide_input": true
   },
   "outputs": [
    {
     "data": {
      "text/markdown": [
       "#### <a id=bn_drop_lin></a>`bn_drop_lin`\n",
       "> `bn_drop_lin`(`n_in`:`int`, `n_out`:`int`, `bn`:`bool`=`True`, `p`:`float`=`0.0`, `actn`:`Optional`\\[[`Module`](https://pytorch.org/docs/stable/nn.html#torch.nn.Module)\\]=`None`)\n",
       "\n",
       "\n",
       "`n_in`->bn->dropout->linear(`n_in`,`n_out`)->`actn` <a href=\"https://github.com/fastai/fastai/blob/master/fastai/layers.py#L29\">[source]</a>"
      ],
      "text/plain": [
       "<IPython.core.display.Markdown object>"
      ]
     },
     "metadata": {},
     "output_type": "display_data"
    }
   ],
   "source": [
    "show_doc(bn_drop_lin)"
   ]
  },
  {
   "cell_type": "markdown",
   "metadata": {},
   "source": [
    "[`bn_drop_lin`](/layers.html#bn_drop_lin)"
   ]
  },
  {
   "cell_type": "code",
   "execution_count": 27,
   "metadata": {
    "hide_input": true
   },
   "outputs": [
    {
     "data": {
      "text/markdown": [
       "#### <a id=conv2d></a>`conv2d`\n",
       "> `conv2d`(`ni`:`int`, `nf`:`int`, `ks`:`int`=`3`, `stride`:`int`=`1`, `padding`:`int`=`None`, `bias`=`False`) -> [`Conv2d`](https://pytorch.org/docs/stable/nn.html#torch.nn.Conv2d)\n",
       "\n",
       "\n",
       "Create `nn.Conv2d` layer: `ni` inputs, `nf` outputs, `ks` kernel size. `padding` defaults to `k//2` <a href=\"https://github.com/fastai/fastai/blob/master/fastai/layers.py#L37\">[source]</a>"
      ],
      "text/plain": [
       "<IPython.core.display.Markdown object>"
      ]
     },
     "metadata": {},
     "output_type": "display_data"
    }
   ],
   "source": [
    "show_doc(conv2d)"
   ]
  },
  {
   "cell_type": "markdown",
   "metadata": {},
   "source": [
    "[`conv2d`](/layers.html#conv2d)"
   ]
  },
  {
   "cell_type": "code",
   "execution_count": 28,
   "metadata": {
    "hide_input": true
   },
   "outputs": [
    {
     "data": {
      "text/markdown": [
       "#### <a id=conv2d_relu></a>`conv2d_relu`\n",
       "> `conv2d_relu`(`ni`:`int`, `nf`:`int`, `ks`:`int`=`3`, `stride`:`int`=`1`, `padding`:`int`=`None`, `bn`:`bool`=`False`) -> [`Sequential`](https://pytorch.org/docs/stable/nn.html#torch.nn.Sequential)\n",
       "\n",
       "\n",
       "Create a [`conv2d`](/layers.html#conv2d) layer with `nn.ReLU` activation and optional(`bn`) `nn.BatchNorm2d` <a href=\"https://github.com/fastai/fastai/blob/master/fastai/layers.py#L49\">[source]</a>"
      ],
      "text/plain": [
       "<IPython.core.display.Markdown object>"
      ]
     },
     "metadata": {},
     "output_type": "display_data"
    }
   ],
   "source": [
    "show_doc(conv2d_relu)"
   ]
  },
  {
   "cell_type": "markdown",
   "metadata": {},
   "source": [
    "[`conv2d_relu`](/layers.html#conv2d_relu)"
   ]
  },
  {
   "cell_type": "code",
   "execution_count": 29,
   "metadata": {
    "hide_input": true
   },
   "outputs": [
    {
     "data": {
      "text/markdown": [
       "#### <a id=conv2d_trans></a>`conv2d_trans`\n",
       "> `conv2d_trans`(`ni`:`int`, `nf`:`int`, `ks`:`int`=`2`, `stride`:`int`=`2`, `padding`:`int`=`0`) -> [`ConvTranspose2d`](https://pytorch.org/docs/stable/nn.html#torch.nn.ConvTranspose2d)\n",
       "\n",
       "\n",
       "Create `nn.nn.ConvTranspose2d` layer: `ni` inputs, `nf` outputs, `ks` kernel size. `padding` defaults to 0 <a href=\"https://github.com/fastai/fastai/blob/master/fastai/layers.py#L56\">[source]</a>"
      ],
      "text/plain": [
       "<IPython.core.display.Markdown object>"
      ]
     },
     "metadata": {},
     "output_type": "display_data"
    }
   ],
   "source": [
    "show_doc(conv2d_trans)"
   ]
  },
  {
   "cell_type": "markdown",
   "metadata": {},
   "source": [
    "[`conv2d_trans`](/layers.html#conv2d_trans)"
   ]
  },
  {
   "cell_type": "code",
   "execution_count": 30,
   "metadata": {
    "hide_input": true
   },
   "outputs": [
    {
     "data": {
      "text/markdown": [
       "#### <a id=conv_layer></a>`conv_layer`\n",
       "> `conv_layer`(`ni`:`int`, `nf`:`int`, `ks`:`int`=`3`, `stride`:`int`=`1`) -> [`Sequential`](https://pytorch.org/docs/stable/nn.html#torch.nn.Sequential)\n",
       "\n",
       "\n",
       "Create Conv2d->BatchNorm2d->LeakyReLu layer: `ni` input, `nf` out filters, `ks` kernel, `stride`:stride <a href=\"https://github.com/fastai/fastai/blob/master/fastai/layers.py#L42\">[source]</a>"
      ],
      "text/plain": [
       "<IPython.core.display.Markdown object>"
      ]
     },
     "metadata": {},
     "output_type": "display_data"
    }
   ],
   "source": [
    "show_doc(conv_layer)"
   ]
  },
  {
   "cell_type": "markdown",
   "metadata": {},
   "source": [
    "[`conv_layer`](/layers.html#conv_layer)"
   ]
  },
  {
   "cell_type": "code",
   "execution_count": 31,
   "metadata": {
    "hide_input": true
   },
   "outputs": [
    {
     "data": {
      "text/markdown": [
       "#### <a id=get_embedding></a>`get_embedding`\n",
       "> `get_embedding`(`ni`:`int`, `nf`:`int`) -> [`Module`](https://pytorch.org/docs/stable/nn.html#torch.nn.Module)\n",
       "\n",
       "\n",
       "Creates an embedding layer <a href=\"https://github.com/fastai/fastai/blob/master/fastai/layers.py#L115\">[source]</a>"
      ],
      "text/plain": [
       "<IPython.core.display.Markdown object>"
      ]
     },
     "metadata": {},
     "output_type": "display_data"
    }
   ],
   "source": [
    "show_doc(get_embedding)"
   ]
  },
  {
   "cell_type": "markdown",
   "metadata": {},
   "source": [
    "[`get_embedding`](/layers.html#get_embedding)"
   ]
  },
  {
   "cell_type": "code",
   "execution_count": 32,
   "metadata": {
    "hide_input": true
   },
   "outputs": [
    {
     "data": {
      "text/markdown": [
       "#### <a id=simple_cnn></a>`simple_cnn`\n",
       "> `simple_cnn`(`actns`:`Collection`\\[`int`\\], `kernel_szs`:`Collection`\\[`int`\\]=`None`, `strides`:`Collection`\\[`int`\\]=`None`) -> [`Sequential`](https://pytorch.org/docs/stable/nn.html#torch.nn.Sequential)\n",
       "\n",
       "\n",
       "CNN with [`conv2d_relu`](/layers.html#conv2d_relu) layers defined by `actns`, `kernel_szs` and `strides` <a href=\"https://github.com/fastai/fastai/blob/master/fastai/layers.py#L99\">[source]</a>"
      ],
      "text/plain": [
       "<IPython.core.display.Markdown object>"
      ]
     },
     "metadata": {},
     "output_type": "display_data"
    }
   ],
   "source": [
    "show_doc(simple_cnn)"
   ]
  },
  {
   "cell_type": "markdown",
   "metadata": {},
   "source": [
    "[`simple_cnn`](/layers.html#simple_cnn)"
   ]
  },
  {
   "cell_type": "code",
   "execution_count": 33,
   "metadata": {
    "hide_input": true
   },
   "outputs": [
    {
     "data": {
      "text/markdown": [
       "#### <a id=std_upsample_head></a>`std_upsample_head`\n",
       "> `std_upsample_head`(`c`, `nfs`:`Collection`\\[`int`\\]) -> [`Module`](https://pytorch.org/docs/stable/nn.html#torch.nn.Module)\n",
       "\n",
       "\n",
       "Creates a sequence of upsample layers <a href=\"https://github.com/fastai/fastai/blob/master/fastai/layers.py#L85\">[source]</a>"
      ],
      "text/plain": [
       "<IPython.core.display.Markdown object>"
      ]
     },
     "metadata": {},
     "output_type": "display_data"
    }
   ],
   "source": [
    "show_doc(std_upsample_head)"
   ]
  },
  {
   "cell_type": "markdown",
   "metadata": {},
   "source": [
    "[`std_upsample_head`](/layers.html#std_upsample_head)"
   ]
  },
  {
   "cell_type": "code",
   "execution_count": 34,
   "metadata": {
    "hide_input": true
   },
   "outputs": [
    {
     "data": {
      "text/markdown": [
       "#### <a id=trunc_normal_></a>`trunc_normal_`\n",
       "> `trunc_normal_`(`x`:`Tensor`, `mean`:`float`=`0.0`, `std`:`float`=`1.0`) -> `Tensor`\n",
       "\n",
       "\n",
       "Truncated normal initialization <a href=\"https://github.com/fastai/fastai/blob/master/fastai/layers.py#L110\">[source]</a>"
      ],
      "text/plain": [
       "<IPython.core.display.Markdown object>"
      ]
     },
     "metadata": {},
     "output_type": "display_data"
    }
   ],
   "source": [
    "show_doc(trunc_normal_)"
   ]
  },
  {
   "cell_type": "markdown",
   "metadata": {},
   "source": [
    "[`trunc_normal_`](/layers.html#trunc_normal_)"
   ]
  }
 ],
 "metadata": {
  "jekyll": {
   "summary": "`fastai.layers` provides essential functions to building and modifying `model` architectures",
   "title": "layers"
  },
  "kernelspec": {
   "display_name": "Python 3",
   "language": "python",
   "name": "python3"
  },
  "language_info": {
   "codemirror_mode": {
    "name": "ipython",
    "version": 3
   },
   "file_extension": ".py",
   "mimetype": "text/x-python",
   "name": "python",
   "nbconvert_exporter": "python",
   "pygments_lexer": "ipython3",
   "version": "3.6.5"
  }
 },
 "nbformat": 4,
 "nbformat_minor": 2
}
