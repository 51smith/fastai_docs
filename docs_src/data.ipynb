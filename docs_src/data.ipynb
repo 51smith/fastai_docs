{
 "cells": [
  {
   "cell_type": "code",
   "execution_count": null,
   "metadata": {
    "hide_input": true
   },
   "outputs": [],
   "source": "from fastai.gen_doc.gen_notebooks import update_module_metadata\nimport fastai.data\n# For updating jekyll metadata. You MUST reload notebook immediately after executing this cell for changes to save\n# Leave blank to autopopulate from mod.__doc__\nupdate_module_metadata(fastai.data)"
  },
  {
   "cell_type": "markdown",
   "metadata": {},
   "source": "# data"
  },
  {
   "cell_type": "markdown",
   "metadata": {},
   "source": "Type an introduction of the package here."
  },
  {
   "cell_type": "code",
   "execution_count": null,
   "metadata": {
    "hide_input": true
   },
   "outputs": [],
   "source": "from fastai.gen_doc.nbdoc import *\nfrom fastai.data import * "
  },
  {
   "cell_type": "markdown",
   "metadata": {},
   "source": "### Global Variable Definitions:"
  },
  {
   "cell_type": "code",
   "execution_count": null,
   "metadata": {
    "hide_input": true
   },
   "outputs": [
    {
     "data": {
      "text/markdown": "## <a id=DataBunch></a>`class` `DataBunch`\n> `DataBunch`(`train_dl`:`DataLoader`, `valid_dl`:`DataLoader`, `test_dl`:`Optional`\\`DataLoader`\\]=`None`, `device`:`device`=`None`, `tfms`:`Optional`\\[`Collection`\\[`Callable`\\]\\]=`None`, `path`:`PathOrStr`=`'.'`, `collate_fn`:`Callable`=`'data_collate'`)\n\n\nBind `train_dl`,`valid_dl` and`test_dl` to `device`. tfms are DL tfms (normalize). `path` is for models. <a href=\"https://github.com/fastai/fastai/blob/master/fastai/data.py#L57\">[source]</a>",
      "text/plain": "<IPython.core.display.Markdown object>"
     },
     "metadata": {},
     "output_type": "display_data"
    }
   ],
   "source": "show_doc(DataBunch)"
  },
  {
   "cell_type": "markdown",
   "metadata": {},
   "source": "`DataBunch`"
  },
  {
   "cell_type": "code",
   "execution_count": null,
   "metadata": {
    "hide_input": true
   },
   "outputs": [
    {
     "data": {
      "text/markdown": "#### <a id=_create_with_tfm></a>`_create_with_tfm`\n> `_create_with_tfm`(`train_ds`, `valid_ds`, `test_ds`=`None`, `path`=`'.'`, `bs`=`64`, `ds_tfms`=`None`, `num_workers`=`8`, `tfms`=`None`, `device`=`None`, `size`=`None`, `kwargs`) -> `DataBunch`\n\n\n`DataBunch` factory. `bs` batch size, `ds_tfms` for `Dataset`, `tfms` for `DataLoader`. <a href=\"https://github.com/fastai/fastai/blob/master/fastai/vision/data.py#L187\">[source]</a>",
      "text/plain": "<IPython.core.display.Markdown object>"
     },
     "metadata": {},
     "output_type": "display_data"
    }
   ],
   "source": "show_doc(DataBunch.create)"
  },
  {
   "cell_type": "markdown",
   "metadata": {},
   "source": "`DataBunch.create`"
  },
  {
   "cell_type": "code",
   "execution_count": null,
   "metadata": {
    "hide_input": true
   },
   "outputs": [
    {
     "data": {
      "text/markdown": "#### <a id=holdout></a>`holdout`\n> `holdout`(`is_test`:`bool`=`False`) -> `DeviceDataLoader`\n\n\nReturns correct holdout `Dataset` for test vs validation (`is_test`). <a href=\"https://github.com/fastai/fastai/blob/master/fastai/data.py#L81\">[source]</a>",
      "text/plain": "<IPython.core.display.Markdown object>"
     },
     "metadata": {},
     "output_type": "display_data"
    }
   ],
   "source": "show_doc(DataBunch.holdout)"
  },
  {
   "cell_type": "markdown",
   "metadata": {},
   "source": "`DataBunch.holdout`"
  },
  {
   "cell_type": "code",
   "execution_count": null,
   "metadata": {
    "hide_input": true
   },
   "outputs": [
    {
     "data": {
      "text/markdown": "#### <a id=_labels_to_csv></a>`_labels_to_csv`\n> `_labels_to_csv`(`dest`:`str`)\n\n\nSave file names and labels in `data` as CSV to file name `dest`. <a href=\"https://github.com/fastai/fastai/blob/master/fastai/vision/data.py#L214\">[source]</a>",
      "text/plain": "<IPython.core.display.Markdown object>"
     },
     "metadata": {},
     "output_type": "display_data"
    }
   ],
   "source": "show_doc(DataBunch.labels_to_csv)"
  },
  {
   "cell_type": "markdown",
   "metadata": {},
   "source": ""
  },
  {
   "cell_type": "code",
   "execution_count": null,
   "metadata": {
    "hide_input": true
   },
   "outputs": [
    {
     "data": {
      "text/markdown": "## <a id=DatasetBase></a>`class` `DatasetBase`\n> `DatasetBase`() :: `Dataset`\n\n\nBase class for all fastai datasets. <a href=\"https://github.com/fastai/fastai/blob/master/fastai/data.py#L6\">[source]</a>",
      "text/plain": "<IPython.core.display.Markdown object>"
     },
     "metadata": {},
     "output_type": "display_data"
    }
   ],
   "source": "show_doc(DatasetBase)"
  },
  {
   "cell_type": "markdown",
   "metadata": {},
   "source": "`DatasetBase`"
  },
  {
   "cell_type": "code",
   "execution_count": null,
   "metadata": {
    "hide_input": true
   },
   "outputs": [
    {
     "data": {
      "text/markdown": "## <a id=DeviceDataLoader></a>`class` `DeviceDataLoader`\n> `DeviceDataLoader`(`dl`:`DataLoader`, `device`:`device`, `tfms`:`List`\\[`Callable`\\]=`None`, `collate_fn`:`Callable`=`'data_collate'`)\n\n\nBind a `DataLoader` to a `torch.device`. <a href=\"https://github.com/fastai/fastai/blob/master/fastai/data.py#L23\">[source]</a>",
      "text/plain": "<IPython.core.display.Markdown object>"
     },
     "metadata": {},
     "output_type": "display_data"
    }
   ],
   "source": "show_doc(DeviceDataLoader)"
  },
  {
   "cell_type": "markdown",
   "metadata": {},
   "source": "`DeviceDataLoader`"
  },
  {
   "cell_type": "code",
   "execution_count": null,
   "metadata": {
    "hide_input": true
   },
   "outputs": [
    {
     "data": {
      "text/markdown": "#### <a id=add_tfm></a>`add_tfm`\n> `add_tfm`(`tfm`:`Callable`)\n<a href=\"https://github.com/fastai/fastai/blob/master/fastai/data.py#L36\">[source]</a>",
      "text/plain": "<IPython.core.display.Markdown object>"
     },
     "metadata": {},
     "output_type": "display_data"
    }
   ],
   "source": "show_doc(DeviceDataLoader.add_tfm)"
  },
  {
   "cell_type": "markdown",
   "metadata": {},
   "source": "`DeviceDataLoader.add_tfm`"
  },
  {
   "cell_type": "code",
   "execution_count": null,
   "metadata": {
    "hide_input": true
   },
   "outputs": [
    {
     "data": {
      "text/markdown": "#### <a id=data_collate></a>`data_collate`\n> `data_collate`(`batch`:`ItemsList`) -> `Tensor`\n\n\nConvert `batch` items to tensor data <a href=\"https://github.com/fastai/fastai/blob/master/fastai/torch_core.py#L78\">[source]</a>",
      "text/plain": "<IPython.core.display.Markdown object>"
     },
     "metadata": {},
     "output_type": "display_data"
    }
   ],
   "source": "show_doc(DeviceDataLoader.collate_fn)"
  },
  {
   "cell_type": "markdown",
   "metadata": {},
   "source": "`DeviceDataLoader.collate_fn`"
  },
  {
   "cell_type": "code",
   "execution_count": null,
   "metadata": {
    "hide_input": true
   },
   "outputs": [
    {
     "data": {
      "text/markdown": "#### <a id=create></a>`create`\n> `create`(`dataset`:`Dataset`, `bs`:`int`=`1`, `shuffle`:`bool`=`False`, `device`:`device`=`device(type='cpu')`, `tfms`:`Collection`\\[`Callable`\\]=`None`, `num_workers`:`int`=`8`, `collate_fn`:`Callable`=`'data_collate'`, `kwargs`:`Any`)\n\n\nCreate DeviceDataLoader from `dataset` with `batch_size` and `shuffle`: processs using `num_workers`. <a href=\"https://github.com/fastai/fastai/blob/master/fastai/data.py#L50\">[source]</a>",
      "text/plain": "<IPython.core.display.Markdown object>"
     },
     "metadata": {},
     "output_type": "display_data"
    }
   ],
   "source": "show_doc(DeviceDataLoader.create)"
  },
  {
   "cell_type": "markdown",
   "metadata": {},
   "source": "`DeviceDataLoader.create`"
  },
  {
   "cell_type": "code",
   "execution_count": null,
   "metadata": {
    "hide_input": true
   },
   "outputs": [
    {
     "data": {
      "text/markdown": "#### <a id=proc_batch></a>`proc_batch`\n> `proc_batch`(`b`:`Tensor`) -> `Tensor`\n\n\nProces batch `b` of `TensorImage`. <a href=\"https://github.com/fastai/fastai/blob/master/fastai/data.py#L39\">[source]</a>",
      "text/plain": "<IPython.core.display.Markdown object>"
     },
     "metadata": {},
     "output_type": "display_data"
    }
   ],
   "source": "show_doc(DeviceDataLoader.proc_batch)"
  },
  {
   "cell_type": "markdown",
   "metadata": {},
   "source": "`DeviceDataLoader.proc_batch`"
  },
  {
   "cell_type": "code",
   "execution_count": null,
   "metadata": {
    "hide_input": true
   },
   "outputs": [
    {
     "data": {
      "text/markdown": "#### <a id=remove_tfm></a>`remove_tfm`\n> `remove_tfm`(`tfm`:`Callable`)\n<a href=\"https://github.com/fastai/fastai/blob/master/fastai/data.py#L37\">[source]</a>",
      "text/plain": "<IPython.core.display.Markdown object>"
     },
     "metadata": {},
     "output_type": "display_data"
    }
   ],
   "source": "show_doc(DeviceDataLoader.remove_tfm)"
  },
  {
   "cell_type": "markdown",
   "metadata": {},
   "source": "`DeviceDataLoader.remove_tfm`"
  },
  {
   "cell_type": "code",
   "execution_count": null,
   "metadata": {
    "hide_input": true
   },
   "outputs": [
    {
     "data": {
      "text/markdown": "## <a id=LabelDataset></a>`class` `LabelDataset`\n> `LabelDataset`() :: `DatasetBase`\n\n\nBase class for fastai datasets that do classification. <a href=\"https://github.com/fastai/fastai/blob/master/fastai/data.py#L15\">[source]</a>",
      "text/plain": "<IPython.core.display.Markdown object>"
     },
     "metadata": {},
     "output_type": "display_data"
    }
   ],
   "source": "show_doc(LabelDataset)"
  },
  {
   "cell_type": "markdown",
   "metadata": {},
   "source": "`LabelDataset`"
  }
 ],
 "metadata": {
  "jekyll": {
   "summary": "`fastai.data` loads and manages datasets with `DataBunch`",
   "title": "data"
  },
  "kernelspec": {
   "display_name": "Python 3",
   "language": "python",
   "name": "python3"
  }
 },
 "nbformat": 4,
 "nbformat_minor": 2
}
