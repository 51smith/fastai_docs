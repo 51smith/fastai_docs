{
 "cells": [
  {
   "cell_type": "markdown",
   "metadata": {},
   "source": "# Implementation of the language models"
  },
  {
   "cell_type": "code",
   "execution_count": null,
   "metadata": {
    "hide_input": true
   },
   "outputs": [],
   "source": "from fastai.gen_doc.nbdoc import *\nfrom fastai.text.models import * \nfrom fastai import *"
  },
  {
   "cell_type": "markdown",
   "metadata": {},
   "source": "This module fully implements the [AWD-LSTM](https://arxiv.org/pdf/1708.02182.pdf) from Stephen Merity et al. The main idea of the article is to use a [RNN](http://www.pnas.org/content/79/8/2554) with dropout everywhere, but in an intelligent way. There is a difference with the usual dropout, which is why you’ll see a [`RNNDropout`](/text.models.html#RNNDropout) module: we zero things, as is usual in dropout, but we always zero the same thing according to the sequence dimension (which is the first dimension in pytorch). This ensures consistency when updating the hidden state through the whole sentences/articles. \n\nThis being given, there are five different dropouts in the AWD-LSTM:\n- the first one, embedding dropout, is applied when we look the ids of our tokens inside the embedding matrix (to transform them from numbers to a vector of float). We zero some lines of it, so random ids are sent to a vector of zeros instead of being sent to their embedding vector.\n- the second one, input dropout, is applied to the result of the embedding with dropout. We forget random pieces of the embedding matrix (but as stated in the last paragraph, the same ones in the sequence dimension).\n- the third one is the weight dropout. It’s the trickiest to implement as we randomly replace by 0s some weights of the hidden-to-hidden matrix inside the RNN: this needs to be done in a way that ensure the gradients are still computed and the initial weights still updated.\n- the fourth one is the hidden dropout. It’s applied to the output of one of the layers of the RNN before it’s used as input of the next layer (again same coordinates are zeroed in the sequence dimension). This one isn’t applied to the last output, but rather…\n- the fifth one is the output dropout, it’s applied to the last output of the model (and like the others, it’s applied the same way through the first dimension)."
  },
  {
   "cell_type": "markdown",
   "metadata": {},
   "source": "## Basic functions to get a model"
  },
  {
   "cell_type": "code",
   "execution_count": null,
   "metadata": {
    "hide_input": true
   },
   "outputs": [
    {
     "data": {
      "text/markdown": "#### <a id=get_language_model></a>`get_language_model`\n> `get_language_model`(`vocab_sz`:`int`, `emb_sz`:`int`, `n_hid`:`int`, `n_layers`:`int`, `pad_token`:`int`, `tie_weights`:`bool`=`True`, `qrnn`:`bool`=`False`, `bias`:`bool`=`True`, `bidir`:`bool`=`False`, `output_p`:`float`=`0.4`, `hidden_p`:`float`=`0.2`, `input_p`:`float`=`0.6`, `embed_p`:`float`=`0.1`, `weight_p`:`float`=`0.5`) -> [`Module`](https://pytorch.org/docs/stable/nn.html#torch.nn.Module)\n<a href=\"https://github.com/fastai/fastai/blob/master/fastai/text/models.py#L205\">[source]</a>",
      "text/plain": "<IPython.core.display.Markdown object>"
     },
     "metadata": {},
     "output_type": "display_data"
    },
    {
     "data": {
      "text/markdown": "#### <a id=get_language_model></a>`get_language_model`\n> `get_language_model`(`vocab_sz`:`int`, `emb_sz`:`int`, `n_hid`:`int`, `n_layers`:`int`, `pad_token`:`int`, `tie_weights`:`bool`=`True`, `qrnn`:`bool`=`False`, `bias`:`bool`=`True`, `bidir`:`bool`=`False`, `output_p`:`float`=`0.4`, `hidden_p`:`float`=`0.2`, `input_p`:`float`=`0.6`, `embed_p`:`float`=`0.1`, `weight_p`:`float`=`0.5`) -> [`Module`](https://pytorch.org/docs/stable/nn.html#torch.nn.Module)\n<a href=\"https://github.com/fastai/fastai/blob/master/fastai/text/models.py#L205\">[source]</a>",
      "text/plain": "<IPython.core.display.Markdown object>"
     },
     "execution_count": null,
     "metadata": {},
     "output_type": "execute_result"
    }
   ],
   "source": "show_doc(get_language_model, doc_string=False)"
  },
  {
   "cell_type": "markdown",
   "metadata": {},
   "source": "Creates an AWD-LSTM with a first embedding of `vocab_sz` by `emb_sz`, a hidden size of `n_hid`, RNNs with `n_layers` that can be bidirectional if `bidir` is True. The last RNN as an output size of `emb_sz` so that we can use the same decoder as the encoder if `tie_weights` is True. The decoder is a `Linear` layer with or without `bias`. If `qrnn` is set to True, we use [QRNN cells] instead of LSTMS. `pad_token` is the token used for padding.\n\n`embed_p` is used for the embedding dropout, `input_p` is used for the input dropout, `weight_p` is used for the weight dropout, `hidden_p` is used for the hidden dropout and `output_p` is used for the output dropout.\n\nNote that the model returns a list of three things, the actual output being the first, the two others being the intermediate hidden states before and after dropout (used by the [`RNNTrainer`](/callbacks.rnn.html#RNNTrainer)). Most loss functions expect one output, so you should use a Callback to remove the other two if you're not using [`RNNTrainer`](/callbacks.rnn.html#RNNTrainer)."
  },
  {
   "cell_type": "code",
   "execution_count": null,
   "metadata": {
    "hide_input": true
   },
   "outputs": [
    {
     "data": {
      "text/markdown": "#### <a id=get_rnn_classifier></a>`get_rnn_classifier`\n> `get_rnn_classifier`(`bptt`:`int`, `max_seq`:`int`, `n_class`:`int`, `vocab_sz`:`int`, `emb_sz`:`int`, `n_hid`:`int`, `n_layers`:`int`, `pad_token`:`int`, `layers`:`Collection`\\[`int`\\], `drops`:`Collection`\\[`float`\\], `bidir`:`bool`=`False`, `qrnn`:`bool`=`False`, `hidden_p`:`float`=`0.2`, `input_p`:`float`=`0.6`, `embed_p`:`float`=`0.1`, `weight_p`:`float`=`0.5`) -> [`Module`](https://pytorch.org/docs/stable/nn.html#torch.nn.Module)\n<a href=\"https://github.com/fastai/fastai/blob/master/fastai/text/models.py#L214\">[source]</a>",
      "text/plain": "<IPython.core.display.Markdown object>"
     },
     "metadata": {},
     "output_type": "display_data"
    },
    {
     "data": {
      "text/markdown": "#### <a id=get_rnn_classifier></a>`get_rnn_classifier`\n> `get_rnn_classifier`(`bptt`:`int`, `max_seq`:`int`, `n_class`:`int`, `vocab_sz`:`int`, `emb_sz`:`int`, `n_hid`:`int`, `n_layers`:`int`, `pad_token`:`int`, `layers`:`Collection`\\[`int`\\], `drops`:`Collection`\\[`float`\\], `bidir`:`bool`=`False`, `qrnn`:`bool`=`False`, `hidden_p`:`float`=`0.2`, `input_p`:`float`=`0.6`, `embed_p`:`float`=`0.1`, `weight_p`:`float`=`0.5`) -> [`Module`](https://pytorch.org/docs/stable/nn.html#torch.nn.Module)\n<a href=\"https://github.com/fastai/fastai/blob/master/fastai/text/models.py#L214\">[source]</a>",
      "text/plain": "<IPython.core.display.Markdown object>"
     },
     "execution_count": null,
     "metadata": {},
     "output_type": "execute_result"
    }
   ],
   "source": "show_doc(get_rnn_classifier, doc_string=False)"
  },
  {
   "cell_type": "markdown",
   "metadata": {},
   "source": "Creates a RNN classifier with a encoder taken from an AWD-LSTM with arguments `vocab_sz`, `emb_sz`, `n_hid`, `n_layers`, `bias`, `bidir`, `qrnn`, `pad_token` and the dropouts parameters. This encoder is fed the sequence by successive bits of size `bptt` and we only keep the last `max_seq` outputs for the pooling layers.\n\nThe decoder use a concatenation of the last outputs, a `MaxPooling` of all the ouputs and an `AveragePooling` of all the outputs. It then uses a list of `BatchNorm`, `Dropout`, `Linear`, `ReLU` blocks (with no `ReLU` in the last one), using a first layer size of `3*emb_sz` then follwoing the numbers in `n_layers` to stop at `n_class`. The dropouts probabilities are read in `drops`.\n\nNote that the model returns a list of three things, the actual output being the first, the two others being the intermediate hidden states before and after dropout (used by the [`RNNTrainer`](/callbacks.rnn.html#RNNTrainer)). Most loss functions expect one output, so you should use a Callback to remove the other two if you're not using [`RNNTrainer`](/callbacks.rnn.html#RNNTrainer)."
  },
  {
   "cell_type": "markdown",
   "metadata": {},
   "source": "## Basic NLP modules"
  },
  {
   "cell_type": "markdown",
   "metadata": {},
   "source": "On top of the pytorch or the fastai [`layers`](/layers.html#layers), the language models use some custom layers specific to NLP."
  },
  {
   "cell_type": "code",
   "execution_count": null,
   "metadata": {
    "hide_input": true
   },
   "outputs": [
    {
     "data": {
      "text/markdown": "### <a id=EmbeddingDropout></a>`class` `EmbeddingDropout`\n> `EmbeddingDropout`(`emb`:[`Module`](https://pytorch.org/docs/stable/nn.html#torch.nn.Module), `embed_p`:`float`) :: [`Module`](https://pytorch.org/docs/stable/nn.html#torch.nn.Module)\n<a href=\"https://github.com/fastai/fastai/blob/master/fastai/text/models.py#L50\">[source]</a>",
      "text/plain": "<IPython.core.display.Markdown object>"
     },
     "metadata": {},
     "output_type": "display_data"
    },
    {
     "data": {
      "text/markdown": "### <a id=EmbeddingDropout></a>`class` `EmbeddingDropout`\n> `EmbeddingDropout`(`emb`:[`Module`](https://pytorch.org/docs/stable/nn.html#torch.nn.Module), `embed_p`:`float`) :: [`Module`](https://pytorch.org/docs/stable/nn.html#torch.nn.Module)\n<a href=\"https://github.com/fastai/fastai/blob/master/fastai/text/models.py#L50\">[source]</a>",
      "text/plain": "<IPython.core.display.Markdown object>"
     },
     "execution_count": null,
     "metadata": {},
     "output_type": "execute_result"
    }
   ],
   "source": "show_doc(EmbeddingDropout, doc_string=False, title_level=3)"
  },
  {
   "cell_type": "markdown",
   "metadata": {},
   "source": "Applies a dropout with probability `embed_p` to an embedding layer `emb` in training mode. Each row of the embedding matrix has a probability `embed_p` of being replaced by zeros while the others are rescaled accordingly. "
  },
  {
   "cell_type": "code",
   "execution_count": null,
   "metadata": {},
   "outputs": [
    {
     "data": {
      "text/plain": "tensor([[ 1.6726,  0.0368,  1.4787,  3.4628,  1.0888,  3.0076, -2.0304],\n        [ 0.0000,  0.0000,  0.0000, -0.0000, -0.0000,  0.0000, -0.0000],\n        [ 0.1830, -1.3432,  1.1055,  0.4599,  3.7144, -3.1382,  0.0172],\n        [ 1.8115,  2.6855,  2.7093, -0.2569,  0.9212, -2.2593,  3.8310],\n        [-0.0000, -0.0000, -0.0000,  0.0000, -0.0000, -0.0000,  0.0000],\n        [-0.0000, -0.0000,  0.0000,  0.0000,  0.0000, -0.0000,  0.0000],\n        [-0.2968,  2.1759,  1.0536, -3.4618, -2.2319, -1.5875,  1.4099],\n        [-0.0000,  0.0000, -0.0000, -0.0000, -0.0000, -0.0000,  0.0000]],\n       grad_fn=<EmbeddingBackward>)"
     },
     "execution_count": null,
     "metadata": {},
     "output_type": "execute_result"
    }
   ],
   "source": "enc = nn.Embedding(100, 7, padding_idx=1)\nenc_dp = EmbeddingDropout(enc, 0.5)\ntst_input = torch.randint(0,100,(8,))\nenc_dp(tst_input)"
  },
  {
   "cell_type": "code",
   "execution_count": null,
   "metadata": {
    "hide_input": true
   },
   "outputs": [
    {
     "data": {
      "text/markdown": "### <a id=RNNDropout></a>`class` `RNNDropout`\n> `RNNDropout`(`p`:`float`=`0.5`) :: [`Module`](https://pytorch.org/docs/stable/nn.html#torch.nn.Module)\n<a href=\"https://github.com/fastai/fastai/blob/master/fastai/text/models.py#L11\">[source]</a>",
      "text/plain": "<IPython.core.display.Markdown object>"
     },
     "metadata": {},
     "output_type": "display_data"
    },
    {
     "data": {
      "text/markdown": "### <a id=RNNDropout></a>`class` `RNNDropout`\n> `RNNDropout`(`p`:`float`=`0.5`) :: [`Module`](https://pytorch.org/docs/stable/nn.html#torch.nn.Module)\n<a href=\"https://github.com/fastai/fastai/blob/master/fastai/text/models.py#L11\">[source]</a>",
      "text/plain": "<IPython.core.display.Markdown object>"
     },
     "execution_count": null,
     "metadata": {},
     "output_type": "execute_result"
    }
   ],
   "source": "show_doc(RNNDropout, doc_string=False, title_level=3)"
  },
  {
   "cell_type": "markdown",
   "metadata": {},
   "source": "Applies a dropout with probability `p` consistently over the first dimension in training mode."
  },
  {
   "cell_type": "code",
   "execution_count": null,
   "metadata": {},
   "outputs": [
    {
     "data": {
      "text/plain": "(tensor([[[ 0.8305, -2.6687,  0.1399,  0.8773, -0.9601, -1.9875, -0.7754],\n          [-0.8539,  0.4316,  1.9667,  1.3948,  0.8318, -1.6018,  1.6207],\n          [-0.0294,  1.4592, -0.8035, -0.2747, -0.8405,  0.4735, -1.4664]],\n \n         [[-0.8362, -0.2606,  3.2887,  0.0123,  0.2857,  0.0662, -0.8583],\n          [-0.0081, -0.9123, -0.3900, -0.7823,  1.7898,  0.9905,  0.6019],\n          [ 0.5715,  2.0270,  0.5443,  1.4103,  0.0209, -1.2136,  0.0393]],\n \n         [[ 1.1452, -0.9102,  0.6555, -0.6423,  1.2612,  1.9358, -0.1744],\n          [ 1.2404,  2.1373, -1.1495, -0.9078,  0.8448, -0.6073, -0.2978],\n          [-0.6869, -0.8378,  0.2918, -0.4366,  0.4442,  1.7649,  1.2987]]]),\n tensor([[[ 1.1865, -0.0000,  0.1998,  1.2533, -1.3716, -0.0000, -0.0000],\n          [-0.0000,  0.6166,  2.8096,  0.0000,  0.0000, -2.2883,  0.0000],\n          [-0.0000,  2.0846, -1.1479, -0.3924, -1.2008,  0.0000, -2.0948]],\n \n         [[-1.1945, -0.0000,  4.6981,  0.0176,  0.4082,  0.0000, -0.0000],\n          [-0.0000, -1.3033, -0.5571, -0.0000,  0.0000,  1.4150,  0.0000],\n          [ 0.0000,  2.8958,  0.7776,  2.0147,  0.0298, -0.0000,  0.0561]],\n \n         [[ 1.6361, -0.0000,  0.9364, -0.9176,  1.8016,  0.0000, -0.0000],\n          [ 0.0000,  3.0533, -1.6422, -0.0000,  0.0000, -0.8676, -0.0000],\n          [-0.0000, -1.1969,  0.4168, -0.6237,  0.6346,  0.0000,  1.8553]]]))"
     },
     "execution_count": null,
     "metadata": {},
     "output_type": "execute_result"
    }
   ],
   "source": "dp = RNNDropout(0.3)\ntst_input = torch.randn(3,3,7)\ntst_input, dp(tst_input)"
  },
  {
   "cell_type": "code",
   "execution_count": null,
   "metadata": {
    "hide_input": true
   },
   "outputs": [
    {
     "data": {
      "text/markdown": "### <a id=WeightDropout></a>`class` `WeightDropout`\n> `WeightDropout`(`module`:[`Module`](https://pytorch.org/docs/stable/nn.html#torch.nn.Module), `weight_p`:`float`, `layer_names`:`StrList`=`['weight_hh_l0']`) :: [`Module`](https://pytorch.org/docs/stable/nn.html#torch.nn.Module)\n<a href=\"https://github.com/fastai/fastai/blob/master/fastai/text/models.py#L23\">[source]</a>",
      "text/plain": "<IPython.core.display.Markdown object>"
     },
     "metadata": {},
     "output_type": "display_data"
    },
    {
     "data": {
      "text/markdown": "### <a id=WeightDropout></a>`class` `WeightDropout`\n> `WeightDropout`(`module`:[`Module`](https://pytorch.org/docs/stable/nn.html#torch.nn.Module), `weight_p`:`float`, `layer_names`:`StrList`=`['weight_hh_l0']`) :: [`Module`](https://pytorch.org/docs/stable/nn.html#torch.nn.Module)\n<a href=\"https://github.com/fastai/fastai/blob/master/fastai/text/models.py#L23\">[source]</a>",
      "text/plain": "<IPython.core.display.Markdown object>"
     },
     "execution_count": null,
     "metadata": {},
     "output_type": "execute_result"
    }
   ],
   "source": "show_doc(WeightDropout, doc_string=False, title_level=3)"
  },
  {
   "cell_type": "markdown",
   "metadata": {},
   "source": "Applies dropout of probability `weight_p` to the layers in `layer_names` of `module` in training mode. A copy of those weights is kept so that the dropout mask can change at every batch."
  },
  {
   "cell_type": "code",
   "execution_count": null,
   "metadata": {},
   "outputs": [
    {
     "data": {
      "text/plain": "Parameter containing:\ntensor([[-0.5222,  0.4933],\n        [ 0.5108, -0.3863],\n        [ 0.4076, -0.4272],\n        [ 0.3383, -0.5260],\n        [-0.0579,  0.4174],\n        [ 0.5398,  0.6208],\n        [-0.4088,  0.2255],\n        [-0.5841, -0.3922]], requires_grad=True)"
     },
     "execution_count": null,
     "metadata": {},
     "output_type": "execute_result"
    }
   ],
   "source": "module = nn.LSTM(5, 2)\ndp_module = WeightDropout(module, 0.4)\ngetattr(dp_module.module, 'weight_hh_l0')"
  },
  {
   "cell_type": "markdown",
   "metadata": {},
   "source": "It's at the beginning of a forward pass that the dropout is applied to the weights."
  },
  {
   "cell_type": "code",
   "execution_count": null,
   "metadata": {},
   "outputs": [
    {
     "data": {
      "text/plain": "tensor([[-0.8704,  0.0000],\n        [ 0.0000, -0.0000],\n        [ 0.6794, -0.7120],\n        [ 0.5639, -0.8767],\n        [-0.0000,  0.6956],\n        [ 0.8997,  1.0347],\n        [-0.0000,  0.3759],\n        [-0.9734, -0.0000]], grad_fn=<MulBackward0>)"
     },
     "execution_count": null,
     "metadata": {},
     "output_type": "execute_result"
    }
   ],
   "source": "tst_input = torch.randn(4,20,5)\nh = (torch.zeros(1,20,2), torch.zeros(1,20,2))\nx,h = dp_module(tst_input,h)\ngetattr(dp_module.module, 'weight_hh_l0')"
  },
  {
   "cell_type": "code",
   "execution_count": null,
   "metadata": {
    "hide_input": true
   },
   "outputs": [
    {
     "data": {
      "text/markdown": "### <a id=SequentialRNN></a>`class` `SequentialRNN`\n> `SequentialRNN`(`args`) :: [`Sequential`](https://pytorch.org/docs/stable/nn.html#torch.nn.Sequential)\n<a href=\"https://github.com/fastai/fastai/blob/master/fastai/text/models.py#L151\">[source]</a>",
      "text/plain": "<IPython.core.display.Markdown object>"
     },
     "metadata": {},
     "output_type": "display_data"
    },
    {
     "data": {
      "text/markdown": "### <a id=SequentialRNN></a>`class` `SequentialRNN`\n> `SequentialRNN`(`args`) :: [`Sequential`](https://pytorch.org/docs/stable/nn.html#torch.nn.Sequential)\n<a href=\"https://github.com/fastai/fastai/blob/master/fastai/text/models.py#L151\">[source]</a>",
      "text/plain": "<IPython.core.display.Markdown object>"
     },
     "execution_count": null,
     "metadata": {},
     "output_type": "execute_result"
    }
   ],
   "source": "show_doc(SequentialRNN, doc_string=False, title_level=3)"
  },
  {
   "cell_type": "markdown",
   "metadata": {},
   "source": "Create a `Sequentiall` module with `args` that has a `reset` function."
  },
  {
   "cell_type": "code",
   "execution_count": null,
   "metadata": {
    "hide_input": true
   },
   "outputs": [
    {
     "data": {
      "text/markdown": "#### <a id=reset></a>`reset`\n> `reset`()\n<a href=\"https://github.com/fastai/fastai/blob/master/fastai/text/models.py#L153\">[source]</a>",
      "text/plain": "<IPython.core.display.Markdown object>"
     },
     "metadata": {},
     "output_type": "display_data"
    },
    {
     "data": {
      "text/markdown": "#### <a id=reset></a>`reset`\n> `reset`()\n<a href=\"https://github.com/fastai/fastai/blob/master/fastai/text/models.py#L153\">[source]</a>",
      "text/plain": "<IPython.core.display.Markdown object>"
     },
     "execution_count": null,
     "metadata": {},
     "output_type": "execute_result"
    }
   ],
   "source": "show_doc(SequentialRNN.reset)"
  },
  {
   "cell_type": "markdown",
   "metadata": {},
   "source": "Call the `reset` function of [`self.children`](/torch_core.html#children) (if they have one)."
  },
  {
   "cell_type": "code",
   "execution_count": null,
   "metadata": {
    "hide_input": true
   },
   "outputs": [
    {
     "data": {
      "text/markdown": "#### <a id=dropout_mask></a>`dropout_mask`\n> `dropout_mask`(`x`:`Tensor`, `sz`:`Collection`\\[`int`\\], `p`:`float`)\n<a href=\"https://github.com/fastai/fastai/blob/master/fastai/text/models.py#L7\">[source]</a>",
      "text/plain": "<IPython.core.display.Markdown object>"
     },
     "metadata": {},
     "output_type": "display_data"
    },
    {
     "data": {
      "text/markdown": "#### <a id=dropout_mask></a>`dropout_mask`\n> `dropout_mask`(`x`:`Tensor`, `sz`:`Collection`\\[`int`\\], `p`:`float`)\n<a href=\"https://github.com/fastai/fastai/blob/master/fastai/text/models.py#L7\">[source]</a>",
      "text/plain": "<IPython.core.display.Markdown object>"
     },
     "execution_count": null,
     "metadata": {},
     "output_type": "execute_result"
    }
   ],
   "source": "show_doc(dropout_mask, doc_string=False)"
  },
  {
   "cell_type": "markdown",
   "metadata": {},
   "source": "Create a dropout mask of size `sz`, the same type as `x` and probability `p`."
  },
  {
   "cell_type": "code",
   "execution_count": null,
   "metadata": {},
   "outputs": [
    {
     "data": {
      "text/plain": "tensor([[1.4286, 1.4286, 1.4286, 1.4286, 0.0000, 1.4286, 0.0000],\n        [1.4286, 0.0000, 1.4286, 1.4286, 1.4286, 1.4286, 1.4286],\n        [1.4286, 1.4286, 1.4286, 1.4286, 1.4286, 1.4286, 1.4286]])"
     },
     "execution_count": null,
     "metadata": {},
     "output_type": "execute_result"
    }
   ],
   "source": "tst_input = torch.randn(3,3,7)\ndropout_mask(tst_input, (3,7), 0.3)"
  },
  {
   "cell_type": "markdown",
   "metadata": {},
   "source": "Such a mask is then expanded in the sequence length dimension and multiplied by the input to do an [`RNNDropout`](/text.models.html#RNNDropout)."
  },
  {
   "cell_type": "markdown",
   "metadata": {},
   "source": "## Language model modules"
  },
  {
   "cell_type": "code",
   "execution_count": null,
   "metadata": {
    "hide_input": true
   },
   "outputs": [
    {
     "data": {
      "text/markdown": "### <a id=RNNCore></a>`class` `RNNCore`\n> `RNNCore`(`vocab_sz`:`int`, `emb_sz`:`int`, `n_hid`:`int`, `n_layers`:`int`, `pad_token`:`int`, `bidir`:`bool`=`False`, `hidden_p`:`float`=`0.2`, `input_p`:`float`=`0.6`, `embed_p`:`float`=`0.1`, `weight_p`:`float`=`0.5`, `qrnn`:`bool`=`False`) :: [`Module`](https://pytorch.org/docs/stable/nn.html#torch.nn.Module)\n<a href=\"https://github.com/fastai/fastai/blob/master/fastai/text/models.py#L73\">[source]</a>",
      "text/plain": "<IPython.core.display.Markdown object>"
     },
     "metadata": {},
     "output_type": "display_data"
    },
    {
     "data": {
      "text/markdown": "### <a id=RNNCore></a>`class` `RNNCore`\n> `RNNCore`(`vocab_sz`:`int`, `emb_sz`:`int`, `n_hid`:`int`, `n_layers`:`int`, `pad_token`:`int`, `bidir`:`bool`=`False`, `hidden_p`:`float`=`0.2`, `input_p`:`float`=`0.6`, `embed_p`:`float`=`0.1`, `weight_p`:`float`=`0.5`, `qrnn`:`bool`=`False`) :: [`Module`](https://pytorch.org/docs/stable/nn.html#torch.nn.Module)\n<a href=\"https://github.com/fastai/fastai/blob/master/fastai/text/models.py#L73\">[source]</a>",
      "text/plain": "<IPython.core.display.Markdown object>"
     },
     "execution_count": null,
     "metadata": {},
     "output_type": "execute_result"
    }
   ],
   "source": "show_doc(RNNCore, doc_string=False, title_level=3)"
  },
  {
   "cell_type": "markdown",
   "metadata": {},
   "source": "Create an AWD-LSTM encoder with an embedding layer of `vocab_sz` by `emb_sz`, a hidden size of `n_hid`, `n_layers` layers. `pad_token` is passed to the `Embedding`, if `bidir` is True, the model is bidirectional. If `qrnn` is True, we use QRNN cells instead of LSTMs. Dropouts are `embed_p`, `input_p`, `weight_p` and `hidden_p`."
  },
  {
   "cell_type": "code",
   "execution_count": null,
   "metadata": {
    "hide_input": true
   },
   "outputs": [
    {
     "data": {
      "text/markdown": "#### <a id=reset></a>`reset`\n> `reset`()\n\n\nReset the hidden states. <a href=\"https://github.com/fastai/fastai/blob/master/fastai/text/models.py#L125\">[source]</a>",
      "text/plain": "<IPython.core.display.Markdown object>"
     },
     "metadata": {},
     "output_type": "display_data"
    },
    {
     "data": {
      "text/markdown": "#### <a id=reset></a>`reset`\n> `reset`()\n\n\nReset the hidden states. <a href=\"https://github.com/fastai/fastai/blob/master/fastai/text/models.py#L125\">[source]</a>",
      "text/plain": "<IPython.core.display.Markdown object>"
     },
     "execution_count": null,
     "metadata": {},
     "output_type": "execute_result"
    }
   ],
   "source": "show_doc(RNNCore.reset)"
  },
  {
   "cell_type": "code",
   "execution_count": null,
   "metadata": {
    "hide_input": true
   },
   "outputs": [
    {
     "data": {
      "text/markdown": "### <a id=LinearDecoder></a>`class` `LinearDecoder`\n> `LinearDecoder`(`n_out`:`int`, `n_hid`:`int`, `output_p`:`float`, `tie_encoder`:[`Module`](https://pytorch.org/docs/stable/nn.html#torch.nn.Module)=`None`, `bias`:`bool`=`True`) :: [`Module`](https://pytorch.org/docs/stable/nn.html#torch.nn.Module)\n<a href=\"https://github.com/fastai/fastai/blob/master/fastai/text/models.py#L132\">[source]</a>",
      "text/plain": "<IPython.core.display.Markdown object>"
     },
     "metadata": {},
     "output_type": "display_data"
    },
    {
     "data": {
      "text/markdown": "### <a id=LinearDecoder></a>`class` `LinearDecoder`\n> `LinearDecoder`(`n_out`:`int`, `n_hid`:`int`, `output_p`:`float`, `tie_encoder`:[`Module`](https://pytorch.org/docs/stable/nn.html#torch.nn.Module)=`None`, `bias`:`bool`=`True`) :: [`Module`](https://pytorch.org/docs/stable/nn.html#torch.nn.Module)\n<a href=\"https://github.com/fastai/fastai/blob/master/fastai/text/models.py#L132\">[source]</a>",
      "text/plain": "<IPython.core.display.Markdown object>"
     },
     "execution_count": null,
     "metadata": {},
     "output_type": "execute_result"
    }
   ],
   "source": "show_doc(LinearDecoder, doc_string=False, title_level=3)"
  },
  {
   "cell_type": "markdown",
   "metadata": {},
   "source": "Create a the decoder to go on top of an [`RNNCore`](/text.models.html#RNNCore) encoder and create a language model. `n_hid` is the dimension of the last hidden state of the encoder, `n_out` the size of the output. Dropout of `output_p` is applied. If a `tie_encoder` is passed, it will be used for the weights of the linear layer, that will have `bias` or not."
  },
  {
   "cell_type": "markdown",
   "metadata": {},
   "source": "## Classifier modules"
  },
  {
   "cell_type": "code",
   "execution_count": null,
   "metadata": {
    "hide_input": true
   },
   "outputs": [
    {
     "data": {
      "text/markdown": "### <a id=MultiBatchRNNCore></a>`class` `MultiBatchRNNCore`\n> `MultiBatchRNNCore`(`bptt`:`int`, `max_seq`:`int`, `args`, `kwargs`) :: [`RNNCore`](/text.models.html#RNNCore)\n<a href=\"https://github.com/fastai/fastai/blob/master/fastai/text/models.py#L157\">[source]</a>",
      "text/plain": "<IPython.core.display.Markdown object>"
     },
     "metadata": {},
     "output_type": "display_data"
    },
    {
     "data": {
      "text/markdown": "### <a id=MultiBatchRNNCore></a>`class` `MultiBatchRNNCore`\n> `MultiBatchRNNCore`(`bptt`:`int`, `max_seq`:`int`, `args`, `kwargs`) :: [`RNNCore`](/text.models.html#RNNCore)\n<a href=\"https://github.com/fastai/fastai/blob/master/fastai/text/models.py#L157\">[source]</a>",
      "text/plain": "<IPython.core.display.Markdown object>"
     },
     "execution_count": null,
     "metadata": {},
     "output_type": "execute_result"
    }
   ],
   "source": "show_doc(MultiBatchRNNCore, doc_string=False, title_level=3)"
  },
  {
   "cell_type": "markdown",
   "metadata": {},
   "source": "Wrap an [`RNNCore`](/text.models.html#RNNCore) to make it process full sentences: text is passed by chunks of sequence length `bptt` and only the last `max_seq` outputs are kept for the next layer. `args` and `kwargs` are passed to the [`RNNCore`](/text.models.html#RNNCore)."
  },
  {
   "cell_type": "code",
   "execution_count": null,
   "metadata": {
    "hide_input": true
   },
   "outputs": [
    {
     "data": {
      "text/markdown": "#### <a id=concat></a>`concat`\n> `concat`(`arrs`:`Collection`\\[`Tensor`\\]) -> `Tensor`\n\n\nConcatenate the `arrs` along the batch dimension. <a href=\"https://github.com/fastai/fastai/blob/master/fastai/text/models.py#L164\">[source]</a>",
      "text/plain": "<IPython.core.display.Markdown object>"
     },
     "metadata": {},
     "output_type": "display_data"
    },
    {
     "data": {
      "text/markdown": "#### <a id=concat></a>`concat`\n> `concat`(`arrs`:`Collection`\\[`Tensor`\\]) -> `Tensor`\n\n\nConcatenate the `arrs` along the batch dimension. <a href=\"https://github.com/fastai/fastai/blob/master/fastai/text/models.py#L164\">[source]</a>",
      "text/plain": "<IPython.core.display.Markdown object>"
     },
     "execution_count": null,
     "metadata": {},
     "output_type": "execute_result"
    }
   ],
   "source": "show_doc(MultiBatchRNNCore.concat)"
  },
  {
   "cell_type": "code",
   "execution_count": null,
   "metadata": {
    "hide_input": true
   },
   "outputs": [
    {
     "data": {
      "text/markdown": "### <a id=PoolingLinearClassifier></a>`class` `PoolingLinearClassifier`\n> `PoolingLinearClassifier`(`layers`:`Collection`\\[`int`\\], `drops`:`Collection`\\[`float`\\]) :: [`Module`](https://pytorch.org/docs/stable/nn.html#torch.nn.Module)\n<a href=\"https://github.com/fastai/fastai/blob/master/fastai/text/models.py#L179\">[source]</a>",
      "text/plain": "<IPython.core.display.Markdown object>"
     },
     "metadata": {},
     "output_type": "display_data"
    },
    {
     "data": {
      "text/markdown": "### <a id=PoolingLinearClassifier></a>`class` `PoolingLinearClassifier`\n> `PoolingLinearClassifier`(`layers`:`Collection`\\[`int`\\], `drops`:`Collection`\\[`float`\\]) :: [`Module`](https://pytorch.org/docs/stable/nn.html#torch.nn.Module)\n<a href=\"https://github.com/fastai/fastai/blob/master/fastai/text/models.py#L179\">[source]</a>",
      "text/plain": "<IPython.core.display.Markdown object>"
     },
     "execution_count": null,
     "metadata": {},
     "output_type": "execute_result"
    }
   ],
   "source": "show_doc(PoolingLinearClassifier, doc_string=False, title_level=3)"
  },
  {
   "cell_type": "markdown",
   "metadata": {},
   "source": "Create a linear classifier that sits on an [`RNNCore`](/text.models.html#RNNCore) encoder. The last output, `MaxPooling` of all the outputs and `AvgPooling` of all the outputs are concatenated, then blocks of [`bn_drop_lin`](/layers.html#bn_drop_lin) are stacked, according to the values in [`layers`](/layers.html#layers) and `drops`."
  },
  {
   "cell_type": "code",
   "execution_count": null,
   "metadata": {
    "hide_input": true
   },
   "outputs": [
    {
     "data": {
      "text/markdown": "#### <a id=pool></a>`pool`\n> `pool`(`x`:`Tensor`, `bs`:`int`, `is_max`:`bool`)\n<a href=\"https://github.com/fastai/fastai/blob/master/fastai/text/models.py#L190\">[source]</a>",
      "text/plain": "<IPython.core.display.Markdown object>"
     },
     "metadata": {},
     "output_type": "display_data"
    },
    {
     "data": {
      "text/markdown": "#### <a id=pool></a>`pool`\n> `pool`(`x`:`Tensor`, `bs`:`int`, `is_max`:`bool`)\n<a href=\"https://github.com/fastai/fastai/blob/master/fastai/text/models.py#L190\">[source]</a>",
      "text/plain": "<IPython.core.display.Markdown object>"
     },
     "execution_count": null,
     "metadata": {},
     "output_type": "execute_result"
    }
   ],
   "source": "show_doc(PoolingLinearClassifier.pool, doc_string=False)"
  },
  {
   "cell_type": "markdown",
   "metadata": {},
   "source": "Pool `x` (of batch size `bs`) along the batch dimension. `is_max` decides if we do an `AvgPooling` or a `MaxPooling`."
  },
  {
   "cell_type": "markdown",
   "metadata": {},
   "source": "## Undocumented Methods - Methods moved below this line will intentionally be hidden"
  },
  {
   "cell_type": "code",
   "execution_count": null,
   "metadata": {},
   "outputs": [
    {
     "data": {
      "text/markdown": "#### <a id=forward></a>`forward`\n> `forward`(`args`:`Classes`)\n\n\nShould be overridden by all subclasses.\n\n.. note::\n    Although the recipe for forward pass needs to be defined within\n    this function, one should call the :class:`Module` instance afterwards\n    instead of this since the former takes care of running the\n    registered hooks while the latter silently ignores them. <a href=\"https://github.com/fastai/fastai/blob/master/fastai/text/models.py#L40\">[source]</a>",
      "text/plain": "<IPython.core.display.Markdown object>"
     },
     "metadata": {},
     "output_type": "display_data"
    },
    {
     "data": {
      "text/markdown": "#### <a id=forward></a>`forward`\n> `forward`(`args`:`Classes`)\n\n\nShould be overridden by all subclasses.\n\n.. note::\n    Although the recipe for forward pass needs to be defined within\n    this function, one should call the :class:`Module` instance afterwards\n    instead of this since the former takes care of running the\n    registered hooks while the latter silently ignores them. <a href=\"https://github.com/fastai/fastai/blob/master/fastai/text/models.py#L40\">[source]</a>",
      "text/plain": "<IPython.core.display.Markdown object>"
     },
     "execution_count": null,
     "metadata": {},
     "output_type": "execute_result"
    }
   ],
   "source": "show_doc(WeightDropout.forward)"
  },
  {
   "cell_type": "code",
   "execution_count": null,
   "metadata": {},
   "outputs": [
    {
     "data": {
      "text/markdown": "#### <a id=forward></a>`forward`\n> `forward`(`input`:`LongTensor`) -> `Tuple`\\[`Tensor`, `Tensor`\\]\n\n\nShould be overridden by all subclasses.\n\n.. note::\n    Although the recipe for forward pass needs to be defined within\n    this function, one should call the :class:`Module` instance afterwards\n    instead of this since the former takes care of running the\n    registered hooks while the latter silently ignores them. <a href=\"https://github.com/fastai/fastai/blob/master/fastai/text/models.py#L104\">[source]</a>",
      "text/plain": "<IPython.core.display.Markdown object>"
     },
     "metadata": {},
     "output_type": "display_data"
    },
    {
     "data": {
      "text/markdown": "#### <a id=forward></a>`forward`\n> `forward`(`input`:`LongTensor`) -> `Tuple`\\[`Tensor`, `Tensor`\\]\n\n\nShould be overridden by all subclasses.\n\n.. note::\n    Although the recipe for forward pass needs to be defined within\n    this function, one should call the :class:`Module` instance afterwards\n    instead of this since the former takes care of running the\n    registered hooks while the latter silently ignores them. <a href=\"https://github.com/fastai/fastai/blob/master/fastai/text/models.py#L104\">[source]</a>",
      "text/plain": "<IPython.core.display.Markdown object>"
     },
     "execution_count": null,
     "metadata": {},
     "output_type": "execute_result"
    }
   ],
   "source": "show_doc(RNNCore.forward)"
  },
  {
   "cell_type": "code",
   "execution_count": null,
   "metadata": {},
   "outputs": [
    {
     "data": {
      "text/markdown": "#### <a id=forward></a>`forward`\n> `forward`(`words`:`LongTensor`, `scale`:`Optional`\\[`float`\\]=`None`) -> `Tensor`\n\n\nShould be overridden by all subclasses.\n\n.. note::\n    Although the recipe for forward pass needs to be defined within\n    this function, one should call the :class:`Module` instance afterwards\n    instead of this since the former takes care of running the\n    registered hooks while the latter silently ignores them. <a href=\"https://github.com/fastai/fastai/blob/master/fastai/text/models.py#L59\">[source]</a>",
      "text/plain": "<IPython.core.display.Markdown object>"
     },
     "metadata": {},
     "output_type": "display_data"
    },
    {
     "data": {
      "text/markdown": "#### <a id=forward></a>`forward`\n> `forward`(`words`:`LongTensor`, `scale`:`Optional`\\[`float`\\]=`None`) -> `Tensor`\n\n\nShould be overridden by all subclasses.\n\n.. note::\n    Although the recipe for forward pass needs to be defined within\n    this function, one should call the :class:`Module` instance afterwards\n    instead of this since the former takes care of running the\n    registered hooks while the latter silently ignores them. <a href=\"https://github.com/fastai/fastai/blob/master/fastai/text/models.py#L59\">[source]</a>",
      "text/plain": "<IPython.core.display.Markdown object>"
     },
     "execution_count": null,
     "metadata": {},
     "output_type": "execute_result"
    }
   ],
   "source": "show_doc(EmbeddingDropout.forward)"
  },
  {
   "cell_type": "code",
   "execution_count": null,
   "metadata": {},
   "outputs": [
    {
     "data": {
      "text/markdown": "#### <a id=forward></a>`forward`\n> `forward`(`x`:`Tensor`) -> `Tensor`\n\n\nShould be overridden by all subclasses.\n\n.. note::\n    Although the recipe for forward pass needs to be defined within\n    this function, one should call the :class:`Module` instance afterwards\n    instead of this since the former takes care of running the\n    registered hooks while the latter silently ignores them. <a href=\"https://github.com/fastai/fastai/blob/master/fastai/text/models.py#L18\">[source]</a>",
      "text/plain": "<IPython.core.display.Markdown object>"
     },
     "metadata": {},
     "output_type": "display_data"
    },
    {
     "data": {
      "text/markdown": "#### <a id=forward></a>`forward`\n> `forward`(`x`:`Tensor`) -> `Tensor`\n\n\nShould be overridden by all subclasses.\n\n.. note::\n    Although the recipe for forward pass needs to be defined within\n    this function, one should call the :class:`Module` instance afterwards\n    instead of this since the former takes care of running the\n    registered hooks while the latter silently ignores them. <a href=\"https://github.com/fastai/fastai/blob/master/fastai/text/models.py#L18\">[source]</a>",
      "text/plain": "<IPython.core.display.Markdown object>"
     },
     "execution_count": null,
     "metadata": {},
     "output_type": "execute_result"
    }
   ],
   "source": "show_doc(RNNDropout.forward)"
  },
  {
   "cell_type": "markdown",
   "metadata": {},
   "source": "## New Methods - Please document or move to the undocumented section"
  }
 ],
 "metadata": {
  "jekyll": {
   "summary": "Implementation of the AWD-LSTM and the RNN models",
   "title": "text.models"
  },
  "kernelspec": {
   "display_name": "Python 3",
   "language": "python",
   "name": "python3"
  }
 },
 "nbformat": 4,
 "nbformat_minor": 2
}
