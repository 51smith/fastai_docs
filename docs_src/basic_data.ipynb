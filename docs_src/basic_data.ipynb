{
 "cells": [
  {
   "cell_type": "markdown",
   "metadata": {},
   "source": [
    "# Get your data ready for training"
   ]
  },
  {
   "cell_type": "markdown",
   "metadata": {},
   "source": [
    "This module defines the basic [`DataBunch`](/basic_data.html#DataBunch) object that is used inside [`Learner`](/basic_train.html#Learner) to train a model. This is the generic class, that can take any kind of fastai [`Dataset`](https://pytorch.org/docs/stable/data.html#torch.utils.data.Dataset) or [`DataLoader`](https://pytorch.org/docs/stable/data.html#torch.utils.data.DataLoader). You'll find helpful functions in the data module of every application to directly create this [`DataBunch`](/basic_data.html#DataBunch) for you."
   ]
  },
  {
   "cell_type": "code",
   "execution_count": null,
   "metadata": {
    "hide_input": true
   },
   "outputs": [],
   "source": [
    "from fastai.gen_doc.nbdoc import *\n",
    "from fastai.basic_data import * "
   ]
  },
  {
   "cell_type": "code",
   "execution_count": null,
   "metadata": {
    "hide_input": true
   },
   "outputs": [
    {
     "data": {
      "text/markdown": [
       "<a id=DataBunch></a><div><h2 style=\"display:inline\"><code>class</code> <code>DataBunch</code></h2><div style=\"float:right\"><a href=\"https://github.com/fastai/fastai/blob/master/fastai/basic_data.py#L69\">[source]</a></div></div>\n",
       "\n",
       "> <code>DataBunch</code>(`train_dl`:[`DataLoader`](https://pytorch.org/docs/stable/data.html#torch.utils.data.DataLoader), `valid_dl`:[`DataLoader`](https://pytorch.org/docs/stable/data.html#torch.utils.data.DataLoader), `test_dl`:`Optional`\\[[`DataLoader`](https://pytorch.org/docs/stable/data.html#torch.utils.data.DataLoader)\\]=`None`, `device`:[`device`](https://pytorch.org/docs/stable/tensor_attributes.html#torch-device)=`None`, `tfms`:`Optional`\\[`Collection`\\[`Callable`\\]\\]=`None`, `path`:`PathOrStr`=`'.'`, `collate_fn`:`Callable`=`'data_collate'`)"
      ],
      "text/plain": [
       "<IPython.core.display.Markdown object>"
      ]
     },
     "metadata": {},
     "output_type": "display_data"
    }
   ],
   "source": [
    "show_doc(DataBunch, doc_string=False)"
   ]
  },
  {
   "cell_type": "markdown",
   "metadata": {},
   "source": [
    "Bind together a `train_dl`, a `valid_dl` and optionally a `test_dl`, ensures they are on `device` and apply to them `tfms` as batch are drawn. `path` is used internally to store temporary files, `collate_fn` is passed to the pytorch `Dataloader` (replacing the one there) to explain how to collate the samples picked for a batch. By default, it applies data to the object sent (see in [`vision.image`](/vision.image.html#vision.image) why this can be important). \n",
    "\n",
    "An example of `tfms` to pass is normalization. `train_dl`, `valid_dl` and optionally `test_dl` will be wrapped in [`DeviceDataLoader`](/basic_data.html#DeviceDataLoader)."
   ]
  },
  {
   "cell_type": "code",
   "execution_count": null,
   "metadata": {
    "hide_input": true
   },
   "outputs": [
    {
     "data": {
      "text/markdown": [
       "<a id=DataBunch.create></a><div><h4 style=\"display:inline\"><code>create</code></h4><div style=\"float:right\"><a href=\"https://github.com/fastai/fastai/blob/master/fastai/basic_data.py#L82\">[source]</a></div></div>\n",
       "\n",
       "> <code>create</code>(`train_ds`:[`Dataset`](https://pytorch.org/docs/stable/data.html#torch.utils.data.Dataset), `valid_ds`:[`Dataset`](https://pytorch.org/docs/stable/data.html#torch.utils.data.Dataset), `test_ds`:[`Dataset`](https://pytorch.org/docs/stable/data.html#torch.utils.data.Dataset)=`None`, `path`:`PathOrStr`=`'.'`, `bs`:`int`=`64`, `num_workers`:`int`=`8`, `tfms`:`Optional`\\[`Collection`\\[`Callable`\\]\\]=`None`, `device`:[`device`](https://pytorch.org/docs/stable/tensor_attributes.html#torch-device)=`None`, `collate_fn`:`Callable`=`'data_collate'`) → `DataBunch`"
      ],
      "text/plain": [
       "<IPython.core.display.Markdown object>"
      ]
     },
     "metadata": {},
     "output_type": "display_data"
    }
   ],
   "source": [
    "show_doc(DataBunch.create, doc_string=False)"
   ]
  },
  {
   "cell_type": "markdown",
   "metadata": {},
   "source": [
    "Create a [`DataBunch`](/basic_data.html#DataBunch) from `train_ds`, `valid_ds` and optionally `test_ds`, with batch size `bs` and by using `num_workers`. `tfms` and `device` are passed to the init method."
   ]
  },
  {
   "cell_type": "code",
   "execution_count": null,
   "metadata": {
    "hide_input": true
   },
   "outputs": [
    {
     "data": {
      "text/markdown": [
       "<a id=DataBunch.holdout></a><div><h4 style=\"display:inline\"><code>holdout</code></h4><div style=\"float:right\"><a href=\"https://github.com/fastai/fastai/blob/master/fastai/basic_data.py#L94\">[source]</a></div></div>\n",
       "\n",
       "> <code>holdout</code>(`is_test`:`bool`=`False`) → [`DeviceDataLoader`](/basic_data.html#DeviceDataLoader)"
      ],
      "text/plain": [
       "<IPython.core.display.Markdown object>"
      ]
     },
     "metadata": {},
     "output_type": "display_data"
    }
   ],
   "source": [
    "show_doc(DataBunch.holdout, doc_string=False)"
   ]
  },
  {
   "cell_type": "markdown",
   "metadata": {},
   "source": [
    "Return the `self.test_dl` if `is_test` is True, else `self.valid_dl`."
   ]
  },
  {
   "cell_type": "code",
   "execution_count": null,
   "metadata": {
    "hide_input": true
   },
   "outputs": [
    {
     "data": {
      "text/markdown": [
       "<a id=DeviceDataLoader></a><div><h2 style=\"display:inline\"><code>class</code> <code>DeviceDataLoader</code></h2><div style=\"float:right\"><a href=\"https://github.com/fastai/fastai/blob/master/fastai/basic_data.py#L23\">[source]</a></div></div>\n",
       "\n",
       "> <code>DeviceDataLoader</code>(`dl`:[`DataLoader`](https://pytorch.org/docs/stable/data.html#torch.utils.data.DataLoader), `device`:[`device`](https://pytorch.org/docs/stable/tensor_attributes.html#torch-device), `tfms`:`List`\\[`Callable`\\]=`None`, `collate_fn`:`Callable`=`'data_collate'`)"
      ],
      "text/plain": [
       "<IPython.core.display.Markdown object>"
      ]
     },
     "metadata": {},
     "output_type": "display_data"
    }
   ],
   "source": [
    "show_doc(DeviceDataLoader, doc_string=False)"
   ]
  },
  {
   "cell_type": "markdown",
   "metadata": {},
   "source": [
    "Put the batches of `dl` on `device` after applying an optional list of `tfms`. `collate_fn` will replace the one of `dl`. All dataloaders of a [`DataBunch`](/basic_data.html#DataBunch) are of this type. "
   ]
  },
  {
   "cell_type": "markdown",
   "metadata": {},
   "source": [
    "### Factory method"
   ]
  },
  {
   "cell_type": "code",
   "execution_count": null,
   "metadata": {
    "hide_input": true
   },
   "outputs": [
    {
     "data": {
      "text/markdown": [
       "<a id=DeviceDataLoader.create></a><div><h4 style=\"display:inline\"><code>create</code></h4><div style=\"float:right\"><a href=\"https://github.com/fastai/fastai/blob/master/fastai/basic_data.py#L62\">[source]</a></div></div>\n",
       "\n",
       "> <code>create</code>(`dataset`:[`Dataset`](https://pytorch.org/docs/stable/data.html#torch.utils.data.Dataset), `bs`:`int`=`64`, `shuffle`:`bool`=`False`, `device`:[`device`](https://pytorch.org/docs/stable/tensor_attributes.html#torch-device)=`device(type='cpu')`, `tfms`:`Collection`\\[`Callable`\\]=`None`, `num_workers`:`int`=`8`, `collate_fn`:`Callable`=`'data_collate'`, `kwargs`:`Any`)"
      ],
      "text/plain": [
       "<IPython.core.display.Markdown object>"
      ]
     },
     "metadata": {},
     "output_type": "display_data"
    }
   ],
   "source": [
    "show_doc(DeviceDataLoader.create, doc_string=False)"
   ]
  },
  {
   "cell_type": "markdown",
   "metadata": {},
   "source": [
    "Create a [`DeviceDataLoader`](/basic_data.html#DeviceDataLoader) on `device` from a `dataset` with batch size `bs`, `num_workers`processes and a given `collate_fn`. The dataloader will `shuffle` the data if that flag is set to True, and `tfms` are passed to the init method. All `kwargs` are passed to the pytorch [`DataLoader`](https://pytorch.org/docs/stable/data.html#torch.utils.data.DataLoader) class initialization."
   ]
  },
  {
   "cell_type": "markdown",
   "metadata": {},
   "source": [
    "### Internal methods"
   ]
  },
  {
   "cell_type": "code",
   "execution_count": null,
   "metadata": {
    "hide_input": true
   },
   "outputs": [
    {
     "data": {
      "text/markdown": [
       "<a id=DeviceDataLoader.proc_batch></a><div><h4 style=\"display:inline\"><code>proc_batch</code></h4><div style=\"float:right\"><a href=\"https://github.com/fastai/fastai/blob/master/fastai/basic_data.py#L44\">[source]</a></div></div>\n",
       "\n",
       "> <code>proc_batch</code>(`b`:`Tensor`) → `Tensor`\n",
       "\n",
       "Proces batch `b` of `TensorImage`.  "
      ],
      "text/plain": [
       "<IPython.core.display.Markdown object>"
      ]
     },
     "metadata": {},
     "output_type": "display_data"
    }
   ],
   "source": [
    "show_doc(DeviceDataLoader.proc_batch)"
   ]
  },
  {
   "cell_type": "code",
   "execution_count": null,
   "metadata": {
    "hide_input": true
   },
   "outputs": [
    {
     "data": {
      "text/markdown": [
       "<a id=DeviceDataLoader.add_tfm></a><div><h4 style=\"display:inline\"><code>add_tfm</code></h4><div style=\"float:right\"><a href=\"https://github.com/fastai/fastai/blob/master/fastai/basic_data.py#L41\">[source]</a></div></div>\n",
       "\n",
       "> <code>add_tfm</code>(`tfm`:`Callable`)"
      ],
      "text/plain": [
       "<IPython.core.display.Markdown object>"
      ]
     },
     "metadata": {},
     "output_type": "display_data"
    }
   ],
   "source": [
    "show_doc(DeviceDataLoader.add_tfm)"
   ]
  },
  {
   "cell_type": "markdown",
   "metadata": {},
   "source": [
    "Add `tfm` to `self.tfms`."
   ]
  },
  {
   "cell_type": "code",
   "execution_count": null,
   "metadata": {
    "hide_input": true
   },
   "outputs": [
    {
     "data": {
      "text/markdown": [
       "<a id=DeviceDataLoader.remove_tfm></a><div><h4 style=\"display:inline\"><code>remove_tfm</code></h4><div style=\"float:right\"><a href=\"https://github.com/fastai/fastai/blob/master/fastai/basic_data.py#L42\">[source]</a></div></div>\n",
       "\n",
       "> <code>remove_tfm</code>(`tfm`:`Callable`)"
      ],
      "text/plain": [
       "<IPython.core.display.Markdown object>"
      ]
     },
     "metadata": {},
     "output_type": "display_data"
    }
   ],
   "source": [
    "show_doc(DeviceDataLoader.remove_tfm)"
   ]
  },
  {
   "cell_type": "markdown",
   "metadata": {},
   "source": [
    "Remove `tfm` from `self.tfms`."
   ]
  },
  {
   "cell_type": "markdown",
   "metadata": {},
   "source": [
    "## Generic classes"
   ]
  },
  {
   "cell_type": "markdown",
   "metadata": {},
   "source": [
    "Those two last classes are just empty shell to be subclassed by one of the applications."
   ]
  },
  {
   "cell_type": "code",
   "execution_count": null,
   "metadata": {
    "hide_input": true
   },
   "outputs": [
    {
     "data": {
      "text/markdown": [
       "<a id=DatasetBase></a><div><h3 style=\"display:inline\"><code>class</code> <code>DatasetBase</code></h3><div style=\"float:right\"><a href=\"https://github.com/fastai/fastai/blob/master/fastai/basic_data.py#L6\">[source]</a></div></div>\n",
       "\n",
       "> <code>DatasetBase</code>() :: [`Dataset`](https://pytorch.org/docs/stable/data.html#torch.utils.data.Dataset)\n",
       "\n",
       "Base class for all fastai datasets.  "
      ],
      "text/plain": [
       "<IPython.core.display.Markdown object>"
      ]
     },
     "metadata": {},
     "output_type": "display_data"
    }
   ],
   "source": [
    "show_doc(DatasetBase, title_level=3)"
   ]
  },
  {
   "cell_type": "code",
   "execution_count": null,
   "metadata": {
    "hide_input": true
   },
   "outputs": [
    {
     "data": {
      "text/markdown": [
       "<a id=LabelDataset></a><div><h3 style=\"display:inline\"><code>class</code> <code>LabelDataset</code></h3><div style=\"float:right\"><a href=\"https://github.com/fastai/fastai/blob/master/fastai/basic_data.py#L15\">[source]</a></div></div>\n",
       "\n",
       "> <code>LabelDataset</code>() :: [`DatasetBase`](/basic_data.html#DatasetBase)\n",
       "\n",
       "Base class for fastai datasets that do classification.  "
      ],
      "text/plain": [
       "<IPython.core.display.Markdown object>"
      ]
     },
     "metadata": {},
     "output_type": "display_data"
    }
   ],
   "source": [
    "show_doc(LabelDataset, title_level=3)"
   ]
  },
  {
   "cell_type": "markdown",
   "metadata": {},
   "source": [
    "## Undocumented Methods - Methods moved below this line will intentionally be hidden"
   ]
  },
  {
   "cell_type": "markdown",
   "metadata": {},
   "source": [
    "## New Methods - Please document or move to the undocumented section"
   ]
  },
  {
   "cell_type": "code",
   "execution_count": null,
   "metadata": {
    "hide_input": true
   },
   "outputs": [
    {
     "data": {
      "text/markdown": [
       "<a id=DataBunch.add_tfm></a><div><h4 style=\"display:inline\"><code>add_tfm</code></h4><div style=\"float:right\"><a href=\"https://github.com/fastai/fastai/blob/master/fastai/basic_data.py#L98\">[source]</a></div></div>\n",
       "\n",
       "> <code>add_tfm</code>(`tfm`:`Callable`)"
      ],
      "text/plain": [
       "<IPython.core.display.Markdown object>"
      ]
     },
     "metadata": {},
     "output_type": "display_data"
    }
   ],
   "source": [
    "show_doc(DataBunch.add_tfm)"
   ]
  },
  {
   "cell_type": "markdown",
   "metadata": {},
   "source": []
  },
  {
   "cell_type": "code",
   "execution_count": null,
   "metadata": {
    "hide_input": true
   },
   "outputs": [
    {
     "data": {
      "text/markdown": [
       "<a id=data_collate></a><div><h4 style=\"display:inline\"><code>data_collate</code></h4><div style=\"float:right\"><a href=\"https://github.com/fastai/fastai/blob/master/fastai/torch_core.py#L89\">[source]</a></div></div>\n",
       "\n",
       "> <code>data_collate</code>(`batch`:`ItemsList`) → `Tensor`\n",
       "\n",
       "Convert `batch` items to tensor data.  "
      ],
      "text/plain": [
       "<IPython.core.display.Markdown object>"
      ]
     },
     "metadata": {},
     "output_type": "display_data"
    }
   ],
   "source": [
    "show_doc(DeviceDataLoader.collate_fn)"
   ]
  },
  {
   "cell_type": "markdown",
   "metadata": {},
   "source": []
  },
  {
   "cell_type": "code",
   "execution_count": null,
   "metadata": {
    "hide_input": true
   },
   "outputs": [
    {
     "data": {
      "text/markdown": [
       "<a id=DeviceDataLoader.one_batch></a><div><h4 style=\"display:inline\"><code>one_batch</code></h4><div style=\"float:right\"><a href=\"https://github.com/fastai/fastai/blob/master/fastai/basic_data.py#L54\">[source]</a></div></div>\n",
       "\n",
       "> <code>one_batch</code>() → `Collection`\\[`Tensor`\\]\n",
       "\n",
       "Get one batch from the data loader.  "
      ],
      "text/plain": [
       "<IPython.core.display.Markdown object>"
      ]
     },
     "metadata": {},
     "output_type": "display_data"
    }
   ],
   "source": [
    "show_doc(DeviceDataLoader.one_batch)"
   ]
  },
  {
   "cell_type": "markdown",
   "metadata": {},
   "source": []
  }
 ],
 "metadata": {
  "jekyll": {
   "keywords": "fastai",
   "summary": "Basic classes to contain the data for model training.",
   "title": "basic_data"
  },
  "kernelspec": {
   "display_name": "Python 3",
   "language": "python",
   "name": "python3"
  }
 },
 "nbformat": 4,
 "nbformat_minor": 2
}
