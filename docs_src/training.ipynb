{
 "cells": [
  {
   "cell_type": "code",
   "execution_count": null,
   "metadata": {
    "hide_input": true
   },
   "outputs": [],
   "source": [
    "from fastai.gen_doc.gen_notebooks import update_nb_metadata\n",
    "# For updating jekyll metadata. You MUST reload notebook immediately after executing this cell for changes to save\n",
    "update_nb_metadata('training.ipynb', title=None, summary=None)"
   ]
  },
  {
   "cell_type": "markdown",
   "metadata": {},
   "source": [
    "# Training a model"
   ]
  },
  {
   "cell_type": "markdown",
   "metadata": {},
   "source": [
    "The fastai library has structured training around a `Learner` object that binds together a pytorch model, some data with an optimizer and a loss function, which then will allow us to launch training.\n",
    "\n",
    "`basic_train` contains the definition of this `Learner` class along with the wrapper around pytorch optimizer that the library uses. It defines the basic training loop that is used each time you call the `fit` function in fastai (or one of its variants). This training loop is kept to the minimum number of instructions, and most of its customization happens in `Callback` objects.\n",
    "\n",
    "`callback` contains the definition of those, as well as the `CallbackHandler` that is responsible for the communication between the training loop and the `Callback` functions. It maintains a state dictionary to be able to provide to each `Callback` all the informations of the training loop, easily allowing any tweaks you could think of.\n",
    "\n",
    "In `callbacks`, each `Callback` is then implemented in separate modules. Some deal with scheduling the hyperparameters, like `callbacks.one_cycle`, `callbacks.lr_finder` or `callback.general_sched`. Others allow special kind of trainings like `callbacks.fp16` (mixed precision) or `callbacks.rnn`. The `Recorder` or `callbacks.hooks` are useful to save some internal data.\n",
    "\n",
    "`train` then implements those callbacks with useful helper functions. Lastly `metrics` contains all the functions you might want to call to evaluate your results."
   ]
  }
 ],
 "metadata": {
  "jekyll": {
   "summary": "Overview of the modules of the fastai library that help you train a model.",
   "title": "training"
  },
  "kernelspec": {
   "display_name": "Python 3",
   "language": "python",
   "name": "python3"
  }
 },
 "nbformat": 4,
 "nbformat_minor": 2
}
