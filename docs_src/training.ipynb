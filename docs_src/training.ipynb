{
 "cells": [
  {
   "cell_type": "code",
   "execution_count": null,
   "metadata": {
    "hide_input": true
   },
   "outputs": [],
   "source": "from fastai.gen_doc.gen_notebooks import update_nb_metadata\n# For updating jekyll metadata. You MUST reload notebook immediately after executing this cell for changes to save\nupdate_nb_metadata('training.ipynb', title=None, summary=None)"
  },
  {
   "cell_type": "markdown",
   "metadata": {},
   "source": "# Training a model"
  },
  {
   "cell_type": "markdown",
   "metadata": {},
   "source": "The fastai library has structured training around a [[`Learner`](/basic_train.html#Learner)](/basic_train.html#Learner) object that binds together a pytorch model, some data with an optimizer and a loss function, which then will allow us to launch training.\n\n[`basic_train`](/basic_train.html#basic_train) contains the definition of this [[`Learner`](/basic_train.html#Learner)](/basic_train.html#Learner) class along with the wrapper around pytorch optimizer that the library uses. It defines the basic training loop that is used each time you call the [`fit`](/basic_train.html#fit) function in fastai (or one of its variants). This training loop is kept to the minimum number of instructions, and most of its customization happens in [[[[`Callback`](/callback.html#Callback)](/callback.html#Callback)](/callback.html#Callback)](/callback.html#Callback) objects.\n\n[`callback`](/callback.html#callback) contains the definition of those, as well as the [`CallbackHandler`](/callback.html#CallbackHandler) that is responsible for the communication between the training loop and the [[[[`Callback`](/callback.html#Callback)](/callback.html#Callback)](/callback.html#Callback)](/callback.html#Callback) functions. It maintains a state dictionary to be able to provide to each [[[[`Callback`](/callback.html#Callback)](/callback.html#Callback)](/callback.html#Callback)](/callback.html#Callback) all the informations of the training loop, easily allowing any tweaks you could think of.\n\nIn [`callbacks`](/callbacks.html#callbacks), each [[[[`Callback`](/callback.html#Callback)](/callback.html#Callback)](/callback.html#Callback)](/callback.html#Callback) is then implemented in separate modules. Some deal with scheduling the hyperparameters, like [`callbacks.one_cycle`](/callbacks.one_cycle.html#callbacks.one_cycle), [`callbacks.lr_finder`](/callbacks.lr_finder.html#callbacks.lr_finder) or [`callback.general_sched`](/callbacks.general_sched.html#callbacks.general_sched). Others allow special kind of trainings like [`callbacks.fp16`](/callbacks.fp16.html#callbacks.fp16) (mixed precision) or [`callbacks.rnn`](/callbacks.rnn.html#callbacks.rnn). The [`Recorder`](/basic_train.html#Recorder) or [`callbacks.hooks`](/callbacks.hooks.html#callbacks.hooks) are useful to save some internal data.\n\n[`train`](/train.html#train) then implements those callbacks with useful helper functions. Lastly [`metrics`](/metrics.html#metrics) contains all the functions you might want to call to evaluate your results."
  }
 ],
 "metadata": {
  "jekyll": {
   "summary": "Overview of the modules of the fastai library that help you train a model.",
   "title": "training"
  },
  "kernelspec": {
   "display_name": "Python 3",
   "language": "python",
   "name": "python3"
  }
 },
 "nbformat": 4,
 "nbformat_minor": 2
}
