{
 "cells": [
  {
   "cell_type": "code",
   "execution_count": null,
   "metadata": {
    "hide_input": false
   },
   "outputs": [],
   "source": "from fastai.gen_doc.gen_notebooks import update_nb_metadata\n# For updating jekyll metadata. You MUST reload notebook immediately after executing this cell for changes to save\nupdate_nb_metadata('vision.models.ipynb', title=None, summary=None)"
  },
  {
   "cell_type": "markdown",
   "metadata": {},
   "source": "# Fastai models zoo"
  },
  {
   "cell_type": "code",
   "execution_count": null,
   "metadata": {
    "hide_input": true
   },
   "outputs": [],
   "source": "from fastai.gen_doc.nbdoc import *\nfrom fastai.vision.models.darknet import Darknet\nfrom fastai.vision.models.wrn import wrn_22, WideResNet"
  },
  {
   "cell_type": "markdown",
   "metadata": {},
   "source": "On top of the models offered by [torchivision](https://pytorch.org/docs/stable/torchvision/models.html), the fastai library has implementations for the following models:\n\n- Darknet architecture, which is the base of [Yolo v3](https://pjreddie.com/media/files/papers/YOLOv3.pdf)\n- RNN architectures based on the [AWD LSTM](https://arxiv.org/abs/1708.02182), detailed in more details in `models.rnn`\n- a simple tabular model\n- Unet architecture based on a pretrained model. The original unet is described [here](https://arxiv.org/abs/1505.04597), the model implementation is detailed in `models.unet`\n- Wide resnets architectures, as introduced in [this article](https://arxiv.org/abs/1605.07146)."
  },
  {
   "cell_type": "code",
   "execution_count": null,
   "metadata": {
    "hide_input": true
   },
   "outputs": [
    {
     "data": {
      "text/markdown": "## <a id=Darknet></a>`class` `Darknet`\n> `Darknet`(`num_blocks`:`Collection`\\[`int`\\], `num_classes`:`int`, `nf`=`32`) :: `Module`\n<a href=\"https://github.com/fastai/fastai/blob/master/fastai/models/darknet.py#L16\">[source]</a>",
      "text/plain": "<IPython.core.display.Markdown object>"
     },
     "metadata": {},
     "output_type": "display_data"
    }
   ],
   "source": "show_doc(Darknet, doc_string=False)"
  },
  {
   "cell_type": "markdown",
   "metadata": {},
   "source": "Create a Darknet with blocks of sizes given in `num_blocks`, ending with `num_classes` and using `nf` initial features. Darknet53 uses `num_blocks = [1,2,8,8,4]`. "
  },
  {
   "cell_type": "code",
   "execution_count": null,
   "metadata": {
    "hide_input": true
   },
   "outputs": [
    {
     "data": {
      "text/markdown": "## <a id=WideResNet></a>`class` `WideResNet`\n> `WideResNet`(`num_groups`:`int`, `N`:`int`, `num_classes`:`int`, `k`:`int`=`1`, `drop_p`:`float`=`0.0`, `start_nf`:`int`=`16`) :: `Module`\n<a href=\"https://github.com/fastai/fastai/blob/master/fastai/models/wrn.py#L37\">[source]</a>",
      "text/plain": "<IPython.core.display.Markdown object>"
     },
     "metadata": {},
     "output_type": "display_data"
    }
   ],
   "source": "show_doc(WideResNet, doc_string=False)"
  },
  {
   "cell_type": "markdown",
   "metadata": {},
   "source": "Create a wide resnet with blocks `num_groups` groups, each containing blocks of size `N`. `k` is the width of the resnet, `start_nf` the initial number of features. Dropout of `drop_p` is applied at the end of each block."
  },
  {
   "cell_type": "code",
   "execution_count": null,
   "metadata": {
    "hide_input": true
   },
   "outputs": [
    {
     "data": {
      "text/markdown": "#### <a id=wrn_22></a>`wrn_22`\n> `wrn_22`()\n<a href=\"https://github.com/fastai/fastai/blob/master/fastai/models/wrn.py#L54\">[source]</a>",
      "text/plain": "<IPython.core.display.Markdown object>"
     },
     "metadata": {},
     "output_type": "display_data"
    }
   ],
   "source": "show_doc(wrn_22)"
  },
  {
   "cell_type": "markdown",
   "metadata": {},
   "source": "Creates a wide resnet for CIFAR-10 with `num_groups=3`, `N=3`, `k=6` and `drop_p=0.`."
  }
 ],
 "metadata": {
  "jekyll": {
   "title": "vision.models"
  },
  "kernelspec": {
   "display_name": "Python 3",
   "language": "python",
   "name": "python3"
  }
 },
 "nbformat": 4,
 "nbformat_minor": 2
}
