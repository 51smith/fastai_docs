{
 "cells": [
  {
   "cell_type": "code",
   "execution_count": 0,
   "metadata": {
    "hide_input": true
   },
   "outputs": [],
   "source": "from fastai.gen_doc.gen_notebooks import update_nb_metadata\n# For updating jekyll metadata. You MUST reload notebook immediately after executing this cell for changes to save\nupdate_nb_metadata('gen_doc.sgen_notebooks.ipynb', title='gen_doc.sgen_notebooks', summary='Script to generate notebooks and update html')"
  },
  {
   "cell_type": "markdown",
   "metadata": {},
   "source": "# gen_doc.sgen_notebooks"
  },
  {
   "cell_type": "markdown",
   "metadata": {},
   "source": "Type an introduction of the package here."
  },
  {
   "cell_type": "code",
   "execution_count": null,
   "metadata": {
    "hide_input": true
   },
   "outputs": [],
   "source": "from fastai.gen_doc.nbdoc import *\nfrom fastai.gen_doc.sgen_notebooks import * "
  },
  {
   "cell_type": "code",
   "execution_count": null,
   "metadata": {
    "hide_input": true
   },
   "outputs": [],
   "source": "show_doc(update_notebooks)"
  },
  {
   "cell_type": "markdown",
   "metadata": {},
   "source": "[<code>update_notebooks</code>](http://docs.fast.ai/gen_doc.sgen_notebooks.html#update_notebooks)"
  },
  {
   "cell_type": "markdown",
   "metadata": {},
   "source": "### Updating docs from within notebook:"
  },
  {
   "cell_type": "markdown",
   "metadata": {},
   "source": "[<code>update_notebooks</code>](http://docs.fast.ai/gen_doc.sgen_notebooks.html#update_notebooks) can be run from the notebook. \n\nDefault updates all notebooks in the fastai folder:\n```python\nupdate_notebooks()\n```\n\nTo update specific python file only + html also:\n```python\nupdate_notebooks('../fastai/gen_doc/nbdoc.py', update_html=True, create_missing=True)\n```"
  },
  {
   "cell_type": "markdown",
   "metadata": {},
   "source": "### Updating notebooks from script:"
  },
  {
   "cell_type": "markdown",
   "metadata": {},
   "source": "[<code>update_notebooks</code>](http://docs.fast.ai/gen_doc.sgen_notebooks.html#update_notebooks) can be run as a script for convenience. \n\nDefault updates all notebooks in the fastai folder:\n```bash\npython fastai/gen_doc/sgen_notebooks.py\n```\nOr from the tools folder\n```bash\npython tools/sgen_notebooks.py\n```\n\n\nTo update specific python file only and html:\n```bash\npython fastai/gen_doc/sgen_notebooks.py fastai/vision/transform.py --update_html=True --create-missing=True\n```\n\n\nTo link docs with no accompanying modules:\n```bash\npython tools/sgen_notebooks.py docs_src/index.ipynb --update_html=True --update_nb_links=True\n```"
  }
 ],
 "metadata": {
  "jekyll": {
   "summary": "Script to generate notebooks and update html",
   "title": "gen_doc.sgen_notebooks"
  },
  "kernelspec": {
   "display_name": "Python 3",
   "language": "python",
   "name": "python3"
  },
  "language_info": {
   "codemirror_mode": {
    "name": "ipython",
    "version": 3
   },
   "file_extension": ".py",
   "mimetype": "text/x-python",
   "name": "python",
   "nbconvert_exporter": "python",
   "pygments_lexer": "ipython3",
   "version": "3.7.0"
  }
 },
 "nbformat": 4,
 "nbformat_minor": 2
}