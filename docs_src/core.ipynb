{
 "cells": [
  {
   "cell_type": "code",
   "execution_count": null,
   "metadata": {
    "hide_input": true
   },
   "outputs": [],
   "source": "from fastai.gen_doc.gen_notebooks import update_module_metadata\nimport fastai.core\n# For updating jekyll metadata. You MUST reload notebook immediately after executing this cell for changes to save\n# Leave blank to autopopulate from mod.__doc__\nupdate_module_metadata(fastai.core)"
  },
  {
   "cell_type": "markdown",
   "metadata": {},
   "source": "# core"
  },
  {
   "cell_type": "markdown",
   "metadata": {},
   "source": "Type an introduction of the package here."
  },
  {
   "cell_type": "code",
   "execution_count": null,
   "metadata": {
    "hide_input": true
   },
   "outputs": [],
   "source": "from fastai.gen_doc.nbdoc import *\nfrom fastai.core import * "
  },
  {
   "cell_type": "markdown",
   "metadata": {},
   "source": "### Global Variable Definitions:"
  },
  {
   "cell_type": "markdown",
   "metadata": {},
   "source": "`AnnealFunc = Callable[[Number,Number,float], Number]` <div style=\"text-align: right\"><a href=\"https://github.com/fastai/fastai/blob/master/fastai/core.py#L6\">[source]</a></div>"
  },
  {
   "cell_type": "markdown",
   "metadata": {},
   "source": "`ArgStar = Collection[Any]` <div style=\"text-align: right\"><a href=\"https://github.com/fastai/fastai/blob/master/fastai/core.py#L7\">[source]</a></div>"
  },
  {
   "cell_type": "markdown",
   "metadata": {},
   "source": "`BatchSamples = Collection[Tuple[Collection[int], int]]` <div style=\"text-align: right\"><a href=\"https://github.com/fastai/fastai/blob/master/fastai/core.py#L8\">[source]</a></div>"
  },
  {
   "cell_type": "markdown",
   "metadata": {},
   "source": "`Classes = Collection[Any]` <div style=\"text-align: right\"><a href=\"https://github.com/fastai/fastai/blob/master/fastai/core.py#L9\">[source]</a></div>"
  },
  {
   "cell_type": "markdown",
   "metadata": {},
   "source": "`FilePathList = Collection[Path]` <div style=\"text-align: right\"><a href=\"https://github.com/fastai/fastai/blob/master/fastai/core.py#L10\">[source]</a></div>"
  },
  {
   "cell_type": "markdown",
   "metadata": {},
   "source": "`Floats = Union[float, Collection[float]]` <div style=\"text-align: right\"><a href=\"https://github.com/fastai/fastai/blob/master/fastai/core.py#L11\">[source]</a></div>"
  },
  {
   "cell_type": "markdown",
   "metadata": {},
   "source": "`ImgLabel = str` <div style=\"text-align: right\"><a href=\"https://github.com/fastai/fastai/blob/master/fastai/core.py#L12\">[source]</a></div>"
  },
  {
   "cell_type": "markdown",
   "metadata": {},
   "source": "`ImgLabels = Collection[ImgLabel]` <div style=\"text-align: right\"><a href=\"https://github.com/fastai/fastai/blob/master/fastai/core.py#L13\">[source]</a></div>"
  },
  {
   "cell_type": "markdown",
   "metadata": {},
   "source": "`KWArgs = Dict[str,Any]` <div style=\"text-align: right\"><a href=\"https://github.com/fastai/fastai/blob/master/fastai/core.py#L15\">[source]</a></div>"
  },
  {
   "cell_type": "markdown",
   "metadata": {},
   "source": "`KeyFunc = Callable[[int], int]` <div style=\"text-align: right\"><a href=\"https://github.com/fastai/fastai/blob/master/fastai/core.py#L14\">[source]</a></div>"
  },
  {
   "cell_type": "markdown",
   "metadata": {},
   "source": "`ListOrItem = Union[Collection[Any],int,float,str]` <div style=\"text-align: right\"><a href=\"https://github.com/fastai/fastai/blob/master/fastai/core.py#L16\">[source]</a></div>"
  },
  {
   "cell_type": "markdown",
   "metadata": {},
   "source": "`ListRules = Collection[Callable[[str],str]]` <div style=\"text-align: right\"><a href=\"https://github.com/fastai/fastai/blob/master/fastai/core.py#L17\">[source]</a></div>"
  },
  {
   "cell_type": "markdown",
   "metadata": {},
   "source": "`ListSizes = Collection[Tuple[int,int]]` <div style=\"text-align: right\"><a href=\"https://github.com/fastai/fastai/blob/master/fastai/core.py#L18\">[source]</a></div>"
  },
  {
   "cell_type": "markdown",
   "metadata": {},
   "source": "`NPArrayList = Collection[np.ndarray]` <div style=\"text-align: right\"><a href=\"https://github.com/fastai/fastai/blob/master/fastai/core.py#L20\">[source]</a></div>"
  },
  {
   "cell_type": "markdown",
   "metadata": {},
   "source": "`NPArrayMask = np.ndarray` <div style=\"text-align: right\"><a href=\"https://github.com/fastai/fastai/blob/master/fastai/core.py#L21\">[source]</a></div>"
  },
  {
   "cell_type": "markdown",
   "metadata": {},
   "source": "`NPArrayableList = Collection[Union[np.ndarray, list]]` <div style=\"text-align: right\"><a href=\"https://github.com/fastai/fastai/blob/master/fastai/core.py#L19\">[source]</a></div>"
  },
  {
   "cell_type": "markdown",
   "metadata": {},
   "source": "`NPImage = np.ndarray` <div style=\"text-align: right\"><a href=\"https://github.com/fastai/fastai/blob/master/fastai/core.py#L22\">[source]</a></div>"
  },
  {
   "cell_type": "markdown",
   "metadata": {},
   "source": "`OptDataFrame = Optional[DataFrame]` <div style=\"text-align: right\"><a href=\"https://github.com/fastai/fastai/blob/master/fastai/core.py#L23\">[source]</a></div>"
  },
  {
   "cell_type": "markdown",
   "metadata": {},
   "source": "`OptListOrItem = Optional[ListOrItem]` <div style=\"text-align: right\"><a href=\"https://github.com/fastai/fastai/blob/master/fastai/core.py#L24\">[source]</a></div>"
  },
  {
   "cell_type": "markdown",
   "metadata": {},
   "source": "`OptRange = Optional[Tuple[float,float]]` <div style=\"text-align: right\"><a href=\"https://github.com/fastai/fastai/blob/master/fastai/core.py#L25\">[source]</a></div>"
  },
  {
   "cell_type": "markdown",
   "metadata": {},
   "source": "`OptStats = Optional[Tuple[np.ndarray, np.ndarray]]` <div style=\"text-align: right\"><a href=\"https://github.com/fastai/fastai/blob/master/fastai/core.py#L27\">[source]</a></div>"
  },
  {
   "cell_type": "markdown",
   "metadata": {},
   "source": "`OptStrList = Optional[StrList]` <div style=\"text-align: right\"><a href=\"https://github.com/fastai/fastai/blob/master/fastai/core.py#L38\">[source]</a></div>"
  },
  {
   "cell_type": "markdown",
   "metadata": {},
   "source": "`OptStrTuple = Optional[Tuple[str,str]]` <div style=\"text-align: right\"><a href=\"https://github.com/fastai/fastai/blob/master/fastai/core.py#L26\">[source]</a></div>"
  },
  {
   "cell_type": "markdown",
   "metadata": {},
   "source": "`PBar = Union[MasterBar, ProgressBar]` <div style=\"text-align: right\"><a href=\"https://github.com/fastai/fastai/blob/master/fastai/core.py#L29\">[source]</a></div>"
  },
  {
   "cell_type": "markdown",
   "metadata": {},
   "source": "`PathOrStr = Union[Path,str]` <div style=\"text-align: right\"><a href=\"https://github.com/fastai/fastai/blob/master/fastai/core.py#L28\">[source]</a></div>"
  },
  {
   "cell_type": "markdown",
   "metadata": {},
   "source": "`Point=Tuple[float,float]` <div style=\"text-align: right\"><a href=\"https://github.com/fastai/fastai/blob/master/fastai/core.py#L30\">[source]</a></div>"
  },
  {
   "cell_type": "markdown",
   "metadata": {},
   "source": "`Points=Collection[Point]` <div style=\"text-align: right\"><a href=\"https://github.com/fastai/fastai/blob/master/fastai/core.py#L31\">[source]</a></div>"
  },
  {
   "cell_type": "markdown",
   "metadata": {},
   "source": "`Sizes = List[List[int]]` <div style=\"text-align: right\"><a href=\"https://github.com/fastai/fastai/blob/master/fastai/core.py#L32\">[source]</a></div>"
  },
  {
   "cell_type": "markdown",
   "metadata": {},
   "source": "`SplitArrayList = List[Tuple[np.ndarray,np.ndarray]]` <div style=\"text-align: right\"><a href=\"https://github.com/fastai/fastai/blob/master/fastai/core.py#L33\">[source]</a></div>"
  },
  {
   "cell_type": "markdown",
   "metadata": {},
   "source": "`StartOptEnd=Union[float,Tuple[float,float]]` <div style=\"text-align: right\"><a href=\"https://github.com/fastai/fastai/blob/master/fastai/core.py#L34\">[source]</a></div>"
  },
  {
   "cell_type": "markdown",
   "metadata": {},
   "source": "`StrList = Collection[str]` <div style=\"text-align: right\"><a href=\"https://github.com/fastai/fastai/blob/master/fastai/core.py#L35\">[source]</a></div>"
  },
  {
   "cell_type": "markdown",
   "metadata": {},
   "source": "`Tokens = Collection[Collection[str]]` <div style=\"text-align: right\"><a href=\"https://github.com/fastai/fastai/blob/master/fastai/core.py#L36\">[source]</a></div>"
  },
  {
   "cell_type": "markdown",
   "metadata": {},
   "source": "`default_cpus = min(16, num_cpus())` <div style=\"text-align: right\"><a href=\"https://github.com/fastai/fastai/blob/master/fastai/core.py#L45\">[source]</a></div>"
  },
  {
   "cell_type": "code",
   "execution_count": null,
   "metadata": {
    "hide_input": true
   },
   "outputs": [
    {
     "data": {
      "text/markdown": "## <a id=ItemBase></a>`class` `ItemBase`\n> `ItemBase`()\n\n\nAll transformable dataset items use this type <a href=\"https://github.com/fastai/fastai/blob/master/fastai/core.py#L138\">[source]</a>",
      "text/plain": "<IPython.core.display.Markdown object>"
     },
     "metadata": {},
     "output_type": "display_data"
    }
   ],
   "source": "show_doc(ItemBase)"
  },
  {
   "cell_type": "markdown",
   "metadata": {},
   "source": "`ItemBase`"
  },
  {
   "cell_type": "code",
   "execution_count": null,
   "metadata": {
    "hide_input": true
   },
   "outputs": [
    {
     "data": {
      "text/markdown": "#### <a id=arrays_split></a>`arrays_split`\n> `arrays_split`(`mask`:`ndarray`, `arrs`:`NPArrayableList`) -> `SplitArrayList`\n\n\nGiven `arrs` is [a,b,...] and `mask`index - return[(a[mask],a[~mask]),(b[mask],b[~mask]),...] <a href=\"https://github.com/fastai/fastai/blob/master/fastai/core.py#L65\">[source]</a>",
      "text/plain": "<IPython.core.display.Markdown object>"
     },
     "metadata": {},
     "output_type": "display_data"
    }
   ],
   "source": "show_doc(arrays_split)"
  },
  {
   "cell_type": "markdown",
   "metadata": {},
   "source": "`arrays_split`"
  },
  {
   "cell_type": "code",
   "execution_count": null,
   "metadata": {
    "hide_input": true
   },
   "outputs": [
    {
     "data": {
      "text/markdown": "#### <a id=camel2snake></a>`camel2snake`\n> `camel2snake`(`name`:`str`) -> `str`\n<a href=\"https://github.com/fastai/fastai/blob/master/fastai/core.py#L86\">[source]</a>",
      "text/plain": "<IPython.core.display.Markdown object>"
     },
     "metadata": {},
     "output_type": "display_data"
    }
   ],
   "source": "show_doc(camel2snake)"
  },
  {
   "cell_type": "markdown",
   "metadata": {},
   "source": "`camel2snake`"
  },
  {
   "cell_type": "code",
   "execution_count": null,
   "metadata": {
    "hide_input": true
   },
   "outputs": [
    {
     "data": {
      "text/markdown": "#### <a id=download_url></a>`download_url`\n> `download_url`(`url`:`str`, `dest`:`str`, `overwrite`:`bool`=`False`)\n<a href=\"https://github.com/fastai/fastai/blob/master/fastai/core.py#L147\">[source]</a>",
      "text/plain": "<IPython.core.display.Markdown object>"
     },
     "metadata": {},
     "output_type": "display_data"
    }
   ],
   "source": "show_doc(download_url)"
  },
  {
   "cell_type": "markdown",
   "metadata": {},
   "source": "`download_url`"
  },
  {
   "cell_type": "code",
   "execution_count": null,
   "metadata": {
    "hide_input": true
   },
   "outputs": [
    {
     "data": {
      "text/markdown": "#### <a id=even_mults></a>`even_mults`\n> `even_mults`(`start`:`float`, `stop`:`float`, `n`:`int`) -> `ndarray`\n\n\nBuild evenly stepped schedule from start to stop in n steps <a href=\"https://github.com/fastai/fastai/blob/master/fastai/core.py#L90\">[source]</a>",
      "text/plain": "<IPython.core.display.Markdown object>"
     },
     "metadata": {},
     "output_type": "display_data"
    }
   ],
   "source": "show_doc(even_mults)"
  },
  {
   "cell_type": "markdown",
   "metadata": {},
   "source": "`even_mults`"
  },
  {
   "cell_type": "code",
   "execution_count": null,
   "metadata": {
    "hide_input": true
   },
   "outputs": [
    {
     "data": {
      "text/markdown": "#### <a id=extract_kwargs></a>`extract_kwargs`\n> `extract_kwargs`(`names`:`StrList`, `kwargs`:`KWArgs`)\n\n\nExtracts the keys in names from the kwargs. <a href=\"https://github.com/fastai/fastai/blob/master/fastai/core.py#L96\">[source]</a>",
      "text/plain": "<IPython.core.display.Markdown object>"
     },
     "metadata": {},
     "output_type": "display_data"
    }
   ],
   "source": "show_doc(extract_kwargs)"
  },
  {
   "cell_type": "markdown",
   "metadata": {},
   "source": "`extract_kwargs`"
  },
  {
   "cell_type": "code",
   "execution_count": null,
   "metadata": {
    "hide_input": true
   },
   "outputs": [
    {
     "data": {
      "text/markdown": "#### <a id=find_classes></a>`find_classes`\n> `find_classes`(`folder`:`Path`) -> `FilePathList`\n\n\nList of label subdirectories in imagenet-style `folder` <a href=\"https://github.com/fastai/fastai/blob/master/fastai/core.py#L58\">[source]</a>",
      "text/plain": "<IPython.core.display.Markdown object>"
     },
     "metadata": {},
     "output_type": "display_data"
    }
   ],
   "source": "show_doc(find_classes)"
  },
  {
   "cell_type": "markdown",
   "metadata": {},
   "source": "`find_classes`"
  },
  {
   "cell_type": "code",
   "execution_count": null,
   "metadata": {
    "hide_input": true
   },
   "outputs": [
    {
     "data": {
      "text/markdown": "#### <a id=get_chunk_length></a>`get_chunk_length`\n> `get_chunk_length`(`csv_name`:`PathOrStr`, `chunksize`:`int`) -> `int`\n\n\nReads the number of chunks in a pandas `DataFrame` <a href=\"https://github.com/fastai/fastai/blob/master/fastai/core.py#L113\">[source]</a>",
      "text/plain": "<IPython.core.display.Markdown object>"
     },
     "metadata": {},
     "output_type": "display_data"
    }
   ],
   "source": "show_doc(get_chunk_length)"
  },
  {
   "cell_type": "markdown",
   "metadata": {},
   "source": "`get_chunk_length`"
  },
  {
   "cell_type": "code",
   "execution_count": null,
   "metadata": {
    "hide_input": true
   },
   "outputs": [
    {
     "data": {
      "text/markdown": "#### <a id=get_total_length></a>`get_total_length`\n> `get_total_length`(`csv_name`:`PathOrStr`, `chunksize`:`int`) -> `int`\n\n\nReads the the total length of a pandas `DataFrame` <a href=\"https://github.com/fastai/fastai/blob/master/fastai/core.py#L120\">[source]</a>",
      "text/plain": "<IPython.core.display.Markdown object>"
     },
     "metadata": {},
     "output_type": "display_data"
    }
   ],
   "source": "show_doc(get_total_length)"
  },
  {
   "cell_type": "markdown",
   "metadata": {},
   "source": "`get_total_length`"
  },
  {
   "cell_type": "code",
   "execution_count": null,
   "metadata": {
    "hide_input": true
   },
   "outputs": [
    {
     "data": {
      "text/markdown": "#### <a id=idx_dict></a>`idx_dict`\n> `idx_dict`(`a`)\n<a href=\"https://github.com/fastai/fastai/blob/master/fastai/core.py#L56\">[source]</a>",
      "text/plain": "<IPython.core.display.Markdown object>"
     },
     "metadata": {},
     "output_type": "display_data"
    }
   ],
   "source": "show_doc(idx_dict)"
  },
  {
   "cell_type": "markdown",
   "metadata": {},
   "source": "`idx_dict`"
  },
  {
   "cell_type": "code",
   "execution_count": null,
   "metadata": {
    "hide_input": true
   },
   "outputs": [
    {
     "data": {
      "text/markdown": "#### <a id=ifnone></a>`ifnone`\n> `ifnone`(`a`:`Any`, `b`:`Any`) -> `Any`\n\n\n`a` if `a` is not None, otherwise `b` <a href=\"https://github.com/fastai/fastai/blob/master/fastai/core.py#L51\">[source]</a>",
      "text/plain": "<IPython.core.display.Markdown object>"
     },
     "metadata": {},
     "output_type": "display_data"
    }
   ],
   "source": "show_doc(ifnone)"
  },
  {
   "cell_type": "markdown",
   "metadata": {},
   "source": "`ifnone`"
  },
  {
   "cell_type": "code",
   "execution_count": null,
   "metadata": {
    "hide_input": true
   },
   "outputs": [
    {
     "data": {
      "text/markdown": "#### <a id=is_listy></a>`is_listy`\n> `is_listy`(`x`:`Any`) -> `bool`\n<a href=\"https://github.com/fastai/fastai/blob/master/fastai/core.py#L47\">[source]</a>",
      "text/plain": "<IPython.core.display.Markdown object>"
     },
     "metadata": {},
     "output_type": "display_data"
    }
   ],
   "source": "show_doc(is_listy)"
  },
  {
   "cell_type": "markdown",
   "metadata": {},
   "source": "`is_listy`"
  },
  {
   "cell_type": "code",
   "execution_count": null,
   "metadata": {
    "hide_input": true
   },
   "outputs": [
    {
     "data": {
      "text/markdown": "#### <a id=is_tuple></a>`is_tuple`\n> `is_tuple`(`x`:`Any`) -> `bool`\n<a href=\"https://github.com/fastai/fastai/blob/master/fastai/core.py#L48\">[source]</a>",
      "text/plain": "<IPython.core.display.Markdown object>"
     },
     "metadata": {},
     "output_type": "display_data"
    }
   ],
   "source": "show_doc(is_tuple)"
  },
  {
   "cell_type": "markdown",
   "metadata": {},
   "source": "`is_tuple`"
  },
  {
   "cell_type": "code",
   "execution_count": null,
   "metadata": {
    "hide_input": true
   },
   "outputs": [
    {
     "data": {
      "text/markdown": "#### <a id=listify></a>`listify`\n> `listify`(`p`:`OptListOrItem`=`None`, `q`:`OptListOrItem`=`None`)\n\n\nMakes `p` same length as `q` <a href=\"https://github.com/fastai/fastai/blob/master/fastai/core.py#L75\">[source]</a>",
      "text/plain": "<IPython.core.display.Markdown object>"
     },
     "metadata": {},
     "output_type": "display_data"
    }
   ],
   "source": "show_doc(listify)"
  },
  {
   "cell_type": "markdown",
   "metadata": {},
   "source": "`listify`"
  },
  {
   "cell_type": "code",
   "execution_count": null,
   "metadata": {
    "hide_input": true
   },
   "outputs": [
    {
     "data": {
      "text/markdown": "#### <a id=maybe_copy></a>`maybe_copy`\n> `maybe_copy`(`old_fnames`:`Collection`\\[`PathOrStr`\\], `new_fnames`:`Collection`\\[`PathOrStr`\\])\n\n\nCopies the `old_fnames` to `new_fnames` location if new_fnames don't exist or are less recent. <a href=\"https://github.com/fastai/fastai/blob/master/fastai/core.py#L127\">[source]</a>",
      "text/plain": "<IPython.core.display.Markdown object>"
     },
     "metadata": {},
     "output_type": "display_data"
    }
   ],
   "source": "show_doc(maybe_copy)"
  },
  {
   "cell_type": "markdown",
   "metadata": {},
   "source": "`maybe_copy`"
  },
  {
   "cell_type": "code",
   "execution_count": null,
   "metadata": {
    "hide_input": true
   },
   "outputs": [
    {
     "data": {
      "text/markdown": "#### <a id=noop></a>`noop`\n> `noop`(`x`)\n<a href=\"https://github.com/fastai/fastai/blob/master/fastai/core.py#L49\">[source]</a>",
      "text/plain": "<IPython.core.display.Markdown object>"
     },
     "metadata": {},
     "output_type": "display_data"
    }
   ],
   "source": "show_doc(noop)"
  },
  {
   "cell_type": "markdown",
   "metadata": {},
   "source": "`noop`"
  },
  {
   "cell_type": "code",
   "execution_count": null,
   "metadata": {
    "hide_input": true
   },
   "outputs": [
    {
     "data": {
      "text/markdown": "#### <a id=num_cpus></a>`num_cpus`\n> `num_cpus`() -> `int`\n\n\nGet number of cpus <a href=\"https://github.com/fastai/fastai/blob/master/fastai/core.py#L40\">[source]</a>",
      "text/plain": "<IPython.core.display.Markdown object>"
     },
     "metadata": {},
     "output_type": "display_data"
    }
   ],
   "source": "show_doc(num_cpus)"
  },
  {
   "cell_type": "markdown",
   "metadata": {},
   "source": "`num_cpus`"
  },
  {
   "cell_type": "code",
   "execution_count": null,
   "metadata": {
    "hide_input": true
   },
   "outputs": [
    {
     "data": {
      "text/markdown": "#### <a id=partition></a>`partition`\n> `partition`(`a`:`Collection`\\[`T_co`\\], `sz`:`int`) -> `List`\\[`Collection`\\[`T_co`\\]\\]\n\n\nSplits iterables a in equal parts of size sz <a href=\"https://github.com/fastai/fastai/blob/master/fastai/core.py#L105\">[source]</a>",
      "text/plain": "<IPython.core.display.Markdown object>"
     },
     "metadata": {},
     "output_type": "display_data"
    }
   ],
   "source": "show_doc(partition)"
  },
  {
   "cell_type": "markdown",
   "metadata": {},
   "source": "`partition`"
  },
  {
   "cell_type": "code",
   "execution_count": null,
   "metadata": {
    "hide_input": true
   },
   "outputs": [
    {
     "data": {
      "text/markdown": "#### <a id=partition_by_cores></a>`partition_by_cores`\n> `partition_by_cores`(`a`:`Collection`\\[`T_co`\\], `n_cpus`:`int`) -> `List`\\[`Collection`\\[`T_co`\\]\\]\n\n\nSplit data equally among CPU cores <a href=\"https://github.com/fastai/fastai/blob/master/fastai/core.py#L109\">[source]</a>",
      "text/plain": "<IPython.core.display.Markdown object>"
     },
     "metadata": {},
     "output_type": "display_data"
    }
   ],
   "source": "show_doc(partition_by_cores)"
  },
  {
   "cell_type": "markdown",
   "metadata": {},
   "source": "`partition_by_cores`"
  },
  {
   "cell_type": "code",
   "execution_count": null,
   "metadata": {
    "hide_input": true
   },
   "outputs": [
    {
     "data": {
      "text/markdown": "#### <a id=random_split></a>`random_split`\n> `random_split`(`valid_pct`:`float`, `arrs`:`NPArrayableList`) -> `SplitArrayList`\n\n\nRandomly `array_split` with `valid_pct` ratio. good for creating validation set. <a href=\"https://github.com/fastai/fastai/blob/master/fastai/core.py#L70\">[source]</a>",
      "text/plain": "<IPython.core.display.Markdown object>"
     },
     "metadata": {},
     "output_type": "display_data"
    }
   ],
   "source": "show_doc(random_split)"
  },
  {
   "cell_type": "markdown",
   "metadata": {},
   "source": "`random_split`"
  },
  {
   "cell_type": "code",
   "execution_count": null,
   "metadata": {
    "hide_input": true
   },
   "outputs": [
    {
     "data": {
      "text/markdown": "#### <a id=series2cat></a>`series2cat`\n> `series2cat`(`df`:`DataFrame`, `col_names`)\n\n\nCategorifies the columns in `df`. <a href=\"https://github.com/fastai/fastai/blob/master/fastai/core.py#L134\">[source]</a>",
      "text/plain": "<IPython.core.display.Markdown object>"
     },
     "metadata": {},
     "output_type": "display_data"
    }
   ],
   "source": "show_doc(series2cat)"
  },
  {
   "cell_type": "markdown",
   "metadata": {},
   "source": "`series2cat`"
  },
  {
   "cell_type": "code",
   "execution_count": null,
   "metadata": {
    "hide_input": true
   },
   "outputs": [
    {
     "data": {
      "text/markdown": "#### <a id=uniqueify></a>`uniqueify`\n> `uniqueify`(`x`:`Series`) -> `List`\\[`Any`\\]\n<a href=\"https://github.com/fastai/fastai/blob/master/fastai/core.py#L55\">[source]</a>",
      "text/plain": "<IPython.core.display.Markdown object>"
     },
     "metadata": {},
     "output_type": "display_data"
    }
   ],
   "source": "show_doc(uniqueify)"
  },
  {
   "cell_type": "markdown",
   "metadata": {},
   "source": "`uniqueify`"
  }
 ],
 "metadata": {
  "jekyll": {
   "summary": "`fastai.core` contains essential util functions to format and split data",
   "title": "core"
  },
  "kernelspec": {
   "display_name": "Python 3",
   "language": "python",
   "name": "python3"
  }
 },
 "nbformat": 4,
 "nbformat_minor": 2
}
