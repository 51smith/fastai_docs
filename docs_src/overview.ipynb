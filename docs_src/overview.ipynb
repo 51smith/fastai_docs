{
 "cells": [
  {
   "cell_type": "markdown",
   "metadata": {},
   "source": [
    "# Core modules of dastai"
   ]
  },
  {
   "cell_type": "code",
   "execution_count": null,
   "metadata": {
    "hide_input": true
   },
   "outputs": [],
   "source": [
    "from fastai import *"
   ]
  },
  {
   "cell_type": "markdown",
   "metadata": {},
   "source": [
    "The core modules of fastai contain the basic functions needed in several parts of the library. \n",
    "\n",
    "## `core`\n",
    "\n",
    "This module contains the most basic functions and imports, notably:\n",
    "- pandas as pd\n",
    "- numpy as np\n",
    "- matplotlib.pyplot as plt\n",
    "\n",
    "## `torch_core`\n",
    "\n",
    "This module contains the most basic functions and imports that use pytorch. We follow pytorch naming conventions, mainly:\n",
    "- torch.nn as nn\n",
    "- torch.optim as optim\n",
    "- torch.nn.functional as F\n",
    "\n",
    "Most of the documentation of these two modules can be skipped at a first read, unless you specifically want to know what a certain function is doing. \n",
    "\n",
    "## `layers`\n",
    "\n",
    "This module contains the definitions of basic custom layers we need in most of our models, as well as a few helper functions to create simple blocks.\n",
    "\n",
    "## `data`\n",
    "\n",
    "This module defines the basic `DataBunch` class which is what will be needed to create a `Learner` object with a model. It also defines the `DeviceDataLoader`, a class that wraps a pytorch `DataLoader` to put batches on the right device."
   ]
  }
 ],
 "metadata": {
  "jekyll": {
   "summary": "Overview of the core modules",
   "title": "overview"
  },
  "kernelspec": {
   "display_name": "Python 3",
   "language": "python",
   "name": "python3"
  }
 },
 "nbformat": 4,
 "nbformat_minor": 2
}
