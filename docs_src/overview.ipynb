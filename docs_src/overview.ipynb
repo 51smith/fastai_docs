{
 "cells": [
  {
   "cell_type": "code",
   "execution_count": null,
   "metadata": {
    "hide_input": true
   },
   "outputs": [],
   "source": [
    "from fastai.gen_doc.gen_notebooks import update_nb_metadata\n",
    "# For updating jekyll metadata. You MUST reload notebook immediately after executing this cell for changes to save\n",
    "update_nb_metadata('overview.ipynb', title='overview', summary='Overview of the core modules')"
   ]
  },
  {
   "cell_type": "markdown",
   "metadata": {},
   "source": [
    "# Core modules of dastai"
   ]
  },
  {
   "cell_type": "code",
   "execution_count": null,
   "metadata": {
    "hide_input": true
   },
   "outputs": [],
   "source": [
    "from fastai import *"
   ]
  },
  {
   "cell_type": "markdown",
   "metadata": {},
   "source": [
    "The core modules of fastai contain the basic functions needed in several parts of the library. At the very base, we have `core` and `torch_core`. They are first responsible to handle the basic imports that he library needs, the most important being:\n",
    "- pandas as pd\n",
    "- numpy as np\n",
    "- matplotlib.pyplot as plt\n",
    "- torch\n",
    "- torch.nn as nn\n",
    "- torch.optim as optim\n",
    "- torch.nn.functional as F\n",
    "\n",
    "Then they contain all the most basic functions we need. Most of their documentation can be skipped at a first read, unless you specifically want to know what a certain function is doing. \n",
    "\n",
    "The module `layers` contains the definitions of basic custom layers we need in most of our models, as well as a few helper functions to create simple blocks.\n",
    "\n",
    "The module `data` defines the basic `DataBunch` class which is what will be needed to create a `Learner` object with a model. It also defines the `DeviceDataLoader`, a class that wraps a pytorch `DataLoader` to put batches on the right device."
   ]
  }
 ],
 "metadata": {
  "jekyll": {
   "summary": "Overview of the core modules",
   "title": "overview"
  },
  "kernelspec": {
   "display_name": "Python 3",
   "language": "python",
   "name": "python3"
  }
 },
 "nbformat": 4,
 "nbformat_minor": 2
}
