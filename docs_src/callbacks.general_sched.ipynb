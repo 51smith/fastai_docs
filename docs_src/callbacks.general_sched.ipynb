{
 "cells": [
  {
   "cell_type": "markdown",
   "metadata": {},
   "source": [
    "# callbacks.general_sched"
   ]
  },
  {
   "cell_type": "markdown",
   "metadata": {},
   "source": [
    "Creates a scheduler that lets you train a model with following different `TrainingPhase`."
   ]
  },
  {
   "cell_type": "code",
   "execution_count": null,
   "metadata": {
    "hide_input": true
   },
   "outputs": [],
   "source": [
    "from fastai.gen_doc.nbdoc import *\n",
    "from fastai.callbacks.general_sched import * \n",
    "from fastai import *\n",
    "from fastai.docs import *"
   ]
  },
  {
   "cell_type": "code",
   "execution_count": null,
   "metadata": {
    "hide_input": true
   },
   "outputs": [
    {
     "data": {
      "text/markdown": [
       "## <a id=TrainingPhase></a>`class` `TrainingPhase`\n",
       "> `TrainingPhase`(`length`:`int`, `lrs`:`Floats`, `moms`:`Floats`, `lr_anneal`:`AnnealFunc`=`None`, `mom_anneal`:`AnnealFunc`=`None`)\n",
       "<a href=\"https://github.com/fastai/fastai_pytorch/blob/master/fastai/callbacks/general_sched.py#L8\">[source]</a>"
      ],
      "text/plain": [
       "<IPython.core.display.Markdown object>"
      ]
     },
     "metadata": {},
     "output_type": "display_data"
    }
   ],
   "source": [
    "show_doc(TrainingPhase, doc_string=False)"
   ]
  },
  {
   "cell_type": "markdown",
   "metadata": {},
   "source": [
    "Create a phase for training a model during `length` iterations, following a schedule given by `lrs` and `lr_anneal`, `moms` and `mom_anneal`. More specifically, the phase will make the learning rate (or momentum) vary from the first value of `lrs` (or `moms`) to the second, following `lr_anneal` (or `mom_anneal`). If an annealing function is speficied but `lrs` or `moms` is a float, it will decay to 0. If no annealing function is specified, the default is a linear annealing if `lrs` (or `moms`) is a tuple, a constant parameter if it's a float. "
   ]
  },
  {
   "cell_type": "code",
   "execution_count": null,
   "metadata": {
    "hide_input": true
   },
   "outputs": [
    {
     "data": {
      "text/markdown": [
       "## <a id=GeneralScheduler></a>`class` `GeneralScheduler`\n",
       "> `GeneralScheduler`(`learn`:[`Learner`](/basic_train.html#Learner), `phases`:`Collection`\\[[`TrainingPhase`](/callbacks.general_sched.html#TrainingPhase)\\]) :: [`Callback`](/callback.html#Callback)\n",
       "\n",
       "\n",
       "Schedule multiple [`TrainingPhase`](/callbacks.general_sched.html#TrainingPhase) for a [`Learner`](/basic_train.html#Learner). <a href=\"https://github.com/fastai/fastai_pytorch/blob/master/fastai/callbacks/general_sched.py#L21\">[source]</a>"
      ],
      "text/plain": [
       "<IPython.core.display.Markdown object>"
      ]
     },
     "metadata": {},
     "output_type": "display_data"
    }
   ],
   "source": [
    "show_doc(GeneralScheduler)"
   ]
  },
  {
   "cell_type": "code",
   "execution_count": null,
   "metadata": {
    "hide_input": true
   },
   "outputs": [
    {
     "data": {
      "text/markdown": [
       "#### <a id=on_batch_end></a>`on_batch_end`\n",
       "> `on_batch_end`(`kwargs`:`Any`)\n",
       "<a href=\"https://github.com/fastai/fastai_pytorch/blob/master/fastai/callbacks/general_sched.py#L34\">[source]</a>"
      ],
      "text/plain": [
       "<IPython.core.display.Markdown object>"
      ]
     },
     "metadata": {},
     "output_type": "display_data"
    }
   ],
   "source": [
    "show_doc(GeneralScheduler.on_batch_end, doc_string=False)"
   ]
  },
  {
   "cell_type": "markdown",
   "metadata": {},
   "source": [
    "Takes a step in the current phase and prepare the hyperparameters for the next batch."
   ]
  },
  {
   "cell_type": "code",
   "execution_count": null,
   "metadata": {
    "hide_input": true
   },
   "outputs": [
    {
     "data": {
      "text/markdown": [
       "#### <a id=on_train_begin></a>`on_train_begin`\n",
       "> `on_train_begin`(`n_epochs`:`int`, `kwargs`:`Any`)\n",
       "<a href=\"https://github.com/fastai/fastai_pytorch/blob/master/fastai/callbacks/general_sched.py#L26\">[source]</a>"
      ],
      "text/plain": [
       "<IPython.core.display.Markdown object>"
      ]
     },
     "metadata": {},
     "output_type": "display_data"
    }
   ],
   "source": [
    "show_doc(GeneralScheduler.on_train_begin, doc_string=False)"
   ]
  },
  {
   "cell_type": "markdown",
   "metadata": {},
   "source": [
    "Initiates the hyperparameters to the start values of the first phase. "
   ]
  },
  {
   "cell_type": "markdown",
   "metadata": {},
   "source": [
    "Let's make an example by using this to code [SGD with warm restarts](https://arxiv.org/abs/1608.03983)."
   ]
  },
  {
   "cell_type": "code",
   "execution_count": null,
   "metadata": {},
   "outputs": [],
   "source": [
    "def fit_sgd_warm(learn, n_cycles, lr, mom, cycle_len, cycle_mult):\n",
    "    n = len(learn.data.train_dl)\n",
    "    phases = [TrainingPhase(n * (cycle_len * cycle_mult**i), lr, mom, lr_anneal=annealing_cos) for i in range(n_cycles)]\n",
    "    sched = GeneralScheduler(learn, phases)\n",
    "    learn.callbacks.append(sched)\n",
    "    if cycle_mult != 1:\n",
    "        total_epochs = int(cycle_len * (1 - (cycle_mult)**n_cycles)/(1-cycle_mult)) \n",
    "    else: total_epochs = n_cycles * cycle_len\n",
    "    learn.fit(total_epochs)"
   ]
  },
  {
   "cell_type": "code",
   "execution_count": null,
   "metadata": {},
   "outputs": [
    {
     "data": {
      "application/vnd.jupyter.widget-view+json": {
       "model_id": "",
       "version_major": 2,
       "version_minor": 0
      },
      "text/plain": [
       "VBox(children=(HBox(children=(IntProgress(value=0, max=13), HTML(value='0.00% [0/13 00:00<00:00]'))), HTML(val…"
      ]
     },
     "metadata": {},
     "output_type": "display_data"
    },
    {
     "name": "stdout",
     "output_type": "stream",
     "text": [
      "Total time: 01:42\n",
      "epoch  train loss  valid loss\n",
      "0      0.094893    0.058317    (00:07)\n",
      "1      0.047180    0.029215    (00:07)\n",
      "2      0.029441    0.023446    (00:07)\n",
      "3      0.019201    0.023217    (00:07)\n",
      "4      0.022522    0.015142    (00:07)\n",
      "5      0.015581    0.012590    (00:07)\n",
      "6      0.013525    0.012216    (00:07)\n",
      "7      0.009146    0.014814    (00:07)\n",
      "8      0.004855    0.013819    (00:07)\n",
      "9      0.004536    0.012664    (00:07)\n",
      "10     0.003782    0.011067    (00:08)\n",
      "11     0.004073    0.015901    (00:07)\n",
      "12     0.001894    0.011048    (00:07)\n",
      "\n"
     ]
    }
   ],
   "source": [
    "data = get_mnist()\n",
    "learn = ConvLearner(data, tvm.resnet18)\n",
    "fit_sgd_warm(learn, 3, 1e-3, 0.9, 1, 3)"
   ]
  },
  {
   "cell_type": "code",
   "execution_count": null,
   "metadata": {},
   "outputs": [
    {
     "data": {
      "image/png": "[encoded data removed]",
      "text/plain": [
       "<Figure size 432x288 with 1 Axes>"
      ]
     },
     "metadata": {},
     "output_type": "display_data"
    }
   ],
   "source": [
    "learn.recorder.plot_lr()"
   ]
  },
  {
   "cell_type": "markdown",
   "metadata": {},
   "source": [
    "## Undocumented Methods - Methods moved below this line will intentionally be hidden"
   ]
  }
 ],
 "metadata": {
  "kernelspec": {
   "display_name": "Python 3",
   "language": "python",
   "name": "python3"
  }
 },
 "nbformat": 4,
 "nbformat_minor": 2
}
