{
 "cells": [
  {
   "cell_type": "code",
   "execution_count": 0,
   "metadata": {
    "hide_input": true
   },
   "outputs": [],
   "source": "from fastai.gen_doc.gen_notebooks import update_module_metadata\nimport fastai.gen_doc.convert2html\n# For updating jekyll metadata. You MUST reload notebook immediately after executing this cell for changes to save\n# Leave blank to autopopulate from mod.__doc__\nupdate_module_metadata(fastai.gen_doc.convert2html)"
  },
  {
   "cell_type": "markdown",
   "metadata": {
    "hide_input": true
   },
   "source": "# gen_doc.convert2html"
  },
  {
   "cell_type": "markdown",
   "metadata": {
    "hide_input": true
   },
   "source": "This is the module to convert a jupyter notebook to an html page. It will normally render everything the way it was in the notebooks, including suppressing the input of the code cells with input cells masked, and converting the links between notebooks in links between the html pages."
  },
  {
   "cell_type": "code",
   "execution_count": null,
   "metadata": {
    "hide_input": true
   },
   "outputs": [],
   "source": "from fastai.gen_doc.nbdoc import * \nfrom fastai.gen_doc.convert2html import * "
  },
  {
   "cell_type": "markdown",
   "metadata": {},
   "source": "## Functions"
  },
  {
   "cell_type": "code",
   "execution_count": null,
   "metadata": {
    "hide_input": true
   },
   "outputs": [
    {
     "data": {
      "text/markdown": "#### <a id=convert_nb></a>`convert_nb`\n> `convert_nb`(`fname`, `dest_path`=`'.'`)\n\n\nConverts a notebook `fname` to html file in `dest_path` <a href=\"https://github.com/fastai/fastai/blob/master/fastai/gen_doc/convert2html.py#L32\">[source]</a>",
      "text/plain": "<IPython.core.display.Markdown object>"
     },
     "metadata": {},
     "output_type": "display_data"
    }
   ],
   "source": "show_doc(convert_nb)"
  },
  {
   "cell_type": "code",
   "execution_count": null,
   "metadata": {
    "hide_input": true
   },
   "outputs": [
    {
     "data": {
      "text/markdown": "#### <a id=convert_all></a>`convert_all`\n> `convert_all`(`folder`, `dest_path`=`'.'`)\n\n\nConverts all notebooks `folder` to html pages in `dest_path`. <a href=\"https://github.com/fastai/fastai/blob/master/fastai/gen_doc/convert2html.py#L44\">[source]</a>",
      "text/plain": "<IPython.core.display.Markdown object>"
     },
     "metadata": {},
     "output_type": "display_data"
    }
   ],
   "source": "show_doc(convert_all)"
  },
  {
   "cell_type": "markdown",
   "metadata": {},
   "source": "Here's an example to convert all the docs in this folder:"
  },
  {
   "cell_type": "code",
   "execution_count": null,
   "metadata": {},
   "outputs": [],
   "source": "convert_nb('models.ipynb', '../docs')"
  },
  {
   "cell_type": "code",
   "execution_count": null,
   "metadata": {},
   "outputs": [],
   "source": "convert_all('.', '../docs')"
  },
  {
   "cell_type": "markdown",
   "metadata": {},
   "source": "## Undocumented Methods - Methods moved below this line will intentionally be hidden"
  },
  {
   "cell_type": "markdown",
   "metadata": {},
   "source": "## New Methods - Please document or move to the undocumented section"
  },
  {
   "cell_type": "code",
   "execution_count": 0,
   "metadata": {
    "hide_input": true
   },
   "outputs": [],
   "source": "show_doc(read_nb)"
  },
  {
   "cell_type": "markdown",
   "metadata": {},
   "source": ""
  }
 ],
 "metadata": {
  "jekyll": {
   "title": "gen_doc.convert2html"
  },
  "kernelspec": {
   "display_name": "Python 3",
   "language": "python",
   "name": "python3"
  },
  "language_info": {
   "codemirror_mode": {
    "name": "ipython",
    "version": 3
   },
   "file_extension": ".py",
   "mimetype": "text/x-python",
   "name": "python",
   "nbconvert_exporter": "python",
   "pygments_lexer": "ipython3",
   "version": "3.7.0"
  }
 },
 "nbformat": 4,
 "nbformat_minor": 2
}