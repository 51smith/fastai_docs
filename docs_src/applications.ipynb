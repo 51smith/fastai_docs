{
 "cells": [
  {
   "cell_type": "markdown",
   "metadata": {},
   "source": "# Application fields"
  },
  {
   "cell_type": "code",
   "execution_count": null,
   "metadata": {
    "hide_input": true
   },
   "outputs": [],
   "source": "from fastai.gen_doc.nbdoc import *  "
  },
  {
   "cell_type": "markdown",
   "metadata": {},
   "source": "The fastai library allows you to train a [`Model`](https://pytorch.org/docs/stable/nn.html#torch.nn.Module) on a certain [`DataBunch`](/data.html#DataBunch) very easily by binding them together inside a [`Learner`](/basic_train.html#Learner) object. This module regroups the tools the library provides to help you preprocess and group your data in this format. \n\n## `collab`\n\nThis submodule handles the collaborative filtering problems.\n\n## `tabular`\n\nThis sub-package deals with tabular (or structured) data.\n\n## `text`\n\nThis sub-package contains everything you need for Natural Language Processing.\n\n## [`vision`](/vision.html#vision)\n\nThis sub-package contains the classes that deal with Computer Vision.\n\n## Module structure\n\nIn each case (except for `collab`), the module is organized this way:\n\n### `transform`\n\nThis sub-module deals with the pre-processing (data augmentation for images, cleaning for tabular data, tokenizing and numericalizing for text).\n\n### [`data`](/data.html#data)\n\nThis sub-module defines the dataset class(es) to deal with this kind of data.\n\n### `models`\n\nThis sub-module defines the specific models used for this kind of data.\n\n### `learner`\n\nWhen it exists, this sub-module contains functions will directly bind this data with a suitable model and add the necessary callbacks."
  },
  {
   "cell_type": "code",
   "execution_count": null,
   "metadata": {},
   "outputs": [],
   "source": ""
  }
 ],
 "metadata": {
  "jekyll": {
   "summary": "Types of problems you can apply the fastai library to",
   "title": "applications"
  },
  "kernelspec": {
   "display_name": "Python 3",
   "language": "python",
   "name": "python3"
  }
 },
 "nbformat": 4,
 "nbformat_minor": 2
}
