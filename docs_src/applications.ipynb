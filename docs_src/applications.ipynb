{
 "cells": [
  {
   "cell_type": "code",
   "execution_count": null,
   "metadata": {
    "hide_input": true
   },
   "outputs": [],
   "source": [
    "from fastai.gen_doc.gen_notebooks import update_nb_metadata\n",
    "# For updating jekyll metadata. You MUST reload notebook immediately after executing this cell for changes to save\n",
    "update_nb_metadata('applications.ipynb', title=None, summary=None)"
   ]
  },
  {
   "cell_type": "markdown",
   "metadata": {},
   "source": [
    "# Applications"
   ]
  },
  {
   "cell_type": "code",
   "execution_count": null,
   "metadata": {
    "hide_input": true
   },
   "outputs": [],
   "source": [
    "from fastai.gen_doc.nbdoc import *  "
   ]
  },
  {
   "cell_type": "markdown",
   "metadata": {},
   "source": [
    "The fastai library allows you to train a `Model` on a certain `DataBunch` very easily by binding them together inside a `Learner` object. This module regroups the tools the library provides to help you preprocess and group your data in this format. Specifically:\n",
    "- `colab` deals with collaborative filtering problems,\n",
    "- `tabular` deals with tabular (or structured) data,\n",
    "- `text` deals with Natural Language Processing,\n",
    "- `vision` deals with all the computer vision problems.\n",
    "\n",
    "In each case (except for `colab`), the module is organized this way:\n",
    "- a submodule `transform` deals with the preprocessing (data augmentation for images, cleaning for tabular data, tokenizing and numericalizing for text)\n",
    "- a submodule `data` that defines the dataset class(es) to deal with this kind of data\n",
    "- a submodule `models` that defines the specific models used for this kind of data\n",
    "- optionally, a submodule `learner` that will directly bind this data with a suitable model and add the necessary callbacks."
   ]
  }
 ],
 "metadata": {
  "jekyll": {
   "summary": "An overview of the fields you can apply the fastai library to."
  },
  "kernelspec": {
   "display_name": "Python 3",
   "language": "python",
   "name": "python3"
  }
 },
 "nbformat": 4,
 "nbformat_minor": 2
}
