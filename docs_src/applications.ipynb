{
 "cells": [
  {
   "cell_type": "code",
   "execution_count": null,
   "metadata": {
    "hide_input": true
   },
   "outputs": [],
   "source": [
    "from fastai.gen_doc.gen_notebooks import update_nb_metadata\n",
    "# For updating jekyll metadata. You MUST reload notebook immediately after executing this cell for changes to save\n",
    "update_nb_metadata('applications.ipynb', title=\"applications\", summary=\"Types of problems you can apply the fastai library to\")"
   ]
  },
  {
   "cell_type": "markdown",
   "metadata": {},
   "source": [
    "# Application fields"
   ]
  },
  {
   "cell_type": "code",
   "execution_count": null,
   "metadata": {
    "hide_input": true
   },
   "outputs": [],
   "source": [
    "from fastai.gen_doc.nbdoc import *  "
   ]
  },
  {
   "cell_type": "markdown",
   "metadata": {},
   "source": [
    "The fastai library allows you to train a `Model` on a certain `DataBunch` very easily by binding them together inside a `Learner` object. This module regroups the tools the library provides to help you preprocess and group your data in this format. \n",
    "\n",
    "## `collab`\n",
    "\n",
    "This submodule handles the collaborative filtering problems.\n",
    "\n",
    "## `tabular`\n",
    "\n",
    "This sub-package deals with tabular (or structured) data.\n",
    "\n",
    "## `text`\n",
    "\n",
    "This sub-package contains everything you need for Natural Language Processing.\n",
    "\n",
    "## `vision`\n",
    "\n",
    "This sub-package contains the classes that deal with Computer Vision.\n",
    "\n",
    "## Module structure\n",
    "\n",
    "In each case (except for `collab`), the module is organized this way:\n",
    "\n",
    "### `transform`\n",
    "\n",
    "This sub-module deals with the pre-processing (data augmentation for images, cleaning for tabular data, tokenizing and numericalizing for text).\n",
    "\n",
    "### `data`\n",
    "\n",
    "This sub-module defines the dataset class(es) to deal with this kind of data.\n",
    "\n",
    "### `models`\n",
    "\n",
    "This sub-module defines the specific models used for this kind of data.\n",
    "\n",
    "### `learner`\n",
    "\n",
    "When it exists, this sub-module contains functions will directly bind this data with a suitable model and add the necessary callbacks."
   ]
  },
  {
   "cell_type": "code",
   "execution_count": null,
   "metadata": {},
   "outputs": [],
   "source": []
  }
 ],
 "metadata": {
  "jekyll": {
   "summary": "Types of problems you can apply the fastai library to",
   "title": "applications"
  },
  "kernelspec": {
   "display_name": "Python 3",
   "language": "python",
   "name": "python3"
  }
 },
 "nbformat": 4,
 "nbformat_minor": 2
}
