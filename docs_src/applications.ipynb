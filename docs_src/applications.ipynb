{
 "cells": [
  {
   "cell_type": "code",
   "execution_count": null,
   "metadata": {
    "hide_input": true
   },
   "outputs": [],
   "source": "from fastai.gen_doc.gen_notebooks import update_nb_metadata\n# For updating jekyll metadata. You MUST reload notebook immediately after executing this cell for changes to save\nupdate_nb_metadata('applications.ipynb', title=None, summary=None)"
  },
  {
   "cell_type": "markdown",
   "metadata": {},
   "source": "# Applications"
  },
  {
   "cell_type": "code",
   "execution_count": null,
   "metadata": {
    "hide_input": true
   },
   "outputs": [],
   "source": "from fastai.gen_doc.nbdoc import *  "
  },
  {
   "cell_type": "markdown",
   "metadata": {},
   "source": "The fastai library allows you to train a [`Model`](https://pytorch.org/docs/stable/nn.html#torch.nn.Module) on a certain [`DataBunch`](/data.html#DataBunch) very easily by binding them together inside a [`Learner`](/basic_train.html#Learner) object. This module regroups the tools the library provides to help you preprocess and group your data in this format. Specifically:\n- `collab` deals with collaborative filtering problems,\n- [`tabular`](/tabular.html#tabular) deals with tabular (or structured) data,\n- [`text`](/text.html#text) deals with Natural Language Processing,\n- [`vision`](/vision.html#vision) deals with all the computer vision problems.\n\nIn each case (except for `collab`), the module is organized this way:\n- a submodule `transform` deals with the preprocessing (data augmentation for images, cleaning for tabular data, tokenizing and numericalizing for text)\n- a submodule [`data`](/data.html#data) that defines the dataset class(es) to deal with this kind of data\n- a submodule [`models`](/models.html#models) that defines the specific models used for this kind of data\n- optionally, a submodule `learner` that will directly bind this data with a suitable model and add the necessary callbacks."
  },
  {
   "cell_type": "code",
   "execution_count": null,
   "metadata": {},
   "outputs": [],
   "source": ""
  }
 ],
 "metadata": {
  "jekyll": {
   "summary": "An overview of the fields you can apply the fastai library to."
  },
  "kernelspec": {
   "display_name": "Python 3",
   "language": "python",
   "name": "python3"
  },
  "language_info": {
   "codemirror_mode": {
    "name": "ipython",
    "version": 3
   },
   "file_extension": ".py",
   "mimetype": "text/x-python",
   "name": "python",
   "nbconvert_exporter": "python",
   "pygments_lexer": "ipython3",
   "version": "3.7.0"
  }
 },
 "nbformat": 4,
 "nbformat_minor": 2
}