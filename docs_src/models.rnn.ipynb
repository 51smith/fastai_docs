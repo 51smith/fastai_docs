{
 "cells": [
  {
   "cell_type": "code",
   "execution_count": null,
   "metadata": {
    "hide_input": true
   },
   "outputs": [],
   "source": "from fastai.gen_doc.gen_notebooks import update_module_metadata\nimport fastai.models.rnn\n# For updating jekyll metadata. You MUST reload notebook immediately after executing this cell for changes to save\n# Leave blank to autopopulate from mod.__doc__\nupdate_module_metadata(fastai.models.rnn)"
  },
  {
   "cell_type": "markdown",
   "metadata": {},
   "source": "# models.rnn"
  },
  {
   "cell_type": "code",
   "execution_count": null,
   "metadata": {
    "hide_input": false
   },
   "outputs": [],
   "source": "from fastai.gen_doc.nbdoc import *\nfrom fastai.models.rnn import * "
  },
  {
   "cell_type": "markdown",
   "metadata": {},
   "source": "This module fully implements the [AWD-LSTM](https://arxiv.org/pdf/1708.02182.pdf) from Stephen Merity et al. The main idea of the article is to use a [RNN](http://www.pnas.org/content/79/8/2554) with dropout everywhere, but in an intelligent way. There is a difference with the usual dropout, which is why you’ll see a [`RNNDropout`](/models.rnn.html#RNNDropout) module: we zero things, as is usual in dropout, but we always zero the same thing according to the sequence dimension (which is the first dimension in pytorch). This ensures consistency when updating the hidden state through the whole sentences/articles. \n\nThis being given, there are five different dropouts in the AWD-LSTM:\n- the first one, embedding dropout, is applied when we look the ids of our tokens inside the embedding matrix (to transform them from numbers to a vector of float). We zero some lines of it, so random ids are sent to a vector of zeros instead of being sent to their embedding vector.\n- the second one, input dropout, is applied to the result of the embedding with dropout. We forget random pieces of the embedding matrix (but as stated in the last paragraph, the same ones in the sequence dimension).\n- the third one is the weight dropout. It’s the trickiest to implement as we randomly replace by 0s some weights of the hidden-to-hidden matrix inside the RNN: this needs to be done in a way that ensure the gradients are still computed and the initial weights still updated.\n- the fourth one is the hidden dropout. It’s applied to the output of one of the layers of the RNN before it’s used as input of the next layer (again same coordinates are zeroed in the sequence dimension). This one isn’t applied to the last output, but rather…\n- the fifth one is the output dropout, it’s applied to the last output of the model (and like the others, it’s applied the same way through the first dimension)."
  },
  {
   "cell_type": "markdown",
   "metadata": {},
   "source": "## Basic functions to get a model"
  },
  {
   "cell_type": "code",
   "execution_count": null,
   "metadata": {
    "hide_input": true
   },
   "outputs": [
    {
     "data": {
      "text/markdown": "#### <a id=get_language_model></a>`get_language_model`\n> `get_language_model`(`vocab_sz`:`int`, `emb_sz`:`int`, `n_hid`:`int`, `n_layers`:`int`, `pad_token`:`int`, `tie_weights`:`bool`=`True`, `qrnn`:`bool`=`False`, `bias`:`bool`=`True`, `output_p`:`float`=`0.4`, `hidden_p`:`float`=`0.2`, `input_p`:`float`=`0.6`, `embed_p`:`float`=`0.1`, `weight_p`:`float`=`0.5`) -> [`Module`](https://pytorch.org/docs/stable/nn.html#torch.nn.Module)\n<a href=\"https://github.com/fastai/fastai/blob/master/fastai/models/rnn.py#L205\">[source]</a>",
      "text/plain": "<IPython.core.display.Markdown object>"
     },
     "metadata": {},
     "output_type": "display_data"
    }
   ],
   "source": "show_doc(get_language_model, doc_string=False)"
  },
  {
   "cell_type": "markdown",
   "metadata": {},
   "source": "Creates an AWD-LSTM with a first embedding of `vocab_sz` by `emb_sz`, a hidden size of `n_hid`, RNNs with `n_layers` that can be bidirectional if `bidir` is True. The last RNN as an output size of `emb_sz` so that we can use the same decoder as the encoder if `tie_weights` is True. The decoder is a `Linear` layer with or without `bias`. If `qrnn` is set to True, we use [QRNN cells] instead of LSTMS. `pad_token` is the token used for padding.\n\n`embed_p` is used for the embedding dropout, `input_p` is used for the input dropout, `weight_p` is used for the weight dropout, `hidden_p` is used for the hidden dropout and `output_p` is used for the output dropout.\n\nNote that the model returns a list of three things, the actual output being the first, the two others being the intermediate hidden states before and after dropout (used by the [[`RNNTrainer`](/callbacks.rnn.html#RNNTrainer)](/callbacks.rnn.html#RNNTrainer)). Most loss functions expect one output, so you should use a Callback to remove the other two if you're not using [[`RNNTrainer`](/callbacks.rnn.html#RNNTrainer)](/callbacks.rnn.html#RNNTrainer)."
  },
  {
   "cell_type": "code",
   "execution_count": null,
   "metadata": {
    "hide_input": true
   },
   "outputs": [
    {
     "data": {
      "text/markdown": "#### <a id=get_rnn_classifier></a>`get_rnn_classifier`\n> `get_rnn_classifier`(`bptt`:`int`, `max_seq`:`int`, `n_class`:`int`, `vocab_sz`:`int`, `emb_sz`:`int`, `n_hid`:`int`, `n_layers`:`int`, `pad_token`:`int`, `layers`:`Collection`\\[`int`\\], `drops`:`Collection`\\[`float`\\], `bidir`:`bool`=`False`, `qrnn`:`bool`=`False`, `hidden_p`:`float`=`0.2`, `input_p`:`float`=`0.6`, `embed_p`:`float`=`0.1`, `weight_p`:`float`=`0.5`) -> [`Module`](https://pytorch.org/docs/stable/nn.html#torch.nn.Module)\n<a href=\"https://github.com/fastai/fastai/blob/master/fastai/models/rnn.py#L214\">[source]</a>",
      "text/plain": "<IPython.core.display.Markdown object>"
     },
     "metadata": {},
     "output_type": "display_data"
    }
   ],
   "source": "show_doc(get_rnn_classifier, doc_string=False)"
  },
  {
   "cell_type": "markdown",
   "metadata": {},
   "source": "Creates a RNN classifier with a encoder taken from an AWD-LSTM with arguments `vocab_sz`, `emb_sz`, `n_hid`, `n_layers`, `bias`, `bidir`, `qrnn`, `pad_token` and the dropouts parameters. This encoder is fed the sequence by successive bits of size `bptt` and we only keep the last `max_seq` outputs for the pooling layers.\n\nThe decoder use a concatenation of the last outputs, a `MaxPooling` of all the ouputs and an `AveragePooling` of all the outputs. It then uses a list of `BatchNorm`, `Dropout`, `Linear`, `ReLU` blocks (with no `ReLU` in the last one), using a first layer size of `3*emb_sz` then follwoing the numbers in `n_layers` to stop at `n_class`. The dropouts probabilities are read in `drops`.\n\nNote that the model returns a list of three things, the actual output being the first, the two others being the intermediate hidden states before and after dropout (used by the [[`RNNTrainer`](/callbacks.rnn.html#RNNTrainer)](/callbacks.rnn.html#RNNTrainer)). Most loss functions expect one output, so you should use a Callback to remove the other two if you're not using [[`RNNTrainer`](/callbacks.rnn.html#RNNTrainer)](/callbacks.rnn.html#RNNTrainer)."
  },
  {
   "cell_type": "markdown",
   "metadata": {},
   "source": "## Basic NLP modules"
  },
  {
   "cell_type": "markdown",
   "metadata": {},
   "source": "On top of the pytorch or the fastai [`layers`](/layers.html#layers), the language models use some custom layers specific to NLP."
  },
  {
   "cell_type": "code",
   "execution_count": null,
   "metadata": {
    "hide_input": true
   },
   "outputs": [
    {
     "data": {
      "text/markdown": "### <a id=EmbeddingDropout></a>`class` `EmbeddingDropout`\n> `EmbeddingDropout`(`emb`:[`Module`](https://pytorch.org/docs/stable/nn.html#torch.nn.Module), `embed_p`:`float`) :: [`Module`](https://pytorch.org/docs/stable/nn.html#torch.nn.Module)\n<a href=\"https://github.com/fastai/fastai/blob/master/fastai/models/rnn.py#L50\">[source]</a>",
      "text/plain": "<IPython.core.display.Markdown object>"
     },
     "metadata": {},
     "output_type": "display_data"
    }
   ],
   "source": "show_doc(EmbeddingDropout, doc_string=False, title_level=3)"
  },
  {
   "cell_type": "markdown",
   "metadata": {},
   "source": "Applies a dropout with probability `embed_p` to an embedding layer `emb` in training mode. Each row of the embedding matrix has a probability `embed_p` of being replaced by zeros while the others are rescaled accordingly. "
  },
  {
   "cell_type": "code",
   "execution_count": null,
   "metadata": {
    "hide_input": true
   },
   "outputs": [
    {
     "data": {
      "text/markdown": "### <a id=RNNDropout></a>`class` `RNNDropout`\n> `RNNDropout`(`p`:`float`=`0.5`) :: [`Module`](https://pytorch.org/docs/stable/nn.html#torch.nn.Module)\n<a href=\"https://github.com/fastai/fastai/blob/master/fastai/models/rnn.py#L11\">[source]</a>",
      "text/plain": "<IPython.core.display.Markdown object>"
     },
     "metadata": {},
     "output_type": "display_data"
    }
   ],
   "source": "show_doc(RNNDropout, doc_string=False, title_level=3)"
  },
  {
   "cell_type": "markdown",
   "metadata": {},
   "source": "Applies a dropout with probability `p` consistently over the first dimension in training mode."
  },
  {
   "cell_type": "code",
   "execution_count": null,
   "metadata": {
    "hide_input": true
   },
   "outputs": [
    {
     "data": {
      "text/markdown": "### <a id=WeightDropout></a>`class` `WeightDropout`\n> `WeightDropout`(`module`:[`Module`](https://pytorch.org/docs/stable/nn.html#torch.nn.Module), `weight_p`:`float`, `layer_names`:`StrList`=`['weight_hh_l0']`) :: [`Module`](https://pytorch.org/docs/stable/nn.html#torch.nn.Module)\n<a href=\"https://github.com/fastai/fastai/blob/master/fastai/models/rnn.py#L23\">[source]</a>",
      "text/plain": "<IPython.core.display.Markdown object>"
     },
     "metadata": {},
     "output_type": "display_data"
    }
   ],
   "source": "show_doc(WeightDropout, doc_string=False, title_level=3)"
  },
  {
   "cell_type": "markdown",
   "metadata": {},
   "source": "Applies dropout of probability `weight_p` to the layers in `layer_names` of `module` in training mode. A copy of those weights is kept so that the dropout mask can change at every batch."
  },
  {
   "cell_type": "code",
   "execution_count": null,
   "metadata": {
    "hide_input": true
   },
   "outputs": [
    {
     "data": {
      "text/markdown": "### <a id=SequentialRNN></a>`class` `SequentialRNN`\n> `SequentialRNN`(`args`) :: [`Sequential`](https://pytorch.org/docs/stable/nn.html#torch.nn.Sequential)\n<a href=\"https://github.com/fastai/fastai/blob/master/fastai/models/rnn.py#L151\">[source]</a>",
      "text/plain": "<IPython.core.display.Markdown object>"
     },
     "metadata": {},
     "output_type": "display_data"
    }
   ],
   "source": "show_doc(SequentialRNN, doc_string=False, title_level=3)"
  },
  {
   "cell_type": "markdown",
   "metadata": {},
   "source": "Create a `Sequentiall` module with `args` that has a `reset` function."
  },
  {
   "cell_type": "code",
   "execution_count": null,
   "metadata": {
    "hide_input": true
   },
   "outputs": [
    {
     "data": {
      "text/markdown": "#### <a id=reset></a>`reset`\n> `reset`()\n<a href=\"https://github.com/fastai/fastai/blob/master/fastai/models/rnn.py#L153\">[source]</a>",
      "text/plain": "<IPython.core.display.Markdown object>"
     },
     "metadata": {},
     "output_type": "display_data"
    }
   ],
   "source": "show_doc(SequentialRNN.reset)"
  },
  {
   "cell_type": "markdown",
   "metadata": {},
   "source": "Call the `reset` function of [`self.children`](/torch_core.html#children) (if they have one)."
  },
  {
   "cell_type": "code",
   "execution_count": null,
   "metadata": {
    "hide_input": true
   },
   "outputs": [
    {
     "data": {
      "text/markdown": "#### <a id=dropout_mask></a>`dropout_mask`\n> `dropout_mask`(`x`:`Tensor`, `sz`:`Collection`\\[`int`\\], `p`:`float`)\n<a href=\"https://github.com/fastai/fastai/blob/master/fastai/models/rnn.py#L7\">[source]</a>",
      "text/plain": "<IPython.core.display.Markdown object>"
     },
     "metadata": {},
     "output_type": "display_data"
    }
   ],
   "source": "show_doc(dropout_mask, doc_string=False)"
  },
  {
   "cell_type": "markdown",
   "metadata": {},
   "source": "Create a dropout mask of size `sz`, the same type as `x` and probability `p`."
  },
  {
   "cell_type": "markdown",
   "metadata": {},
   "source": "## Language model modules"
  },
  {
   "cell_type": "code",
   "execution_count": null,
   "metadata": {},
   "outputs": [
    {
     "data": {
      "text/markdown": "### <a id=RNNCore></a>`class` `RNNCore`\n> `RNNCore`(`vocab_sz`:`int`, `emb_sz`:`int`, `n_hid`:`int`, `n_layers`:`int`, `pad_token`:`int`, `bidir`:`bool`=`False`, `hidden_p`:`float`=`0.2`, `input_p`:`float`=`0.6`, `embed_p`:`float`=`0.1`, `weight_p`:`float`=`0.5`, `qrnn`:`bool`=`False`) :: [`Module`](https://pytorch.org/docs/stable/nn.html#torch.nn.Module)\n<a href=\"https://github.com/fastai/fastai/blob/master/fastai/models/rnn.py#L73\">[source]</a>",
      "text/plain": "<IPython.core.display.Markdown object>"
     },
     "metadata": {},
     "output_type": "display_data"
    }
   ],
   "source": "show_doc(RNNCore, doc_string=False, title_level=3)"
  },
  {
   "cell_type": "markdown",
   "metadata": {},
   "source": "Create an AWD-LSTM encoder with an embedding layer of `vocab_sz` by `emb_sz`, a hidden size of `n_hid`, `n_layers` layers. `pad_token` is passed to the `Embedding`, if `bidir` is True, the model is bidirectional. If `qrnn` is True, we use QRNN cells instead of LSTMs. Dropouts are `embed_p`, `input_p`, `weight_p` and `hidden_p`."
  },
  {
   "cell_type": "code",
   "execution_count": null,
   "metadata": {},
   "outputs": [],
   "source": ""
  },
  {
   "cell_type": "markdown",
   "metadata": {},
   "source": "### Global Variable Definitions:"
  },
  {
   "cell_type": "code",
   "execution_count": null,
   "metadata": {
    "hide_input": true
   },
   "outputs": [
    {
     "data": {
      "text/markdown": "## <a id=LinearDecoder></a>`class` `LinearDecoder`\n> `LinearDecoder`(`n_out`:`int`, `n_hid`:`int`, `output_p`:`float`, `tie_encoder`:[`Module`](https://pytorch.org/docs/stable/nn.html#torch.nn.Module)=`None`, `bias`:`bool`=`True`) :: [`Module`](https://pytorch.org/docs/stable/nn.html#torch.nn.Module)\n\n\nTo go on top of a RNN_Core module <a href=\"https://github.com/fastai/fastai/blob/master/fastai/models/rnn.py#L132\">[source]</a>",
      "text/plain": "<IPython.core.display.Markdown object>"
     },
     "metadata": {},
     "output_type": "display_data"
    }
   ],
   "source": "show_doc(LinearDecoder)"
  },
  {
   "cell_type": "markdown",
   "metadata": {},
   "source": "[`LinearDecoder`](/models.rnn.html#LinearDecoder)"
  },
  {
   "cell_type": "code",
   "execution_count": null,
   "metadata": {
    "hide_input": true
   },
   "outputs": [
    {
     "data": {
      "text/markdown": "#### <a id=forward></a>`forward`\n> `forward`(`input`:`Tuple`\\[`Tensor`, `Tensor`\\]) -> `Tuple`\\[`Tensor`, `Tensor`, `Tensor`\\]\n\n\nShould be overridden by all subclasses.\n\n.. note::\n    Although the recipe for forward pass needs to be defined within\n    this function, one should call the :class:`Module` instance afterwards\n    instead of this since the former takes care of running the\n    registered hooks while the latter silently ignores them. <a href=\"https://github.com/fastai/fastai/blob/master/fastai/models/rnn.py#L145\">[source]</a>",
      "text/plain": "<IPython.core.display.Markdown object>"
     },
     "metadata": {},
     "output_type": "display_data"
    }
   ],
   "source": "show_doc(LinearDecoder.forward)"
  },
  {
   "cell_type": "markdown",
   "metadata": {},
   "source": "`LinearDecoder.forward`"
  },
  {
   "cell_type": "code",
   "execution_count": null,
   "metadata": {
    "hide_input": true
   },
   "outputs": [
    {
     "data": {
      "text/markdown": "## <a id=MultiBatchRNNCore></a>`class` `MultiBatchRNNCore`\n> `MultiBatchRNNCore`(`bptt`:`int`, `max_seq`:`int`, `args`, `kwargs`) :: [`RNNCore`](/models.rnn.html#RNNCore)\n\n\nCreates a RNNCore module that can process a full sentence. <a href=\"https://github.com/fastai/fastai/blob/master/fastai/models/rnn.py#L157\">[source]</a>",
      "text/plain": "<IPython.core.display.Markdown object>"
     },
     "metadata": {},
     "output_type": "display_data"
    }
   ],
   "source": "show_doc(MultiBatchRNNCore)"
  },
  {
   "cell_type": "markdown",
   "metadata": {},
   "source": "[`MultiBatchRNNCore`](/models.rnn.html#MultiBatchRNNCore)"
  },
  {
   "cell_type": "code",
   "execution_count": null,
   "metadata": {
    "hide_input": true
   },
   "outputs": [
    {
     "data": {
      "text/markdown": "#### <a id=concat></a>`concat`\n> `concat`(`arrs`:`Collection`\\[`Tensor`\\]) -> `Tensor`\n\n\nConcatenates the arrays along the batch dimension. <a href=\"https://github.com/fastai/fastai/blob/master/fastai/models/rnn.py#L164\">[source]</a>",
      "text/plain": "<IPython.core.display.Markdown object>"
     },
     "metadata": {},
     "output_type": "display_data"
    }
   ],
   "source": "show_doc(MultiBatchRNNCore.concat)"
  },
  {
   "cell_type": "markdown",
   "metadata": {},
   "source": "`MultiBatchRNNCore.concat`"
  },
  {
   "cell_type": "code",
   "execution_count": null,
   "metadata": {
    "hide_input": true
   },
   "outputs": [
    {
     "data": {
      "text/markdown": "#### <a id=forward></a>`forward`\n> `forward`(`input`:`LongTensor`) -> `Tuple`\\[`Tensor`, `Tensor`\\]\n\n\nShould be overridden by all subclasses.\n\n.. note::\n    Although the recipe for forward pass needs to be defined within\n    this function, one should call the :class:`Module` instance afterwards\n    instead of this since the former takes care of running the\n    registered hooks while the latter silently ignores them. <a href=\"https://github.com/fastai/fastai/blob/master/fastai/models/rnn.py#L168\">[source]</a>",
      "text/plain": "<IPython.core.display.Markdown object>"
     },
     "metadata": {},
     "output_type": "display_data"
    }
   ],
   "source": "show_doc(MultiBatchRNNCore.forward)"
  },
  {
   "cell_type": "markdown",
   "metadata": {},
   "source": "`MultiBatchRNNCore.forward`"
  },
  {
   "cell_type": "code",
   "execution_count": null,
   "metadata": {
    "hide_input": true
   },
   "outputs": [
    {
     "data": {
      "text/markdown": "## <a id=PoolingLinearClassifier></a>`class` `PoolingLinearClassifier`\n> `PoolingLinearClassifier`(`layers`:`Collection`\\[`int`\\], `drops`:`Collection`\\[`float`\\]) :: [`Module`](https://pytorch.org/docs/stable/nn.html#torch.nn.Module)\n\n\nCreates a linear classifier with pooling. <a href=\"https://github.com/fastai/fastai/blob/master/fastai/models/rnn.py#L179\">[source]</a>",
      "text/plain": "<IPython.core.display.Markdown object>"
     },
     "metadata": {},
     "output_type": "display_data"
    }
   ],
   "source": "show_doc(PoolingLinearClassifier)"
  },
  {
   "cell_type": "markdown",
   "metadata": {},
   "source": "[`PoolingLinearClassifier`](/models.rnn.html#PoolingLinearClassifier)"
  },
  {
   "cell_type": "code",
   "execution_count": null,
   "metadata": {
    "hide_input": true
   },
   "outputs": [
    {
     "data": {
      "text/markdown": "#### <a id=forward></a>`forward`\n> `forward`(`input`:`Tuple`\\[`Tensor`, `Tensor`\\]) -> `Tuple`\\[`Tensor`, `Tensor`, `Tensor`\\]\n\n\nShould be overridden by all subclasses.\n\n.. note::\n    Although the recipe for forward pass needs to be defined within\n    this function, one should call the :class:`Module` instance afterwards\n    instead of this since the former takes care of running the\n    registered hooks while the latter silently ignores them. <a href=\"https://github.com/fastai/fastai/blob/master/fastai/models/rnn.py#L195\">[source]</a>",
      "text/plain": "<IPython.core.display.Markdown object>"
     },
     "metadata": {},
     "output_type": "display_data"
    }
   ],
   "source": "show_doc(PoolingLinearClassifier.forward)"
  },
  {
   "cell_type": "markdown",
   "metadata": {},
   "source": "`PoolingLinearClassifier.forward`"
  },
  {
   "cell_type": "code",
   "execution_count": null,
   "metadata": {
    "hide_input": true
   },
   "outputs": [
    {
     "data": {
      "text/markdown": "#### <a id=pool></a>`pool`\n> `pool`(`x`:`Tensor`, `bs`:`int`, `is_max`:`bool`)\n\n\nPools the tensor along the seq_len dimension. <a href=\"https://github.com/fastai/fastai/blob/master/fastai/models/rnn.py#L190\">[source]</a>",
      "text/plain": "<IPython.core.display.Markdown object>"
     },
     "metadata": {},
     "output_type": "display_data"
    }
   ],
   "source": "show_doc(PoolingLinearClassifier.pool)"
  },
  {
   "cell_type": "markdown",
   "metadata": {},
   "source": "`PoolingLinearClassifier.pool`"
  },
  {
   "cell_type": "code",
   "execution_count": null,
   "metadata": {
    "hide_input": true
   },
   "outputs": [
    {
     "data": {
      "text/markdown": "#### <a id=one_hidden></a>`one_hidden`\n> `one_hidden`(`l`:`int`) -> `Tensor`\n\n\nReturns one hidden state <a href=\"https://github.com/fastai/fastai/blob/master/fastai/models/rnn.py#L120\">[source]</a>",
      "text/plain": "<IPython.core.display.Markdown object>"
     },
     "metadata": {},
     "output_type": "display_data"
    }
   ],
   "source": "show_doc(RNNCore.one_hidden)"
  },
  {
   "cell_type": "markdown",
   "metadata": {},
   "source": "`RNNCore.one_hidden`"
  },
  {
   "cell_type": "code",
   "execution_count": null,
   "metadata": {
    "hide_input": true
   },
   "outputs": [
    {
     "data": {
      "text/markdown": "#### <a id=reset></a>`reset`\n> `reset`()\n\n\nResets the hidden states <a href=\"https://github.com/fastai/fastai/blob/master/fastai/models/rnn.py#L125\">[source]</a>",
      "text/plain": "<IPython.core.display.Markdown object>"
     },
     "metadata": {},
     "output_type": "display_data"
    }
   ],
   "source": "show_doc(RNNCore.reset)"
  },
  {
   "cell_type": "markdown",
   "metadata": {},
   "source": "`RNNCore.reset`"
  },
  {
   "cell_type": "markdown",
   "metadata": {},
   "source": "## Undocumented Methods - Methods moved below this line will intentionally be hidden"
  },
  {
   "cell_type": "markdown",
   "metadata": {},
   "source": "## New Methods - Please document or move to the undocumented section"
  },
  {
   "cell_type": "code",
   "execution_count": null,
   "metadata": {
    "hide_input": true
   },
   "outputs": [
    {
     "data": {
      "text/markdown": "#### <a id=repackage_var></a>`repackage_var`\n> `repackage_var`(`h`:`Tensors`) -> `Tensors`\n\n\nDetaches h from its history. <a href=\"https://github.com/fastai/fastai/blob/master/fastai/models/rnn.py#L69\">[source]</a>",
      "text/plain": "<IPython.core.display.Markdown object>"
     },
     "metadata": {},
     "output_type": "display_data"
    }
   ],
   "source": "show_doc(repackage_var)"
  },
  {
   "cell_type": "markdown",
   "metadata": {},
   "source": ""
  },
  {
   "cell_type": "code",
   "execution_count": null,
   "metadata": {
    "hide_input": true
   },
   "outputs": [
    {
     "data": {
      "text/markdown": "#### <a id=forward></a>`forward`\n> `forward`(`args`:`Classes`)\n\n\nShould be overridden by all subclasses.\n\n.. note::\n    Although the recipe for forward pass needs to be defined within\n    this function, one should call the :class:`Module` instance afterwards\n    instead of this since the former takes care of running the\n    registered hooks while the latter silently ignores them. <a href=\"https://github.com/fastai/fastai/blob/master/fastai/models/rnn.py#L40\">[source]</a>",
      "text/plain": "<IPython.core.display.Markdown object>"
     },
     "metadata": {},
     "output_type": "display_data"
    }
   ],
   "source": "show_doc(WeightDropout.forward)"
  },
  {
   "cell_type": "markdown",
   "metadata": {},
   "source": ""
  },
  {
   "cell_type": "code",
   "execution_count": null,
   "metadata": {
    "hide_input": true
   },
   "outputs": [
    {
     "data": {
      "text/markdown": "#### <a id=forward></a>`forward`\n> `forward`(`input`:`LongTensor`) -> `Tuple`\\[`Tensor`, `Tensor`\\]\n\n\nShould be overridden by all subclasses.\n\n.. note::\n    Although the recipe for forward pass needs to be defined within\n    this function, one should call the :class:`Module` instance afterwards\n    instead of this since the former takes care of running the\n    registered hooks while the latter silently ignores them. <a href=\"https://github.com/fastai/fastai/blob/master/fastai/models/rnn.py#L104\">[source]</a>",
      "text/plain": "<IPython.core.display.Markdown object>"
     },
     "metadata": {},
     "output_type": "display_data"
    }
   ],
   "source": "show_doc(RNNCore.forward)"
  },
  {
   "cell_type": "markdown",
   "metadata": {},
   "source": ""
  },
  {
   "cell_type": "code",
   "execution_count": null,
   "metadata": {
    "hide_input": true
   },
   "outputs": [
    {
     "data": {
      "text/markdown": "#### <a id=forward></a>`forward`\n> `forward`(`words`:`LongTensor`, `scale`:`Optional`\\[`float`\\]=`None`) -> `Tensor`\n\n\nShould be overridden by all subclasses.\n\n.. note::\n    Although the recipe for forward pass needs to be defined within\n    this function, one should call the :class:`Module` instance afterwards\n    instead of this since the former takes care of running the\n    registered hooks while the latter silently ignores them. <a href=\"https://github.com/fastai/fastai/blob/master/fastai/models/rnn.py#L59\">[source]</a>",
      "text/plain": "<IPython.core.display.Markdown object>"
     },
     "metadata": {},
     "output_type": "display_data"
    }
   ],
   "source": "show_doc(EmbeddingDropout.forward)"
  },
  {
   "cell_type": "markdown",
   "metadata": {},
   "source": ""
  },
  {
   "cell_type": "code",
   "execution_count": null,
   "metadata": {
    "hide_input": true
   },
   "outputs": [
    {
     "data": {
      "text/markdown": "#### <a id=forward></a>`forward`\n> `forward`(`x`:`Tensor`) -> `Tensor`\n\n\nShould be overridden by all subclasses.\n\n.. note::\n    Although the recipe for forward pass needs to be defined within\n    this function, one should call the :class:`Module` instance afterwards\n    instead of this since the former takes care of running the\n    registered hooks while the latter silently ignores them. <a href=\"https://github.com/fastai/fastai/blob/master/fastai/models/rnn.py#L18\">[source]</a>",
      "text/plain": "<IPython.core.display.Markdown object>"
     },
     "metadata": {},
     "output_type": "display_data"
    }
   ],
   "source": "show_doc(RNNDropout.forward)"
  },
  {
   "cell_type": "markdown",
   "metadata": {},
   "source": ""
  },
  {
   "cell_type": "code",
   "execution_count": null,
   "metadata": {
    "hide_input": true
   },
   "outputs": [
    {
     "data": {
      "text/markdown": "#### <a id=reset></a>`reset`\n> `reset`()\n<a href=\"https://github.com/fastai/fastai/blob/master/fastai/models/rnn.py#L47\">[source]</a>",
      "text/plain": "<IPython.core.display.Markdown object>"
     },
     "metadata": {},
     "output_type": "display_data"
    }
   ],
   "source": "show_doc(WeightDropout.reset)"
  },
  {
   "cell_type": "markdown",
   "metadata": {},
   "source": ""
  }
 ],
 "metadata": {
  "jekyll": {
   "summary": "Implements the AWD-LSTM and an RNN classifier",
   "title": "models.rnn"
  },
  "kernelspec": {
   "display_name": "Python 3",
   "language": "python",
   "name": "python3"
  }
 },
 "nbformat": 4,
 "nbformat_minor": 2
}
