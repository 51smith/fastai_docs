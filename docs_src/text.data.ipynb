{
 "cells": [
  {
   "cell_type": "code",
   "execution_count": 0,
   "metadata": {
    "hide_input": true
   },
   "source": "from fastai.gen_doc.gen_notebooks import update_module_metadata\nimport fastai.text.data\n# For updating jekyll metadata. You MUST reload notebook immediately after executing this cell for changes to save\n# Leave blank to autopopulate from mod.__doc__\nupdate_module_metadata(fastai.text.data)",
   "outputs": []
  },
  {
   "cell_type": "markdown",
   "metadata": {},
   "source": "# NLP datasets"
  },
  {
   "cell_type": "code",
   "execution_count": null,
   "metadata": {
    "hide_input": true
   },
   "outputs": [],
   "source": "from fastai.gen_doc.nbdoc import *\nfrom fastai.text import * \nfrom fastai.docs import *"
  },
  {
   "cell_type": "markdown",
   "metadata": {},
   "source": "This module contains the [`TextDataset`](/text.data.html#TextDataset) class, which is the main dataset you should use for your NLP tasks. It automatically does the preprocessing steps described in [`text.transform`](/text.transform.html#text.transform). It also defines a few helper function to quickly get a [`DataBunch`](/data.html#DataBunch) ready."
  },
  {
   "cell_type": "markdown",
   "metadata": {},
   "source": "## Quickly assemble your data"
  },
  {
   "cell_type": "markdown",
   "metadata": {},
   "source": "You should get your data in one of the following formats to make the most of the fastai library and use one of the `text_data` function:\n- raw text files in folders train, valid, test in an ImageNet style,\n- a csv (with no index or Header) where the first column(s) gives the label(s) and the folowwing one the associated text,\n- tokens and labels arrays already saved,\n- ids, vocabulary (correspondance id to word) and labels already saved.\n\nIf you are assembling the data for a language model, you should define your labels as always 0 to respect those formats. The first time you create a [`DataBunch`](/data.html#DataBunch) with one of those functions, your data will be preprocessed automatically and saved, so that the next time you call it is almost instantaneous."
  },
  {
   "cell_type": "markdown",
   "metadata": {},
   "source": "### text_data functions"
  },
  {
   "cell_type": "markdown",
   "metadata": {},
   "source": "All those functions will require a `data_func` argument that explains how to assemble the datasets into a [[[[`DataBunch`](/data.html#DataBunch)](/data.html#DataBunch)](/data.html#DataBunch)](/data.html#DataBunch). It can be one of the following:\n- [`standard_data`](/text.data.html#standard_data): the datasets are directly used to create a [[[[`DataBunch`](/data.html#DataBunch)](/data.html#DataBunch)](/data.html#DataBunch)](/data.html#DataBunch),\n- [`lm_data`](/text.data.html#lm_data): the datasets are assembled to create a [[[[`DataBunch`](/data.html#DataBunch)](/data.html#DataBunch)](/data.html#DataBunch)](/data.html#DataBunch) suitable for a language model,\n- [`classifier_data`](/text.data.html#classifier_data): the datasets are assembled to create a [[[[`DataBunch`](/data.html#DataBunch)](/data.html#DataBunch)](/data.html#DataBunch)](/data.html#DataBunch) suitable for an NLP classifier."
  },
  {
   "cell_type": "code",
   "execution_count": null,
   "metadata": {
    "hide_input": true
   },
   "outputs": [
    {
     "data": {
      "text/markdown": "#### <a id=text_data_from_folder></a>`text_data_from_folder`\n> `text_data_from_folder`(`path`:`PathOrStr`, `tokenizer`:[`Tokenizer`](/text.transform.html#Tokenizer)=`None`, `train`:`str`=`'train'`, `valid`:`str`=`'valid'`, `test`:`Optional`\\[`str`\\]=`None`, `shuffle`:`bool`=`True`, `data_func`:`Callable`\\[`Collection`\\[[`DatasetBase`](/data.html#DatasetBase)\\], `PathOrStr`, `KWArgs`, [`DataBunch`](/data.html#DataBunch)\\]=`'standard_data'`, `vocab`:[`Vocab`](/text.transform.html#Vocab)=`None`, `kwargs`)\n<a href=\"https://github.com/fastai/fastai/blob/master/fastai/text/data.py#L315\">[source]</a>",
      "text/plain": "<IPython.core.display.Markdown object>"
     },
     "metadata": {},
     "output_type": "display_data"
    }
   ],
   "source": "show_doc(text_data_from_folder, doc_string=False)"
  },
  {
   "cell_type": "markdown",
   "metadata": {},
   "source": "This function will create a [`DataBunch`](/data.html#DataBunch) from texts placed in `path` in a [[`train`](/train.html#train)](/train.html#train), `valid` and maybe `test` folders. Text files in the [[`train`](/train.html#train)](/train.html#train) and `valid` folders should be places in subdirectories according to their classes (always the same for a language model) and the ones for the `test` folder should all be placed there directly. `tokenizer` will be used to parse those texts into tokens. The `shuffle` flag will optionally shuffle the texts found.\n\nYou can pass a specific `vocab` for the numericalization step (if you are building a classifier from a language model you fine-tuned for instance). kwargs will be split between the [[`TextDataset`](/text.data.html#TextDataset)](/text.data.html#TextDataset) function and to the `get_data` function, you can precise there parameters such as `max_vocab`, `chunksize`, `min_freq`, `n_labels` (see the [[`TextDataset`](/text.data.html#TextDataset)](/text.data.html#TextDataset) documentation) or `bs`, `bptt` and `pad_idx` (see the sections LM data and classifier data)."
  },
  {
   "cell_type": "code",
   "execution_count": null,
   "metadata": {
    "hide_input": true
   },
   "outputs": [
    {
     "data": {
      "text/markdown": "#### <a id=text_data_from_csv></a>`text_data_from_csv`\n> `text_data_from_csv`(`path`:`PathOrStr`, `tokenizer`:[`Tokenizer`](/text.transform.html#Tokenizer)=`None`, `train`:`str`=`'train'`, `valid`:`str`=`'valid'`, `test`:`Optional`\\[`str`\\]=`None`, `data_func`:`Callable`\\[`Collection`\\[[`DatasetBase`](/data.html#DatasetBase)\\], `PathOrStr`, `KWArgs`, [`DataBunch`](/data.html#DataBunch)\\]=`'standard_data'`, `vocab`:[`Vocab`](/text.transform.html#Vocab)=`None`, `kwargs`) -> [`DataBunch`](/data.html#DataBunch)\n<a href=\"https://github.com/fastai/fastai/blob/master/fastai/text/data.py#L304\">[source]</a>",
      "text/plain": "<IPython.core.display.Markdown object>"
     },
     "metadata": {},
     "output_type": "display_data"
    }
   ],
   "source": "show_doc(text_data_from_csv, doc_string=False)"
  },
  {
   "cell_type": "markdown",
   "metadata": {},
   "source": "This function will create a [`DataBunch`](/data.html#DataBunch) from texts placed in `path` in a [`train`](/train.html#train).csv, `valid`.csv and maybe `test`.csv files. These csv files should have no header or index, and the label(s) should be the first column(s) (be sure to adjust the parameter `n_labels` if you have more than one). `tokenizer` will be used to parse those texts into tokens.\n\nYou can pass a specific `vocab` for the numericalization step (if you are building a classifier from a language model you fine-tuned for instance). kwargs will be split between the [[`TextDataset`](/text.data.html#TextDataset)](/text.data.html#TextDataset) function and to the `get_data` function, you can precise there parameters such as `max_vocab`, `chunksize`, `min_freq`, `n_labels` (see the [[`TextDataset`](/text.data.html#TextDataset)](/text.data.html#TextDataset) documentation) or `bs`, `bptt` and `pad_idx` (see the sections LM data and classifier data)."
  },
  {
   "cell_type": "code",
   "execution_count": null,
   "metadata": {
    "hide_input": true
   },
   "outputs": [
    {
     "data": {
      "text/markdown": "#### <a id=text_data_from_tokens></a>`text_data_from_tokens`\n> `text_data_from_tokens`(`path`:`PathOrStr`, `train`:`str`=`'train'`, `valid`:`str`=`'valid'`, `test`:`Optional`\\[`str`\\]=`None`, `data_func`:`Callable`\\[`Collection`\\[[`DatasetBase`](/data.html#DatasetBase)\\], `PathOrStr`, `KWArgs`, [`DataBunch`](/data.html#DataBunch)\\]=`'standard_data'`, `vocab`:[`Vocab`](/text.transform.html#Vocab)=`None`, `kwargs`) -> [`DataBunch`](/data.html#DataBunch)\n<a href=\"https://github.com/fastai/fastai/blob/master/fastai/text/data.py#L294\">[source]</a>",
      "text/plain": "<IPython.core.display.Markdown object>"
     },
     "metadata": {},
     "output_type": "display_data"
    }
   ],
   "source": "show_doc(text_data_from_tokens, doc_string=False)"
  },
  {
   "cell_type": "markdown",
   "metadata": {},
   "source": "This function will create a [`DataBunch`](/data.html#DataBunch) from texts already tokenized placed in `path` in files named `f{train}{tok_suff}`.npy, `f{train}{lbl_suff}`.npy, `f{valid}{tok_suff}`.npy, `f{valid}{lbl_suff}`.npy and maybe `f{test}{tok_suff}`.npy. If no label file exists, labels will default to all zeros. `tok_suff` and `lbl_suff` are '\\_tok' and '\\_lbl' respectively.\n\nYou can pass a specific `vocab` for the numericalization step (if you are building a classifier from a language model you fine-tuned for instance). kwargs will be split between the [[`TextDataset`](/text.data.html#TextDataset)](/text.data.html#TextDataset) function and to the `get_data` function, you can precise there parameters such as `max_vocab`, `chunksize`, `min_freq`, `n_labels`, `tok_suff` and `lbl_suff` (see the [[`TextDataset`](/text.data.html#TextDataset)](/text.data.html#TextDataset) documentation) or `bs`, `bptt` and `pad_idx` (see the sections LM data and classifier data)."
  },
  {
   "cell_type": "code",
   "execution_count": null,
   "metadata": {
    "hide_input": true
   },
   "outputs": [
    {
     "data": {
      "text/markdown": "#### <a id=text_data_from_ids></a>`text_data_from_ids`\n> `text_data_from_ids`(`path`:`PathOrStr`, `train`:`str`=`'train'`, `valid`:`str`=`'valid'`, `test`:`Optional`\\[`str`\\]=`None`, `data_func`:`Callable`\\[`Collection`\\[[`DatasetBase`](/data.html#DatasetBase)\\], `PathOrStr`, `KWArgs`, [`DataBunch`](/data.html#DataBunch)\\]=`'standard_data'`, `itos`:`str`=`'itos.pkl'`, `kwargs`) -> [`DataBunch`](/data.html#DataBunch)\n<a href=\"https://github.com/fastai/fastai/blob/master/fastai/text/data.py#L284\">[source]</a>",
      "text/plain": "<IPython.core.display.Markdown object>"
     },
     "metadata": {},
     "output_type": "display_data"
    }
   ],
   "source": "show_doc(text_data_from_ids, doc_string=False)"
  },
  {
   "cell_type": "markdown",
   "metadata": {},
   "source": "This function will create a [`DataBunch`](/data.html#DataBunch) from texts already tokenized placed in `path` in files named `f{train}{id_suff}`.npy, `f{train}{lbl_suff}`.npy, `f{valid}{id_suff}`.npy, `f{valid}{lbl_suff}`.npy and maybe `f{test}{id_suff}`.npy. If no label file exists, labels will default to all zeros. `id_suff` and `lbl_suff` are '\\_ids' and '\\_lbl' respectively. The `itos` file should contain the correspondance from ids to words.\n\nkwargs will be split between the [[`TextDataset`](/text.data.html#TextDataset)](/text.data.html#TextDataset) function and to the `get_data` function, you can precise there parameters such as `max_vocab`, `chunksize`, `min_freq`, `n_labels`, `tok_suff` and `lbl_suff` (see the [[`TextDataset`](/text.data.html#TextDataset)](/text.data.html#TextDataset) documentation) or `bs`, `bptt` and `pad_idx` (see the sections LM data and classifier data)."
  },
  {
   "cell_type": "markdown",
   "metadata": {},
   "source": "### Example"
  },
  {
   "cell_type": "markdown",
   "metadata": {},
   "source": "Untar the IMDB sample dataset if not already done:"
  },
  {
   "cell_type": "code",
   "execution_count": null,
   "metadata": {},
   "outputs": [
    {
     "data": {
      "text/plain": "PosixPath('../data/imdb_sample')"
     },
     "execution_count": null,
     "metadata": {},
     "output_type": "execute_result"
    }
   ],
   "source": "untar_imdb()\nIMDB_PATH"
  },
  {
   "cell_type": "markdown",
   "metadata": {},
   "source": "Since it comes in the form of csv files, we will use the corresponding `text_data` method. Here is an overview of what your file you should look like:"
  },
  {
   "cell_type": "code",
   "execution_count": null,
   "metadata": {},
   "outputs": [
    {
     "data": {
      "text/html": "<div>\n<table border=\"1\" class=\"dataframe\">\n  <thead>\n    <tr style=\"text-align: right;\">\n      <th></th>\n      <th>0</th>\n      <th>1</th>\n    </tr>\n  </thead>\n  <tbody>\n    <tr>\n      <th>0</th>\n      <td>0</td>\n      <td>Un-bleeping-believable! Meg Ryan doesn't even ...</td>\n    </tr>\n    <tr>\n      <th>1</th>\n      <td>1</td>\n      <td>This is a extremely well-made film. The acting...</td>\n    </tr>\n    <tr>\n      <th>2</th>\n      <td>0</td>\n      <td>Every once in a long while a movie will come a...</td>\n    </tr>\n    <tr>\n      <th>3</th>\n      <td>1</td>\n      <td>Name just says it all. I watched this movie wi...</td>\n    </tr>\n    <tr>\n      <th>4</th>\n      <td>0</td>\n      <td>This movie succeeds at being one of the most u...</td>\n    </tr>\n  </tbody>\n</table>\n</div>",
      "text/plain": "   0                                                  1\n0  0  Un-bleeping-believable! Meg Ryan doesn't even ...\n1  1  This is a extremely well-made film. The acting...\n2  0  Every once in a long while a movie will come a...\n3  1  Name just says it all. I watched this movie wi...\n4  0  This movie succeeds at being one of the most u..."
     },
     "execution_count": null,
     "metadata": {},
     "output_type": "execute_result"
    }
   ],
   "source": "pd.read_csv(IMDB_PATH/'train.csv', header=None).head()"
  },
  {
   "cell_type": "markdown",
   "metadata": {},
   "source": "And here is a simple way of creating your [`DataBunch`](/data.html#DataBunch)."
  },
  {
   "cell_type": "code",
   "execution_count": null,
   "metadata": {},
   "outputs": [],
   "source": "data_lm = text_data_from_csv(Path(IMDB_PATH), data_func=lm_data)"
  },
  {
   "cell_type": "markdown",
   "metadata": {},
   "source": "## The TextDataset class"
  },
  {
   "cell_type": "markdown",
   "metadata": {},
   "source": "Behind the scenes, the previous functions will create a training, validation and maybe test [`TextDataset`](/text.data.html#TextDataset) which is the class responsible for collecting and preprocessing the data."
  },
  {
   "cell_type": "code",
   "execution_count": null,
   "metadata": {
    "hide_input": true
   },
   "outputs": [
    {
     "data": {
      "text/markdown": "## <a id=TextDataset></a>`class` `TextDataset`\n> `TextDataset`(`path`:`PathOrStr`, `tokenizer`:[`Tokenizer`](/text.transform.html#Tokenizer)=`None`, `vocab`:[`Vocab`](/text.transform.html#Vocab)=`None`, `max_vocab`:`int`=`60000`, `chunksize`:`int`=`10000`, `name`:`str`=`'train'`, `min_freq`:`int`=`2`, `n_labels`:`int`=`1`, `create_mtd`:[`TextMtd`](/text.data.html#TextMtd)=`<TextMtd.CSV: 1>`, `classes`:`Classes`=`None`)\n<a href=\"https://github.com/fastai/fastai/blob/master/fastai/text/data.py#L16\">[source]</a>",
      "text/plain": "<IPython.core.display.Markdown object>"
     },
     "metadata": {},
     "output_type": "display_data"
    }
   ],
   "source": "show_doc(TextDataset, doc_string=False)"
  },
  {
   "cell_type": "markdown",
   "metadata": {},
   "source": "This class shouldn't be initialized directly as it will rely on internal files being put in an 'tmp' folder of `path`. `tokenizer` and `vocab` will be used to tokenize and numericalize the texts (if needed). `max_vocab` and `min_freq` are passed at the create of the vocabulary (if needed). `chunksize` is the size of chunks preprocessed when loading the data from csv or folders. `name` is the name of the set that will be used to name the temporary files. `n_labels` is the number of labels if creating the data from a csv file. `classes` is the correspondance between label and classe. `create_mtd` is an internal flag that tells the [[[`TextDataset`](/text.data.html#TextDataset)](/text.data.html#TextDataset)](/text.data.html#TextDataset) how it was created. It can be:\n- `CSV` if it was created from texts or csv\n- `TOK` if it was created from tokens (which means the [[[`TextDataset`](/text.data.html#TextDataset)](/text.data.html#TextDataset)](/text.data.html#TextDataset) will always skip the tokenization)\n- `IDS` if it was created from tokens (which means the [[[`TextDataset`](/text.data.html#TextDataset)](/text.data.html#TextDataset)](/text.data.html#TextDataset) will always skip the tokenization and the numericalization)"
  },
  {
   "cell_type": "markdown",
   "metadata": {},
   "source": "### Factory methods"
  },
  {
   "cell_type": "markdown",
   "metadata": {},
   "source": "Instead of using the [`TextDataset`](/text.data.html#TextDataset) init method, one of the following factory functions should be used instead:"
  },
  {
   "cell_type": "code",
   "execution_count": null,
   "metadata": {
    "hide_input": true
   },
   "outputs": [
    {
     "data": {
      "text/markdown": "#### <a id=from_folder></a>`from_folder`\n> `from_folder`(`folder`:`PathOrStr`, `tokenizer`:[`Tokenizer`](/text.transform.html#Tokenizer)=`None`, `name`:`str`=`'train'`, `classes`:`Classes`=`None`, `shuffle`:`bool`=`True`, `kwargs`) -> `TextDataset`\n<a href=\"https://github.com/fastai/fastai/blob/master/fastai/text/data.py#L164\">[source]</a>",
      "text/plain": "<IPython.core.display.Markdown object>"
     },
     "metadata": {},
     "output_type": "display_data"
    }
   ],
   "source": "show_doc(TextDataset.from_folder, doc_string=False)"
  },
  {
   "cell_type": "markdown",
   "metadata": {},
   "source": "Creates a [[`TextDataset`](/text.data.html#TextDataset)](/text.data.html#TextDataset) named `name` by scanning the subfolders in `folder` and using `tokenizer`. If `classes` are passed, only the subfolders named accordingly are checked. If `shuffle` is True, the data will be shuffled. Any additional `kwargs` are passed to the init method of [[`TextDataset`](/text.data.html#TextDataset)](/text.data.html#TextDataset). "
  },
  {
   "cell_type": "code",
   "execution_count": null,
   "metadata": {
    "hide_input": true
   },
   "outputs": [
    {
     "data": {
      "text/markdown": "#### <a id=from_one_folder></a>`from_one_folder`\n> `from_one_folder`(`folder`:`PathOrStr`, `classes`:`Classes`, `tokenizer`:[`Tokenizer`](/text.transform.html#Tokenizer)=`None`, `name`:`str`=`'train'`, `shuffle`:`bool`=`True`, `kwargs`) -> `TextDataset`\n<a href=\"https://github.com/fastai/fastai/blob/master/fastai/text/data.py#L143\">[source]</a>",
      "text/plain": "<IPython.core.display.Markdown object>"
     },
     "metadata": {},
     "output_type": "display_data"
    }
   ],
   "source": "show_doc(TextDataset.from_one_folder, doc_string=False)"
  },
  {
   "cell_type": "markdown",
   "metadata": {},
   "source": "Creates a [[`TextDataset`](/text.data.html#TextDataset)](/text.data.html#TextDataset) named `name` by scanning the text files in `folder` and using `tokenizer`. All files are labelled `classes[0]` so this is typically used for the test set. If `shuffle` is True, the data will be shuffled. Any additional `kwargs` are passed to the init method of [[`TextDataset`](/text.data.html#TextDataset)](/text.data.html#TextDataset). "
  },
  {
   "cell_type": "code",
   "execution_count": null,
   "metadata": {
    "hide_input": true
   },
   "outputs": [
    {
     "data": {
      "text/markdown": "#### <a id=from_csv></a>`from_csv`\n> `from_csv`(`folder`:`PathOrStr`, `tokenizer`:[`Tokenizer`](/text.transform.html#Tokenizer)=`None`, `name`:`str`=`'train'`, `kwargs`) -> `TextDataset`\n<a href=\"https://github.com/fastai/fastai/blob/master/fastai/text/data.py#L134\">[source]</a>",
      "text/plain": "<IPython.core.display.Markdown object>"
     },
     "metadata": {},
     "output_type": "display_data"
    }
   ],
   "source": "show_doc(TextDataset.from_csv, doc_string=False)"
  },
  {
   "cell_type": "markdown",
   "metadata": {},
   "source": "Creates a [[`TextDataset`](/text.data.html#TextDataset)](/text.data.html#TextDataset) named `name` with the texts in `name`.csv using `tokenizer`. Any additional `kwargs` are passed to the init method of [[`TextDataset`](/text.data.html#TextDataset)](/text.data.html#TextDataset). "
  },
  {
   "cell_type": "code",
   "execution_count": null,
   "metadata": {
    "hide_input": true
   },
   "outputs": [
    {
     "data": {
      "text/markdown": "#### <a id=from_tokens></a>`from_tokens`\n> `from_tokens`(`folder`:`PathOrStr`, `name`:`str`=`'train'`, `tok_suff`:`str`=`'_tok'`, `lbl_suff`:`str`=`'_lbl'`, `kwargs`) -> `TextDataset`\n<a href=\"https://github.com/fastai/fastai/blob/master/fastai/text/data.py#L122\">[source]</a>",
      "text/plain": "<IPython.core.display.Markdown object>"
     },
     "metadata": {},
     "output_type": "display_data"
    }
   ],
   "source": "show_doc(TextDataset.from_tokens, doc_string=False)"
  },
  {
   "cell_type": "markdown",
   "metadata": {},
   "source": "Creates a [[`TextDataset`](/text.data.html#TextDataset)](/text.data.html#TextDataset) named `name` from tokens and labels saved in `f{name}{tok_suff}.npy` and `f{name}{lbl_suff}.npy` respectively. Any additional `kwargs` are passed to the init method of [[`TextDataset`](/text.data.html#TextDataset)](/text.data.html#TextDataset). "
  },
  {
   "cell_type": "code",
   "execution_count": null,
   "metadata": {
    "hide_input": true
   },
   "outputs": [
    {
     "data": {
      "text/markdown": "#### <a id=from_ids></a>`from_ids`\n> `from_ids`(`folder`:`PathOrStr`, `name`:`str`=`'train'`, `id_suff`:`str`=`'_ids'`, `lbl_suff`:`str`=`'_lbl'`, `itos`:`str`=`'itos.pkl'`, `kwargs`) -> `TextDataset`\n<a href=\"https://github.com/fastai/fastai/blob/master/fastai/text/data.py#L110\">[source]</a>",
      "text/plain": "<IPython.core.display.Markdown object>"
     },
     "metadata": {},
     "output_type": "display_data"
    }
   ],
   "source": "show_doc(TextDataset.from_ids, doc_string=False)"
  },
  {
   "cell_type": "markdown",
   "metadata": {},
   "source": "Creates a [[`TextDataset`](/text.data.html#TextDataset)](/text.data.html#TextDataset) named `name` from ids, labels and dictionary saved in `f{name}{id_suff}.npy`, `f{name}{lbl_suff}.npy` and `itos` respectively. Any additional `kwargs` are passed to the init method of [[`TextDataset`](/text.data.html#TextDataset)](/text.data.html#TextDataset). "
  },
  {
   "cell_type": "markdown",
   "metadata": {},
   "source": "### Preprocessing"
  },
  {
   "cell_type": "markdown",
   "metadata": {},
   "source": "The internal preprocessing is done by the two following methods:"
  },
  {
   "cell_type": "code",
   "execution_count": null,
   "metadata": {
    "hide_input": true
   },
   "outputs": [
    {
     "data": {
      "text/markdown": "#### <a id=tokenize></a>`tokenize`\n> `tokenize`()\n\n\nTokenize the texts in the csv file. <a href=\"https://github.com/fastai/fastai/blob/master/fastai/text/data.py#L68\">[source]</a>",
      "text/plain": "<IPython.core.display.Markdown object>"
     },
     "metadata": {},
     "output_type": "display_data"
    }
   ],
   "source": "show_doc(TextDataset.tokenize)"
  },
  {
   "cell_type": "code",
   "execution_count": null,
   "metadata": {
    "hide_input": true
   },
   "outputs": [
    {
     "data": {
      "text/markdown": "#### <a id=numericalize></a>`numericalize`\n> `numericalize`()\n\n\nNumericalize the tokens in the token file. <a href=\"https://github.com/fastai/fastai/blob/master/fastai/text/data.py#L87\">[source]</a>",
      "text/plain": "<IPython.core.display.Markdown object>"
     },
     "metadata": {},
     "output_type": "display_data"
    }
   ],
   "source": "show_doc(TextDataset.numericalize)"
  },
  {
   "cell_type": "markdown",
   "metadata": {},
   "source": "Internally, the [[`TextDataset`](/text.data.html#TextDataset)](/text.data.html#TextDataset) will create a 'tmp' folder in which he will copy or save the following files:\n- `name`.csv (if created from folders or csv)\n- `name`\\_tok.npy and `name`\\_lbl.npy (created by `TextDataset.tokenize` from the last step or copied if created from tokens)\n- `name`\\_ids.npy, `name`\\_lbl.npy and `itos` (created by `TextDataset.numericalize` from the last step or copied if created from ids)\n\nThen, when you invoke the [[`TextDataset`](/text.data.html#TextDataset)](/text.data.html#TextDataset) again, it will look for those temporary files and check their consistency to use them, in order to avoid doing again the numericalization or the tokenization. If you feel those files have been corrupted in any way, the following method will clear the 'tmp' subfolder of those files:"
  },
  {
   "cell_type": "code",
   "execution_count": null,
   "metadata": {
    "hide_input": true
   },
   "outputs": [
    {
     "data": {
      "text/markdown": "#### <a id=clear></a>`clear`\n> `clear`()\n\n\nRemove all temporary files. <a href=\"https://github.com/fastai/fastai/blob/master/fastai/text/data.py#L95\">[source]</a>",
      "text/plain": "<IPython.core.display.Markdown object>"
     },
     "metadata": {},
     "output_type": "display_data"
    }
   ],
   "source": "show_doc(TextDataset.clear)"
  },
  {
   "cell_type": "markdown",
   "metadata": {},
   "source": "### Internal methods"
  },
  {
   "cell_type": "code",
   "execution_count": null,
   "metadata": {
    "hide_input": true
   },
   "outputs": [
    {
     "data": {
      "text/markdown": "#### <a id=check_ids></a>`check_ids`\n> `check_ids`() -> `bool`\n\n\nCheck if a new numericalization is needed. <a href=\"https://github.com/fastai/fastai/blob/master/fastai/text/data.py#L48\">[source]</a>",
      "text/plain": "<IPython.core.display.Markdown object>"
     },
     "metadata": {},
     "output_type": "display_data"
    }
   ],
   "source": "show_doc(TextDataset.check_ids)"
  },
  {
   "cell_type": "code",
   "execution_count": null,
   "metadata": {
    "hide_input": true
   },
   "outputs": [
    {
     "data": {
      "text/markdown": "#### <a id=check_toks></a>`check_toks`\n> `check_toks`() -> `bool`\n\n\nCheck if a new tokenization is needed. <a href=\"https://github.com/fastai/fastai/blob/master/fastai/text/data.py#L60\">[source]</a>",
      "text/plain": "<IPython.core.display.Markdown object>"
     },
     "metadata": {},
     "output_type": "display_data"
    }
   ],
   "source": "show_doc(TextDataset.check_toks)"
  },
  {
   "cell_type": "code",
   "execution_count": null,
   "metadata": {
    "hide_input": true
   },
   "outputs": [
    {
     "data": {
      "text/markdown": "#### <a id=general_check></a>`general_check`\n> `general_check`(`pre_files`:`Collection`\\[`PathOrStr`\\], `post_files`:`Collection`\\[`PathOrStr`\\])\n\n\nCheck that post_files exist and were modified after all the prefiles. <a href=\"https://github.com/fastai/fastai/blob/master/fastai/text/data.py#L41\">[source]</a>",
      "text/plain": "<IPython.core.display.Markdown object>"
     },
     "metadata": {},
     "output_type": "display_data"
    }
   ],
   "source": "show_doc(TextDataset.general_check)"
  },
  {
   "cell_type": "markdown",
   "metadata": {},
   "source": "## Language Model data"
  },
  {
   "cell_type": "markdown",
   "metadata": {},
   "source": "A language model is trained to guess what the next word is inside a flow of words. We don't feed it the different texts separately but concatenate them all together in a big array. To create the batches, we split this array into `bs` chuncks of continuous texts. Note that in all NLP tasks, we use the pytoch convention of sequence length being the first dimension (and batch size being the second one) so we transpose that array so that we can read the chunks of texts in columns. Here is an example of batch from our imdb sample dataset. "
  },
  {
   "cell_type": "code",
   "execution_count": null,
   "metadata": {},
   "outputs": [
    {
     "data": {
      "text/html": "<div>\n<table border=\"1\" class=\"dataframe\">\n  <thead>\n    <tr style=\"text-align: right;\">\n      <th></th>\n      <th>0</th>\n      <th>1</th>\n      <th>2</th>\n      <th>3</th>\n      <th>4</th>\n      <th>5</th>\n      <th>6</th>\n      <th>7</th>\n      <th>8</th>\n      <th>9</th>\n    </tr>\n  </thead>\n  <tbody>\n    <tr>\n      <th>0</th>\n      <td>\\n</td>\n      <td>for</td>\n      <td>the</td>\n      <td>could</td>\n      <td>wells</td>\n      <td>are</td>\n      <td>big</td>\n      <td>.</td>\n      <td>for</td>\n      <td>my</td>\n    </tr>\n    <tr>\n      <th>1</th>\n      <td>xxbos</td>\n      <td>all</td>\n      <td>xxunk</td>\n      <td>have</td>\n      <td>'</td>\n      <td>:</td>\n      <td>an</td>\n      <td>after</td>\n      <td>him</td>\n      <td>xxunk</td>\n    </tr>\n    <tr>\n      <th>2</th>\n      <td>xxfld</td>\n      <td>of</td>\n      <td>beer</td>\n      <td>ran</td>\n      <td>original</td>\n      <td>stop</td>\n      <td>incompetent</td>\n      <td>shooting</td>\n      <td>in</td>\n      <td>shot</td>\n    </tr>\n    <tr>\n      <th>3</th>\n      <td>1</td>\n      <td>five</td>\n      <td>xxunk</td>\n      <td>away</td>\n      <td>narrative</td>\n      <td>and</td>\n      <td>as</td>\n      <td>carradine</td>\n      <td>future</td>\n      <td>so</td>\n    </tr>\n    <tr>\n      <th>4</th>\n      <td>un</td>\n      <td>minutes</td>\n      <td>could</td>\n      <td>from</td>\n      <td>\u0096</td>\n      <td>xxunk</td>\n      <td>he</td>\n      <td>she</td>\n      <td>.</td>\n      <td>far</td>\n    </tr>\n    <tr>\n      <th>5</th>\n      <td>-</td>\n      <td>while</td>\n      <td>have</td>\n      <td>that</td>\n      <td>as</td>\n      <td>what</td>\n      <td>seemed</td>\n      <td>beats</td>\n      <td>\\n</td>\n      <td>up</td>\n    </tr>\n    <tr>\n      <th>6</th>\n      <td>xxunk</td>\n      <td>the</td>\n      <td>been</td>\n      <td>thing</td>\n      <td>has</td>\n      <td>you</td>\n      <td>in</td>\n      <td>a</td>\n      <td>xxbos</td>\n      <td>my</td>\n    </tr>\n    <tr>\n      <th>7</th>\n      <td>-</td>\n      <td>protagonist</td>\n      <td>the</td>\n      <td>,</td>\n      <td>been</td>\n      <td>want</td>\n      <td>the</td>\n      <td>xxunk</td>\n      <td>xxfld</td>\n      <td>xxunk</td>\n    </tr>\n    <tr>\n      <th>8</th>\n      <td>believable</td>\n      <td>is</td>\n      <td>xxunk</td>\n      <td>but</td>\n      <td>noted</td>\n      <td>.</td>\n      <td>dream</td>\n      <td>xxunk</td>\n      <td>1</td>\n      <td>,</td>\n    </tr>\n    <tr>\n      <th>9</th>\n      <td>!</td>\n      <td>xxunk</td>\n      <td>for</td>\n      <td>anyway</td>\n      <td>.</td>\n      <td>use</td>\n      <td>.</td>\n      <td>before</td>\n      <td>after</td>\n      <td>i</td>\n    </tr>\n    <tr>\n      <th>10</th>\n      <td>meg</td>\n      <td>her</td>\n      <td>a</td>\n      <td>.</td>\n      <td>viewers</td>\n      <td>your</td>\n      <td>\\n\\n</td>\n      <td>johnny</td>\n      <td>the</td>\n      <td>thought</td>\n    </tr>\n    <tr>\n      <th>11</th>\n      <td>ryan</td>\n      <td>early</td>\n      <td>massive</td>\n      <td>i</td>\n      <td>may</td>\n      <td>time</td>\n      <td>a</td>\n      <td>can</td>\n      <td>failure</td>\n      <td>it</td>\n    </tr>\n    <tr>\n      <th>12</th>\n      <td>does</td>\n      <td>life</td>\n      <td>series</td>\n      <td>actually</td>\n      <td>find</td>\n      <td>to</td>\n      <td>lack</td>\n      <td>get</td>\n      <td>of</td>\n      <td>would</td>\n    </tr>\n    <tr>\n      <th>13</th>\n      <td>n't</td>\n      <td>as</td>\n      <td>of</td>\n      <td>was</td>\n      <td>it</td>\n      <td>start</td>\n      <td>of</td>\n      <td>his</td>\n      <td>\"</td>\n      <td>xxunk</td>\n    </tr>\n    <tr>\n      <th>14</th>\n      <td>even</td>\n      <td>a</td>\n      <td>gags</td>\n      <td>getting</td>\n      <td>informative</td>\n      <td>planning</td>\n      <td>humor</td>\n      <td>revenge</td>\n      <td>the</td>\n      <td>in</td>\n    </tr>\n    <tr>\n      <th>15</th>\n      <td>look</td>\n      <td>butcher</td>\n      <td>built</td>\n      <td>into</td>\n      <td>to</td>\n      <td>and</td>\n      <td>is</td>\n      <td>.</td>\n      <td>xxunk</td>\n      <td>my</td>\n    </tr>\n    <tr>\n      <th>16</th>\n      <td>her</td>\n      <td>.</td>\n      <td>upon</td>\n      <td>this</td>\n      <td>note</td>\n      <td>not</td>\n      <td>the</td>\n      <td>still</td>\n      <td>\"</td>\n      <td>xxunk</td>\n    </tr>\n    <tr>\n      <th>17</th>\n      <td>usual</td>\n      <td>weird</td>\n      <td>gags</td>\n      <td>film</td>\n      <td>plot</td>\n      <td>filming</td>\n      <td>biggest</td>\n      <td>alive</td>\n      <td>at</td>\n      <td>.</td>\n    </tr>\n    <tr>\n      <th>18</th>\n      <td>xxunk</td>\n      <td>stuff</td>\n      <td>,</td>\n      <td>,</td>\n      <td>details</td>\n      <td>until</td>\n      <td>problem</td>\n      <td>,</td>\n      <td>the</td>\n      <td>first</td>\n    </tr>\n    <tr>\n      <th>19</th>\n      <td>lovable</td>\n      <td>.</td>\n      <td>but</td>\n      <td>although</td>\n      <td>that</td>\n      <td>everything</td>\n      <td>with</td>\n      <td>it</td>\n      <td>box</td>\n      <td>,</td>\n    </tr>\n  </tbody>\n</table>\n</div>",
      "text/plain": "             0            1        2         3            4           5  \\\n0           \\n          for      the     could        wells         are   \n1        xxbos          all    xxunk      have            '           :   \n2        xxfld           of     beer       ran     original        stop   \n3            1         five    xxunk      away    narrative         and   \n4           un      minutes    could      from            \u0096       xxunk   \n5            -        while     have      that           as        what   \n6        xxunk          the     been     thing          has         you   \n7            -  protagonist      the         ,         been        want   \n8   believable           is    xxunk       but        noted           .   \n9            !        xxunk      for    anyway            .         use   \n10         meg          her        a         .      viewers        your   \n11        ryan        early  massive         i          may        time   \n12        does         life   series  actually         find          to   \n13         n't           as       of       was           it       start   \n14        even            a     gags   getting  informative    planning   \n15        look      butcher    built      into           to         and   \n16         her            .     upon      this         note         not   \n17       usual        weird     gags      film         plot     filming   \n18       xxunk        stuff        ,         ,      details       until   \n19     lovable            .      but  although         that  everything   \n\n              6          7        8        9  \n0           big          .      for       my  \n1            an      after      him    xxunk  \n2   incompetent   shooting       in     shot  \n3            as  carradine   future       so  \n4            he        she        .      far  \n5        seemed      beats       \\n       up  \n6            in          a    xxbos       my  \n7           the      xxunk    xxfld    xxunk  \n8         dream      xxunk        1        ,  \n9             .     before    after        i  \n10         \\n\\n     johnny      the  thought  \n11            a        can  failure       it  \n12         lack        get       of    would  \n13           of        his        \"    xxunk  \n14        humor    revenge      the       in  \n15           is          .    xxunk       my  \n16          the      still        \"    xxunk  \n17      biggest      alive       at        .  \n18      problem          ,      the    first  \n19         with         it      box        ,  "
     },
     "execution_count": null,
     "metadata": {},
     "output_type": "execute_result"
    }
   ],
   "source": "data = get_imdb()\nx,y = next(iter(data.train_dl))\nexample = x[:20,:10].cpu()\ntexts = pd.DataFrame([data.train_ds.vocab.textify(l).split(' ') for l in example])\ntexts"
  },
  {
   "cell_type": "markdown",
   "metadata": {},
   "source": "Then, as suggested in [this article](https://arxiv.org/abs/1708.02182) from Stephen Merity et al., we don't use a fixed `bptt` through the different batches but slightly change it from batch to batch."
  },
  {
   "cell_type": "code",
   "execution_count": null,
   "metadata": {},
   "outputs": [
    {
     "name": "stdout",
     "output_type": "stream",
     "text": "torch.Size([69, 64])\ntorch.Size([73, 64])\ntorch.Size([64, 64])\ntorch.Size([71, 64])\ntorch.Size([73, 64])\n"
    }
   ],
   "source": "iter_dl = iter(data.train_dl)\nfor _ in range(5):\n    x,y = next(iter_dl)\n    print(x.size())"
  },
  {
   "cell_type": "markdown",
   "metadata": {},
   "source": "This is all done internally when we use the following inside of the `text_data` functions."
  },
  {
   "cell_type": "code",
   "execution_count": null,
   "metadata": {
    "hide_input": true
   },
   "outputs": [
    {
     "data": {
      "text/markdown": "#### <a id=lm_data></a>`lm_data`\n> `lm_data`(`datasets`:`Collection`\\[[`TextDataset`](/text.data.html#TextDataset)\\], `path`:`PathOrStr`, `kwargs`) -> [`DataBunch`](/data.html#DataBunch)\n<a href=\"https://github.com/fastai/fastai/blob/master/fastai/text/data.py#L267\">[source]</a>",
      "text/plain": "<IPython.core.display.Markdown object>"
     },
     "metadata": {},
     "output_type": "display_data"
    }
   ],
   "source": "show_doc(lm_data, doc_string=False)"
  },
  {
   "cell_type": "markdown",
   "metadata": {},
   "source": "Create a [`DataBunch`](/data.html#DataBunch) from the `datasets` for language modelling. Internally calls the next class, that takes the kwargs to define the dataloaders."
  },
  {
   "cell_type": "code",
   "execution_count": null,
   "metadata": {
    "hide_input": true
   },
   "outputs": [
    {
     "data": {
      "text/markdown": "## <a id=LanguageModelLoader></a>`class` `LanguageModelLoader`\n> `LanguageModelLoader`(`dataset`:[`TextDataset`](/text.data.html#TextDataset), `bs`:`int`=`64`, `bptt`:`int`=`70`, `backwards`:`bool`=`False`)\n<a href=\"https://github.com/fastai/fastai/blob/master/fastai/text/data.py#L189\">[source]</a>",
      "text/plain": "<IPython.core.display.Markdown object>"
     },
     "metadata": {},
     "output_type": "display_data"
    }
   ],
   "source": "show_doc(LanguageModelLoader, doc_string=False)"
  },
  {
   "cell_type": "markdown",
   "metadata": {},
   "source": "Takes the texts from `dataset` and concatenate them all, then create a big array with `bs` columns (transposed from the data source so that we read the texts in the columns). Spits batches with a size approximately equal to `bptt` but changing at every batch. If `backwards` is True, reverses the original text."
  },
  {
   "cell_type": "code",
   "execution_count": null,
   "metadata": {
    "hide_input": true
   },
   "outputs": [
    {
     "data": {
      "text/markdown": "#### <a id=batchify></a>`batchify`\n> `batchify`(`data`:`ndarray`) -> `LongTensor`\n<a href=\"https://github.com/fastai/fastai/blob/master/fastai/text/data.py#L211\">[source]</a>",
      "text/plain": "<IPython.core.display.Markdown object>"
     },
     "metadata": {},
     "output_type": "display_data"
    }
   ],
   "source": "show_doc(LanguageModelLoader.batchify, doc_string=False)"
  },
  {
   "cell_type": "markdown",
   "metadata": {},
   "source": "Called at the inialization to create the big array of text ids from the [`data`](/text.data.html#text.data) array."
  },
  {
   "cell_type": "code",
   "execution_count": null,
   "metadata": {
    "hide_input": true
   },
   "outputs": [
    {
     "data": {
      "text/markdown": "#### <a id=get_batch></a>`get_batch`\n> `get_batch`(`i`:`int`, `seq_len`:`int`) -> `Tuple`\\[`LongTensor`, `LongTensor`\\]\n\n\nCreate a batch at `i` of a given `seq_len`. <a href=\"https://github.com/fastai/fastai/blob/master/fastai/text/data.py#L218\">[source]</a>",
      "text/plain": "<IPython.core.display.Markdown object>"
     },
     "metadata": {},
     "output_type": "display_data"
    }
   ],
   "source": "show_doc(LanguageModelLoader.get_batch)"
  },
  {
   "cell_type": "markdown",
   "metadata": {},
   "source": "## Classifier data"
  },
  {
   "cell_type": "markdown",
   "metadata": {},
   "source": "When preparing the data for a classifier, we keep the different texts separate, which poses another challenge for the creation of batches: since they don't all have the same length, we can't easily collate them together in batches. To help with this we use two different techniques:\n- padding: each text is padded with the `PAD` token to get all the ones we picked to the same size\n- sorting the texts (ish): to avoid having together a very long text with a very short one (which would then have a lot of `PAD` tokens), we regroup the texts by order of length. For the training set, we still add some randomness to avoid showing the same batches at every step of the training.\n\nHere is an example of batch with padding (the padding index is 1, and the padding is applied before the sentences start)."
  },
  {
   "cell_type": "code",
   "execution_count": null,
   "metadata": {},
   "outputs": [
    {
     "data": {
      "text/plain": "tensor([[   1,    1,    1,    1,    1,    1,    1,    1,    1,    1],\n        [   1,    1,    1,    1,    1,    1,    1,    1,    1,    1],\n        [   1,    1,    1,    1,    1,    1,    1,    1,    1,    1],\n        [   1,    1,    1,    1,    1,    1,    1,    1,    1,    1],\n        [  42,   42,   42,   42,    1,    1,    1,    1,    1,    1],\n        [  43,   43,   43,   43,   42,   42,   42,    1,    1,    1],\n        [  44,   44,   44,   44,   43,   43,   43,   42,    1,    1],\n        [  39,   39,   39,   39,   44,   44,   44,   43,   42,   42],\n        [  14,   12,   19,  224,   39,   39,   39,   44,   43,   43],\n        [   9,  307,   15, 2118,   12, 5128,  111,   39,   44,   44],\n        [   6, 1809, 2753, 1119,  661,   53, 1224,   14,   39,   39],\n        [1818,  891, 5972,    3,  792,  315,    4,   25,  474,   12],\n        [ 413,    4,   15,   19,    6,  344,   24,    9,   21,   17],\n        [   5,   12,    9,   12,  218,  303,    2,   53,    2, 2269],\n        [  90,  143,    6,  156,   53,   11,   25,    6, 3605,    8],\n        [ 976,   13, 2284,   13,    2, 1838,  261,  212, 1937,  124],\n        [1972,    0,    7,    4,  129,   52,  186,  271,  544,    2],\n        [ 434,  160, 3284,   24,   11,  153, 1704,    8,    4,   22],\n        [   3,    9,   18,  298,    2,    8,   48,  244,   14,   21],\n        [  10,  484,    0,    0,  103,  657,   54,    8,   17,   77]],\n       device='cuda:0')"
     },
     "execution_count": null,
     "metadata": {},
     "output_type": "execute_result"
    }
   ],
   "source": "data = get_imdb(classifier=True)\niter_dl = iter(data.train_dl)\n_ = next(iter_dl)\nx,y = next(iter_dl)\nx[:20,-10:]"
  },
  {
   "cell_type": "markdown",
   "metadata": {},
   "source": "All of this is done behind the scenes when calling the following in a `text_data` function"
  },
  {
   "cell_type": "code",
   "execution_count": null,
   "metadata": {
    "hide_input": true
   },
   "outputs": [
    {
     "data": {
      "text/markdown": "#### <a id=classifier_data></a>`classifier_data`\n> `classifier_data`(`datasets`:`Collection`\\[[`TextDataset`](/text.data.html#TextDataset)\\], `path`:`PathOrStr`, `kwargs`) -> [`DataBunch`](/data.html#DataBunch)\n<a href=\"https://github.com/fastai/fastai/blob/master/fastai/text/data.py#L272\">[source]</a>",
      "text/plain": "<IPython.core.display.Markdown object>"
     },
     "metadata": {},
     "output_type": "display_data"
    }
   ],
   "source": "show_doc(classifier_data, doc_string=False)"
  },
  {
   "cell_type": "markdown",
   "metadata": {},
   "source": "Create a [`DataBunch`](/data.html#DataBunch) in `path` from the `datasets` for language modelling. The kwargs are passed to the next classes and can contain: the batchsize `bs`, the `bptt`, the padding index `pad_idx` and wether or not to apply the `pad_first`."
  },
  {
   "cell_type": "code",
   "execution_count": null,
   "metadata": {
    "hide_input": true
   },
   "outputs": [
    {
     "data": {
      "text/markdown": "## <a id=SortSampler></a>`class` `SortSampler`\n> `SortSampler`(`data_source`:`NPArrayList`, `key`:`KeyFunc`) :: [`Sampler`](https://pytorch.org/docs/stable/data.html#torch.utils.data.Sampler)\n<a href=\"https://github.com/fastai/fastai/blob/master/fastai/text/data.py#L223\">[source]</a>",
      "text/plain": "<IPython.core.display.Markdown object>"
     },
     "metadata": {},
     "output_type": "display_data"
    }
   ],
   "source": "show_doc(SortSampler, doc_string=False)"
  },
  {
   "cell_type": "markdown",
   "metadata": {},
   "source": "pytorch [`Sampler`](https://pytorch.org/docs/stable/data.html#torch.utils.data.Sampler) to batchify the `data_source` by order of length of the texts. Used for the validation and (if applicable) the test set. "
  },
  {
   "cell_type": "code",
   "execution_count": null,
   "metadata": {
    "hide_input": true
   },
   "outputs": [
    {
     "data": {
      "text/markdown": "## <a id=SortishSampler></a>`class` `SortishSampler`\n> `SortishSampler`(`data_source`:`NPArrayList`, `key`:`KeyFunc`, `bs`:`int`) :: [`Sampler`](https://pytorch.org/docs/stable/data.html#torch.utils.data.Sampler)\n<a href=\"https://github.com/fastai/fastai/blob/master/fastai/text/data.py#L232\">[source]</a>",
      "text/plain": "<IPython.core.display.Markdown object>"
     },
     "metadata": {},
     "output_type": "display_data"
    }
   ],
   "source": "show_doc(SortishSampler, doc_string=False)"
  },
  {
   "cell_type": "markdown",
   "metadata": {},
   "source": "pytorch [`Sampler`](https://pytorch.org/docs/stable/data.html#torch.utils.data.Sampler) to batchify with size `bs` the `data_source` by order of length of the texts with a bit of randomness. Used for the training set."
  },
  {
   "cell_type": "code",
   "execution_count": null,
   "metadata": {
    "hide_input": true
   },
   "outputs": [
    {
     "data": {
      "text/markdown": "#### <a id=pad_collate></a>`pad_collate`\n> `pad_collate`(`samples`:`BatchSamples`, `pad_idx`:`int`=`1`, `pad_first`:`bool`=`True`) -> `Tuple`\\[`LongTensor`, `LongTensor`\\]\n<a href=\"https://github.com/fastai/fastai/blob/master/fastai/text/data.py#L253\">[source]</a>",
      "text/plain": "<IPython.core.display.Markdown object>"
     },
     "metadata": {},
     "output_type": "display_data"
    }
   ],
   "source": "show_doc(pad_collate, doc_string=False)"
  },
  {
   "cell_type": "markdown",
   "metadata": {},
   "source": "Function used by the pytorch [`DataLoader`](https://pytorch.org/docs/stable/data.html#torch.utils.data.DataLoader) to collate the `samples` in batches while adding padding with `pad_idx`. If `pad_first` is True, padding is applied at the beginning (before the sentence starts) otherwise it's applied at the end."
  },
  {
   "cell_type": "markdown",
   "metadata": {},
   "source": "## Undocumented Methods - Methods moved below this line will intentionally be hidden"
  },
  {
   "cell_type": "markdown",
   "metadata": {},
   "source": "`TextMtd = IntEnum('TextMtd', 'CSV TOK IDS')` <div style=\"text-align: right\"><a href=\"https://github.com/fastai/fastai/blob/master/fastai/text/data.py#L8\">[source]</a></div>"
  },
  {
   "cell_type": "code",
   "execution_count": null,
   "metadata": {},
   "outputs": [
    {
     "data": {
      "text/markdown": "#### <a id=standard_data></a>`standard_data`\n> `standard_data`(`datasets`:`Collection`\\[[`DatasetBase`](/data.html#DatasetBase)\\], `path`:`PathOrStr`, `kwargs`) -> [`DataBunch`](/data.html#DataBunch)\n\n\nSimply create a [`DataBunch`](/data.html#DataBunch) from the `datasets`. <a href=\"https://github.com/fastai/fastai/blob/master/fastai/text/data.py#L263\">[source]</a>",
      "text/plain": "<IPython.core.display.Markdown object>"
     },
     "metadata": {},
     "output_type": "display_data"
    }
   ],
   "source": "show_doc(standard_data)"
  },
  {
   "cell_type": "markdown",
   "metadata": {},
   "source": "## New Methods - Please document or move to the undocumented section"
  },
  {
   "cell_type": "code",
   "execution_count": null,
   "metadata": {
    "hide_input": true
   },
   "outputs": [],
   "source": "show_doc(read_classes)"
  },
  {
   "cell_type": "markdown",
   "metadata": {},
   "source": ""
  },
  {
   "cell_type": "code",
   "execution_count": 0,
   "metadata": {
    "hide_input": true
   },
   "outputs": [],
   "source": "show_doc(TextMtd)"
  },
  {
   "cell_type": "markdown",
   "metadata": {},
   "source": ""
  }
 ],
 "metadata": {
  "jekyll": {
   "summary": "NLP data loading pipeline; Supports csv, folders, and preprocessed data",
   "title": "text.data"
  },
  "kernelspec": {
   "display_name": "Python 3",
   "language": "python",
   "name": "python3"
  },
  "language_info": {
   "codemirror_mode": {
    "name": "ipython",
    "version": 3
   },
   "file_extension": ".py",
   "mimetype": "text/x-python",
   "name": "python",
   "nbconvert_exporter": "python",
   "pygments_lexer": "ipython3",
   "version": "3.7.0"
  }
 },
 "nbformat": 4,
 "nbformat_minor": 2
}