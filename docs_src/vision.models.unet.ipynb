{
 "cells": [
  {
   "cell_type": "code",
   "execution_count": 0,
   "metadata": {
    "hide_input": true
   },
   "outputs": [],
   "source": "from fastai.gen_doc.gen_notebooks import update_nb_metadata\n# For updating jekyll metadata. You MUST reload notebook immediately after executing this cell for changes to save\nupdate_nb_metadata('vision.models.unet.ipynb', title='models.unet', summary=None)"
  },
  {
   "cell_type": "markdown",
   "metadata": {},
   "source": "# vision.models.unet"
  },
  {
   "cell_type": "markdown",
   "metadata": {},
   "source": "Type an introduction of the package here."
  },
  {
   "cell_type": "code",
   "execution_count": null,
   "metadata": {
    "hide_input": true
   },
   "outputs": [],
   "source": "from fastai.gen_doc.nbdoc import *\nfrom fastai.models.unet import * "
  },
  {
   "cell_type": "markdown",
   "metadata": {},
   "source": "### Global Variable Definitions:"
  },
  {
   "cell_type": "code",
   "execution_count": null,
   "metadata": {
    "hide_input": true
   },
   "outputs": [
    {
     "data": {
      "text/markdown": "### <a id=DynamicUnet></a><em>class</em> `DynamicUnet`\n(<code>encoder</code>:[<code>Module</code>](https://pytorch.org/docs/stable/nn.html#torch.nn.Module), <code>n_classes</code>:<code>int</code>) :: Inherits ([<code>Sequential</code>](https://pytorch.org/docs/stable/nn.html#torch.nn.Sequential))<div style=\"text-align: right\"><a href=\"https://github.com/fastai/fastai/blob/master/fastai/models/unet.py#L34\">[source]</a></div>\n\n\nUnet created from a given architecture",
      "text/plain": "<IPython.core.display.Markdown object>"
     },
     "metadata": {},
     "output_type": "display_data"
    }
   ],
   "source": "show_doc(DynamicUnet)"
  },
  {
   "cell_type": "markdown",
   "metadata": {},
   "source": "[`DynamicUnet`](/models.unet.html#DynamicUnet)"
  },
  {
   "cell_type": "code",
   "execution_count": null,
   "metadata": {
    "hide_input": true
   },
   "outputs": [
    {
     "data": {
      "text/markdown": "### <a id=UnetBlock></a><em>class</em> `UnetBlock`\n(<code>up_in_c</code>:<code>int</code>, <code>x_in_c</code>:<code>int</code>, <code>hook</code>:[<code>Hook</code>](http://docs.fast.ai/callbacks.hooks.html#Hook)) :: Inherits ([<code>Module</code>](https://pytorch.org/docs/stable/nn.html#torch.nn.Module))<div style=\"text-align: right\"><a href=\"https://github.com/fastai/fastai/blob/master/fastai/models/unet.py#L14\">[source]</a></div>\n\n\nAn basic unet block",
      "text/plain": "<IPython.core.display.Markdown object>"
     },
     "metadata": {},
     "output_type": "display_data"
    }
   ],
   "source": "show_doc(UnetBlock)"
  },
  {
   "cell_type": "markdown",
   "metadata": {},
   "source": "[`UnetBlock`](/models.unet.html#UnetBlock)"
  },
  {
   "cell_type": "code",
   "execution_count": null,
   "metadata": {
    "hide_input": true
   },
   "outputs": [
    {
     "data": {
      "text/markdown": "#### <a id=forward></a>`forward`(<code>up_in</code>:<code>Tensor</code>) -> <code>Tensor</code><div style=\"text-align: right\"><a href=\"https://github.com/fastai/fastai/blob/master/fastai/models/unet.py#L27\">[source]</a></div>\n\n\nShould be overridden by all subclasses.\n\n.. note::\n    Although the recipe for forward pass needs to be defined within\n    this function, one should call the :class:`Module` instance afterwards\n    instead of this since the former takes care of running the\n    registered hooks while the latter silently ignores them.",
      "text/plain": "<IPython.core.display.Markdown object>"
     },
     "metadata": {},
     "output_type": "display_data"
    }
   ],
   "source": "show_doc(UnetBlock.forward)"
  },
  {
   "cell_type": "markdown",
   "metadata": {},
   "source": "`UnetBlock.forward`"
  }
 ],
 "metadata": {
  "jekyll": {
   "title": "models.unet"
  },
  "kernelspec": {
   "display_name": "Python 3",
   "language": "python",
   "name": "python3"
  },
  "language_info": {
   "codemirror_mode": {
    "name": "ipython",
    "version": 3
   },
   "file_extension": ".py",
   "mimetype": "text/x-python",
   "name": "python",
   "nbconvert_exporter": "python",
   "pygments_lexer": "ipython3",
   "version": "3.7.0"
  }
 },
 "nbformat": 4,
 "nbformat_minor": 2
}