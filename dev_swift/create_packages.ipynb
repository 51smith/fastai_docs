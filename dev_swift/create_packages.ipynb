{
 "cells": [
  {
   "cell_type": "markdown",
   "metadata": {},
   "source": [
    "## Creating packages"
   ]
  },
  {
   "cell_type": "code",
   "execution_count": null,
   "metadata": {},
   "outputs": [],
   "source": [
    "from fastai.basics import *"
   ]
  },
  {
   "cell_type": "code",
   "execution_count": null,
   "metadata": {},
   "outputs": [
    {
     "data": {
      "text/plain": [
       "[PosixPath('FastaiNotebooks/Sources/FastaiNotebooks/00_load_data.swift'),\n",
       " PosixPath('FastaiNotebooks/Sources/FastaiNotebooks/01_matmul.swift'),\n",
       " PosixPath('FastaiNotebooks/Sources/FastaiNotebooks/02_fully_connected.swift'),\n",
       " PosixPath('FastaiNotebooks/Sources/FastaiNotebooks/02a_why_sqrt5.swift'),\n",
       " PosixPath('FastaiNotebooks/Sources/FastaiNotebooks/03_minibatch_training.swift'),\n",
       " PosixPath('FastaiNotebooks/Sources/FastaiNotebooks/04_callbacks.swift')]"
      ]
     },
     "execution_count": null,
     "metadata": {},
     "output_type": "execute_result"
    }
   ],
   "source": [
    "src = Path('FastaiNotebooks/Sources/FastaiNotebooks')\n",
    "mods = sorted(src.ls())\n",
    "mods"
   ]
  },
  {
   "cell_type": "code",
   "execution_count": null,
   "metadata": {},
   "outputs": [
    {
     "data": {
      "text/plain": [
       "PosixPath('FastaiNotebooks/Sources/FastaiNotebooks/00_load_data.swift')"
      ]
     },
     "execution_count": null,
     "metadata": {},
     "output_type": "execute_result"
    }
   ],
   "source": [
    "fn = mods[0]\n",
    "fn"
   ]
  },
  {
   "cell_type": "code",
   "execution_count": null,
   "metadata": {},
   "outputs": [
    {
     "data": {
      "text/plain": [
       "'00_load_data'"
      ]
     },
     "execution_count": null,
     "metadata": {},
     "output_type": "execute_result"
    }
   ],
   "source": [
    "fn.stem"
   ]
  },
  {
   "cell_type": "code",
   "execution_count": null,
   "metadata": {},
   "outputs": [],
   "source": [
    "pkg_tmpl = \"\"\"\n",
    "// swift-tools-version:4.2\n",
    "import PackageDescription\n",
    "\n",
    "let package = Package(\n",
    "    name: \"{name}\",\n",
    "    products: [\n",
    "        .library(name: \"{name}\", targets: [\"{name}\"]),\n",
    "    ],\n",
    "    dependencies: [\n",
    "{deps}\n",
    "        .package(url: \"https://github.com/mxcl/Path.swift\", from: \"0.16.1\"),\n",
    "        .package(url: \"https://github.com/JustHTTP/Just\", from: \"0.7.1\")\n",
    "    ],\n",
    "    targets: [\n",
    "        .target(\n",
    "            name: \"{name}\",\n",
    "            dependencies: [\"Just\", \"Path\"]),\n",
    "    ]\n",
    ")\n",
    "\"\"\""
   ]
  },
  {
   "cell_type": "code",
   "execution_count": null,
   "metadata": {},
   "outputs": [],
   "source": [
    "dep_tmpl = '        .package(path: \"./{name}\",'"
   ]
  },
  {
   "cell_type": "code",
   "execution_count": null,
   "metadata": {},
   "outputs": [
    {
     "name": "stdout",
     "output_type": "stream",
     "text": [
      "        .package(path: \"./FastaiNotebooks/Sources/FastaiNotebooks/00_load_data.swift\",\n",
      "        .package(path: \"./FastaiNotebooks/Sources/FastaiNotebooks/01_matmul.swift\",\n",
      "        .package(path: \"./FastaiNotebooks/Sources/FastaiNotebooks/02_fully_connected.swift\",\n"
     ]
    }
   ],
   "source": [
    "print('\\n'.join(dep_tmpl.format(name=o) for o in mods[:3]))"
   ]
  },
  {
   "cell_type": "code",
   "execution_count": null,
   "metadata": {},
   "outputs": [],
   "source": [
    "for i,fn in enumerate(mods):\n",
    "    name = fn.stem\n",
    "    dst = Path(name)\n",
    "    dst.mkdir(exist_ok=True)\n",
    "    deps = '\\n'.join(dep_tmpl.format(name=o.stem) for o in mods[:i])\n",
    "    with (dst/'Package.swift').open('w') as pkg_f:\n",
    "        pkg_f.write(pkg_tmpl.format(name=name, deps=deps))\n",
    "    dst_p = dst/'Sources'/name\n",
    "    dst_p.mkdir(parents=True, exist_ok=True)\n",
    "    for fc in mods[:i+1]: shutil.copy(fc, dst_p)"
   ]
  },
  {
   "cell_type": "code",
   "execution_count": null,
   "metadata": {},
   "outputs": [],
   "source": []
  }
 ],
 "metadata": {
  "kernelspec": {
   "display_name": "Python 3",
   "language": "python",
   "name": "python3"
  }
 },
 "nbformat": 4,
 "nbformat_minor": 2
}
