{
 "cells": [
  {
   "cell_type": "code",
   "execution_count": null,
   "metadata": {},
   "outputs": [
    {
     "name": "stdout",
     "output_type": "stream",
     "text": [
      "Installing packages:\n",
      "\t.package(path: \"/home/ubuntu/fastai_docs/dev_swift/FastaiNotebook_04_callbacks\")\n",
      "\t\tFastaiNotebook_04_callbacks\n",
      "With SwiftPM flags: []\n",
      "Working in: /tmp/tmpfxe850c9\n",
      "Fetching https://github.com/mxcl/Path.swift\n",
      "Fetching https://github.com/JustHTTP/Just\n",
      "Completed resolution in 2.26s\n",
      "Cloning https://github.com/JustHTTP/Just\n",
      "Resolving https://github.com/JustHTTP/Just at 0.7.1\n",
      "Cloning https://github.com/mxcl/Path.swift\n",
      "Resolving https://github.com/mxcl/Path.swift at 0.16.2\n",
      "Compile Swift Module 'Just' (1 sources)\n",
      "Compile Swift Module 'Path' (9 sources)\n",
      "Compile Swift Module 'FastaiNotebook_04_callbacks' (6 sources)\n",
      "Compile Swift Module 'jupyterInstalledPackages' (1 sources)\n",
      "Linking ./.build/x86_64-unknown-linux/debug/libjupyterInstalledPackages.so\n",
      "Initializing Swift...\n",
      "Loading library...\n",
      "Installation complete!\n"
     ]
    }
   ],
   "source": [
    "%install '.package(path: \"$cwd/FastaiNotebook_04_callbacks\")' FastaiNotebook_04_callbacks"
   ]
  },
  {
   "cell_type": "code",
   "execution_count": null,
   "metadata": {},
   "outputs": [
    {
     "data": {
      "text/plain": [
       "('inline', 'module://ipykernel.pylab.backend_inline')\n"
      ]
     },
     "execution_count": null,
     "metadata": {},
     "output_type": "execute_result"
    }
   ],
   "source": [
    "import FastaiNotebook_04_callbacks\n",
    "import TensorFlow\n",
    "%include \"EnableIPythonDisplay.swift\"\n",
    "IPythonDisplay.shell.enable_matplotlib(\"inline\")"
   ]
  },
  {
   "cell_type": "code",
   "execution_count": null,
   "metadata": {},
   "outputs": [],
   "source": [
    "let data = mnistDataBunch(flat: false, bs: 512)"
   ]
  },
  {
   "cell_type": "code",
   "execution_count": null,
   "metadata": {},
   "outputs": [
    {
     "name": "stdout",
     "output_type": "stream",
     "text": [
      "Batch size: 512\r\n",
      "Example side size: 28\r\n",
      "Class count: 10\r\n"
     ]
    }
   ],
   "source": [
    "let firstBatch = data.train.first(where: { _ in true })!\n",
    "let batchShape = firstBatch.xb.shape\n",
    "let batchSize = batchShape.dimensions[0]\n",
    "let exampleSideSize = batchShape.dimensions[1]\n",
    "assert(exampleSideSize == batchShape.dimensions[2])\n",
    "print(\"Batch size: \\(batchSize)\")\n",
    "print(\"Example side size: \\(exampleSideSize)\")\n",
    "\n",
    "let classCount = firstBatch.yb.shape.dimensions[1]\n",
    "print(\"Class count: \\(classCount)\")"
   ]
  },
  {
   "cell_type": "code",
   "execution_count": null,
   "metadata": {},
   "outputs": [],
   "source": [
    "struct CnnModel: Layer {\n",
    "    var reshapeToSquare = Reshape<Float>([-1, exampleSideSize, exampleSideSize, 1])\n",
    "    var conv1 = Conv2D<Float>(\n",
    "        filterShape: (5, 5, 1, 8),\n",
    "        strides: (2, 2),\n",
    "        padding: .same,\n",
    "        activation: relu)\n",
    "    var conv2 = Conv2D<Float>(\n",
    "        filterShape: (3, 3, 8, 16),\n",
    "        strides: (2, 2),\n",
    "        padding: .same,\n",
    "        activation: relu)\n",
    "    var conv3 = Conv2D<Float>(\n",
    "        filterShape: (3, 3, 16, 32),\n",
    "        strides: (2, 2),\n",
    "        padding: .same,\n",
    "        activation: relu)\n",
    "    var conv4 = Conv2D<Float>(\n",
    "        filterShape: (3, 3, 32, 32),\n",
    "        strides: (2, 2),\n",
    "        padding: .same,\n",
    "        activation: relu)\n",
    "    \n",
    "    // The Python notebook uses \"AdaptiveAvgPool2d\", which I assume is different from \"AvgPool2D\".\n",
    "    // But our layers lib only has \"AvgPool2D\" and that sounds good enough for now.\n",
    "    var pool = AvgPool2D<Float>(poolSize: (2, 2), strides: (1, 1))\n",
    "    \n",
    "    var flatten = Flatten<Float>()\n",
    "    var linear = Dense<Float>(inputSize: 32, outputSize: Int(classCount))\n",
    "    \n",
    "    @differentiable\n",
    "    func applied(to input: Tensor<Float>, in context: Context) -> Tensor<Float> {\n",
    "        // There isn't a \"sequenced\" defined with enough layers.\n",
    "        let intermediate =  input.sequenced(\n",
    "            in: context,\n",
    "            through: reshapeToSquare, conv1, conv2, conv3, conv4)\n",
    "        return intermediate.sequenced(in: context, through: pool, flatten, linear)\n",
    "    }\n",
    "}"
   ]
  },
  {
   "cell_type": "code",
   "execution_count": null,
   "metadata": {},
   "outputs": [
    {
     "name": "stdout",
     "output_type": "stream",
     "text": [
      "TensorShape(dimensions: [512, 10])\r\n",
      "[-0.010395113, 0.0029709097, 0.020905834, -0.03118249, 0.015693884, 0.011198644, 0.01826048, -0.015472209, -0.032134507, -0.007820744]\r\n"
     ]
    }
   ],
   "source": [
    "// Test that data goes through the model as expected.\n",
    "let predictions = CnnModel().applied(to: firstBatch.xb, in: Context(learningPhase: .training))\n",
    "print(predictions.shape)\n",
    "print(predictions[0])"
   ]
  },
  {
   "cell_type": "code",
   "execution_count": null,
   "metadata": {},
   "outputs": [],
   "source": [
    "let opt = SGD<CnnModel, Float>(learningRate: 0.4)\n",
    "func modelInit() -> CnnModel { return CnnModel() }\n",
    "\n",
    "// TODO: When TF-421 is fixed, switch back to the normal `softmaxCrossEntropy`.\n",
    "\n",
    "@differentiable(vjp: _vjpSoftmaxCrossEntropy)\n",
    "func softmaxCrossEntropy1<Scalar: TensorFlowFloatingPoint>(\n",
    "    _ features: Tensor<Scalar>, _ labels: Tensor<Scalar>\n",
    ") -> Tensor<Scalar> {\n",
    "    return Raw.softmaxCrossEntropyWithLogits(features: features, labels: labels).loss.mean()\n",
    "}\n",
    "\n",
    "@usableFromInline\n",
    "func _vjpSoftmaxCrossEntropy<Scalar: TensorFlowFloatingPoint>(\n",
    "    features: Tensor<Scalar>, labels: Tensor<Scalar>\n",
    ") -> (Tensor<Scalar>, (Tensor<Scalar>) -> (Tensor<Scalar>, Tensor<Scalar>)) {\n",
    "    let (loss, grad) = Raw.softmaxCrossEntropyWithLogits(features: features, labels: labels)\n",
    "    let batchSize = Tensor<Scalar>(features.shapeTensor[0])\n",
    "    return (loss.mean(), { v in ((v / batchSize) * grad, Tensor<Scalar>(0)) })\n",
    "}\n",
    "\n",
    "let learner = Learner(data: data, lossFunction: softmaxCrossEntropy1, optimizer: opt, initializingWith: modelInit)\n",
    "learner.delegates = [Learner.TrainEvalDelegate(), Learner.AvgMetric(metrics: [accuracy])]"
   ]
  },
  {
   "cell_type": "code",
   "execution_count": null,
   "metadata": {},
   "outputs": [
    {
     "name": "stdout",
     "output_type": "stream",
     "text": [
      "Epoch 0: [0.4353454, 0.8618]\r\n",
      "5141.939552 ms\r\n"
     ]
    }
   ],
   "source": [
    "// This happens on the GPU (if you have one and it's configured correctly).\n",
    "// I tried this on a GCE 8vCPU 30GB + Tesla P100:\n",
    "// - time: ~30 seconds\n",
    "// - nvidia-smi shows ~7% GPU-Util while this is running\n",
    "time {\n",
    "    try! learner.fit(1)\n",
    "}"
   ]
  },
  {
   "cell_type": "code",
   "execution_count": null,
   "metadata": {},
   "outputs": [],
   "source": [
    "// This happens on the CPU.\n",
    "// I tried this on a GCE 8vCPU 30GB + Tesla P100:\n",
    "// - time: ~15 seconds\n",
    "// - nvidia-smi shows 0% GPU-Util while this is running\n",
    "time {\n",
    "    withDevice(.cpu) {\n",
    "        try! learner.fit(1)\n",
    "    }\n",
    "}"
   ]
  },
  {
   "cell_type": "code",
   "execution_count": null,
   "metadata": {},
   "outputs": [],
   "source": []
  }
 ],
 "metadata": {
  "kernelspec": {
   "display_name": "Swift",
   "language": "swift",
   "name": "swift"
  }
 },
 "nbformat": 4,
 "nbformat_minor": 2
}
