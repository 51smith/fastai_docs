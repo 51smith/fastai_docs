{
 "cells": [
  {
   "cell_type": "markdown",
   "metadata": {},
   "source": [
    "# Tracking memory leaks / memory fragmentation\n",
    "\n",
    "This notebook is for finding out where fastai doesn't allocate GPU RAM efficiently. Feel free to add other sections. Currently it only does a basic training loop, with some unfreezing and inference.\n",
    "\n",
    "The detection comes from reading the output of IPyExperimentsPytorch per-cell reports.\n",
    "\n",
    "In particular watch Delta Peak column which may indicate where more GPU RAM was allocated before freeing some, which may lead to smalish holes in allocated GPU RAM which can't be re-used and thus causing fragmentation and making your gpu card "
   ]
  },
  {
   "cell_type": "code",
   "execution_count": 1,
   "metadata": {},
   "outputs": [],
   "source": [
    "%reload_ext autoreload\n",
    "%autoreload 2\n",
    "%matplotlib inline"
   ]
  },
  {
   "cell_type": "code",
   "execution_count": 2,
   "metadata": {},
   "outputs": [],
   "source": [
    "from fastai.vision import *"
   ]
  },
  {
   "cell_type": "code",
   "execution_count": 3,
   "metadata": {},
   "outputs": [],
   "source": [
    "from pathlib import Path\n",
    "import numpy as np\n",
    "from ipyexperiments import IPyExperimentsPytorch\n",
    "#! pip install ipyexperiments"
   ]
  },
  {
   "cell_type": "code",
   "execution_count": 4,
   "metadata": {},
   "outputs": [],
   "source": [
    "device = torch.device(\"cuda:0\" if torch.cuda.is_available() else \"cpu\")\n",
    "assert str(device) == 'cuda:0', f\"we want GPU, got {device}\""
   ]
  },
  {
   "cell_type": "code",
   "execution_count": 5,
   "metadata": {},
   "outputs": [],
   "source": [
    "from IPython.display import Markdown, display\n",
    "def alert(string, color='red'):\n",
    "    display(Markdown(f\"<span style='color:{color}'>**{string}**</span>\"))"
   ]
  },
  {
   "cell_type": "code",
   "execution_count": 6,
   "metadata": {},
   "outputs": [],
   "source": [
    "# x1 = consume_cpu(2**14) # about 1GB\n",
    "def consume_gpu(n): return torch.ones((n, n)).cuda()\n",
    "def consume_1gb(): return [consume_gpu(2**14)]\n",
    "def consume_6gb(): return [consume_1gb() for x in range(6) ]\n",
    "\n",
    "def reclaim():\n",
    "    gc.collect()\n",
    "    torch.cuda.empty_cache()"
   ]
  },
  {
   "cell_type": "code",
   "execution_count": 7,
   "metadata": {},
   "outputs": [],
   "source": [
    "import tracemalloc, threading, torch, time, pynvml\n",
    "from fastai.utils.mem import *\n",
    "from fastai.vision import *\n",
    "\n",
    "if not torch.cuda.is_available(): raise Exception(\"pytorch is required\")\n",
    "\n",
    "def preload_pytorch():\n",
    "    torch.ones((1, 1)).cuda()\n",
    "    \n",
    "def gpu_mem_get_used_no_cache():\n",
    "    torch.cuda.empty_cache()\n",
    "    return gpu_mem_get().used\n",
    "\n",
    "def gpu_mem_used_get_fast(gpu_handle):\n",
    "    info = pynvml.nvmlDeviceGetMemoryInfo(gpu_handle)\n",
    "    return int(info.used/2**20)\n",
    "\n",
    "def torch_mem_report():\n",
    "    torch.cuda.empty_cache()\n",
    "    print(list(map(lambda x: int(x/2**20), [torch.cuda.memory_allocated(), torch.cuda.max_memory_allocated(), torch.cuda.memory_cached(), torch.cuda.max_memory_cached()])))\n",
    "    \n",
    "preload_pytorch()\n",
    "pynvml.nvmlInit()\n",
    "\n",
    "class PeakMemMetric(LearnerCallback):\n",
    "    _order=-20 # Needs to run before the recorder\n",
    "\n",
    "    def peak_monitor_start(self):\n",
    "        self.peak_monitoring = True\n",
    "\n",
    "        # start RAM tracing\n",
    "        tracemalloc.start()\n",
    "\n",
    "        # this thread samples RAM usage as long as the current epoch of the fit loop is running\n",
    "        peak_monitor_thread = threading.Thread(target=self.peak_monitor_func)\n",
    "        peak_monitor_thread.daemon = True\n",
    "        peak_monitor_thread.start()\n",
    "        \n",
    "    def peak_monitor_stop(self):\n",
    "        tracemalloc.stop()\n",
    "        self.peak_monitoring = False\n",
    "        \n",
    "    def peak_monitor_func(self):\n",
    "        self.gpu_mem_used_peak = -1\n",
    "\n",
    "        gpu_id = torch.cuda.current_device()\n",
    "        gpu_handle = pynvml.nvmlDeviceGetHandleByIndex(gpu_id)\n",
    "\n",
    "        while True:\n",
    "            gpu_mem_used = gpu_mem_used_get_fast(gpu_handle)\n",
    "            self.gpu_mem_used_peak = max(gpu_mem_used, self.gpu_mem_used_peak)\n",
    "            if not self.peak_monitoring: break\n",
    "            time.sleep(0.001) # 1msec\n",
    "\n",
    "    def on_train_begin(self, **kwargs):\n",
    "        self.learn.recorder.add_metric_names(['cpu used',  'peak', 'gpu used',  'peak'])\n",
    "                    \n",
    "    def on_epoch_begin(self, **kwargs):\n",
    "        self.peak_monitor_start()\n",
    "        self.gpu_before = gpu_mem_get_used_no_cache()\n",
    "\n",
    "    def on_epoch_end(self, **kwargs):\n",
    "        cpu_current, cpu_peak =  list(map(lambda x: int(x/2**20), tracemalloc.get_traced_memory()))\n",
    "        gpu_current = gpu_mem_get_used_no_cache() - self.gpu_before\n",
    "        gpu_peak    = self.gpu_mem_used_peak      - self.gpu_before\n",
    "        self.peak_monitor_stop()\n",
    "        # The numbers are deltas in MBs (beginning of the epoch and the end)\n",
    "        self.learn.recorder.add_metrics([cpu_current, cpu_peak, gpu_current, gpu_peak])"
   ]
  },
  {
   "cell_type": "markdown",
   "metadata": {},
   "source": [
    "# Prep dataset"
   ]
  },
  {
   "cell_type": "code",
   "execution_count": 8,
   "metadata": {},
   "outputs": [
    {
     "name": "stdout",
     "output_type": "stream",
     "text": [
      "\n",
      "*** Experiment started with the Pytorch backend\n",
      "Device: ID 0, GeForce GTX 1070 Ti (8119 RAM)\n",
      "\n",
      "\n",
      "*** Current state:\n",
      "RAM:  Used  Free  Total      Util\n",
      "CPU:  2285 13177  31588 MB   7.24% \n",
      "GPU:   503  7616   8119 MB   6.19% \n",
      "\n",
      "\n",
      "･ RAM: △Consumed △Peaked  Used Total | Exec time 0.000s\n",
      "･ CPU:         0       0     2285 MB |\n",
      "･ GPU:         0       0      503 MB |\n"
     ]
    }
   ],
   "source": [
    "exp1 = IPyExperimentsPytorch()"
   ]
  },
  {
   "cell_type": "code",
   "execution_count": 9,
   "metadata": {},
   "outputs": [
    {
     "name": "stdout",
     "output_type": "stream",
     "text": [
      "･ RAM: △Consumed △Peaked  Used Total | Exec time 0.003s\n",
      "･ CPU:         0       1     2285 MB |\n",
      "･ GPU:         0       0      503 MB |\n"
     ]
    }
   ],
   "source": [
    "path = untar_data(URLs.MNIST)"
   ]
  },
  {
   "cell_type": "code",
   "execution_count": 10,
   "metadata": {},
   "outputs": [
    {
     "name": "stdout",
     "output_type": "stream",
     "text": [
      "･ RAM: △Consumed △Peaked  Used Total | Exec time 0.007s\n",
      "･ CPU:         0       0     2285 MB |\n",
      "･ GPU:         0       0      503 MB |\n"
     ]
    }
   ],
   "source": [
    "# setup\n",
    "defaults.cmap='binary'\n",
    "bs=512\n",
    "tfms = ([*rand_pad(padding=3, size=28, mode='zeros')], [])\n",
    "#arch=\"resnet34\"\n",
    "arch=\"resnet50\""
   ]
  },
  {
   "cell_type": "code",
   "execution_count": 11,
   "metadata": {},
   "outputs": [
    {
     "data": {
      "text/plain": [
       "ImageItemList (70000 items)\n",
       "[Image (1, 28, 28), Image (1, 28, 28), Image (1, 28, 28), Image (1, 28, 28), Image (1, 28, 28)]...\n",
       "Path: /home/stas/.fastai/data/mnist_png"
      ]
     },
     "execution_count": 11,
     "metadata": {},
     "output_type": "execute_result"
    },
    {
     "name": "stdout",
     "output_type": "stream",
     "text": [
      "･ RAM: △Consumed △Peaked  Used Total | Exec time 0.548s\n",
      "･ CPU:        26       0     2352 MB |\n",
      "･ GPU:         0       0      503 MB |\n"
     ]
    }
   ],
   "source": [
    "il = ImageItemList.from_folder(path, convert_mode='L')\n",
    "il"
   ]
  },
  {
   "cell_type": "code",
   "execution_count": 12,
   "metadata": {},
   "outputs": [
    {
     "data": {
      "text/plain": [
       "ItemLists;\n",
       "\n",
       "Train: ImageItemList (60000 items)\n",
       "[Image (1, 28, 28), Image (1, 28, 28), Image (1, 28, 28), Image (1, 28, 28), Image (1, 28, 28)]...\n",
       "Path: /home/stas/.fastai/data/mnist_png;\n",
       "\n",
       "Valid: ImageItemList (10000 items)\n",
       "[Image (1, 28, 28), Image (1, 28, 28), Image (1, 28, 28), Image (1, 28, 28), Image (1, 28, 28)]...\n",
       "Path: /home/stas/.fastai/data/mnist_png;\n",
       "\n",
       "Test: None"
      ]
     },
     "execution_count": 12,
     "metadata": {},
     "output_type": "execute_result"
    },
    {
     "name": "stdout",
     "output_type": "stream",
     "text": [
      "･ RAM: △Consumed △Peaked  Used Total | Exec time 0.113s\n",
      "･ CPU:         8       4     2361 MB |\n",
      "･ GPU:         0       0      503 MB |\n"
     ]
    }
   ],
   "source": [
    "sd = il.split_by_folder(train='training', valid='testing')\n",
    "sd"
   ]
  },
  {
   "cell_type": "code",
   "execution_count": 13,
   "metadata": {},
   "outputs": [
    {
     "name": "stdout",
     "output_type": "stream",
     "text": [
      "･ RAM: △Consumed △Peaked  Used Total | Exec time 0.201s\n",
      "･ CPU:         0       0     2361 MB |\n",
      "･ GPU:         0       0      503 MB |\n"
     ]
    }
   ],
   "source": [
    "src = sd.label_from_folder()"
   ]
  },
  {
   "cell_type": "code",
   "execution_count": 14,
   "metadata": {},
   "outputs": [
    {
     "name": "stdout",
     "output_type": "stream",
     "text": [
      "･ RAM: △Consumed △Peaked  Used Total | Exec time 0.001s\n",
      "･ CPU:         0       0     2361 MB |\n",
      "･ GPU:         0       0      503 MB |\n"
     ]
    }
   ],
   "source": [
    "ll = src.transform(tfms)"
   ]
  },
  {
   "cell_type": "code",
   "execution_count": 15,
   "metadata": {},
   "outputs": [
    {
     "name": "stdout",
     "output_type": "stream",
     "text": [
      "4\n"
     ]
    },
    {
     "data": {
      "image/png": "[encoded data removed]",
      "text/plain": [
       "<Figure size 216x216 with 1 Axes>"
      ]
     },
     "metadata": {
      "needs_background": "light"
     },
     "output_type": "display_data"
    },
    {
     "name": "stdout",
     "output_type": "stream",
     "text": [
      "･ RAM: △Consumed △Peaked  Used Total | Exec time 0.284s\n",
      "･ CPU:         0       1     2364 MB |\n",
      "･ GPU:         0       0      503 MB |\n"
     ]
    }
   ],
   "source": [
    "data = ll.databunch(bs=bs).normalize(imagenet_stats)\n",
    "x,y = data.train_ds[0]\n",
    "x.show()\n",
    "print(y)"
   ]
  },
  {
   "cell_type": "markdown",
   "metadata": {},
   "source": [
    "# Train and Validate\n"
   ]
  },
  {
   "cell_type": "code",
   "execution_count": 16,
   "metadata": {},
   "outputs": [
    {
     "name": "stdout",
     "output_type": "stream",
     "text": [
      "･ RAM: △Consumed △Peaked  Used Total | Exec time 0.001s\n",
      "･ CPU:         0       0     2364 MB |\n",
      "･ GPU:         0       0      503 MB |\n"
     ]
    }
   ],
   "source": [
    "model = getattr(models, arch) # models.resnet34"
   ]
  },
  {
   "cell_type": "code",
   "execution_count": 17,
   "metadata": {},
   "outputs": [
    {
     "name": "stdout",
     "output_type": "stream",
     "text": [
      "･ RAM: △Consumed △Peaked  Used Total | Exec time 0.658s\n",
      "･ CPU:         0       0     2524 MB |\n",
      "･ GPU:       106       0      609 MB |\n"
     ]
    }
   ],
   "source": [
    "learn = create_cnn(data, model, metrics=[accuracy], callback_fns=PeakMemMetric)"
   ]
  },
  {
   "cell_type": "code",
   "execution_count": 18,
   "metadata": {},
   "outputs": [
    {
     "data": {
      "text/html": [],
      "text/plain": [
       "<IPython.core.display.HTML object>"
      ]
     },
     "metadata": {},
     "output_type": "display_data"
    },
    {
     "name": "stdout",
     "output_type": "stream",
     "text": [
      "LR Finder is complete, type {learner_name}.recorder.plot() to see the graph.\n",
      "･ RAM: △Consumed △Peaked  Used Total | Exec time 16.697s\n",
      "･ CPU:         0       0     2534 MB |\n",
      "･ GPU:        14    6206      623 MB |\n"
     ]
    }
   ],
   "source": [
    "learn.lr_find()"
   ]
  },
  {
   "cell_type": "code",
   "execution_count": null,
   "metadata": {},
   "outputs": [
    {
     "name": "stdout",
     "output_type": "stream",
     "text": [
      "･ RAM: △Consumed △Peaked  Used Total | Exec time 0.040s\n",
      "･ CPU:         0       0     2534 MB |\n",
      "･ GPU:         0       0      623 MB |\n"
     ]
    }
   ],
   "source": [
    "reclaim() # resets lr_find's GPU RAM consumption"
   ]
  },
  {
   "cell_type": "code",
   "execution_count": null,
   "metadata": {},
   "outputs": [
    {
     "name": "stdout",
     "output_type": "stream",
     "text": [
      "･ RAM: △Consumed △Peaked  Used Total | Exec time 0.025s\n",
      "･ CPU:         0       0     2534 MB |\n",
      "･ GPU:         0       0      623 MB |\n"
     ]
    }
   ],
   "source": [
    "#learn.recorder.plot()"
   ]
  },
  {
   "cell_type": "code",
   "execution_count": null,
   "metadata": {
    "scrolled": true
   },
   "outputs": [
    {
     "data": {
      "text/html": [
       "Total time: 00:18 <p><table style='width:600px; margin-bottom:10px'>\n",
       "  <tr>\n",
       "    <th>epoch</th>\n",
       "    <th>train_loss</th>\n",
       "    <th>valid_loss</th>\n",
       "    <th>accuracy</th>\n",
       "    <th>cpu used</th>\n",
       "    <th>peak</th>\n",
       "    <th>gpu used</th>\n",
       "    <th>peak</th>\n",
       "  </tr>\n",
       "  <tr>\n",
       "    <th>1</th>\n",
       "    <th>0.221688</th>\n",
       "    <th>0.064411</th>\n",
       "    <th>0.978500</th>\n",
       "    <th>0</th>\n",
       "    <th>2</th>\n",
       "    <th>42</th>\n",
       "    <th>3968</th>\n",
       "  </tr>\n",
       "</table>\n"
      ],
      "text/plain": [
       "<IPython.core.display.HTML object>"
      ]
     },
     "metadata": {},
     "output_type": "display_data"
    },
    {
     "name": "stdout",
     "output_type": "stream",
     "text": [
      "･ RAM: △Consumed △Peaked  Used Total | Exec time 18.995s\n",
      "･ CPU:         0       0     2535 MB |\n",
      "･ GPU:        26    3942      649 MB |\n"
     ]
    }
   ],
   "source": [
    "learn.fit_one_cycle(1, max_lr=1e-2)"
   ]
  },
  {
   "cell_type": "code",
   "execution_count": null,
   "metadata": {},
   "outputs": [],
   "source": []
  },
  {
   "cell_type": "code",
   "execution_count": null,
   "metadata": {},
   "outputs": [
    {
     "data": {
      "text/html": [
       "Total time: 00:18 <p><table style='width:600px; margin-bottom:10px'>\n",
       "  <tr>\n",
       "    <th>epoch</th>\n",
       "    <th>train_loss</th>\n",
       "    <th>valid_loss</th>\n",
       "    <th>accuracy</th>\n",
       "    <th>cpu used</th>\n",
       "    <th>peak</th>\n",
       "    <th>gpu used</th>\n",
       "    <th>peak</th>\n",
       "  </tr>\n",
       "  <tr>\n",
       "    <th>1</th>\n",
       "    <th>0.079394</th>\n",
       "    <th>0.042086</th>\n",
       "    <th>0.987000</th>\n",
       "    <th>0</th>\n",
       "    <th>2</th>\n",
       "    <th>14</th>\n",
       "    <th>954</th>\n",
       "  </tr>\n",
       "</table>\n"
      ],
      "text/plain": [
       "<IPython.core.display.HTML object>"
      ]
     },
     "metadata": {},
     "output_type": "display_data"
    },
    {
     "data": {
      "text/html": [
       "Total time: 00:36 <p><table style='width:600px; margin-bottom:10px'>\n",
       "  <tr>\n",
       "    <th>epoch</th>\n",
       "    <th>train_loss</th>\n",
       "    <th>valid_loss</th>\n",
       "    <th>accuracy</th>\n",
       "    <th>cpu used</th>\n",
       "    <th>peak</th>\n",
       "    <th>gpu used</th>\n",
       "    <th>peak</th>\n",
       "  </tr>\n",
       "  <tr>\n",
       "    <th>1</th>\n",
       "    <th>0.076606</th>\n",
       "    <th>0.081787</th>\n",
       "    <th>0.976100</th>\n",
       "    <th>0</th>\n",
       "    <th>2</th>\n",
       "    <th>14</th>\n",
       "    <th>954</th>\n",
       "  </tr>\n",
       "  <tr>\n",
       "    <th>2</th>\n",
       "    <th>0.046904</th>\n",
       "    <th>0.025560</th>\n",
       "    <th>0.992000</th>\n",
       "    <th>0</th>\n",
       "    <th>2</th>\n",
       "    <th>6</th>\n",
       "    <th>944</th>\n",
       "  </tr>\n",
       "</table>\n"
      ],
      "text/plain": [
       "<IPython.core.display.HTML object>"
      ]
     },
     "metadata": {},
     "output_type": "display_data"
    },
    {
     "name": "stdout",
     "output_type": "stream",
     "text": [
      "･ RAM: △Consumed △Peaked  Used Total | Exec time 54.411s\n",
      "･ CPU:         0       0     2536 MB |\n",
      "･ GPU:         0     958      649 MB |\n"
     ]
    }
   ],
   "source": [
    "# cycle this:\n",
    "learn.fit_one_cycle(1, max_lr=1e-2)\n",
    "learn.fit_one_cycle(2, max_lr=1e-2)\n",
    "learn.save(f'reload1')\n",
    "_=learn.load(f'reload1')\n",
    "reclaim() # resets lr_find's GPU RAM consumption"
   ]
  },
  {
   "cell_type": "code",
   "execution_count": null,
   "metadata": {},
   "outputs": [
    {
     "name": "stdout",
     "output_type": "stream",
     "text": [
      "･ RAM: △Consumed △Peaked  Used Total | Exec time 0.041s\n",
      "･ CPU:         0       0     2536 MB |\n",
      "･ GPU:         0       0      649 MB |\n"
     ]
    }
   ],
   "source": [
    "reclaim() # resets fit_one_cycle's GPU RAM consumption"
   ]
  },
  {
   "cell_type": "code",
   "execution_count": null,
   "metadata": {},
   "outputs": [
    {
     "name": "stdout",
     "output_type": "stream",
     "text": [
      "･ RAM: △Consumed △Peaked  Used Total | Exec time 0.234s\n",
      "･ CPU:         0       0     2536 MB |\n",
      "･ GPU:         0       0      649 MB |\n"
     ]
    }
   ],
   "source": [
    "learn.save(f'reload1')"
   ]
  },
  {
   "cell_type": "markdown",
   "metadata": {},
   "source": [
    "### Proposed Change\n",
    "end of `learn.load()` is a place where reclaim should be executed, so that the GPU RAM taken previously by the model is unloaded - otherwise it's doubled in size until gc.collect() arrives some time in the future.\n",
    "\n",
    "Currently, we get delta peaked reported @ 126MB for models.resnet34, and it should be 0 peaked, if first the model is unloaded and then loaded again."
   ]
  },
  {
   "cell_type": "code",
   "execution_count": null,
   "metadata": {},
   "outputs": [
    {
     "name": "stdout",
     "output_type": "stream",
     "text": [
      "･ RAM: △Consumed △Peaked  Used Total | Exec time 0.096s\n",
      "･ CPU:         0       0     2536 MB |\n",
      "･ GPU:         0     126      649 MB |\n"
     ]
    }
   ],
   "source": [
    "_=learn.load(f'reload1')"
   ]
  },
  {
   "cell_type": "code",
   "execution_count": null,
   "metadata": {},
   "outputs": [
    {
     "data": {
      "text/markdown": [
       "<span style='color:red'>**load() caused potential fragmentation by not unloading model first, delta peaked at 126 MB**</span>"
      ],
      "text/plain": [
       "<IPython.core.display.Markdown object>"
      ]
     },
     "metadata": {},
     "output_type": "display_data"
    },
    {
     "name": "stdout",
     "output_type": "stream",
     "text": [
      "･ RAM: △Consumed △Peaked  Used Total | Exec time 0.002s\n",
      "･ CPU:         0       0     2536 MB |\n",
      "･ GPU:         0       0      649 MB |\n"
     ]
    }
   ],
   "source": [
    "cpu_mem, gpu_mem, time_data = exp1.cl.data\n",
    "if b2mb(gpu_mem.peaked_delta) > 10:\n",
    "    alert(f\"load() caused potential fragmentation by not unloading model first, delta peaked at {b2mb(gpu_mem.peaked_delta)} MB\")"
   ]
  },
  {
   "cell_type": "code",
   "execution_count": null,
   "metadata": {},
   "outputs": [
    {
     "name": "stdout",
     "output_type": "stream",
     "text": [
      "･ RAM: △Consumed △Peaked  Used Total | Exec time 0.065s\n",
      "･ CPU:         0       0     2536 MB |\n",
      "･ GPU:         0       0      649 MB |\n"
     ]
    }
   ],
   "source": [
    "reclaim() # resets load's GPU RAM consumption"
   ]
  },
  {
   "cell_type": "code",
   "execution_count": null,
   "metadata": {},
   "outputs": [
    {
     "name": "stdout",
     "output_type": "stream",
     "text": [
      "･ RAM: △Consumed △Peaked  Used Total | Exec time 0.026s\n",
      "･ CPU:         0       0     2536 MB |\n",
      "･ GPU:         0       0      649 MB |\n"
     ]
    }
   ],
   "source": [
    "#reclaim_tensors()"
   ]
  },
  {
   "cell_type": "code",
   "execution_count": null,
   "metadata": {},
   "outputs": [
    {
     "data": {
      "text/html": [],
      "text/plain": [
       "<IPython.core.display.HTML object>"
      ]
     },
     "metadata": {},
     "output_type": "display_data"
    },
    {
     "name": "stdout",
     "output_type": "stream",
     "text": [
      "LR Finder is complete, type {learner_name}.recorder.plot() to see the graph.\n",
      "･ RAM: △Consumed △Peaked  Used Total | Exec time 12.902s\n",
      "･ CPU:         0       0     2536 MB |\n",
      "･ GPU:         0     954      649 MB |\n"
     ]
    }
   ],
   "source": [
    "learn.lr_find(end_lr=1)"
   ]
  },
  {
   "cell_type": "code",
   "execution_count": null,
   "metadata": {},
   "outputs": [
    {
     "data": {
      "image/png": "[encoded data removed]",
      "text/plain": [
       "<Figure size 432x288 with 1 Axes>"
      ]
     },
     "metadata": {
      "needs_background": "light"
     },
     "output_type": "display_data"
    },
    {
     "name": "stdout",
     "output_type": "stream",
     "text": [
      "･ RAM: △Consumed △Peaked  Used Total | Exec time 0.368s\n",
      "･ CPU:         0       2     2536 MB |\n",
      "･ GPU:         0       0      649 MB |\n"
     ]
    }
   ],
   "source": [
    "learn.recorder.plot()"
   ]
  },
  {
   "cell_type": "code",
   "execution_count": null,
   "metadata": {},
   "outputs": [
    {
     "data": {
      "text/html": [
       "Total time: 00:18 <p><table style='width:600px; margin-bottom:10px'>\n",
       "  <tr>\n",
       "    <th>epoch</th>\n",
       "    <th>train_loss</th>\n",
       "    <th>valid_loss</th>\n",
       "    <th>accuracy</th>\n",
       "    <th>cpu used</th>\n",
       "    <th>peak</th>\n",
       "    <th>gpu used</th>\n",
       "    <th>peak</th>\n",
       "  </tr>\n",
       "  <tr>\n",
       "    <th>1</th>\n",
       "    <th>0.058548</th>\n",
       "    <th>0.029637</th>\n",
       "    <th>0.991100</th>\n",
       "    <th>0</th>\n",
       "    <th>2</th>\n",
       "    <th>4</th>\n",
       "    <th>954</th>\n",
       "  </tr>\n",
       "</table>\n"
      ],
      "text/plain": [
       "<IPython.core.display.HTML object>"
      ]
     },
     "metadata": {},
     "output_type": "display_data"
    },
    {
     "name": "stdout",
     "output_type": "stream",
     "text": [
      "･ RAM: △Consumed △Peaked  Used Total | Exec time 18.034s\n",
      "･ CPU:         0       0     2537 MB |\n",
      "･ GPU:         0     954      649 MB |\n"
     ]
    }
   ],
   "source": [
    "learn.fit_one_cycle(1, max_lr=1e-2)"
   ]
  },
  {
   "cell_type": "code",
   "execution_count": null,
   "metadata": {},
   "outputs": [
    {
     "name": "stdout",
     "output_type": "stream",
     "text": [
      "･ RAM: △Consumed △Peaked  Used Total | Exec time 0.147s\n",
      "･ CPU:         0       0     2537 MB |\n",
      "･ GPU:         0       0      649 MB |\n"
     ]
    }
   ],
   "source": [
    "learn.save(f'leak2')"
   ]
  },
  {
   "cell_type": "markdown",
   "metadata": {},
   "source": [
    "## Fine tuning"
   ]
  },
  {
   "cell_type": "code",
   "execution_count": null,
   "metadata": {},
   "outputs": [
    {
     "name": "stdout",
     "output_type": "stream",
     "text": [
      "･ RAM: △Consumed △Peaked  Used Total | Exec time 0.097s\n",
      "･ CPU:         0       0     2537 MB |\n",
      "･ GPU:         0     126      649 MB |\n"
     ]
    }
   ],
   "source": [
    "_=learn.load(f'leak2')"
   ]
  },
  {
   "cell_type": "code",
   "execution_count": null,
   "metadata": {},
   "outputs": [
    {
     "name": "stdout",
     "output_type": "stream",
     "text": [
      "･ RAM: △Consumed △Peaked  Used Total | Exec time 0.004s\n",
      "･ CPU:         0       0     2537 MB |\n",
      "･ GPU:         0       0      649 MB |\n"
     ]
    }
   ],
   "source": [
    "learn.unfreeze()"
   ]
  },
  {
   "cell_type": "code",
   "execution_count": null,
   "metadata": {},
   "outputs": [
    {
     "data": {
      "text/html": [],
      "text/plain": [
       "<IPython.core.display.HTML object>"
      ]
     },
     "metadata": {},
     "output_type": "display_data"
    },
    {
     "name": "stdout",
     "output_type": "stream",
     "text": [
      "LR Finder is complete, type {learner_name}.recorder.plot() to see the graph.\n",
      "･ RAM: △Consumed △Peaked  Used Total | Exec time 12.012s\n",
      "･ CPU:         0       0     2537 MB |\n",
      "･ GPU:       226    3486      875 MB |\n"
     ]
    }
   ],
   "source": [
    "learn.lr_find()"
   ]
  },
  {
   "cell_type": "code",
   "execution_count": null,
   "metadata": {},
   "outputs": [
    {
     "data": {
      "image/png": "[encoded data removed]",
      "text/plain": [
       "<Figure size 432x288 with 1 Axes>"
      ]
     },
     "metadata": {
      "needs_background": "light"
     },
     "output_type": "display_data"
    },
    {
     "name": "stdout",
     "output_type": "stream",
     "text": [
      "･ RAM: △Consumed △Peaked  Used Total | Exec time 0.299s\n",
      "･ CPU:         0       1     2537 MB |\n",
      "･ GPU:         0       0      875 MB |\n"
     ]
    }
   ],
   "source": [
    "learn.recorder.plot()"
   ]
  },
  {
   "cell_type": "code",
   "execution_count": null,
   "metadata": {
    "scrolled": true
   },
   "outputs": [
    {
     "data": {
      "text/html": [
       "\n",
       "    <div>\n",
       "        <style>\n",
       "            /* Turns off some styling */\n",
       "            progress {\n",
       "                /* gets rid of default border in Firefox and Opera. */\n",
       "                border: none;\n",
       "                /* Needs to be in here for Safari polyfill so background images work as expected. */\n",
       "                background-size: auto;\n",
       "            }\n",
       "            .progress-bar-interrupted, .progress-bar-interrupted::-webkit-progress-bar {\n",
       "                background: #F44336;\n",
       "            }\n",
       "        </style>\n",
       "      <progress value='0' class='' max='1', style='width:300px; height:20px; vertical-align: middle;'></progress>\n",
       "      0.00% [0/1 00:00<00:00]\n",
       "    </div>\n",
       "    \n",
       "<table style='width:600px; margin-bottom:10px'>\n",
       "  <tr>\n",
       "    <th>epoch</th>\n",
       "    <th>train_loss</th>\n",
       "    <th>valid_loss</th>\n",
       "    <th>accuracy</th>\n",
       "    <th>cpu used</th>\n",
       "    <th>peak</th>\n",
       "    <th>gpu used</th>\n",
       "    <th>peak</th>\n",
       "  </tr>\n",
       "</table>\n",
       "\n",
       "\n",
       "    <div>\n",
       "        <style>\n",
       "            /* Turns off some styling */\n",
       "            progress {\n",
       "                /* gets rid of default border in Firefox and Opera. */\n",
       "                border: none;\n",
       "                /* Needs to be in here for Safari polyfill so background images work as expected. */\n",
       "                background-size: auto;\n",
       "            }\n",
       "            .progress-bar-interrupted, .progress-bar-interrupted::-webkit-progress-bar {\n",
       "                background: #F44336;\n",
       "            }\n",
       "        </style>\n",
       "      <progress value='77' class='' max='117', style='width:300px; height:20px; vertical-align: middle;'></progress>\n",
       "      65.81% [77/117 00:13<00:06 0.0459]\n",
       "    </div>\n",
       "    "
      ],
      "text/plain": [
       "<IPython.core.display.HTML object>"
      ]
     },
     "metadata": {},
     "output_type": "display_data"
    }
   ],
   "source": [
    "lr=1e-2\n",
    "learn.fit_one_cycle(1, slice(1e-5, lr/5))"
   ]
  },
  {
   "cell_type": "code",
   "execution_count": null,
   "metadata": {},
   "outputs": [],
   "source": [
    "learn.save(f'leak3')"
   ]
  },
  {
   "cell_type": "code",
   "execution_count": null,
   "metadata": {},
   "outputs": [],
   "source": [
    "learn.freeze()"
   ]
  },
  {
   "cell_type": "code",
   "execution_count": null,
   "metadata": {},
   "outputs": [],
   "source": [
    "learn.export()"
   ]
  },
  {
   "cell_type": "markdown",
   "metadata": {},
   "source": [
    "# Inference via learn.export"
   ]
  },
  {
   "cell_type": "code",
   "execution_count": null,
   "metadata": {},
   "outputs": [],
   "source": [
    "learn = load_learner(path, test=ImageItemList.from_folder(path/'testing'))"
   ]
  },
  {
   "cell_type": "code",
   "execution_count": null,
   "metadata": {},
   "outputs": [],
   "source": [
    "learn.data.test_ds\n",
    "len(learn.data.test_ds)"
   ]
  },
  {
   "cell_type": "code",
   "execution_count": null,
   "metadata": {},
   "outputs": [],
   "source": [
    "predictions = learn.get_preds(ds_type=DatasetType.Test)"
   ]
  },
  {
   "cell_type": "code",
   "execution_count": null,
   "metadata": {},
   "outputs": [],
   "source": [
    "len(predictions[0])"
   ]
  },
  {
   "cell_type": "code",
   "execution_count": null,
   "metadata": {},
   "outputs": [],
   "source": [
    "# get predictions as numpy\n",
    "pred = predictions[0].numpy()\n",
    "pred[0]\n",
    "pred_df = pd.DataFrame(pred)\n",
    "pred_df[:5]\n",
    "#pred_df.sort_values(by=\"preds\")"
   ]
  },
  {
   "cell_type": "markdown",
   "metadata": {},
   "source": [
    "# Inference with manual learn re-construction"
   ]
  },
  {
   "cell_type": "code",
   "execution_count": null,
   "metadata": {},
   "outputs": [],
   "source": [
    "del learn\n",
    "gc.collect()\n",
    "#learn.opt.clear()\n",
    "torch.cuda.empty_cache()"
   ]
  },
  {
   "cell_type": "code",
   "execution_count": null,
   "metadata": {},
   "outputs": [],
   "source": [
    "#del exp1"
   ]
  },
  {
   "cell_type": "code",
   "execution_count": null,
   "metadata": {},
   "outputs": [],
   "source": [
    "bs = 32\n",
    "tfms = get_transforms(do_flip=False)\n"
   ]
  },
  {
   "cell_type": "code",
   "execution_count": null,
   "metadata": {},
   "outputs": [],
   "source": [
    "data = (src.add_test_folder(test_folder='testing')\n",
    "        .transform(tfms) # .transform(tfms, size=256)\n",
    "        .databunch().normalize(imagenet_stats))\n",
    "learn = create_cnn(data, model)\n",
    "_=learn.load(f'leak3')\n"
   ]
  },
  {
   "cell_type": "code",
   "execution_count": null,
   "metadata": {},
   "outputs": [],
   "source": [
    "# learn.data = (src.add_test_folder(test_folder='test')\n",
    "#         .transform(tfms) # .transform(tfms, size=256)\n",
    "#         .databunch().normalize(imagenet_stats))"
   ]
  },
  {
   "cell_type": "code",
   "execution_count": null,
   "metadata": {},
   "outputs": [],
   "source": [
    "learn.data.test_ds\n",
    "len(learn.data.test_ds)"
   ]
  },
  {
   "cell_type": "code",
   "execution_count": null,
   "metadata": {},
   "outputs": [],
   "source": [
    "#learn.validate()"
   ]
  },
  {
   "cell_type": "code",
   "execution_count": null,
   "metadata": {},
   "outputs": [],
   "source": [
    "predictions = learn.get_preds(ds_type=DatasetType.Test)\n",
    "\n",
    "# need to also try learn.TTA()"
   ]
  },
  {
   "cell_type": "code",
   "execution_count": null,
   "metadata": {},
   "outputs": [],
   "source": [
    "len(predictions[0])"
   ]
  },
  {
   "cell_type": "code",
   "execution_count": null,
   "metadata": {},
   "outputs": [],
   "source": [
    "# get predictions as numpy\n",
    "pred = predictions[0].numpy()\n",
    "pred[0]\n",
    "pred_df = pd.DataFrame(pred)\n",
    "pred_df[:5]\n",
    "#pred_df.sort_values(by=\"preds\")"
   ]
  },
  {
   "cell_type": "code",
   "execution_count": null,
   "metadata": {},
   "outputs": [],
   "source": []
  }
 ],
 "metadata": {
  "hide_input": false,
  "kernelspec": {
   "display_name": "Python 3",
   "language": "python",
   "name": "python3"
  },
  "language_info": {
   "codemirror_mode": {
    "name": "ipython",
    "version": 3
   },
   "file_extension": ".py",
   "mimetype": "text/x-python",
   "name": "python",
   "nbconvert_exporter": "python",
   "pygments_lexer": "ipython3",
   "version": "3.7.1"
  },
  "toc": {
   "base_numbering": 1,
   "nav_menu": {
    "height": "177px",
    "width": "281px"
   },
   "number_sections": true,
   "sideBar": true,
   "skip_h1_title": false,
   "title_cell": "Table of Contents",
   "title_sidebar": "Contents",
   "toc_cell": false,
   "toc_position": {
    "height": "calc(100% - 180px)",
    "left": "10px",
    "top": "150px",
    "width": "236px"
   },
   "toc_section_display": true,
   "toc_window_display": true
  }
 },
 "nbformat": 4,
 "nbformat_minor": 2
}
