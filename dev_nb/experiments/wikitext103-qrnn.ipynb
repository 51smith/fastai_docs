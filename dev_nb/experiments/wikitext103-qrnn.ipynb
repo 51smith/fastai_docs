{
 "cells": [
  {
   "cell_type": "code",
   "execution_count": null,
   "metadata": {},
   "outputs": [],
   "source": [
    "from fastai.text import * \n",
    "from fastai import *"
   ]
  },
  {
   "cell_type": "code",
   "execution_count": null,
   "metadata": {},
   "outputs": [],
   "source": [
    "path = Path('data/wikitext-103')"
   ]
  },
  {
   "cell_type": "markdown",
   "metadata": {},
   "source": [
    "Check if a line is a title of a wikipedia article or not."
   ]
  },
  {
   "cell_type": "code",
   "execution_count": null,
   "metadata": {},
   "outputs": [],
   "source": [
    "def istitle(line):\n",
    "    return len(re.findall(r'^ = [^=]* = $', line)) != 0"
   ]
  },
  {
   "cell_type": "markdown",
   "metadata": {},
   "source": [
    "Replace `<unk>` by UNK"
   ]
  },
  {
   "cell_type": "code",
   "execution_count": null,
   "metadata": {},
   "outputs": [],
   "source": [
    "def process_unk(s):\n",
    "    return UNK if s == '<unk>' else s"
   ]
  },
  {
   "cell_type": "markdown",
   "metadata": {},
   "source": [
    "Read the WT103 tokens file while separating each article from the next."
   ]
  },
  {
   "cell_type": "code",
   "execution_count": null,
   "metadata": {},
   "outputs": [],
   "source": [
    "def read_file(filename):\n",
    "    articles = []\n",
    "    with open(filename, encoding='utf8') as f:\n",
    "        lines = f.readlines()\n",
    "    current_article = ''\n",
    "    for i,line in enumerate(lines):\n",
    "        current_article += line\n",
    "        if i < len(lines)-2 and lines[i+1] == ' \\n' and istitle(lines[i+2]):\n",
    "            articles.append(current_article)\n",
    "            current_article = ''\n",
    "    articles.append(current_article)\n",
    "    return np.array(articles)"
   ]
  },
  {
   "cell_type": "markdown",
   "metadata": {},
   "source": [
    "Read the token files (download from [here](https://s3.amazonaws.com/research.metamind.io/wikitext/wikitext-103-v1.zip))."
   ]
  },
  {
   "cell_type": "code",
   "execution_count": null,
   "metadata": {},
   "outputs": [],
   "source": [
    "train = read_file(path/'wiki.train.tokens')\n",
    "valid = read_file(path/'wiki.valid.tokens')\n",
    "test =  read_file(path/'wiki.test.tokens')"
   ]
  },
  {
   "cell_type": "code",
   "execution_count": null,
   "metadata": {},
   "outputs": [
    {
     "data": {
      "text/plain": [
       "(28476, 60, 60)"
      ]
     },
     "execution_count": null,
     "metadata": {},
     "output_type": "execute_result"
    }
   ],
   "source": [
    "len(train), len(valid), len(test)"
   ]
  },
  {
   "cell_type": "markdown",
   "metadata": {},
   "source": [
    "We don't care about a separate test set, so let's join it with the training set. We put valid at the beginning because we'll use `valid_idx` to split."
   ]
  },
  {
   "cell_type": "code",
   "execution_count": null,
   "metadata": {},
   "outputs": [
    {
     "data": {
      "text/html": [
       "<div>\n",
       "<style scoped>\n",
       "    .dataframe tbody tr th:only-of-type {\n",
       "        vertical-align: middle;\n",
       "    }\n",
       "\n",
       "    .dataframe tbody tr th {\n",
       "        vertical-align: top;\n",
       "    }\n",
       "\n",
       "    .dataframe thead th {\n",
       "        text-align: right;\n",
       "    }\n",
       "</style>\n",
       "<table border=\"1\" class=\"dataframe\">\n",
       "  <thead>\n",
       "    <tr style=\"text-align: right;\">\n",
       "      <th></th>\n",
       "      <th>texts</th>\n",
       "    </tr>\n",
       "  </thead>\n",
       "  <tbody>\n",
       "    <tr>\n",
       "      <th>0</th>\n",
       "      <td>\\n = Homarus gammarus = \\n \\n Homarus gammaru...</td>\n",
       "    </tr>\n",
       "    <tr>\n",
       "      <th>1</th>\n",
       "      <td>\\n = Frank Headlam = \\n \\n Air Vice Marshal F...</td>\n",
       "    </tr>\n",
       "    <tr>\n",
       "      <th>2</th>\n",
       "      <td>\\n = M @-@ 82 ( Michigan highway ) = \\n \\n M ...</td>\n",
       "    </tr>\n",
       "    <tr>\n",
       "      <th>3</th>\n",
       "      <td>\\n = Shikamaru Nara = \\n \\n Shikamaru Nara ( ...</td>\n",
       "    </tr>\n",
       "    <tr>\n",
       "      <th>4</th>\n",
       "      <td>\\n = Meridian , Mississippi = \\n \\n Meridian ...</td>\n",
       "    </tr>\n",
       "  </tbody>\n",
       "</table>\n",
       "</div>"
      ],
      "text/plain": [
       "                                               texts\n",
       "0   \\n = Homarus gammarus = \\n \\n Homarus gammaru...\n",
       "1   \\n = Frank Headlam = \\n \\n Air Vice Marshal F...\n",
       "2   \\n = M @-@ 82 ( Michigan highway ) = \\n \\n M ...\n",
       "3   \\n = Shikamaru Nara = \\n \\n Shikamaru Nara ( ...\n",
       "4   \\n = Meridian , Mississippi = \\n \\n Meridian ..."
      ]
     },
     "execution_count": null,
     "metadata": {},
     "output_type": "execute_result"
    }
   ],
   "source": [
    "all_texts = np.concatenate([valid, train,test])\n",
    "df = pd.DataFrame({'texts':all_texts})\n",
    "df.head()"
   ]
  },
  {
   "cell_type": "code",
   "execution_count": null,
   "metadata": {},
   "outputs": [
    {
     "data": {
      "text/html": [
       "<div>\n",
       "<style scoped>\n",
       "    .dataframe tbody tr th:only-of-type {\n",
       "        vertical-align: middle;\n",
       "    }\n",
       "\n",
       "    .dataframe tbody tr th {\n",
       "        vertical-align: top;\n",
       "    }\n",
       "\n",
       "    .dataframe thead th {\n",
       "        text-align: right;\n",
       "    }\n",
       "</style>\n",
       "<table border=\"1\" class=\"dataframe\">\n",
       "  <thead>\n",
       "    <tr style=\"text-align: right;\">\n",
       "      <th></th>\n",
       "      <th>texts</th>\n",
       "    </tr>\n",
       "  </thead>\n",
       "  <tbody>\n",
       "    <tr>\n",
       "      <th>0</th>\n",
       "      <td>\\n = Homarus gammarus = \\n \\n Homarus gammaru...</td>\n",
       "    </tr>\n",
       "    <tr>\n",
       "      <th>1</th>\n",
       "      <td>\\n = Frank Headlam = \\n \\n Air Vice Marshal F...</td>\n",
       "    </tr>\n",
       "    <tr>\n",
       "      <th>2</th>\n",
       "      <td>\\n = M @-@ 82 ( Michigan highway ) = \\n \\n M ...</td>\n",
       "    </tr>\n",
       "    <tr>\n",
       "      <th>3</th>\n",
       "      <td>\\n = Shikamaru Nara = \\n \\n Shikamaru Nara ( ...</td>\n",
       "    </tr>\n",
       "    <tr>\n",
       "      <th>4</th>\n",
       "      <td>\\n = Meridian , Mississippi = \\n \\n Meridian ...</td>\n",
       "    </tr>\n",
       "  </tbody>\n",
       "</table>\n",
       "</div>"
      ],
      "text/plain": [
       "                                               texts\n",
       "0   \\n = Homarus gammarus = \\n \\n Homarus gammaru...\n",
       "1   \\n = Frank Headlam = \\n \\n Air Vice Marshal F...\n",
       "2   \\n = M @-@ 82 ( Michigan highway ) = \\n \\n M ...\n",
       "3   \\n = Shikamaru Nara = \\n \\n Shikamaru Nara ( ...\n",
       "4   \\n = Meridian , Mississippi = \\n \\n Meridian ..."
      ]
     },
     "execution_count": null,
     "metadata": {},
     "output_type": "execute_result"
    }
   ],
   "source": [
    "df.head()"
   ]
  },
  {
   "cell_type": "markdown",
   "metadata": {},
   "source": [
    "To release this from the RAM otherwise I can't launch the next."
   ]
  },
  {
   "cell_type": "code",
   "execution_count": null,
   "metadata": {},
   "outputs": [],
   "source": [
    "del train\n",
    "del valid\n",
    "del test"
   ]
  },
  {
   "cell_type": "code",
   "execution_count": null,
   "metadata": {},
   "outputs": [],
   "source": [
    "data = (TextList.from_df(df, path, col='texts')\n",
    "                .split_by_idx(range(0,60))\n",
    "                .label_for_lm()\n",
    "                .databunch())\n",
    "data.save()"
   ]
  },
  {
   "cell_type": "code",
   "execution_count": null,
   "metadata": {},
   "outputs": [
    {
     "data": {
      "text/html": [
       "<table>  <col width='5%'>  <col width='95%'>  <tr>\n",
       "    <th>idx</th>\n",
       "    <th>text</th>\n",
       "  </tr>\n",
       "  <tr>\n",
       "    <th>0</th>\n",
       "    <th>xxbos \\n  = xxmaj nickel = \\n \\n  xxmaj nickel is a chemical element with symbol xxmaj ni and atomic number 28 . xxmaj it is a silvery - white lustrous metal with a slight golden tinge . xxmaj nickel belongs to the transition metals and is hard and ductile . xxmaj pure nickel , powdered to maximize the reactive surface area , shows a significant chemical activity , but larger pieces are slow to react with air under standard conditions because an oxide layer forms</th>\n",
       "  </tr>\n",
       "  <tr>\n",
       "    <th>1</th>\n",
       "    <th>the season , xxmaj mitchell was fired and replaced by long - time assistant xxmaj jay xxmaj xxunk . xxmaj xxunk tweaked with the starting line - up to no avail as the xxmaj raptors fell to 21 – 34 prior to the xxmaj all - xxmaj star break . o ' xxmaj neal and xxmaj moon were then traded to xxmaj miami for xxmaj shawn xxmaj marion and xxmaj marcus xxmaj banks , but with the losses mounting , the xxmaj raptors soon fell</th>\n",
       "  </tr>\n",
       "  <tr>\n",
       "    <th>2</th>\n",
       "    <th>) which also depicted nude figures on a boat , drew criticism of xxmaj etty for his treatment of female nudes . xxmaj the xxmaj times in early 1822 xxunk xxmaj etty , remarking that \" xxmaj we take this opportunity of advising xxmaj mr. xxmaj etty , who got some reputation for painting \" xxmaj cleopatra 's xxmaj galley \" , not to be seduced into a style which can xxunk only the most vicious taste . xxmaj naked figures , when painted with</th>\n",
       "  </tr>\n",
       "  <tr>\n",
       "    <th>3</th>\n",
       "    <th>of xxmaj johnson in the second position . xxmaj joe xxmaj nemechek was put a lap down on lap 31 ; xxmaj bobby xxmaj labonte followed xxmaj nemechek six laps later . \\n  xxmaj allmendinger 's lead of 1.2 seconds was reduced to nothing when the pace car was on track for the first caution . xxmaj it was given because a cover for one of a caution light 's cover had loosened . xxmaj when the drivers made pit stops , xxmaj allmendinger remained</th>\n",
       "  </tr>\n",
       "  <tr>\n",
       "    <th>4</th>\n",
       "    <th>re - shot , once with the actors saying \" philosopher 's \" and once with \" sorcerer 's \" . xxmaj the children filmed for four hours and then did three hours of schoolwork . xxmaj they developed a liking for fake facial injuries from the makeup staff . xxmaj radcliffe was initially meant to wear green contact lenses as his eyes are blue , and not green like xxmaj harry 's , but the lenses gave xxmaj radcliffe extreme irritation . xxmaj upon</th>\n",
       "  </tr>\n",
       "  <tr>\n",
       "    <th>5</th>\n",
       "    <th>using accusations of disloyalty to pressure a person to adhere to conformist politics or to discredit an opponent , xxunk civil and political rights in the name of national security , and the use of xxunk are all often referred to as mccarthyism . mccarthyism can also be synonymous with the term witch - hunt , both referring to mass hysteria and moral panic . \\n \\n  = = mccarthyism in popular culture = = \\n \\n  xxmaj the 1952 xxmaj arthur xxmaj miller play xxmaj the</th>\n",
       "  </tr>\n",
       "  <tr>\n",
       "    <th>6</th>\n",
       "    <th>xxmaj vena from xxup mtv and xxmaj christian xxmaj xxunk from xxmaj entertainment xxmaj weekly commented on the similarity of the music video with the xxmaj broadway musical , xxmaj rent . xxmaj vena also compared the visuals with those for xxmaj madonna 's 1986 single \" xxmaj papa xxmaj don ' t xxmaj preach \" and xxmaj michael xxmaj jackson 's 1984 single , \" xxmaj billie xxmaj jean \" . xxmaj she concluded by saying that the music video \" still manages to</th>\n",
       "  </tr>\n",
       "  <tr>\n",
       "    <th>7</th>\n",
       "    <th>séance in xxmaj xxunk in 1857 . xxmaj home wore thin shoes , easy to take off and draw on , and also cut socks that left the toes free . \" xxmaj at the appropriate moment he takes off one of his shoes and with his foot pulls a dress here , a dress there , rings a bell , knocks one way and another , and , the thing done , quickly puts his shoe on again . \" xxmaj home positioned himself</th>\n",
       "  </tr>\n",
       "  <tr>\n",
       "    <th>8</th>\n",
       "    <th>, after an episode of the xxmaj american xxmaj broadcasting xxmaj company ( xxup abc ) series xxmaj grey 's xxmaj anatomy , and was the highest - rated xxup nbc series of the night . \\n  xxmaj myles mcnutt of xxmaj the xxup a.v. xxmaj club rated the episode with an \" a \" grade . xxmaj he felt the episode was the \" highlight \" of the season . mcnutt applauded the fact that xxmaj michael was portrayed in a way that was</th>\n",
       "  </tr>\n",
       "  <tr>\n",
       "    <th>9</th>\n",
       "    <th>\\n  = xxmaj xxunk xxmaj caymmi = \\n \\n  xxmaj xxunk xxmaj caymmi ( xxmaj april 30 , 1914 – xxmaj august 16 , 2008 ) was a xxmaj brazilian singer , songwriter , actor , and painter active for more than 70 years beginning in 1933 . xxmaj he contributed to the birth of xxmaj brazil 's bossa nova movement , and several of his samba pieces , such as \" xxmaj samba da xxmaj xxunk xxmaj terra \" , \" xxunk \" and \"</th>\n",
       "  </tr>\n",
       "</table>\n"
      ],
      "text/plain": [
       "<IPython.core.display.HTML object>"
      ]
     },
     "metadata": {},
     "output_type": "display_data"
    }
   ],
   "source": [
    "data = TextLMDataBunch.load(path, bs=80, max_len=15)\n",
    "data.show_batch()"
   ]
  },
  {
   "cell_type": "code",
   "execution_count": null,
   "metadata": {},
   "outputs": [
    {
     "name": "stdout",
     "output_type": "stream",
     "text": [
      "Total time: 9:43:10\n",
      "epoch  train_loss  valid_loss  accuracy\n",
      "1      3.602833    3.678258    0.364872  (58:25)\n",
      "2      3.434083    3.567276    0.372652  (58:14)\n",
      "3      3.366802    3.570619    0.370870  (58:14)\n",
      "4      3.326156    3.490306    0.377881  (58:17)\n",
      "5      3.281730    3.422437    0.384634  (58:24)\n",
      "6      3.191068    3.323976    0.395586  (58:25)\n",
      "7      3.167345    3.250199    0.403636  (58:20)\n",
      "8      3.120194    3.168631    0.414734  (58:14)\n",
      "9      3.085371    3.104784    0.424635  (58:25)\n",
      "10     3.022416    3.087641    0.427123  (58:09)\n",
      "\n"
     ]
    }
   ],
   "source": [
    "learn = language_model_learner(data, drop_mult=0., emb_sz=400, nh=1550, nl=4, qrnn=True, clip=0.12)\n",
    "learn.fit_one_cycle(10,5e-3, moms=(0.8,0.7))"
   ]
  },
  {
   "cell_type": "code",
   "execution_count": null,
   "metadata": {},
   "outputs": [],
   "source": [
    "learn.save('qrnn_maj')"
   ]
  },
  {
   "cell_type": "code",
   "execution_count": null,
   "metadata": {},
   "outputs": [],
   "source": [
    "learn = language_model_learner(data, drop_mult=0.1, clip=0.12)"
   ]
  },
  {
   "cell_type": "code",
   "execution_count": null,
   "metadata": {},
   "outputs": [],
   "source": [
    "learn.load('lstm_maj');"
   ]
  },
  {
   "cell_type": "code",
   "execution_count": null,
   "metadata": {},
   "outputs": [],
   "source": [
    "from fastai.callbacks.tracker import SaveModelCallback"
   ]
  },
  {
   "cell_type": "code",
   "execution_count": null,
   "metadata": {},
   "outputs": [],
   "source": [
    "cb = SaveModelCallback(learn)"
   ]
  },
  {
   "cell_type": "code",
   "execution_count": null,
   "metadata": {},
   "outputs": [
    {
     "name": "stdout",
     "output_type": "stream",
     "text": [
      "Total time: 4:50:51\n",
      "epoch  train_loss  valid_loss  accuracy\n",
      "1      3.132123    3.166337    0.415251  (58:10)\n",
      "2      3.090379    3.134404    0.419966  (58:14)\n",
      "3      3.021402    3.108257    0.423943  (58:11)\n",
      "4      3.008096    3.088369    0.427395  (58:20)\n",
      "5      2.961441    3.072581    0.429707  (57:54)\n",
      "\n"
     ]
    }
   ],
   "source": [
    "learn.fit_one_cycle(5,1e-3, moms=(0.8,0.7), callbacks=[cb], pct_start=0.1)"
   ]
  },
  {
   "cell_type": "code",
   "execution_count": null,
   "metadata": {},
   "outputs": [],
   "source": [
    "learn.save('qrnn_maj1')"
   ]
  },
  {
   "cell_type": "code",
   "execution_count": null,
   "metadata": {},
   "outputs": [
    {
     "data": {
      "text/plain": [
       "[3.062496, tensor(0.4311)]"
      ]
     },
     "execution_count": null,
     "metadata": {},
     "output_type": "execute_result"
    }
   ],
   "source": [
    "learn.validate(learn.data.valid_dl)"
   ]
  },
  {
   "cell_type": "code",
   "execution_count": null,
   "metadata": {},
   "outputs": [],
   "source": []
  },
  {
   "cell_type": "code",
   "execution_count": null,
   "metadata": {},
   "outputs": [],
   "source": []
  }
 ],
 "metadata": {
  "kernelspec": {
   "display_name": "Python 3",
   "language": "python",
   "name": "python3"
  }
 },
 "nbformat": 4,
 "nbformat_minor": 2
}
