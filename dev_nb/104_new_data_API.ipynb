{
 "cells": [
  {
   "cell_type": "markdown",
   "metadata": {},
   "source": [
    "## Camvid segmentation"
   ]
  },
  {
   "cell_type": "code",
   "execution_count": null,
   "metadata": {},
   "outputs": [],
   "source": [
    "%reload_ext autoreload\n",
    "%autoreload 2\n",
    "%matplotlib inline"
   ]
  },
  {
   "cell_type": "code",
   "execution_count": null,
   "metadata": {},
   "outputs": [],
   "source": [
    "#export\n",
    "from fastai import *\n",
    "from fastai.vision import *"
   ]
  },
  {
   "cell_type": "code",
   "execution_count": null,
   "metadata": {},
   "outputs": [],
   "source": [
    "path = Path('../../data/camvid')"
   ]
  },
  {
   "cell_type": "code",
   "execution_count": null,
   "metadata": {},
   "outputs": [],
   "source": [
    "path.ls()"
   ]
  },
  {
   "cell_type": "code",
   "execution_count": null,
   "metadata": {},
   "outputs": [],
   "source": [
    "path_lbl = path/'labels'\n",
    "path_img = path/'images'"
   ]
  },
  {
   "cell_type": "markdown",
   "metadata": {},
   "source": [
    "## Data"
   ]
  },
  {
   "cell_type": "code",
   "execution_count": null,
   "metadata": {},
   "outputs": [],
   "source": [
    "fnames = get_image_files(path_img)\n",
    "fnames[:5]"
   ]
  },
  {
   "cell_type": "code",
   "execution_count": null,
   "metadata": {},
   "outputs": [],
   "source": [
    "path_lbl.ls()[:5]"
   ]
  },
  {
   "cell_type": "code",
   "execution_count": null,
   "metadata": {},
   "outputs": [],
   "source": [
    "img_f = fnames[0]\n",
    "img = open_image(img_f)\n",
    "img.show(figsize=(5,5))"
   ]
  },
  {
   "cell_type": "code",
   "execution_count": null,
   "metadata": {},
   "outputs": [],
   "source": [
    "codes = np.loadtxt(path/'codes.txt', dtype=str)\n",
    "codes"
   ]
  },
  {
   "cell_type": "code",
   "execution_count": null,
   "metadata": {},
   "outputs": [],
   "source": [
    "def get_y_fn(fn): return path_lbl/f'{fn.name[:-4]}_P.png'"
   ]
  },
  {
   "cell_type": "code",
   "execution_count": null,
   "metadata": {},
   "outputs": [],
   "source": [
    "mask = open_mask(get_y_fn(img_f))\n",
    "mask.show(figsize=(5,5), alpha=1)"
   ]
  },
  {
   "cell_type": "code",
   "execution_count": null,
   "metadata": {},
   "outputs": [],
   "source": [
    "mask.data"
   ]
  },
  {
   "cell_type": "markdown",
   "metadata": {},
   "source": [
    "## Datasets"
   ]
  },
  {
   "cell_type": "code",
   "execution_count": null,
   "metadata": {},
   "outputs": [],
   "source": [
    "valid_fns = np.loadtxt(path/'valid.txt', dtype=str)\n",
    "valid_fns[:5]"
   ]
  },
  {
   "cell_type": "code",
   "execution_count": null,
   "metadata": {},
   "outputs": [],
   "source": [
    "valid_fns = [path_img/o for o in valid_fns]\n",
    "train_fns = list(set(fnames)-set(valid_fns))"
   ]
  },
  {
   "cell_type": "code",
   "execution_count": null,
   "metadata": {},
   "outputs": [],
   "source": [
    "y_train_fns = [get_y_fn(o) for o in train_fns]\n",
    "y_valid_fns = [get_y_fn(o) for o in valid_fns]\n",
    "len(train_fns),len(valid_fns),len(y_train_fns),len(y_valid_fns)"
   ]
  },
  {
   "cell_type": "code",
   "execution_count": null,
   "metadata": {},
   "outputs": [],
   "source": [
    "size=128\n",
    "bs=32"
   ]
  },
  {
   "cell_type": "code",
   "execution_count": null,
   "metadata": {},
   "outputs": [],
   "source": [
    "train_ds = SegmentationDataset(train_fns, y_train_fns)\n",
    "valid_ds = SegmentationDataset(valid_fns, y_valid_fns)"
   ]
  },
  {
   "cell_type": "code",
   "execution_count": null,
   "metadata": {},
   "outputs": [],
   "source": [
    "train_tfms,valid_tfms = get_transforms()"
   ]
  },
  {
   "cell_type": "code",
   "execution_count": null,
   "metadata": {},
   "outputs": [],
   "source": [
    "train_tds = DatasetTfm(train_ds, train_tfms, size=size, tfm_y=True)\n",
    "valid_tds = DatasetTfm(valid_ds, valid_tfms, size=size, tfm_y=True)"
   ]
  },
  {
   "cell_type": "code",
   "execution_count": null,
   "metadata": {},
   "outputs": [],
   "source": [
    "data = DataBunch.create(train_tds, valid_tds, bs=bs)"
   ]
  },
  {
   "cell_type": "code",
   "execution_count": null,
   "metadata": {},
   "outputs": [],
   "source": [
    "x,y = zip(*[train_tds[i] for i in range(9)])"
   ]
  },
  {
   "cell_type": "code",
   "execution_count": null,
   "metadata": {},
   "outputs": [],
   "source": [
    "show_xy_images(x, y, rows=3)"
   ]
  },
  {
   "cell_type": "markdown",
   "metadata": {},
   "source": [
    "## Refactor"
   ]
  },
  {
   "cell_type": "markdown",
   "metadata": {},
   "source": [
    "- valid set\n",
    "  - path\n",
    "  - fnames\n",
    "  - idxs\n",
    "  - min idx\n",
    "  - rand pct\n",
    "- type of data\n",
    "- source of labels"
   ]
  },
  {
   "cell_type": "code",
   "execution_count": null,
   "metadata": {},
   "outputs": [],
   "source": [
    "#export\n",
    "class ItemList():\n",
    "    \"A collection of items with `__len__` and `__getitem__` with `ndarray` indexing semantics\"\n",
    "    def __init__(self, items:Iterator): self.items = np.array(list(items))\n",
    "    def __len__(self)->int: return len(self.items)\n",
    "    def __getitem__(self,i:int)->Any: return self.items[i]\n",
    "    def __repr__(self)->str: return f'{self.__class__.__name__} ({len(self)} items)\\n{self.items}'"
   ]
  },
  {
   "cell_type": "code",
   "execution_count": null,
   "metadata": {},
   "outputs": [],
   "source": [
    "#export\n",
    "def join_path(fname:PathOrStr, path:PathOrStr='.')->Path:\n",
    "    \"`Path(path)/Path(fname)`, `path` defaults to current dir\"\n",
    "    return Path(path)/Path(fname)"
   ]
  },
  {
   "cell_type": "code",
   "execution_count": null,
   "metadata": {},
   "outputs": [],
   "source": [
    "#export\n",
    "def join_paths(fnames:FilePathList, path:PathOrStr='.')->Collection[Path]:\n",
    "    path = Path(path)\n",
    "    return [join_path(o,path) for o in fnames]"
   ]
  },
  {
   "cell_type": "code",
   "execution_count": null,
   "metadata": {},
   "outputs": [],
   "source": [
    "#export\n",
    "def loadtxt_str(path:PathOrStr)->np.ndarray:\n",
    "    \"Return `ndarray` of `str` of lines of text from `path`\"\n",
    "    return np.loadtxt(str(path), str)"
   ]
  },
  {
   "cell_type": "code",
   "execution_count": null,
   "metadata": {},
   "outputs": [],
   "source": [
    "def _df_to_fns_labels(df:pd.DataFrame, fn_col:int=0, label_col:int=1,\n",
    "                      label_delim:str=None, suffix:Optional[str]=None):\n",
    "    \"Get image file names and labels from `df`.\"\n",
    "    if label_delim:\n",
    "        df.iloc[:,label_col] = list(csv.reader(df.iloc[:,label_col], delimiter=label_delim))\n",
    "    labels = df.iloc[:,label_col].values\n",
    "    fnames = df.iloc[:,fn_col].map(lambda x: x.lstrip())\n",
    "    if suffix: fnames = fnames.astype(str) + suffix\n",
    "    return fnames, labels"
   ]
  },
  {
   "cell_type": "code",
   "execution_count": null,
   "metadata": {},
   "outputs": [],
   "source": [
    "#export\n",
    "class ImageFileList(ItemList):\n",
    "    @classmethod\n",
    "    def from_folder(cls, path:PathOrStr, check_ext:bool=True, recurse=False)->'ImageFileList':\n",
    "        return cls(get_image_files(path, check_ext=check_ext, recurse=recurse))\n",
    "    \n",
    "    def label_from_func(self, func:Callable)->Collection:\n",
    "        return LabelList((o,func(o)) for o in self.items)\n",
    "    \n",
    "    def label_from_re(self, pat:str)->Collection:\n",
    "        re = re.compile(pat)\n",
    "        return LabelList((o,re.search(str(o)).group(1)) for o in self.items)\n",
    "    \n",
    "    def label_from_df(self, df, fn_col:int=0, label_col:int=1, sep:str=None, suffix:str=None)->Collection:\n",
    "        fnames, labels = _df_to_fns_labels(df, suffix=suffix, label_delim=sep, fn_col=fn_col, label_col=label_col)\n",
    "        return LabelList(zip(fnames, labels))\n",
    "    \n",
    "    def label_from_csv(self, csv_fname, header:Optional[Union[int,str]]='infer', fn_col:int=0, label_col:int=1, \n",
    "                       sep:str=None,suffix:str=None)->Collection:\n",
    "        df = pd.read_csv(csv_fname, header=header)\n",
    "        return self.label_from_df(df)"
   ]
  },
  {
   "cell_type": "code",
   "execution_count": null,
   "metadata": {},
   "outputs": [],
   "source": [
    "#export\n",
    "class LabelList(ItemList):\n",
    "    @property\n",
    "    def files(self): return self.items[:,0]\n",
    "    \n",
    "    def split_by_files(self, valid_fnames:FilePathList)->'SplitData':\n",
    "        valid = [o for o in self.items if o[0] in valid_fnames]\n",
    "        train = [o for o in self.items if o[0] not in valid_fnames]\n",
    "        return SplitData(LabelList(train), LabelList(valid))\n",
    "    \n",
    "    def split_by_fname_file(self, fname:PathOrStr, path:PathOrStr='.')->'SplitData':\n",
    "        fnames = join_paths(loadtxt_str(fname), path)\n",
    "        return self.split_by_files(fnames)\n",
    "    \n",
    "    def split_by_idx(self, valid_idx:Collection[int])->'SplitData':\n",
    "        valid = [o for i,o in enumerate(self.items) if i in valid_idx]\n",
    "        train = [o for i,o in enumerate(self.items) if i not in valid_idx]\n",
    "        return SplitData(LabelList(train), LabelList(valid))\n",
    "    \n",
    "    def random_split_by_pct(self, valid_pct:float=0.2)->'SplitData':\n",
    "        rand_idx = np.random.permutation(range(len(self.items)))\n",
    "        cut = int(valid_pct * len(self.items))\n",
    "        return self.split_by_idx(rand_idx[:cut])"
   ]
  },
  {
   "cell_type": "code",
   "execution_count": null,
   "metadata": {},
   "outputs": [],
   "source": [
    "#export\n",
    "@dataclass\n",
    "class SplitData():\n",
    "    train:LabelList\n",
    "    valid:LabelList\n",
    "    \n",
    "    @property\n",
    "    def lists(self): return [self.train,self.valid]\n",
    "    \n",
    "    def datasets(self, dataset_cls:type, tfms:TfmList, **kwargs):\n",
    "        dss = [dataset_cls(*o.items.T) for o in self.lists]\n",
    "        return SplitDatasets(*transform_datasets(*dss, tfms=tfms, **kwargs))"
   ]
  },
  {
   "cell_type": "code",
   "execution_count": null,
   "metadata": {},
   "outputs": [],
   "source": [
    "#export\n",
    "@dataclass\n",
    "class SplitDatasets():\n",
    "    train_ds:Dataset\n",
    "    valid_ds:Dataset\n",
    "    \n",
    "    @property\n",
    "    def datasets(self): return [self.train_ds,self.valid_ds]\n",
    "\n",
    "    def dataloaders(self, **kwargs):\n",
    "        return [DataLoader(o, **kwargs) for o in self.datasets]\n",
    "    \n",
    "    def databunch(self, **kwargs): return ImageDataBunch.create(*self.datasets, **kwargs)"
   ]
  },
  {
   "cell_type": "markdown",
   "metadata": {},
   "source": [
    "- get filenames\n",
    "- get labels\n",
    "- split data\n",
    "- make datasets\n",
    "- get tfms\n",
    "- (make dls)\n",
    "- (use device)\n",
    "- databunch"
   ]
  },
  {
   "cell_type": "code",
   "execution_count": null,
   "metadata": {},
   "outputs": [],
   "source": [
    "tfms = get_transforms()"
   ]
  },
  {
   "cell_type": "code",
   "execution_count": null,
   "metadata": {},
   "outputs": [],
   "source": [
    "ifl = ImageFileList.from_folder(path_img); ifl[0]"
   ]
  },
  {
   "cell_type": "code",
   "execution_count": null,
   "metadata": {},
   "outputs": [],
   "source": [
    "ll = ifl.label_from_func(get_y_fn); ll[0]"
   ]
  },
  {
   "cell_type": "code",
   "execution_count": null,
   "metadata": {},
   "outputs": [],
   "source": [
    "sd = ll.split_by_fname_file(path/'valid.txt', path_img)"
   ]
  },
  {
   "cell_type": "code",
   "execution_count": null,
   "metadata": {},
   "outputs": [],
   "source": [
    "tfms = get_transforms()"
   ]
  },
  {
   "cell_type": "code",
   "execution_count": null,
   "metadata": {},
   "outputs": [],
   "source": [
    "dss = sd.datasets(SegmentationDataset, tfms, size=128, tfm_y=True)"
   ]
  },
  {
   "cell_type": "code",
   "execution_count": null,
   "metadata": {},
   "outputs": [],
   "source": [
    "data = dss.databunch()"
   ]
  },
  {
   "cell_type": "code",
   "execution_count": null,
   "metadata": {},
   "outputs": [],
   "source": [
    "data = (ImageFileList.from_folder(path_img)\n",
    "        .label_from_func(get_y_fn)\n",
    "        .split_by_fname_file(path/'valid.txt', path_img)\n",
    "        .datasets(SegmentationDataset, tfms, size=128, tfm_y=True)\n",
    "        .databunch())"
   ]
  },
  {
   "cell_type": "code",
   "execution_count": null,
   "metadata": {},
   "outputs": [],
   "source": [
    "x,y = data.train_dl.one_batch()\n",
    "show_xy_images(x,y,rows=3)"
   ]
  }
 ],
 "metadata": {
  "kernelspec": {
   "display_name": "Python 3",
   "language": "python",
   "name": "python3"
  }
 },
 "nbformat": 4,
 "nbformat_minor": 2
}
