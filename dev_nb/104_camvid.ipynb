{
 "cells": [
  {
   "cell_type": "markdown",
   "metadata": {},
   "source": [
    "## Camvid segmentation"
   ]
  },
  {
   "cell_type": "code",
   "execution_count": null,
   "metadata": {},
   "outputs": [],
   "source": [
    "%reload_ext autoreload\n",
    "%autoreload 2\n",
    "%matplotlib inline\n",
    "\n",
    "from fastai import *\n",
    "from fastai.vision import *"
   ]
  },
  {
   "cell_type": "code",
   "execution_count": null,
   "metadata": {},
   "outputs": [],
   "source": [
    "path = Path('data/camvid')"
   ]
  },
  {
   "cell_type": "code",
   "execution_count": null,
   "metadata": {},
   "outputs": [],
   "source": [
    "path.ls()"
   ]
  },
  {
   "cell_type": "code",
   "execution_count": null,
   "metadata": {},
   "outputs": [],
   "source": [
    "path_lbl = path/'labels'\n",
    "path_img = path/'images'"
   ]
  },
  {
   "cell_type": "markdown",
   "metadata": {},
   "source": [
    "## Data"
   ]
  },
  {
   "cell_type": "code",
   "execution_count": null,
   "metadata": {},
   "outputs": [],
   "source": [
    "fnames = get_image_files(path_img)\n",
    "fnames[:5]"
   ]
  },
  {
   "cell_type": "code",
   "execution_count": null,
   "metadata": {},
   "outputs": [],
   "source": [
    "path_lbl.ls()[:5]"
   ]
  },
  {
   "cell_type": "code",
   "execution_count": null,
   "metadata": {},
   "outputs": [],
   "source": [
    "img_f = fnames[0]\n",
    "img = open_image(img_f)\n",
    "img.show(figsize=(5,5))"
   ]
  },
  {
   "cell_type": "code",
   "execution_count": null,
   "metadata": {},
   "outputs": [],
   "source": [
    "codes = np.loadtxt(path/'codes.txt', dtype=str)\n",
    "codes"
   ]
  },
  {
   "cell_type": "code",
   "execution_count": null,
   "metadata": {},
   "outputs": [],
   "source": [
    "def get_y_fn(fn): return path_lbl/f'{fn.name[:-4]}_P.png'"
   ]
  },
  {
   "cell_type": "code",
   "execution_count": null,
   "metadata": {},
   "outputs": [],
   "source": [
    "mask = open_mask(get_y_fn(img_f))\n",
    "mask.show(figsize=(5,5), alpha=1)"
   ]
  },
  {
   "cell_type": "code",
   "execution_count": null,
   "metadata": {},
   "outputs": [],
   "source": [
    "mask.data"
   ]
  },
  {
   "cell_type": "markdown",
   "metadata": {},
   "source": [
    "## Datasets"
   ]
  },
  {
   "cell_type": "code",
   "execution_count": null,
   "metadata": {},
   "outputs": [],
   "source": [
    "valid_fns = np.loadtxt(path/'valid.txt', dtype=str)\n",
    "valid_fns[:5]"
   ]
  },
  {
   "cell_type": "code",
   "execution_count": null,
   "metadata": {},
   "outputs": [],
   "source": [
    "valid_fns = [path_img/o for o in valid_fns]\n",
    "train_fns = list(set(fnames)-set(valid_fns))"
   ]
  },
  {
   "cell_type": "code",
   "execution_count": null,
   "metadata": {},
   "outputs": [],
   "source": [
    "y_train_fns = [get_y_fn(o) for o in train_fns]\n",
    "y_valid_fns = [get_y_fn(o) for o in valid_fns]\n",
    "len(train_fns),len(valid_fns),len(y_train_fns),len(y_valid_fns)"
   ]
  },
  {
   "cell_type": "code",
   "execution_count": null,
   "metadata": {},
   "outputs": [],
   "source": [
    "size=128\n",
    "bs=32"
   ]
  },
  {
   "cell_type": "code",
   "execution_count": null,
   "metadata": {},
   "outputs": [],
   "source": [
    "train_ds = SegmentationDataset(train_fns, y_train_fns)\n",
    "valid_ds = SegmentationDataset(valid_fns, y_valid_fns)"
   ]
  },
  {
   "cell_type": "code",
   "execution_count": null,
   "metadata": {},
   "outputs": [],
   "source": [
    "train_tfms,valid_tfms = get_transforms()"
   ]
  },
  {
   "cell_type": "code",
   "execution_count": null,
   "metadata": {},
   "outputs": [],
   "source": [
    "train_tds = DatasetTfm(train_ds, train_tfms, size=size, tfm_y=True)\n",
    "valid_tds = DatasetTfm(valid_ds, valid_tfms, size=size, tfm_y=True)"
   ]
  },
  {
   "cell_type": "code",
   "execution_count": null,
   "metadata": {},
   "outputs": [],
   "source": [
    "data = DataBunch.create(train_tds, valid_tds, bs=bs)"
   ]
  },
  {
   "cell_type": "code",
   "execution_count": null,
   "metadata": {},
   "outputs": [],
   "source": [
    "x,y = zip(*[train_tds[i] for i in range(9)])"
   ]
  },
  {
   "cell_type": "code",
   "execution_count": null,
   "metadata": {},
   "outputs": [],
   "source": [
    "show_xy_images(x, y, rows=3)"
   ]
  },
  {
   "cell_type": "markdown",
   "metadata": {},
   "source": [
    "## Refactor"
   ]
  },
  {
   "cell_type": "markdown",
   "metadata": {},
   "source": [
    "- valid set\n",
    "  - path\n",
    "  - fnames\n",
    "  - idxs\n",
    "  - min idx\n",
    "  - rand pct\n",
    "- type of data\n",
    "- source of labels"
   ]
  },
  {
   "cell_type": "code",
   "execution_count": null,
   "metadata": {},
   "outputs": [],
   "source": [
    "class ItemList():\n",
    "    \"A collection of items with `__len__` and `__getitem__` with `ndarray` indexing semantics\"\n",
    "    def __init__(self, items:Iterator): self.items = np.array(list(items))\n",
    "    def __len__(self)->int: return len(self.items)\n",
    "    def __getitem__(self,i:int)->Any: return self.items[i]\n",
    "    def __repr__(self)->str: return f'{self.__class__.__name__} ({len(self)} items)\\n{self.items}'"
   ]
  },
  {
   "cell_type": "code",
   "execution_count": null,
   "metadata": {},
   "outputs": [],
   "source": [
    "def join_path(fname:PathOrStr, path:PathOrStr='.')->Path:\n",
    "    \"`Path(path)/Path(fname)`, `path` defaults to current dir\"\n",
    "    return Path(path)/Path(fname)"
   ]
  },
  {
   "cell_type": "code",
   "execution_count": null,
   "metadata": {},
   "outputs": [],
   "source": [
    "def join_paths(fnames:FilePathList, path:PathOrStr='.')->Collection[Path]:\n",
    "    path = Path(path)\n",
    "    return [join_path(o,path) for o in fnames]"
   ]
  },
  {
   "cell_type": "code",
   "execution_count": null,
   "metadata": {},
   "outputs": [],
   "source": [
    "def loadtxt_str(path:PathOrStr)->np.ndarray:\n",
    "    \"Return `ndarray` of `str` of lines of text from `path`\"\n",
    "    return np.loadtxt(str(path), str)"
   ]
  },
  {
   "cell_type": "code",
   "execution_count": null,
   "metadata": {},
   "outputs": [],
   "source": [
    "class ImageFileList(ItemList):\n",
    "    @classmethod\n",
    "    def from_folder(cls, path:PathOrStr, check_ext:bool=True, recurse=False)->'ImageFileList':\n",
    "        return cls(get_image_files(path, check_ext=check_ext, recurse=recurse))\n",
    "    \n",
    "    def label_from_func(self, func:Callable)->Collection:\n",
    "        return LabelList((o,func(o)) for o in self.items)"
   ]
  },
  {
   "cell_type": "code",
   "execution_count": null,
   "metadata": {},
   "outputs": [],
   "source": [
    "class LabelList(ItemList):\n",
    "    @property\n",
    "    def files(self): return self.items[:,0]\n",
    "    \n",
    "    def split_by_files(self, valid_fnames:FilePathList)->'SplitData':\n",
    "        valid = [o for o in self.items if o[0] in valid_fnames]\n",
    "        train = [o for o in self.items if o[0] not in valid_fnames]\n",
    "        return SplitData(LabelList(train), LabelList(valid))\n",
    "    \n",
    "    def split_by_fname_file(self, fname:PathOrStr, path:PathOrStr='.')->'SplitData':\n",
    "        fnames = join_paths(loadtxt_str(fname), path)\n",
    "        return self.split_by_files(fnames)"
   ]
  },
  {
   "cell_type": "code",
   "execution_count": null,
   "metadata": {},
   "outputs": [],
   "source": [
    "@dataclass\n",
    "class SplitData():\n",
    "    train:LabelList\n",
    "    valid:LabelList\n",
    "    \n",
    "    @property\n",
    "    def lists(self): return [self.train,self.valid]\n",
    "    \n",
    "    def datasets(self, dataset_cls:type, tfms:TfmList, **kwargs):\n",
    "        dss = [dataset_cls(*o.items.T) for o in self.lists]\n",
    "        return SplitDatasets(*transform_datasets(*dss, tfms=tfms, **kwargs))"
   ]
  },
  {
   "cell_type": "code",
   "execution_count": null,
   "metadata": {},
   "outputs": [],
   "source": [
    "@dataclass\n",
    "class SplitDatasets():\n",
    "    train_ds:Dataset\n",
    "    valid_ds:Dataset\n",
    "    \n",
    "    @property\n",
    "    def datasets(self): return [self.train_ds,self.valid_ds]\n",
    "\n",
    "    def dataloaders(self, **kwargs):\n",
    "        return [DataLoader(o, **kwargs) for o in self.datasets]\n",
    "    \n",
    "    def databunch(self, **kwargs): return ImageDataBunch.create(*self.datasets, **kwargs)"
   ]
  },
  {
   "cell_type": "markdown",
   "metadata": {},
   "source": [
    "- get filenames\n",
    "- get labels\n",
    "- split data\n",
    "- make datasets\n",
    "- get tfms\n",
    "- (make dls)\n",
    "- (use device)\n",
    "- databunch"
   ]
  },
  {
   "cell_type": "code",
   "execution_count": null,
   "metadata": {},
   "outputs": [],
   "source": [
    "tfms = get_transforms()"
   ]
  },
  {
   "cell_type": "code",
   "execution_count": null,
   "metadata": {},
   "outputs": [],
   "source": [
    "ifl = ImageFileList.from_folder(path_img); ifl[0]"
   ]
  },
  {
   "cell_type": "code",
   "execution_count": null,
   "metadata": {},
   "outputs": [],
   "source": [
    "ll = ifl.label_from_func(get_y_fn); ll[0]"
   ]
  },
  {
   "cell_type": "code",
   "execution_count": null,
   "metadata": {},
   "outputs": [],
   "source": [
    "sd = ll.split_by_fname_file(path/'valid.txt', path_img)"
   ]
  },
  {
   "cell_type": "code",
   "execution_count": null,
   "metadata": {},
   "outputs": [],
   "source": [
    "tfms = get_transforms()"
   ]
  },
  {
   "cell_type": "code",
   "execution_count": null,
   "metadata": {},
   "outputs": [],
   "source": [
    "dss = sd.datasets(SegmentationDataset, tfms, size=128, tfm_y=True)"
   ]
  },
  {
   "cell_type": "code",
   "execution_count": null,
   "metadata": {},
   "outputs": [],
   "source": [
    "data = dss.databunch()"
   ]
  },
  {
   "cell_type": "code",
   "execution_count": null,
   "metadata": {},
   "outputs": [],
   "source": [
    "data = (ImageFileList.from_folder(path_img)\n",
    "        .label_from_func(get_y_fn)\n",
    "        .split_by_fname_file(path/'valid.txt', path_img)\n",
    "        .datasets(SegmentationDataset, tfms, size=128, tfm_y=True)\n",
    "        .databunch())"
   ]
  },
  {
   "cell_type": "code",
   "execution_count": null,
   "metadata": {},
   "outputs": [],
   "source": [
    "x,y = data.train_dl.one_batch()\n",
    "show_xy_images(x,y,rows=3)"
   ]
  },
  {
   "cell_type": "code",
   "execution_count": null,
   "metadata": {},
   "outputs": [],
   "source": [
    "x.shape,y.shape"
   ]
  },
  {
   "cell_type": "code",
   "execution_count": null,
   "metadata": {},
   "outputs": [],
   "source": [
    "show_xy_images(x,y,rows=3)"
   ]
  },
  {
   "cell_type": "code",
   "execution_count": null,
   "metadata": {},
   "outputs": [],
   "source": []
  },
  {
   "cell_type": "code",
   "execution_count": null,
   "metadata": {},
   "outputs": [],
   "source": [
    "name2id = {v:k for k,v in enumerate(codes)}\n",
    "void_code = name2id['Void']"
   ]
  },
  {
   "cell_type": "code",
   "execution_count": null,
   "metadata": {},
   "outputs": [],
   "source": [
    "def accuracy_no_void(input, target, void_code):\n",
    "    target = target.squeeze()\n",
    "    mask = target != void_code\n",
    "    return (input.argmax(dim=1)[mask]==target[mask]).float().mean()"
   ]
  },
  {
   "cell_type": "code",
   "execution_count": null,
   "metadata": {},
   "outputs": [],
   "source": [
    "metrics=partial(accuracy_no_void, void_code=void_code)\n",
    "lr = 1e-3"
   ]
  },
  {
   "cell_type": "code",
   "execution_count": null,
   "metadata": {},
   "outputs": [],
   "source": [
    "body = create_body(models.resnet34(True), -2)\n",
    "model = models.unet.DynamicUnet(body, n_classes=len(codes)).cuda()\n",
    "learn = Learner(data, model, metrics=metrics, loss_func=CrossEntropyFlat())\n",
    "learn.split([model[0][6], model[1]])\n",
    "learn.freeze()"
   ]
  },
  {
   "cell_type": "code",
   "execution_count": null,
   "metadata": {},
   "outputs": [],
   "source": [
    "lr_find(learn)\n",
    "learn.recorder.plot()"
   ]
  },
  {
   "cell_type": "code",
   "execution_count": null,
   "metadata": {},
   "outputs": [],
   "source": [
    "lr = 1e-3"
   ]
  },
  {
   "cell_type": "code",
   "execution_count": null,
   "metadata": {},
   "outputs": [],
   "source": [
    "learn.fit_one_cycle(6, slice(lr))"
   ]
  },
  {
   "cell_type": "code",
   "execution_count": null,
   "metadata": {},
   "outputs": [],
   "source": [
    "learn.unfreezefreeze()"
   ]
  },
  {
   "cell_type": "code",
   "execution_count": null,
   "metadata": {},
   "outputs": [],
   "source": [
    "learn.fit_one_cycle(6, slice(lr/100,lr))"
   ]
  },
  {
   "cell_type": "code",
   "execution_count": null,
   "metadata": {},
   "outputs": [],
   "source": []
  }
 ],
 "metadata": {
  "kernelspec": {
   "display_name": "Python 3",
   "language": "python",
   "name": "python3"
  }
 },
 "nbformat": 4,
 "nbformat_minor": 2
}
