{
 "cells": [
  {
   "cell_type": "code",
   "execution_count": null,
   "metadata": {},
   "outputs": [],
   "source": [
    "from fastai import *\n",
    "from fastai.vision import *"
   ]
  },
  {
   "cell_type": "code",
   "execution_count": null,
   "metadata": {},
   "outputs": [],
   "source": [
    "def discriminator(n_channels:int=3, nf:int=128, n_blocks:int=3):\n",
    "    layers = [conv_layer(n_channels, nf, 4, 2, leaky=0.2, norm_type=NormType.Spectral),\n",
    "              nn.Dropout2d(0.2),\n",
    "              conv_layer(nf, nf, 3, 1, leaky=0.2, norm_type=NormType.Spectral)]\n",
    "    for i in range(n_blocks):\n",
    "        layers.append(nn.Dropout2d(0.5))\n",
    "        layers.append(conv_layer(nf, nf*2, 4, 2, leaky=0.2, norm_type=NormType.Spectral, self_attention=True))\n",
    "        nf *= 2\n",
    "    layers.append(conv_layer(nf, 1, 4, 1, bias=False, norm_type=NormType.Spectral, padding=0, use_activ=False))\n",
    "    return nn.Sequential(*layers)"
   ]
  },
  {
   "cell_type": "code",
   "execution_count": null,
   "metadata": {},
   "outputs": [],
   "source": [
    "model = discriminator().cuda()\n",
    "x = torch.randn(3, 3, 64, 64).cuda()"
   ]
  },
  {
   "cell_type": "code",
   "execution_count": null,
   "metadata": {},
   "outputs": [],
   "source": [
    "callbacks.model_summary(model)"
   ]
  },
  {
   "cell_type": "code",
   "execution_count": null,
   "metadata": {},
   "outputs": [],
   "source": []
  }
 ],
 "metadata": {
  "kernelspec": {
   "display_name": "Python 3",
   "language": "python",
   "name": "python3"
  }
 },
 "nbformat": 4,
 "nbformat_minor": 2
}
